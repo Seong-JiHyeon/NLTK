{
  "nbformat": 4,
  "nbformat_minor": 0,
  "metadata": {
    "colab": {
      "name": "Take Home Exam #2(2)",
      "provenance": [],
      "authorship_tag": "ABX9TyOeiRN5TjsfiysdH7fbB0x0",
      "include_colab_link": true
    },
    "kernelspec": {
      "name": "python3",
      "display_name": "Python 3"
    }
  },
  "cells": [
    {
      "cell_type": "markdown",
      "metadata": {
        "id": "view-in-github",
        "colab_type": "text"
      },
      "source": [
        "<a href=\"https://colab.research.google.com/github/Seong-JiHyeon/NLTK/blob/master/Build%20Corpus(2).ipynb\" target=\"_parent\"><img src=\"https://colab.research.google.com/assets/colab-badge.svg\" alt=\"Open In Colab\"/></a>"
      ]
    },
    {
      "cell_type": "code",
      "metadata": {
        "id": "hmWf0dYao-vH",
        "colab_type": "code",
        "outputId": "bffa5878-24f3-426d-8288-f1f5d4b2985d",
        "colab": {
          "base_uri": "https://localhost:8080/",
          "height": 131
        }
      },
      "source": [
        "from google.colab import drive\n",
        "\n",
        "drive.mount('/content/gdrive')"
      ],
      "execution_count": 0,
      "outputs": [
        {
          "output_type": "stream",
          "text": [
            "Go to this URL in a browser: https://accounts.google.com/o/oauth2/auth?client_id=947318989803-6bn6qk8qdgf4n4g3pfee6491hc0brc4i.apps.googleusercontent.com&redirect_uri=urn%3aietf%3awg%3aoauth%3a2.0%3aoob&response_type=code&scope=email%20https%3a%2f%2fwww.googleapis.com%2fauth%2fdocs.test%20https%3a%2f%2fwww.googleapis.com%2fauth%2fdrive%20https%3a%2f%2fwww.googleapis.com%2fauth%2fdrive.photos.readonly%20https%3a%2f%2fwww.googleapis.com%2fauth%2fpeopleapi.readonly\n",
            "\n",
            "Enter your authorization code:\n",
            "··········\n",
            "Mounted at /content/gdrive\n"
          ],
          "name": "stdout"
        }
      ]
    },
    {
      "cell_type": "code",
      "metadata": {
        "id": "DjXdEpBVpRii",
        "colab_type": "code",
        "outputId": "fdf78340-3529-4b24-a1cc-d21d2c804db0",
        "colab": {
          "base_uri": "https://localhost:8080/",
          "height": 36
        }
      },
      "source": [
        "cd /content/gdrive/My Drive/인공지능 수업 데이터 파일"
      ],
      "execution_count": 0,
      "outputs": [
        {
          "output_type": "stream",
          "text": [
            "/content/gdrive/My Drive/인공지능 수업 데이터 파일\n"
          ],
          "name": "stdout"
        }
      ]
    },
    {
      "cell_type": "code",
      "metadata": {
        "id": "i4zNZoKApVto",
        "colab_type": "code",
        "colab": {}
      },
      "source": [
        "from nltk.corpus import PlaintextCorpusReader\n",
        "corpus_root = '/content/gdrive/My Drive/인공지능 수업 데이터 파일/Genomics-Informatics-Corpus-master/raw_text2/'\n",
        "GNICorpus = PlaintextCorpusReader(corpus_root, '.*\\.txt', encoding='utf-16')"
      ],
      "execution_count": 0,
      "outputs": []
    },
    {
      "cell_type": "code",
      "metadata": {
        "id": "_xVCFeLIpZTE",
        "colab_type": "code",
        "colab": {}
      },
      "source": [
        "giRaw = GNICorpus.raw('gni-6-1-8.txt') #Vol. 6(1) 8-13"
      ],
      "execution_count": 0,
      "outputs": []
    },
    {
      "cell_type": "code",
      "metadata": {
        "id": "DUt2bG2jpl1b",
        "colab_type": "code",
        "outputId": "e05d6f38-686c-4b06-9b44-9a994e617c5c",
        "colab": {
          "base_uri": "https://localhost:8080/",
          "height": 36
        }
      },
      "source": [
        "len(giRaw)"
      ],
      "execution_count": 0,
      "outputs": [
        {
          "output_type": "execute_result",
          "data": {
            "text/plain": [
              "23855"
            ]
          },
          "metadata": {
            "tags": []
          },
          "execution_count": 5
        }
      ]
    },
    {
      "cell_type": "code",
      "metadata": {
        "id": "ncyTTefspoqW",
        "colab_type": "code",
        "outputId": "9dffbfcd-0a21-4d9f-81ae-222b9671bed8",
        "colab": {
          "base_uri": "https://localhost:8080/",
          "height": 280
        }
      },
      "source": [
        "print(giRaw[:448]) #Corpus info"
      ],
      "execution_count": 0,
      "outputs": [
        {
          "output_type": "stream",
          "text": [
            "Genomics & Informatics   Vol. 6(1) 8-13, March 2008\r\n",
            "\r\n",
            "Genome-wide Linkage Study for Plasma HDL Cholesterol Level in an Isolated Population of Mongolia\r\n",
            "\r\n",
            "Hansoo Park 1 , Jong-Il Kim 1,2 , Sung-Il Cho 3 , Joohon Sung 3 , Hyung-Lae Kim 4 , Young Seok Ju 1 , Gombojav Bayasgalan 5 , Mi-Kyeong Lee 2 and Jeong-Sun Seo 1,6 *\r\n",
            "\r\n",
            "1 Department of Biochemistry and Molecular Biology,\r\n",
            "\r\n",
            "Seoul National University College of Medicine, Seoul\r\n",
            "\r\n",
            "2 3 4 5 6\r\n",
            "\r\n",
            "\n"
          ],
          "name": "stdout"
        }
      ]
    },
    {
      "cell_type": "code",
      "metadata": {
        "id": "ns9QcjlCuDuR",
        "colab_type": "code",
        "outputId": "ace439ee-b619-4313-e480-c7785efbfada",
        "colab": {
          "base_uri": "https://localhost:8080/",
          "height": 56
        }
      },
      "source": [
        "giRaw[:448]"
      ],
      "execution_count": 0,
      "outputs": [
        {
          "output_type": "execute_result",
          "data": {
            "text/plain": [
              "'Genomics & Informatics   Vol. 6(1) 8-13, March 2008\\r\\n\\r\\nGenome-wide Linkage Study for Plasma HDL Cholesterol Level in an Isolated Population of Mongolia\\r\\n\\r\\nHansoo Park 1 , Jong-Il Kim 1,2 , Sung-Il Cho 3 , Joohon Sung 3 , Hyung-Lae Kim 4 , Young Seok Ju 1 , Gombojav Bayasgalan 5 , Mi-Kyeong Lee 2 and Jeong-Sun Seo 1,6 *\\r\\n\\r\\n1 Department of Biochemistry and Molecular Biology,\\r\\n\\r\\nSeoul National University College of Medicine, Seoul\\r\\n\\r\\n2 3 4 5 6\\r\\n\\r\\n'"
            ]
          },
          "metadata": {
            "tags": []
          },
          "execution_count": 10
        }
      ]
    },
    {
      "cell_type": "markdown",
      "metadata": {
        "id": "k6171YhmutH3",
        "colab_type": "text"
      },
      "source": [
        "Department 소개 누락 및 줄바꿈이 삽입되어 있음\n",
        "\n",
        "head <>표시"
      ]
    },
    {
      "cell_type": "markdown",
      "metadata": {
        "id": "3pGpakJAvEB2",
        "colab_type": "text"
      },
      "source": [
        "\n",
        "\n",
        "---\n",
        "수정\n"
      ]
    },
    {
      "cell_type": "code",
      "metadata": {
        "id": "x2tJGC0EvlE9",
        "colab_type": "code",
        "outputId": "e8cdb92e-53ea-4483-c784-9604ae6f2b97",
        "colab": {
          "base_uri": "https://localhost:8080/",
          "height": 36
        }
      },
      "source": [
        "import re\n",
        "re.findall(r'\\r\\n\\r\\nSeoul', giRaw)"
      ],
      "execution_count": 0,
      "outputs": [
        {
          "output_type": "execute_result",
          "data": {
            "text/plain": [
              "['\\r\\n\\r\\nSeoul']"
            ]
          },
          "metadata": {
            "tags": []
          },
          "execution_count": 11
        }
      ]
    },
    {
      "cell_type": "code",
      "metadata": {
        "id": "tFUYughHv3GX",
        "colab_type": "code",
        "colab": {}
      },
      "source": [
        "N_giRaw = re.sub(r'\\r\\n\\r\\nSeoul',' Seoul',giRaw)"
      ],
      "execution_count": 0,
      "outputs": []
    },
    {
      "cell_type": "code",
      "metadata": {
        "id": "7qqw6fEHwGUP",
        "colab_type": "code",
        "outputId": "766d21da-eb1f-4969-e3e7-192a9a55af3a",
        "colab": {
          "base_uri": "https://localhost:8080/",
          "height": 36
        }
      },
      "source": [
        "re.findall(r'\\r\\n\\r\\n2 3 4 5 6', N_giRaw)"
      ],
      "execution_count": 0,
      "outputs": [
        {
          "output_type": "execute_result",
          "data": {
            "text/plain": [
              "['\\r\\n\\r\\n2 3 4 5 6']"
            ]
          },
          "metadata": {
            "tags": []
          },
          "execution_count": 37
        }
      ]
    },
    {
      "cell_type": "code",
      "metadata": {
        "id": "yTzF01hhwUN_",
        "colab_type": "code",
        "colab": {}
      },
      "source": [
        "N_giRaw = re.sub(r'\\r\\n\\r\\n2 3 4 5 6','110-799, Korea, 2Psoma Therapeutics Inc., Seoul 110-799, Korea, 3Seoul National University School of Public Health, Seoul 110-799, Korea, 4 Ewha Womans University, Seoul 120-750, Korea, 5Yonsei University College of Medicine, 6Macrogen Inc., Seoul 153-023, Korea',N_giRaw)"
      ],
      "execution_count": 0,
      "outputs": []
    },
    {
      "cell_type": "code",
      "metadata": {
        "id": "akTlhyUExaUt",
        "colab_type": "code",
        "outputId": "71dcbb58-674e-4e7e-a2b5-0197e22505c4",
        "colab": {
          "base_uri": "https://localhost:8080/",
          "height": 36
        }
      },
      "source": [
        "re.findall(r' 8-13, March 2008', N_giRaw)"
      ],
      "execution_count": 0,
      "outputs": [
        {
          "output_type": "execute_result",
          "data": {
            "text/plain": [
              "[' 8-13, March 2008', ' 8-13, March 2008', ' 8-13, March 2008']"
            ]
          },
          "metadata": {
            "tags": []
          },
          "execution_count": 39
        }
      ]
    },
    {
      "cell_type": "code",
      "metadata": {
        "id": "sUIukt2Oyt5A",
        "colab_type": "code",
        "colab": {}
      },
      "source": [
        "N_giRaw = re.sub(r'( 8-13, March 2008)',r'\\1>',N_giRaw)"
      ],
      "execution_count": 0,
      "outputs": []
    },
    {
      "cell_type": "code",
      "metadata": {
        "id": "cGK_REwJy7pQ",
        "colab_type": "code",
        "outputId": "5e7cf8c2-7977-463a-cb83-1e57f8f7605d",
        "colab": {
          "base_uri": "https://localhost:8080/",
          "height": 36
        }
      },
      "source": [
        "re.findall(r'([0-9 ]*Genomics &)', N_giRaw)"
      ],
      "execution_count": 0,
      "outputs": [
        {
          "output_type": "execute_result",
          "data": {
            "text/plain": [
              "['Genomics &', '10 Genomics &', '12 Genomics &']"
            ]
          },
          "metadata": {
            "tags": []
          },
          "execution_count": 41
        }
      ]
    },
    {
      "cell_type": "code",
      "metadata": {
        "id": "9Tn-ruyHz-Gt",
        "colab_type": "code",
        "colab": {}
      },
      "source": [
        "N_giRaw = re.sub(r'([0-9 ]*Genomics &)',r'<\\1',N_giRaw)"
      ],
      "execution_count": 0,
      "outputs": []
    },
    {
      "cell_type": "markdown",
      "metadata": {
        "id": "bVIUSK8h1M3J",
        "colab_type": "text"
      },
      "source": [
        "\n",
        "\n",
        "---\n",
        "\n"
      ]
    },
    {
      "cell_type": "code",
      "metadata": {
        "id": "25dd5lRy1Nk1",
        "colab_type": "code",
        "outputId": "afc5543f-d75f-4b7d-cf0e-88f959c1465f",
        "colab": {
          "base_uri": "https://localhost:8080/",
          "height": 149
        }
      },
      "source": [
        "print(giRaw[448:1530]) #Abstract"
      ],
      "execution_count": 0,
      "outputs": [
        {
          "output_type": "stream",
          "text": [
            "Abstract\r\n",
            "\r\n",
            "High-density lipoprotein (HDL) whose primary role is to transport cholesterol from peripheral tissues to the liver, is associated with the incidence of coronary heart di- sease. We analyzed HDL cholesterol levels in a genet- ically isolated population of extended Mongolian fami- lies. A total of 1002 individuals (54.5% women) from 95 families were enrolled. After genotyping by use of 1000 microsatellite markers, we performed a genome-wide linkage search with variance component analysis. The estimated heritability of HDL cholesterol was 0.45, re- vealing that HDL cholesterol was under significant ge- netic influence. We found peak evidence of linkage (LOD score=1.88) for HDL cholesterol level on chromosome 6 (nearest marker D6S1660 ) and potential evidences for linkage on chromosomes 1, 12 and 19 with the LOD scores of 1.32, 1.44 and 1.14, respectively. These re- sults should pave the way for the discovery of the rele- vant genes by fine mapping and association analysis.\r\n",
            "\r\n",
            "Keywords: chromosome, genome-wide linkage search, heritability, HDL cholesterol\r\n",
            "\r\n"
          ],
          "name": "stdout"
        }
      ]
    },
    {
      "cell_type": "code",
      "metadata": {
        "id": "CI5i-AQc17Dt",
        "colab_type": "code",
        "outputId": "5faed69f-e6e9-41e5-ede0-adecd8966db1",
        "colab": {
          "base_uri": "https://localhost:8080/",
          "height": 56
        }
      },
      "source": [
        "giRaw[448:1530]"
      ],
      "execution_count": 0,
      "outputs": [
        {
          "output_type": "execute_result",
          "data": {
            "text/plain": [
              "'Abstract\\r\\n\\r\\nHigh-density lipoprotein (HDL) whose primary role is to transport cholesterol from peripheral tissues to the liver, is associated with the incidence of coronary heart di- sease. We analyzed HDL cholesterol levels in a genet- ically isolated population of extended Mongolian fami- lies. A total of 1002 individuals (54.5% women) from 95 families were enrolled. After genotyping by use of 1000 microsatellite markers, we performed a genome-wide linkage search with variance component analysis. The estimated heritability of HDL cholesterol was 0.45, re- vealing that HDL cholesterol was under significant ge- netic influence. We found peak evidence of linkage (LOD score=1.88) for HDL cholesterol level on chromosome 6 (nearest marker D6S1660 ) and potential evidences for linkage on chromosomes 1, 12 and 19 with the LOD scores of 1.32, 1.44 and 1.14, respectively. These re- sults should pave the way for the discovery of the rele- vant genes by fine mapping and association analysis.\\r\\n\\r\\nKeywords: chromosome, genome-wide linkage search, heritability, HDL cholesterol\\r\\n\\r'"
            ]
          },
          "metadata": {
            "tags": []
          },
          "execution_count": 47
        }
      ]
    },
    {
      "cell_type": "markdown",
      "metadata": {
        "id": "BaGOiLxX2Fmg",
        "colab_type": "text"
      },
      "source": [
        "한 단어인데 '- '로 나눠져 있는 경우\n",
        "\n",
        "\n",
        "\n",
        "---\n",
        "수정\n"
      ]
    },
    {
      "cell_type": "code",
      "metadata": {
        "id": "tcbev3d92H4C",
        "colab_type": "code",
        "outputId": "ee4d21fe-3f9d-405c-aef8-a228f9cdc2ac",
        "colab": {
          "base_uri": "https://localhost:8080/",
          "height": 36
        }
      },
      "source": [
        "pattern1 = re.findall(r'[a-z]+- [a-z]+', N_giRaw)\n",
        "len(pattern1)"
      ],
      "execution_count": 0,
      "outputs": [
        {
          "output_type": "execute_result",
          "data": {
            "text/plain": [
              "87"
            ]
          },
          "metadata": {
            "tags": []
          },
          "execution_count": 48
        }
      ]
    },
    {
      "cell_type": "code",
      "metadata": {
        "id": "Y1G0U79f2WXl",
        "colab_type": "code",
        "outputId": "50c9b11f-56e7-4039-c6f7-3e5eeba60bee",
        "colab": {
          "base_uri": "https://localhost:8080/",
          "height": 1000
        }
      },
      "source": [
        "pattern1"
      ],
      "execution_count": 0,
      "outputs": [
        {
          "output_type": "execute_result",
          "data": {
            "text/plain": [
              "['di- sease',\n",
              " 'genet- ically',\n",
              " 'fami- lies',\n",
              " 're- vealing',\n",
              " 'ge- netic',\n",
              " 're- sults',\n",
              " 'rele- vant',\n",
              " 'hole- sterol',\n",
              " 'associa- tion',\n",
              " 'metabo- lism',\n",
              " 'iden- tify',\n",
              " 're- ported',\n",
              " 'var- iations',\n",
              " 'choles- terol',\n",
              " 'con- ducted',\n",
              " 'epidemio- logical',\n",
              " 'cultur- ally',\n",
              " 'ob- tained',\n",
              " 'con- founding',\n",
              " 'circum- ference',\n",
              " 'cir- cumference',\n",
              " 'ante- cubital',\n",
              " 'lym- phocytes',\n",
              " 'ef- fect',\n",
              " 'man- aged',\n",
              " 'us- ing',\n",
              " 'correct- ing',\n",
              " 'relation- ship',\n",
              " 'es- timated',\n",
              " 'erita- bility',\n",
              " 'age- square',\n",
              " 'age- square',\n",
              " 'analy- sis',\n",
              " 'envi- ronmental',\n",
              " 'compo- nent',\n",
              " 'age- square',\n",
              " 'gen- der',\n",
              " 'trigly- ceride',\n",
              " 'esti- mates',\n",
              " 'chro- mosome',\n",
              " 'gen- der',\n",
              " 'lo- cus',\n",
              " 'plas- ma',\n",
              " 'oth- er',\n",
              " 'ori- gins',\n",
              " 'icroso- mal',\n",
              " 'glutathione- dependent',\n",
              " 'hydro- peroxides',\n",
              " 'hydro- peroxides',\n",
              " 'lo- cated',\n",
              " 'regu- lation',\n",
              " 'en- coded',\n",
              " 'en- compassing',\n",
              " 'con- taining',\n",
              " 'us- ing',\n",
              " 'choles- terol',\n",
              " 'cholester- ol',\n",
              " 'oui- zerat',\n",
              " 'exam- ined',\n",
              " 'choles- terol',\n",
              " 'homoge- nous',\n",
              " 'pop- ulations',\n",
              " 'environ- mental',\n",
              " 're- lated',\n",
              " 'fami- lies',\n",
              " 'quantita- tive',\n",
              " 'influ- encing',\n",
              " 'e- netics',\n",
              " 'lip- oprotein',\n",
              " 'chro- mosome',\n",
              " 'hyper- alphalipoproteinemia',\n",
              " 'sponta- neous',\n",
              " 'hydro- peroxides',\n",
              " 'ter- minal',\n",
              " 'nu- clear',\n",
              " 'auto- somal',\n",
              " 'density- lip',\n",
              " 're- veals',\n",
              " 'hrombo- sis',\n",
              " 'de- tection',\n",
              " 'genome- screen',\n",
              " 'suscepti- bility',\n",
              " 'hrombo- sis',\n",
              " 'lip- oprotein',\n",
              " 'hyperalphali- poproteinemia',\n",
              " 'path- ways',\n",
              " 'hrom- bosis']"
            ]
          },
          "metadata": {
            "tags": []
          },
          "execution_count": 49
        }
      ]
    },
    {
      "cell_type": "code",
      "metadata": {
        "id": "kpYjvWJe2Yfq",
        "colab_type": "code",
        "colab": {}
      },
      "source": [
        "N_giRaw = re.sub(r'- ', '', N_giRaw)"
      ],
      "execution_count": 0,
      "outputs": []
    },
    {
      "cell_type": "markdown",
      "metadata": {
        "id": "afIPEHhu3rLa",
        "colab_type": "text"
      },
      "source": [
        "\n",
        "\n",
        "---\n",
        "\n"
      ]
    },
    {
      "cell_type": "code",
      "metadata": {
        "id": "KSDly0gm3r3X",
        "colab_type": "code",
        "outputId": "6646b896-4a7a-4dbe-d44b-f64deef99d87",
        "colab": {
          "base_uri": "https://localhost:8080/",
          "height": 261
        }
      },
      "source": [
        "print(giRaw[1530:3826]) #Introduction"
      ],
      "execution_count": 0,
      "outputs": [
        {
          "output_type": "stream",
          "text": [
            "\n",
            "Introduction\r\n",
            "\r\n",
            "Cholesterol is a major part of cell membranes. Chole- sterol is carried in the blood by chylomicrons, very low density lipoproteins (VLDL), high density lipoproteins (HDL) and low density lipoproteins (LDL) (Dastani et al . 2006). HDL cholesterol is reversely associated with car-\r\n",
            "\r\n",
            "*Corresponding author: E-mail jeongsun@snu.ac.kr Tel +82-2-764-9444, Fax +82-2-740-4534 Accepted 14 March 2008\r\n",
            "\r\n",
            "diovascular disease, and is more tightly controlled by genetic factors than the other lipoproteins such as LDL, VLDL and chylomicrons. Environmental factors including chronic alcoholism, estrogen replacement therapy, and exercise influence the levels of HDL cholesterol. Several families with strikingly elevated HDL cholesterol levels have been identified. HDL cholesterol levels are higher in blacks compared with whites and HDL cholesterol levels of females are higher than those of males (Barcat et al . 2006; Brousseau et al . 2004; Yamashita et al . 2000; Imperatore et al . 2000).\r\n",
            "\r\n",
            "Candidate gene analysis using population-based case-control studies has been used to test the associa- tion between SNPs and HDL cholesterol levels. Among the candidate genes selected mainly from lipid metabo- lism pathways, ApoA-I gene is the one most intensively studied (Inazu et al . 1994; Kuivenhoven et al . 1997). By genome-wide linkage analysis, susceptibility genes can be identified although the genes are not candidates based on lipid metabolism. Genome-wide linkage scans are conducted by use of microsatellite markers to iden- tify genetic determinants affecting the traits (Wang and Paigen 2005). Using HDL cholesterol levels as either discrete or quantitative trait, several linkage studies on genetic determinants of HDL cholesterol have been re- ported (Yancey et al . 2003). Genetic effects on the var- iations in HDL cholesterol were studied mainly in Caucasians and Africans thus far, and little attention has been focused in this regard on Asian populations. We found suggestive evidence for linkage for HDL choles- terol on chromosome 6, 1, 12 and 19, in studies con- ducted as part of GENDISCAN study, a large epidemio- logical study of Complex traits in geographically, cultur- ally and genetically isolated large Mongolian families l in Dornod, Mongolia report.\r\n",
            "\r\n",
            "\n"
          ],
          "name": "stdout"
        }
      ]
    },
    {
      "cell_type": "markdown",
      "metadata": {
        "id": "ghDIIsq85AIM",
        "colab_type": "text"
      },
      "source": [
        "Corresponding author가 문단 중간에 삽입되어 있음"
      ]
    },
    {
      "cell_type": "markdown",
      "metadata": {
        "id": "4doBWET14i3b",
        "colab_type": "text"
      },
      "source": [
        "\n",
        "\n",
        "---\n",
        "수정\n"
      ]
    },
    {
      "cell_type": "code",
      "metadata": {
        "id": "9T4JDZiY4kRL",
        "colab_type": "code",
        "outputId": "a04eddd9-267d-43d8-b04c-dab4eae8eb63",
        "colab": {
          "base_uri": "https://localhost:8080/",
          "height": 36
        }
      },
      "source": [
        "re.findall(r'\\*C', N_giRaw)"
      ],
      "execution_count": 0,
      "outputs": [
        {
          "output_type": "execute_result",
          "data": {
            "text/plain": [
              "['*C']"
            ]
          },
          "metadata": {
            "tags": []
          },
          "execution_count": 62
        }
      ]
    },
    {
      "cell_type": "code",
      "metadata": {
        "id": "xOJbbrkQ41XO",
        "colab_type": "code",
        "colab": {}
      },
      "source": [
        "N_giRaw = re.sub(r'\\*C', '(*C', N_giRaw)"
      ],
      "execution_count": 0,
      "outputs": []
    },
    {
      "cell_type": "code",
      "metadata": {
        "id": "_CHvnAuI4xF9",
        "colab_type": "code",
        "outputId": "38a3378e-c552-4d94-b14c-99fa2ce8686b",
        "colab": {
          "base_uri": "https://localhost:8080/",
          "height": 36
        }
      },
      "source": [
        "re.findall(r'14 March 2008\\r\\n', N_giRaw)"
      ],
      "execution_count": 0,
      "outputs": [
        {
          "output_type": "execute_result",
          "data": {
            "text/plain": [
              "['14 March 2008\\r\\n']"
            ]
          },
          "metadata": {
            "tags": []
          },
          "execution_count": 63
        }
      ]
    },
    {
      "cell_type": "code",
      "metadata": {
        "id": "QIYypXsj44z_",
        "colab_type": "code",
        "colab": {}
      },
      "source": [
        "N_giRaw = re.sub(r'14 March 2008\\r\\n', '14 March 2008)\\r\\n', N_giRaw)"
      ],
      "execution_count": 0,
      "outputs": []
    },
    {
      "cell_type": "markdown",
      "metadata": {
        "id": "gu1XczJ95Hkp",
        "colab_type": "text"
      },
      "source": [
        "\n",
        "\n",
        "---\n",
        "\n"
      ]
    },
    {
      "cell_type": "code",
      "metadata": {
        "id": "f_aUKKL25IYl",
        "colab_type": "code",
        "outputId": "3a243abb-53fb-4d59-a394-e7723f131987",
        "colab": {
          "base_uri": "https://localhost:8080/",
          "height": 541
        }
      },
      "source": [
        "print(giRaw[3826:5476]) #Methods"
      ],
      "execution_count": 0,
      "outputs": [
        {
          "output_type": "stream",
          "text": [
            "Methods\r\n",
            "\r\n",
            "Subjects, medical histories, genotyping, and measurement of HDL cholesterol\r\n",
            "\r\n",
            "We analyzed data from 1002 Mongolian individuals from 95 large extended families. Informed consent was ob- tained from all subjects prior to participation and the protocol was approved by the Institutional Review Board at Seoul National University. Potentially con- founding variables were assessed for each participant along with overall medical history. Information on age,\r\n",
            "\r\n",
            "110-799, Korea, Psoma Therapeutics Inc., Seoul 110-\r\n",
            "\r\n",
            "799, Korea, Seoul National University School of Public\r\n",
            "\r\n",
            "Health, Seoul 110-799, Korea, Ewha Women's Univer-\r\n",
            "\r\n",
            "sity, Seoul 120-750, Korea, Yonsei University College\r\n",
            "\r\n",
            "of Medicine, Macrogen Inc., Seoul 153-023, Korea\r\n",
            "\r\n",
            "-----------------------------------------------------Page 1-----------------------------------------------------\r\n",
            "﻿\f\r\n",
            "gender and anthropometry (height, weight, waist circum- ference, hip circumference and body fat content) were obtained for each individual. Height in centimeter (cm) and weight in kilograms (kg) were measured using an automatic measuring instrument (IMI 1000, Immanuel Elec., Korea). Body mass index (BMI) was calculated in\r\n",
            "\r\n",
            "2\r\n",
            "\r\n",
            "est centimeter at the level of the umbilicus, and hip cir- cumference was measured at the level of the maximal circumference of the gluteus. All other variables were collected through interviews performed by trained interviewers. Information about amount of alcohol and smoking was also obtained from all the participants. All the subjects were asked to fast for 12 hours before\r\n",
            "\r\n",
            "Table 1. Baseline demographic characteristics of the study population\r\n",
            "\r\n",
            "\n"
          ],
          "name": "stdout"
        }
      ]
    },
    {
      "cell_type": "code",
      "metadata": {
        "id": "dYWFiGb25968",
        "colab_type": "code",
        "outputId": "b41bf1d6-0844-4547-c3f9-284f65ed8f9e",
        "colab": {
          "base_uri": "https://localhost:8080/",
          "height": 56
        }
      },
      "source": [
        "giRaw[3826:5476]"
      ],
      "execution_count": 0,
      "outputs": [
        {
          "output_type": "execute_result",
          "data": {
            "text/plain": [
              "\"Methods\\r\\n\\r\\nSubjects, medical histories, genotyping, and measurement of HDL cholesterol\\r\\n\\r\\nWe analyzed data from 1002 Mongolian individuals from 95 large extended families. Informed consent was ob- tained from all subjects prior to participation and the protocol was approved by the Institutional Review Board at Seoul National University. Potentially con- founding variables were assessed for each participant along with overall medical history. Information on age,\\r\\n\\r\\n110-799, Korea, Psoma Therapeutics Inc., Seoul 110-\\r\\n\\r\\n799, Korea, Seoul National University School of Public\\r\\n\\r\\nHealth, Seoul 110-799, Korea, Ewha Women's Univer-\\r\\n\\r\\nsity, Seoul 120-750, Korea, Yonsei University College\\r\\n\\r\\nof Medicine, Macrogen Inc., Seoul 153-023, Korea\\r\\n\\r\\n-----------------------------------------------------Page 1-----------------------------------------------------\\r\\n\\ufeff\\x0c\\r\\ngender and anthropometry (height, weight, waist circum- ference, hip circumference and body fat content) were obtained for each individual. Height in centimeter (cm) and weight in kilograms (kg) were measured using an automatic measuring instrument (IMI 1000, Immanuel Elec., Korea). Body mass index (BMI) was calculated in\\r\\n\\r\\n2\\r\\n\\r\\nest centimeter at the level of the umbilicus, and hip cir- cumference was measured at the level of the maximal circumference of the gluteus. All other variables were collected through interviews performed by trained interviewers. Information about amount of alcohol and smoking was also obtained from all the participants. All the subjects were asked to fast for 12 hours before\\r\\n\\r\\nTable 1. Baseline demographic characteristics of the study population\\r\\n\\r\\n\""
            ]
          },
          "metadata": {
            "tags": []
          },
          "execution_count": 71
        }
      ]
    },
    {
      "cell_type": "markdown",
      "metadata": {
        "id": "I7LIHrVr6Pfq",
        "colab_type": "text"
      },
      "source": [
        "위의 Department 소개 누락 부분이 여기 삽입되어 있음\n",
        "\n",
        "페이지 표시 제거\n",
        "\n",
        "page1 다음에 나오는 문단의 한 줄이 삭제되고 2로 되어 있음\n",
        "\n",
        "'All'로 시작하는 문단의 줄바꿈이 되어있지 않음\n",
        "\n",
        "Table [ ] 씌우기"
      ]
    },
    {
      "cell_type": "markdown",
      "metadata": {
        "id": "7baC-lmr6fIc",
        "colab_type": "text"
      },
      "source": [
        "\n",
        "\n",
        "---\n",
        "\n"
      ]
    },
    {
      "cell_type": "code",
      "metadata": {
        "id": "dtqiNpcu6fvf",
        "colab_type": "code",
        "outputId": "489aab85-8e9a-4a9d-91e3-8eab05b7af28",
        "colab": {
          "base_uri": "https://localhost:8080/",
          "height": 56
        }
      },
      "source": [
        "re.findall(r'\\r\\n110-799, Korea, Psoma Therapeutics Inc., Seoul 110-\\r\\n\\r\\n799, Korea, Seoul National University School of Public\\r\\n\\r\\nHealth, Seoul 110-799, Korea, Ewha Women\\'s Univer-\\r\\n\\r\\nsity, Seoul 120-750, Korea, Yonsei University College\\r\\n\\r\\nof Medicine, Macrogen Inc., Seoul 153-023, Korea\\r\\n', N_giRaw)"
      ],
      "execution_count": 0,
      "outputs": [
        {
          "output_type": "execute_result",
          "data": {
            "text/plain": [
              "[\"\\r\\n110-799, Korea, Psoma Therapeutics Inc., Seoul 110-\\r\\n\\r\\n799, Korea, Seoul National University School of Public\\r\\n\\r\\nHealth, Seoul 110-799, Korea, Ewha Women's Univer-\\r\\n\\r\\nsity, Seoul 120-750, Korea, Yonsei University College\\r\\n\\r\\nof Medicine, Macrogen Inc., Seoul 153-023, Korea\\r\\n\"]"
            ]
          },
          "metadata": {
            "tags": []
          },
          "execution_count": 72
        }
      ]
    },
    {
      "cell_type": "code",
      "metadata": {
        "id": "_RrJC2WQ69rL",
        "colab_type": "code",
        "colab": {}
      },
      "source": [
        "N_giRaw=re.sub(r'\\r\\n110-799, Korea, Psoma Therapeutics Inc., Seoul 110-\\r\\n\\r\\n799, Korea, Seoul National University School of Public\\r\\n\\r\\nHealth, Seoul 110-799, Korea, Ewha Women\\'s Univer-\\r\\n\\r\\nsity, Seoul 120-750, Korea, Yonsei University College\\r\\n\\r\\nof Medicine, Macrogen Inc., Seoul 153-023, Korea\\r\\n', '',N_giRaw)"
      ],
      "execution_count": 0,
      "outputs": []
    },
    {
      "cell_type": "code",
      "metadata": {
        "id": "DrTB-b127ah7",
        "colab_type": "code",
        "outputId": "903ed91a-f130-46be-b3e1-69377fa979ee",
        "colab": {
          "base_uri": "https://localhost:8080/",
          "height": 129
        }
      },
      "source": [
        "re.findall(r'[-]{2,}Page [0-9]+[-]{2,}', N_giRaw)"
      ],
      "execution_count": 0,
      "outputs": [
        {
          "output_type": "execute_result",
          "data": {
            "text/plain": [
              "['-----------------------------------------------------Page 1-----------------------------------------------------',\n",
              " '-----------------------------------------------------Page 2-----------------------------------------------------',\n",
              " '-----------------------------------------------------Page 3-----------------------------------------------------',\n",
              " '-----------------------------------------------------Page 4-----------------------------------------------------',\n",
              " '-----------------------------------------------------Page 5-----------------------------------------------------',\n",
              " '-----------------------------------------------------Page 6-----------------------------------------------------']"
            ]
          },
          "metadata": {
            "tags": []
          },
          "execution_count": 75
        }
      ]
    },
    {
      "cell_type": "code",
      "metadata": {
        "id": "LZLqY6rH7llr",
        "colab_type": "code",
        "colab": {}
      },
      "source": [
        "N_giRaw = re.sub(r'[-]{2,}Page [0-9]+[-]{2,}', '', N_giRaw)"
      ],
      "execution_count": 0,
      "outputs": []
    },
    {
      "cell_type": "code",
      "metadata": {
        "id": "_Q3lR5zc8x7H",
        "colab_type": "code",
        "outputId": "61bb6082-52b5-4213-e2f9-3f76a634f6cf",
        "colab": {
          "base_uri": "https://localhost:8080/",
          "height": 36
        }
      },
      "source": [
        "re.findall(r'(in)(\\r\\n\\r\\n2\\r\\n\\r\\n)(est)', N_giRaw)"
      ],
      "execution_count": 0,
      "outputs": [
        {
          "output_type": "execute_result",
          "data": {
            "text/plain": [
              "[('in', '\\r\\n\\r\\n2\\r\\n\\r\\n', 'est')]"
            ]
          },
          "metadata": {
            "tags": []
          },
          "execution_count": 80
        }
      ]
    },
    {
      "cell_type": "code",
      "metadata": {
        "id": "PZzmViqc9xjh",
        "colab_type": "code",
        "colab": {}
      },
      "source": [
        "N_giRaw = re.sub(r'(in)(\\r\\n\\r\\n2\\r\\n\\r\\n)(est)', r'\\1 kg/m2. Waist circumference was measured to the near\\3', N_giRaw)"
      ],
      "execution_count": 0,
      "outputs": []
    },
    {
      "cell_type": "code",
      "metadata": {
        "id": "40k3fYao-_FC",
        "colab_type": "code",
        "outputId": "fca1748f-1f24-46df-a667-bf116cb1fca8",
        "colab": {
          "base_uri": "https://localhost:8080/",
          "height": 36
        }
      },
      "source": [
        "re.findall(r'(participants.)( )(All)', N_giRaw)"
      ],
      "execution_count": 0,
      "outputs": [
        {
          "output_type": "execute_result",
          "data": {
            "text/plain": [
              "[('participants.', ' ', 'All')]"
            ]
          },
          "metadata": {
            "tags": []
          },
          "execution_count": 83
        }
      ]
    },
    {
      "cell_type": "code",
      "metadata": {
        "id": "pYEflqSH_NEC",
        "colab_type": "code",
        "colab": {}
      },
      "source": [
        "N_giRaw = re.sub(r'(participants.)( )(All)', r'\\1\\n\\3', N_giRaw)"
      ],
      "execution_count": 0,
      "outputs": []
    },
    {
      "cell_type": "code",
      "metadata": {
        "id": "k2mpvUa7_w6I",
        "colab_type": "code",
        "outputId": "bb50653b-862a-4a8a-847c-cbcfc1479ab6",
        "colab": {
          "base_uri": "https://localhost:8080/",
          "height": 167
        }
      },
      "source": [
        "re.findall(r'(\\n)(Table [0-9a-zA-Z. /-]+)', N_giRaw)"
      ],
      "execution_count": 0,
      "outputs": [
        {
          "output_type": "execute_result",
          "data": {
            "text/plain": [
              "[('\\n',\n",
              "  'Table 1. Baseline demographic characteristics of the study population'),\n",
              " ('\\n', 'Table 2. Pedigree characteristics of the study population'),\n",
              " ('\\n',\n",
              "  'Table 3. Relationships between baseline characteristics and HDL cholesterol'),\n",
              " ('\\n', 'Table 4. Heritability of HDL'),\n",
              " ('\\n', 'Table 5. LOD scores'),\n",
              " ('\\n', 'Table 6. Loci for HDL cholesterol identified by genome')]"
            ]
          },
          "metadata": {
            "tags": []
          },
          "execution_count": 86
        }
      ]
    },
    {
      "cell_type": "code",
      "metadata": {
        "id": "ry6GFRkeAJeb",
        "colab_type": "code",
        "colab": {}
      },
      "source": [
        "N_giRaw = re.sub(r'(\\n)(Table [0-9a-zA-Z. /-]+)', r'\\1[\\2]', N_giRaw)"
      ],
      "execution_count": 0,
      "outputs": []
    },
    {
      "cell_type": "markdown",
      "metadata": {
        "id": "71xaoA4IAisN",
        "colab_type": "text"
      },
      "source": [
        "\n",
        "\n",
        "---\n",
        "\n"
      ]
    },
    {
      "cell_type": "code",
      "metadata": {
        "id": "J05KgPR5Aj1U",
        "colab_type": "code",
        "outputId": "9d9b7b19-9da4-4d6f-c6df-d0b2feec0996",
        "colab": {
          "base_uri": "https://localhost:8080/",
          "height": 317
        }
      },
      "source": [
        "print(giRaw[5476:6555]) #Methods table1"
      ],
      "execution_count": 0,
      "outputs": [
        {
          "output_type": "stream",
          "text": [
            "Characteristics                     Value\r\n",
            "\r\n",
            "No. of families                                 95 Mean±SD no. of family members             15.68±12.44 No. of genotyped subjects                      1,002 Mean±SD age (in years)                    30.63±15.36 Percentage female (%)                          54.5 Total cholesterol (mg/dl)                    159.82±37.19 HDL (mg/dl)                               55.19±11.95 LDL (mg/dl)                               90.51±28.79 Triglyceride (mg/dl)                         63.30±29.93 Height (cm)                              155.78±11.11 Weight (kg)                                57.95±15.55\r\n",
            "\r\n",
            "2\r\n",
            "\r\n",
            "Waist circumference                        78.17±12.71 Hip circumference                          92.73±11.25 Fasting glucose (mg/dl)                      93.87±11.85 Insulin                                     8.54±4.10 Alcohol (%)*                               151 (14.7)\r\n",
            "\r\n",
            "Smoking (%)   †                        221 (21.19)\r\n",
            "\r\n",
            "*Habitual alcohol intake (in %; No=0 and Yes=1).   † Current\r\n",
            "\r\n",
            "smoker (in %; No=0 and Yes=1).\r\n",
            "\r\n",
            "\n"
          ],
          "name": "stdout"
        }
      ]
    },
    {
      "cell_type": "code",
      "metadata": {
        "id": "7SdSF_OAJ0LI",
        "colab_type": "code",
        "outputId": "2dc4a448-93d3-4a8c-89b7-6d1088920514",
        "colab": {
          "base_uri": "https://localhost:8080/",
          "height": 56
        }
      },
      "source": [
        "giRaw[5476:6555]"
      ],
      "execution_count": 0,
      "outputs": [
        {
          "output_type": "execute_result",
          "data": {
            "text/plain": [
              "'Characteristics                     Value\\r\\n\\r\\nNo. of families                                 95 Mean±SD no. of family members             15.68±12.44 No. of genotyped subjects                      1,002 Mean±SD age (in years)                    30.63±15.36 Percentage female (%)                          54.5 Total cholesterol (mg/dl)                    159.82±37.19 HDL (mg/dl)                               55.19±11.95 LDL (mg/dl)                               90.51±28.79 Triglyceride (mg/dl)                         63.30±29.93 Height (cm)                              155.78±11.11 Weight (kg)                                57.95±15.55\\r\\n\\r\\n2\\r\\n\\r\\nWaist circumference                        78.17±12.71 Hip circumference                          92.73±11.25 Fasting glucose (mg/dl)                      93.87±11.85 Insulin                                     8.54±4.10 Alcohol (%)*                               151 (14.7)\\r\\n\\r\\nSmoking (%)   †                        221 (21.19)\\r\\n\\r\\n*Habitual alcohol intake (in %; No=0 and Yes=1).   † Current\\r\\n\\r\\nsmoker (in %; No=0 and Yes=1).\\r\\n\\r\\n'"
            ]
          },
          "metadata": {
            "tags": []
          },
          "execution_count": 113
        }
      ]
    },
    {
      "cell_type": "code",
      "metadata": {
        "id": "cRwsbBHrNZkG",
        "colab_type": "code",
        "outputId": "4b3f0207-249c-4ac0-c7a3-eb39a2a1bada",
        "colab": {
          "base_uri": "https://localhost:8080/",
          "height": 187
        }
      },
      "source": [
        "print(giRaw[6616:7200]) #Methods table2 and head"
      ],
      "execution_count": 0,
      "outputs": [
        {
          "output_type": "stream",
          "text": [
            "Characteristics                     Value\r\n",
            "\r\n",
            "No. of study pairs of :\r\n",
            "\r\n",
            "Parent-offspring                               1,812 Full-sib pairs                                  734 Sisters                                      198 Brothers                                    167 Brother and sister                            369 Half-sib pairs                                  395 Grandparent-grandchild pairs                    1,202 Avuncular pairs                                888 First-cousin pairs                               598\r\n",
            "\r\n",
            "Genetic Determinants of HDL Cholesterol    9\r\n",
            "\r\n"
          ],
          "name": "stdout"
        }
      ]
    },
    {
      "cell_type": "code",
      "metadata": {
        "id": "dhBeHHZeOu3g",
        "colab_type": "code",
        "outputId": "a1198edb-2307-46de-a496-9a7aa7676e44",
        "colab": {
          "base_uri": "https://localhost:8080/",
          "height": 261
        }
      },
      "source": [
        "print(giRaw[7200:8245]) #논문 본문 내용"
      ],
      "execution_count": 0,
      "outputs": [
        {
          "output_type": "stream",
          "text": [
            "\n",
            "their visit. Blood samples were collected from an ante- cubital vein into vacutainer tubes containing EDTA. Blood samples were centrifuged at 3000 rpm for 10 mi-\r\n",
            "\r\n",
            "o\r\n",
            "\r\n",
            "from lymphocytes for polymerase chain reaction (PCR) and automated genotyping. A 10 ml blood sample was collected from each participating individual for genomic DNA extraction. DNA was extracted from peripheral lym- phocytes using the PUREGENE DNA Purification Kit for whole blood (Gentra Systems Inc, USA). For genotyping, a set of 1000 microsatellite markers deCODE mapping sets (deCODE genetics, USA) was used covering the genome at an average density of 3 centimorgans (cM). HDL cholesterol was measured by the enzymatic method using Cholestest-N-HDL kit (DAICHI, JAPAN) and HITACHI 7600-210 & HITACHI 7180 instruments. Extensive quality control procedures ensured the validity and reproducibility of the measurements.\r\n",
            "\r\n",
            "Statistical analyses, heritability estimation, and variance component linkage analysis\r\n",
            "\r\n",
            "Multiple linear regression analysis was used by PC SAS\r\n",
            "\r\n",
            "\n"
          ],
          "name": "stdout"
        }
      ]
    },
    {
      "cell_type": "code",
      "metadata": {
        "id": "VVEFXzl-QuIM",
        "colab_type": "code",
        "outputId": "7d05fe7e-3360-41af-eb2b-5e73a9e4ca01",
        "colab": {
          "base_uri": "https://localhost:8080/",
          "height": 56
        }
      },
      "source": [
        "giRaw[7200:8245]"
      ],
      "execution_count": 0,
      "outputs": [
        {
          "output_type": "execute_result",
          "data": {
            "text/plain": [
              "'\\ntheir visit. Blood samples were collected from an ante- cubital vein into vacutainer tubes containing EDTA. Blood samples were centrifuged at 3000 rpm for 10 mi-\\r\\n\\r\\no\\r\\n\\r\\nfrom lymphocytes for polymerase chain reaction (PCR) and automated genotyping. A 10 ml blood sample was collected from each participating individual for genomic DNA extraction. DNA was extracted from peripheral lym- phocytes using the PUREGENE DNA Purification Kit for whole blood (Gentra Systems Inc, USA). For genotyping, a set of 1000 microsatellite markers deCODE mapping sets (deCODE genetics, USA) was used covering the genome at an average density of 3 centimorgans (cM). HDL cholesterol was measured by the enzymatic method using Cholestest-N-HDL kit (DAICHI, JAPAN) and HITACHI 7600-210 & HITACHI 7180 instruments. Extensive quality control procedures ensured the validity and reproducibility of the measurements.\\r\\n\\r\\nStatistical analyses, heritability estimation, and variance component linkage analysis\\r\\n\\r\\nMultiple linear regression analysis was used by PC SAS\\r\\n\\r\\n'"
            ]
          },
          "metadata": {
            "tags": []
          },
          "execution_count": 132
        }
      ]
    },
    {
      "cell_type": "code",
      "metadata": {
        "id": "hDV9myxcTGTS",
        "colab_type": "code",
        "outputId": "b139aa6d-388a-4179-dbf5-7981084b9ab3",
        "colab": {
          "base_uri": "https://localhost:8080/",
          "height": 355
        }
      },
      "source": [
        "print(giRaw[8324:9036]) #table3"
      ],
      "execution_count": 0,
      "outputs": [
        {
          "output_type": "stream",
          "text": [
            "Characteristics               Pearson correlation\r\n",
            "\r\n",
            "coefficients* Age                                      0.022 (0.46) Systolic BP                               0.008 (0.77) Alcohol                                 − 0.005 (0.86) Mean values (SD)\r\n",
            "\r\n",
            "Gender (t-test)*                              ＜ .0001 Women (544)                          56.88±11.98 Men (458)                            53.38±11.67\r\n",
            "\r\n",
            "Smoking status (t-test)   †                   0.045\r\n",
            "\r\n",
            "Yes                                 53.72±11.79 No                                 55.54±11.98\r\n",
            "\r\n",
            "*p values reflect test of subgroup differences (women ver-\r\n",
            "\r\n",
            "sus men). †   p values reflect test of subgroup differences\r\n",
            "\r\n",
            "(Smoking yes versus no).\r\n",
            "\r\n",
            "\n"
          ],
          "name": "stdout"
        }
      ]
    },
    {
      "cell_type": "code",
      "metadata": {
        "id": "jhbAXWsGUCLw",
        "colab_type": "code",
        "outputId": "6440a417-90fe-48ac-9cbe-69a74c9bac06",
        "colab": {
          "base_uri": "https://localhost:8080/",
          "height": 56
        }
      },
      "source": [
        "giRaw[8324:9036]"
      ],
      "execution_count": 0,
      "outputs": [
        {
          "output_type": "execute_result",
          "data": {
            "text/plain": [
              "'Characteristics               Pearson correlation\\r\\n\\r\\ncoefficients* Age                                      0.022 (0.46) Systolic BP                               0.008 (0.77) Alcohol                                 − 0.005 (0.86) Mean values (SD)\\r\\n\\r\\nGender (t-test)*                              ＜ .0001 Women (544)                          56.88±11.98 Men (458)                            53.38±11.67\\r\\n\\r\\nSmoking status (t-test)   †                   0.045\\r\\n\\r\\nYes                                 53.72±11.79 No                                 55.54±11.98\\r\\n\\r\\n*p values reflect test of subgroup differences (women ver-\\r\\n\\r\\nsus men). †   p values reflect test of subgroup differences\\r\\n\\r\\n(Smoking yes versus no).\\r\\n\\r\\n'"
            ]
          },
          "metadata": {
            "tags": []
          },
          "execution_count": 155
        }
      ]
    },
    {
      "cell_type": "markdown",
      "metadata": {
        "id": "onvjc5ZZPy5R",
        "colab_type": "text"
      },
      "source": [
        "table 및 head 표시\n",
        "\n",
        "본문 내용의 '10 mi-' 다음 줄 전체가 삭제되어 있음"
      ]
    },
    {
      "cell_type": "markdown",
      "metadata": {
        "id": "DwJzJ7BuJ3uC",
        "colab_type": "text"
      },
      "source": [
        "\n",
        "\n",
        "---\n",
        "수정\n"
      ]
    },
    {
      "cell_type": "code",
      "metadata": {
        "id": "mUMZkVvAN_Hd",
        "colab_type": "code",
        "outputId": "9ef4ba11-0da6-4b6c-9412-1943fbc4419f",
        "colab": {
          "base_uri": "https://localhost:8080/",
          "height": 73
        }
      },
      "source": [
        "re.findall(r'Genetic Determinants [a-zA-Z ]+[0-9]+',N_giRaw)"
      ],
      "execution_count": 0,
      "outputs": [
        {
          "output_type": "execute_result",
          "data": {
            "text/plain": [
              "['Genetic Determinants of HDL Cholesterol    9',\n",
              " 'Genetic Determinants of HDL Cholesterol    11',\n",
              " 'Genetic Determinants of HDL Cholesterol    13']"
            ]
          },
          "metadata": {
            "tags": []
          },
          "execution_count": 122
        }
      ]
    },
    {
      "cell_type": "code",
      "metadata": {
        "id": "qoLiPtCfOOWT",
        "colab_type": "code",
        "colab": {}
      },
      "source": [
        "N_giRaw = re.sub(r'(Genetic Determinants [a-zA-Z ]+[0-9]+)', r'<\\1>', N_giRaw)"
      ],
      "execution_count": 0,
      "outputs": []
    },
    {
      "cell_type": "code",
      "metadata": {
        "id": "Clfu_prjQynr",
        "colab_type": "code",
        "outputId": "e684ff6b-2c22-49f0-8ef6-b0effde9e613",
        "colab": {
          "base_uri": "https://localhost:8080/",
          "height": 36
        }
      },
      "source": [
        "re.findall(r'10 mi-\\r\\n\\r\\no\\r\\n\\r\\n',N_giRaw)"
      ],
      "execution_count": 0,
      "outputs": [
        {
          "output_type": "execute_result",
          "data": {
            "text/plain": [
              "['10 mi-\\r\\n\\r\\no\\r\\n\\r\\n']"
            ]
          },
          "metadata": {
            "tags": []
          },
          "execution_count": 133
        }
      ]
    },
    {
      "cell_type": "code",
      "metadata": {
        "id": "KJHXIJRdRBP1",
        "colab_type": "code",
        "colab": {}
      },
      "source": [
        "N_giRaw = re.sub(r'10 mi-\\r\\n\\r\\no\\r\\n\\r\\n', '10 minutes and then stored at −70\\'C. DNA was isolated ', N_giRaw)"
      ],
      "execution_count": 0,
      "outputs": []
    },
    {
      "cell_type": "code",
      "metadata": {
        "id": "oFtDWAUpJ5H2",
        "colab_type": "code",
        "outputId": "34a25422-da21-48ea-97d2-953f4b7d8ca6",
        "colab": {
          "base_uri": "https://localhost:8080/",
          "height": 205
        }
      },
      "source": [
        "re.findall(r'(Characteristics[A-Za-z 0-9.,%/;†±*\\r\\n\\(\\)\\=\\:\\-−＜]+)(\\).|598)(\\r\\n\\r\\n)', N_giRaw)"
      ],
      "execution_count": 0,
      "outputs": [
        {
          "output_type": "execute_result",
          "data": {
            "text/plain": [
              "[('Characteristics                     Value\\r\\n\\r\\nNo. of families                                 95 Mean±SD no. of family members             15.68±12.44 No. of genotyped subjects                      1,002 Mean±SD age (in years)                    30.63±15.36 Percentage female (%)                          54.5 Total cholesterol (mg/dl)                    159.82±37.19 HDL (mg/dl)                               55.19±11.95 LDL (mg/dl)                               90.51±28.79 Triglyceride (mg/dl)                         63.30±29.93 Height (cm)                              155.78±11.11 Weight (kg)                                57.95±15.55\\r\\n\\r\\n2\\r\\n\\r\\nWaist circumference                        78.17±12.71 Hip circumference                          92.73±11.25 Fasting glucose (mg/dl)                      93.87±11.85 Insulin                                     8.54±4.10 Alcohol (%)*                               151 (14.7)\\r\\n\\r\\nSmoking (%)   †                        221 (21.19)\\r\\n\\r\\n*Habitual alcohol intake (in %; No=0 and Yes=1).   † Current\\r\\n\\r\\nsmoker (in %; No=0 and Yes=1',\n",
              "  ').',\n",
              "  '\\r\\n\\r\\n'),\n",
              " ('Characteristics                     Value\\r\\n\\r\\nNo. of study pairs of :\\r\\n\\r\\nParent-offspring                               1,812 Full-sib pairs                                  734 Sisters                                      198 Brothers                                    167 Brother and sister                            369 Half-sib pairs                                  395 Grandparent-grandchild pairs                    1,202 Avuncular pairs                                888 First-cousin pairs                               ',\n",
              "  '598',\n",
              "  '\\r\\n\\r\\n'),\n",
              " ('Characteristics               Pearson correlation\\r\\n\\r\\ncoefficients* Age                                      0.022 (0.46) Systolic BP                               0.008 (0.77) Alcohol                                 − 0.005 (0.86) Mean values (SD)\\r\\n\\r\\nGender (t-test)*                              ＜ .0001 Women (544)                          56.88±11.98 Men (458)                            53.38±11.67\\r\\n\\r\\nSmoking status (t-test)   †                   0.045\\r\\n\\r\\nYes                                 53.72±11.79 No                                 55.54±11.98\\r\\n\\r\\n*p values reflect test of subgroup differences (women ver-\\r\\n\\r\\nsus men). †   p values reflect test of subgroup differences\\r\\n\\r\\n(Smoking yes versus no',\n",
              "  ').',\n",
              "  '\\r\\n\\r\\n')]"
            ]
          },
          "metadata": {
            "tags": []
          },
          "execution_count": 160
        }
      ]
    },
    {
      "cell_type": "code",
      "metadata": {
        "id": "fQ9U5j2fVJ7N",
        "colab_type": "code",
        "colab": {}
      },
      "source": [
        "N_giRaw = re.sub(r'(Characteristics[A-Za-z 0-9.,%/;†±*\\r\\n\\(\\)\\=\\:\\-−＜]+)(\\).|598)(\\r\\n\\r\\n)', r'[\\1\\2]\\3', N_giRaw)"
      ],
      "execution_count": 0,
      "outputs": []
    },
    {
      "cell_type": "markdown",
      "metadata": {
        "id": "wk1my6_NW-Q8",
        "colab_type": "text"
      },
      "source": [
        "\n",
        "\n",
        "---\n",
        "\n"
      ]
    },
    {
      "cell_type": "code",
      "metadata": {
        "id": "IIvIuO_QW-7v",
        "colab_type": "code",
        "outputId": "04d184c3-a243-40b1-87e5-cee07a044867",
        "colab": {
          "base_uri": "https://localhost:8080/",
          "height": 168
        }
      },
      "source": [
        "print(giRaw[9068:9346]) #table4"
      ],
      "execution_count": 0,
      "outputs": [
        {
          "output_type": "stream",
          "text": [
            "Parameters                      Value\r\n",
            "\r\n",
            "Fully adjusted Heritability*                       0.45 p-value                                     ＜ .0001 Kurtosis                                      0.59\r\n",
            "\r\n",
            "*Includes adjustment for age, gender, systolic BP, smoking and alcohol.\r\n",
            "\r\n",
            "\n"
          ],
          "name": "stdout"
        }
      ]
    },
    {
      "cell_type": "code",
      "metadata": {
        "id": "tUBN2srhYKtq",
        "colab_type": "code",
        "outputId": "57916387-6d75-4ffd-ad73-55e62fae5228",
        "colab": {
          "base_uri": "https://localhost:8080/",
          "height": 93
        }
      },
      "source": [
        "#수정\n",
        "re.findall(r'(Parameters[A-Za-z 0-9.,%/;†±*\\r\\n\\(\\)\\=\\:\\-−＜]+)(.)(\\r\\n\\r\\n)', N_giRaw)"
      ],
      "execution_count": 0,
      "outputs": [
        {
          "output_type": "execute_result",
          "data": {
            "text/plain": [
              "[('Parameters                      Value\\r\\n\\r\\nFully adjusted Heritability*                       0.45 p-value                                     ＜ .0001 Kurtosis                                      0.59\\r\\n\\r\\n*Includes adjustment for age, gender, systolic BP, smoking and alcohol',\n",
              "  '.',\n",
              "  '\\r\\n\\r\\n')]"
            ]
          },
          "metadata": {
            "tags": []
          },
          "execution_count": 178
        }
      ]
    },
    {
      "cell_type": "code",
      "metadata": {
        "id": "lLYM_dPdYWIK",
        "colab_type": "code",
        "colab": {}
      },
      "source": [
        "N_giRaw = re.sub(r'(Parameters[A-Za-z 0-9.,%/;†±*\\r\\n\\(\\)\\=\\:\\-−＜]+)(.)(\\r\\n\\r\\n)', r'[\\1\\2]\\3', N_giRaw)"
      ],
      "execution_count": 0,
      "outputs": []
    },
    {
      "cell_type": "markdown",
      "metadata": {
        "id": "-N1MoDxWYyjg",
        "colab_type": "text"
      },
      "source": [
        "\n",
        "\n",
        "---\n",
        "\n"
      ]
    },
    {
      "cell_type": "code",
      "metadata": {
        "id": "zeY5BB_VYzOh",
        "colab_type": "code",
        "outputId": "08fab79c-43ef-47af-cbab-7c6bcbf70803",
        "colab": {
          "base_uri": "https://localhost:8080/",
          "height": 224
        }
      },
      "source": [
        "print(giRaw[9346:10965]) #논문 본문"
      ],
      "execution_count": 0,
      "outputs": [
        {
          "output_type": "stream",
          "text": [
            "-----------------------------------------------------Page 2-----------------------------------------------------\r\n",
            "﻿\f\r\n",
            "10 Genomics & Informatics Vol. 6(1) 8-13, March 2008\r\n",
            "\r\n",
            "version 8.2 and PC SPSS version 12 to account for ef- fect of confounding variables. Pedigree data was man- aged by PedSys (Southwest Foundation for Biomedical Research, San Antonio, Texas, USA). Nonpaternity was examined using PEDCHECK (Mcpeek and Sun 2000) and relationships other than paternity were checked us- ing average IBD-based method by PREST. After correct- ing pedigree error and Mendelian errors, non-mendelian errors were examined and corrected using SimWalk. Identity by descent (IBD) matrix between every relation- ship pairs in family was calculated and IBD matrix for single marker was calculated by SOLAR (Sequential Oligogenic Linkage Analysis Routines software version 2.1.4). Multipoint IBD matrices were computed on every\r\n",
            " 1 cM distance using Markov chain Monte Carlo method by LOKI (Heath 1997).\r\n",
            "\r\n",
            "Genetic components of selected phenotypes were es- timated in terms of heritability. Narrow sense heritability, defined as the proportion of total phenotypic variation due to additive genetic effects, was calculated. Herita- bility of HDL cholesterol adjusted for age, gender, age- square, product of age and gender, product of age- square and gender, systolic BP, smoking and alcohol was estimated and a variance component linkage analy- sis was carried out by SOLAR which uses maximum likelihood methods to estimate variance components for the polygenic genetic effect and random individual envi- ronmental effects.\r\n",
            "\r\n",
            "\n"
          ],
          "name": "stdout"
        }
      ]
    },
    {
      "cell_type": "code",
      "metadata": {
        "id": "DuisDoEhZzfH",
        "colab_type": "code",
        "outputId": "5025e0f5-8174-4127-eb47-e87dda3240c3",
        "colab": {
          "base_uri": "https://localhost:8080/",
          "height": 56
        }
      },
      "source": [
        "giRaw[9346:10965]"
      ],
      "execution_count": 0,
      "outputs": [
        {
          "output_type": "execute_result",
          "data": {
            "text/plain": [
              "'-----------------------------------------------------Page 2-----------------------------------------------------\\r\\n\\ufeff\\x0c\\r\\n10 Genomics & Informatics Vol. 6(1) 8-13, March 2008\\r\\n\\r\\nversion 8.2 and PC SPSS version 12 to account for ef- fect of confounding variables. Pedigree data was man- aged by PedSys (Southwest Foundation for Biomedical Research, San Antonio, Texas, USA). Nonpaternity was examined using PEDCHECK (Mcpeek and Sun 2000) and relationships other than paternity were checked us- ing average IBD-based method by PREST. After correct- ing pedigree error and Mendelian errors, non-mendelian errors were examined and corrected using SimWalk. Identity by descent (IBD) matrix between every relation- ship pairs in family was calculated and IBD matrix for single marker was calculated by SOLAR (Sequential Oligogenic Linkage Analysis Routines software version 2.1.4). Multipoint IBD matrices were computed on every\\r\\n 1 cM distance using Markov chain Monte Carlo method by LOKI (Heath 1997).\\r\\n\\r\\nGenetic components of selected phenotypes were es- timated in terms of heritability. Narrow sense heritability, defined as the proportion of total phenotypic variation due to additive genetic effects, was calculated. Herita- bility of HDL cholesterol adjusted for age, gender, age- square, product of age and gender, product of age- square and gender, systolic BP, smoking and alcohol was estimated and a variance component linkage analy- sis was carried out by SOLAR which uses maximum likelihood methods to estimate variance components for the polygenic genetic effect and random individual envi- ronmental effects.\\r\\n\\r\\n'"
            ]
          },
          "metadata": {
            "tags": []
          },
          "execution_count": 190
        }
      ]
    },
    {
      "cell_type": "markdown",
      "metadata": {
        "id": "DO8pvsI0ZXYQ",
        "colab_type": "text"
      },
      "source": [
        "'every ' 뒤의 '1 cM'부터 같은 문단인데 줄바꿈이 들어가 있음\n",
        "\n"
      ]
    },
    {
      "cell_type": "code",
      "metadata": {
        "id": "IqcgVXfBZmPx",
        "colab_type": "code",
        "outputId": "9c5724d5-56ea-4074-b4c3-57e5afe2312a",
        "colab": {
          "base_uri": "https://localhost:8080/",
          "height": 36
        }
      },
      "source": [
        "#수정\n",
        "re.findall(r'every\\r\\n',N_giRaw)"
      ],
      "execution_count": 0,
      "outputs": [
        {
          "output_type": "execute_result",
          "data": {
            "text/plain": [
              "['every\\r\\n']"
            ]
          },
          "metadata": {
            "tags": []
          },
          "execution_count": 191
        }
      ]
    },
    {
      "cell_type": "code",
      "metadata": {
        "id": "AjJJKACNaEDa",
        "colab_type": "code",
        "colab": {}
      },
      "source": [
        "N_giRaw = re.sub(r'every\\r\\n', r'every', N_giRaw)"
      ],
      "execution_count": 0,
      "outputs": []
    },
    {
      "cell_type": "markdown",
      "metadata": {
        "id": "W164aiK5bevt",
        "colab_type": "text"
      },
      "source": [
        "\n",
        "\n",
        "---\n",
        "\n"
      ]
    },
    {
      "cell_type": "code",
      "metadata": {
        "id": "Nib1jQV2bfa8",
        "colab_type": "code",
        "outputId": "6afd99a6-f8de-4380-bcf1-114c19fdd114",
        "colab": {
          "base_uri": "https://localhost:8080/",
          "height": 93
        }
      },
      "source": [
        "print(giRaw[10965:11333]) #Fig."
      ],
      "execution_count": 0,
      "outputs": [
        {
          "output_type": "stream",
          "text": [
            "Fig. 1. Multipoint variance compo- nent linkage analyses for HDL cholesterol. The X axis represents the genetic location according to the deCODE genetic map and the Y axis represents the multipoint LOD score. HDL cholesterol was adjusted for age, gender, age- square, product of age and gen- der, product of age-square and gender, systolic BP, smoking and alcohol.\r\n",
            "\r\n",
            "\n"
          ],
          "name": "stdout"
        }
      ]
    },
    {
      "cell_type": "code",
      "metadata": {
        "id": "IuKWmhN2b4kn",
        "colab_type": "code",
        "outputId": "169d114f-285f-4a91-9751-60df404584ba",
        "colab": {
          "base_uri": "https://localhost:8080/",
          "height": 112
        }
      },
      "source": [
        "#수정\n",
        "re.findall(r'(\\r\\n)(Fig[0-9. ]+[a-zA-Z -./0-9]+)', N_giRaw)"
      ],
      "execution_count": 0,
      "outputs": [
        {
          "output_type": "execute_result",
          "data": {
            "text/plain": [
              "[('\\r\\n',\n",
              "  'Fig. 1. Multipoint variance component linkage analyses for HDL cholesterol. The X axis represents the genetic location according to the deCODE genetic map and the Y axis represents the multipoint LOD score. HDL cholesterol was adjusted for age, gender, agesquare, product of age and gender, product of age-square and gender, systolic BP, smoking and alcohol.'),\n",
              " ('\\r\\n',\n",
              "  'Fig. 2. Multipoint LOD scores for HDL cholesterol on chromosome 6p21. HDL cholesterol was adjusted for age, gender, age-square, product of age and gender, product of age-square and gender, systolic BP, smoking and alcohol.')]"
            ]
          },
          "metadata": {
            "tags": []
          },
          "execution_count": 201
        }
      ]
    },
    {
      "cell_type": "code",
      "metadata": {
        "id": "BP4pAtsKb_v_",
        "colab_type": "code",
        "colab": {}
      },
      "source": [
        "N_giRaw = re.sub(r'(\\r\\n)(Fig[0-9. ]+[a-zA-Z -./0-9]+)', r'\\1[\\2]', N_giRaw)"
      ],
      "execution_count": 0,
      "outputs": []
    },
    {
      "cell_type": "markdown",
      "metadata": {
        "id": "w02m0auCcZBd",
        "colab_type": "text"
      },
      "source": [
        "\n",
        "\n",
        "---\n",
        "\n"
      ]
    },
    {
      "cell_type": "code",
      "metadata": {
        "id": "5S1WfHkUcZyz",
        "colab_type": "code",
        "outputId": "0381628e-90f5-483f-f76f-b8435482e029",
        "colab": {
          "base_uri": "https://localhost:8080/",
          "height": 280
        }
      },
      "source": [
        "print(giRaw[11333:13294]) #다음 본문 내용"
      ],
      "execution_count": 0,
      "outputs": [
        {
          "output_type": "stream",
          "text": [
            "-----------------------------------------------------Page 3-----------------------------------------------------\r\n",
            "﻿\f\r\n",
            "Results and Discussion\r\n",
            "\r\n",
            "The mean age of the 1002 individuals was 31 years and 54.5% of them were female. Demographic and pedigree characteristics of the study sample are shown in Table 1. The family size had a mean of 16. Table 2 included information on 2546 pairs of first degree relatives (1812 parent-offspring pairs and 734 full-sib pairs), 2485 pairs of their second degree relatives (395 half-sibling pairs, 1202 grandparent-grandchild pairs, and 888 avuncular pairs), and 598 first-cousin pairs. Means of their total cholesterol, HDL cholesterol, LDL cholesterol, and trigly- ceride were 159.82 mg/dl, 55.19 mg/dl, 90.51 mg/dl,\r\n",
            "\r\n",
            "Genetic Determinants of HDL Cholesterol    11\r\n",
            "\r\n",
            "and 63.30 mg/dl, respectively. Table 3 shows correlation between HDL cholesterol and covariates such as age, gender, systolic blood pressure, alcohol consumption status, and smoking status. These parameters were used as covariates in the variance component analysis which provided multivariable adjusted heritability esti- mates for HDL cholesterol of 0.45 (Table 4). The peak multipoint LOD score was 1.88 on 6p21 (nearest marker D6S1660) and a secondary peak (LOD score of 1.44) was found on 12q23 (nearest marker D12S354). We identified other potential evidence for linkage in the LOD score of 1.32 on 1q24 (nearest marker D1S412) and a LOD score of 1.14 at 19p13 (nearest marker D19S884) (Fig. 1, 2). Table 5 presents all LOD scores ＞ 1.0 for HDL cholesterol.\r\n",
            "\r\n",
            "We identified potential evidence of linkage on several chromosomes. In other genome scan, a weak linkage signal for HDL cholesterol was observed for regions that overlapped slightly with the regions identified herein. Klos et al . reported the appearance of peak position in the chromosome 12q in European American population (Klos et al . 2001) (Table 6). We found evidence of link-\r\n",
            "\r\n",
            "\n"
          ],
          "name": "stdout"
        }
      ]
    },
    {
      "cell_type": "code",
      "metadata": {
        "id": "WeQyKFUic52t",
        "colab_type": "code",
        "outputId": "36ca1be8-2e86-4d06-c518-abea91071c27",
        "colab": {
          "base_uri": "https://localhost:8080/",
          "height": 504
        }
      },
      "source": [
        "print(giRaw[13392:14009]) #Table5"
      ],
      "execution_count": 0,
      "outputs": [
        {
          "output_type": "stream",
          "text": [
            "Trait     Marker at or Chromosome\r\n",
            "\r\n",
            "Near Peak Location\r\n",
            "\r\n",
            "Peak\r\n",
            "\r\n",
            "Position\r\n",
            "\r\n",
            "(cM)\r\n",
            "\r\n",
            "Maximum\r\n",
            "\r\n",
            "LOD Score\r\n",
            "\r\n",
            "HDL\r\n",
            "\r\n",
            "D1S412         1q24          200          1.32 D6S1660        6p21           50          1.88 D12S354        12q23         138          1.44\r\n",
            "\r\n",
            "Fig. 2. Multipoint LOD scores for HDL cholesterol on chro- mosome 6p21. HDL cholesterol was adjusted for age, gen- der, age-square, product of age and gender, product of age-square and gender, systolic BP, smoking and alcohol.\r\n",
            "\r\n",
            "D19S884        19p13          30          1.14\r\n",
            "\r\n",
            "*Includes adjustment for age, gender, systolic BP, smoking and alcohol.\r\n",
            "\r\n",
            "\n"
          ],
          "name": "stdout"
        }
      ]
    },
    {
      "cell_type": "markdown",
      "metadata": {
        "id": "5C9W9rCLdWqU",
        "colab_type": "text"
      },
      "source": [
        "Fig2가 표 중간에 삽입되어 있음\n",
        "-> 이중괄호[[]]로 표기"
      ]
    },
    {
      "cell_type": "code",
      "metadata": {
        "id": "nQYNPGWMd6HC",
        "colab_type": "code",
        "outputId": "3eaf222a-f776-425f-fc4a-c16f6bd4d9d5",
        "colab": {
          "base_uri": "https://localhost:8080/",
          "height": 93
        }
      },
      "source": [
        "re.findall(r'(Trait[A-Za-z 0-9.,%/;†±*\\r\\n\\(\\)\\=\\:\\-−＜\\[\\]]+)(.)(\\r\\n\\r\\n\\[)', N_giRaw)"
      ],
      "execution_count": 0,
      "outputs": [
        {
          "output_type": "execute_result",
          "data": {
            "text/plain": [
              "[('Trait     Marker at or Chromosome\\r\\n\\r\\nNear Peak Location\\r\\n\\r\\nPeak\\r\\n\\r\\nPosition\\r\\n\\r\\n(cM)\\r\\n\\r\\nMaximum\\r\\n\\r\\nLOD Score\\r\\n\\r\\nHDL\\r\\n\\r\\nD1S412         1q24          200          1.32 D6S1660        6p21           50          1.88 D12S354        12q23         138          1.44\\r\\n\\r\\n[Fig. 2. Multipoint LOD scores for HDL cholesterol on chromosome 6p21. HDL cholesterol was adjusted for age, gender, age-square, product of age and gender, product of age-square and gender, systolic BP, smoking and alcohol.]\\r\\n\\r\\nD19S884        19p13          30          1.14\\r\\n\\r\\n*Includes adjustment for age, gender, systolic BP, smoking and alcohol',\n",
              "  '.',\n",
              "  '\\r\\n\\r\\n[')]"
            ]
          },
          "metadata": {
            "tags": []
          },
          "execution_count": 226
        }
      ]
    },
    {
      "cell_type": "code",
      "metadata": {
        "id": "RbFZ-aspe9UX",
        "colab_type": "code",
        "colab": {}
      },
      "source": [
        "N_giRaw = re.sub(r'(Trait[A-Za-z 0-9.,%/;†±*\\r\\n\\(\\)\\=\\:\\-−＜\\[\\]]+)(.)(\\r\\n\\r\\n\\[)', r'[\\1\\2]\\3', N_giRaw)"
      ],
      "execution_count": 0,
      "outputs": []
    },
    {
      "cell_type": "code",
      "metadata": {
        "id": "w8NFVaxqfdd6",
        "colab_type": "code",
        "outputId": "d92a6cae-28a1-489a-faa4-4544bcdac35b",
        "colab": {
          "base_uri": "https://localhost:8080/",
          "height": 560
        }
      },
      "source": [
        "print(giRaw[14009:15150]) #Table6"
      ],
      "execution_count": 0,
      "outputs": [
        {
          "output_type": "stream",
          "text": [
            "Table 6. Loci for HDL cholesterol identified by genome-wide linkage scan\r\n",
            "\r\n",
            "Authors and year            Population           No. of families    No. of subjects      Selection criteria              Locus Seo et al           Asian (GENDISCAN   study)           95           1,002       None                  Chr   1q24\r\n",
            "\r\n",
            "Chr   6p21\r\n",
            "\r\n",
            "Chr   12q23 Chr   19p13\r\n",
            "\r\n",
            "Mahaney et al\r\n",
            " Mexican Americans                  10             472       None                   Chr   16q22-24\r\n",
            "\r\n",
            "2003\r\n",
            "\r\n",
            "Klos et al 2001      Rochester, MN, USA               232           1,484       None                  Chr 12, 17\r\n",
            "\r\n",
            "Peacock et al\r\n",
            "\r\n",
            "2001\r\n",
            "\r\n",
            "FHS, UHFTS, Minneapolis,\r\n",
            "\r\n",
            "MN, USA, ARIC\r\n",
            "\r\n",
            "101            1,027       None                   Chr 5p13.1, 13q, 13.2\r\n",
            "\r\n",
            "Almasy et al 1999    Mexican Americans                 10            477       None                  Chr 8, 15 Dastani et al 2006    French Cannadian                  13            362       Low HDL chol ( ＜ 5%)     Chr 4q31.21 FHS, Framingham Heart Study; UHFTS, Utah Health Family Tree Study; ARIC, ARIC, Forsyth County, NC, field centers of the Atherosclerosis Risk in Communities Study.\r\n",
            "\r\n",
            "\n"
          ],
          "name": "stdout"
        }
      ]
    },
    {
      "cell_type": "code",
      "metadata": {
        "id": "q8fJeWAcfz9W",
        "colab_type": "code",
        "outputId": "d259e1e3-33b7-47ea-d3d5-0596a29414b8",
        "colab": {
          "base_uri": "https://localhost:8080/",
          "height": 93
        }
      },
      "source": [
        "re.findall(r'(Authors[A-Za-z 0-9.,%/;†±*\\r\\n\\(\\)\\=\\:\\-−＜\\[\\]]+)(.)(\\r\\n\\r\\n)', N_giRaw)"
      ],
      "execution_count": 0,
      "outputs": [
        {
          "output_type": "execute_result",
          "data": {
            "text/plain": [
              "[('Authors and year            Population           No. of families    No. of subjects      Selection criteria              Locus Seo et al           Asian (GENDISCAN   study)           95           1,002       None                  Chr   1q24\\r\\n\\r\\nChr   6p21\\r\\n\\r\\nChr   12q23 Chr   19p13\\r\\n\\r\\nMahaney et al\\r\\n Mexican Americans                  10             472       None                   Chr   16q22-24\\r\\n\\r\\n2003\\r\\n\\r\\nKlos et al 2001      Rochester, MN, USA               232           1,484       None                  Chr 12, 17\\r\\n\\r\\nPeacock et al\\r\\n\\r\\n2001\\r\\n\\r\\nFHS, UHFTS, Minneapolis,\\r\\n\\r\\nMN, USA, ARIC\\r\\n\\r\\n101            1,027       None                   Chr 5p13.1, 13q, 13.2\\r\\n\\r\\nAlmasy et al 1999    Mexican Americans                 10            477       None                  Chr 8, 15 Dastani et al 2006    French Cannadian                  13            362       Low HDL chol ( ＜ 5%)     Chr 4q31.21 FHS, Framingham Heart Study; UHFTS, Utah Health Family Tree Study; ARIC, ARIC, Forsyth County, NC, field centers of the Atherosclerosis Risk in Communities Study',\n",
              "  '.',\n",
              "  '\\r\\n\\r\\n')]"
            ]
          },
          "metadata": {
            "tags": []
          },
          "execution_count": 237
        }
      ]
    },
    {
      "cell_type": "code",
      "metadata": {
        "id": "ZCcVMPzegAJG",
        "colab_type": "code",
        "colab": {}
      },
      "source": [
        "N_giRaw = re.sub(r'(Authors[A-Za-z 0-9.,%/;†±*\\r\\n\\(\\)\\=\\:\\-−＜\\[\\]]+)(.)(\\r\\n\\r\\n)', r'[\\1\\2]\\3', N_giRaw)"
      ],
      "execution_count": 0,
      "outputs": []
    },
    {
      "cell_type": "code",
      "metadata": {
        "id": "c7oKr6s6giKI",
        "colab_type": "code",
        "outputId": "beb61748-4371-42ef-fbc2-3daf0c12bc54",
        "colab": {
          "base_uri": "https://localhost:8080/",
          "height": 1000
        }
      },
      "source": [
        "print(giRaw[15150:]) #그 외 뒷부분 전체"
      ],
      "execution_count": 0,
      "outputs": [
        {
          "output_type": "stream",
          "text": [
            "-----------------------------------------------------Page 4-----------------------------------------------------\r\n",
            "﻿\f\r\n",
            "12 Genomics & Informatics Vol. 6(1) 8-13, March 2008\r\n",
            "\r\n",
            "age at similar region in the chromosome 12q23. This lo- cus is reported to be associated with variation in plas- ma apoA-I level. Given the fact that the subjects of oth- er studies were primarily of European and African ori- gins, whereas those in the present study were of Asian origin, the loci on the chromosome 1, 6, and 19 appear to be potential susceptibility loci for the variation of HDL cholesterol in our Asian ethnic group, with likely smaller effects for European and African American compared with Asian (Peacock et al . 2001; Almasy et al . 1999). Several candidate genes influencing HDL cholesterol variation, reside at chromosome 1q24 region. Microso- mal glutathione S-transferase 3 catalyzes glutathione- dependent peroxidase activity towards lipid hydro- peroxides (Mari and Cederbaum 2001). HDL cholesterol may be more rapidly oxidized than LDL in vivo. HDL is the principal vehicle for circulating plasma lipid hydro- peroxides (Bowry, Stanley, and Stocker 1992). A specific gene called SRY (sex determining region Y)-box 4 is lo- cated at chromosome 6p21 region. This gene encodes a member of the SOX (SRY-related HMG-box) family of transcription factors. It plays a major role in the regu- lation of embryonic development and may function in tumorigenesis as well. (Forwood, Harley, and Jans 2001). TRAF and TNF receptor-associated protein en- coded by TTRAP associates with CD40, tumor necrosis factor (TNF) receptor-75 and TNF receptor associated factors (TRAFs), and inhibit nuclear factor-kappa-B activation.\r\n",
            "\r\n",
            "We have found four loci for HDL cholesterol, covering a large portion of the genome. The genomic regions identified in this study need further studies involvinf fine mapping of these regions. The region is very large, en- compassing more than 3 cM of genetic length and con- taining between 3-5 megabases of DNA, with several genes. After genotyping at less than 1 cM intervals us- ing SNP chip and fidentifying the polymorphisms that are likely to have functional significance for HDL choles- terol variation, we can confirm the polymorphisms by association study.\r\n",
            "\r\n",
            "Several other genetic studies attempted to identify the genes contributing to HDL cholesterol variation. These studies focused on families with extreme HDL cholester- ol levels (Shoulders, Jones, and Naoumova 2004; Aoui- zerat et al . 1999). Our study as did some others, exam- ined families with members having serum HDL choles- terol within the normal range (Mahaney et al . 2003; Pajukanta et al . 2003; Arya et al . 2002). When homoge- nous populations are studied, environmental variations might be lower and the genetic makeup of these pop- ulations less complex (Coon et al . 2001). GENDISCAN study is the first and largest family study of Asian populations. The uniqueness of this study is that study\r\n",
            "\r\n",
            "subjects are members of large extended families in an isolated rural area, long exposed to similar environ- mental conditions. The component of the GENDISCAN study, we describe here, provides statistical support for linkage of the level of HDL cholesterol. It should provide the basis for identification of genetic polymorphism re- lated with lipid metabolism in Asian population.\r\n",
            "\r\n",
            "Acknowledgements\r\n",
            "\r\n",
            "We would like to thank all the individuals and their fami- lies for participation in this study. Korean government approved and has supported the pilot study, and phase I study (Ministry of Science and Technology, Grant # M10306030002-03B4803-00210). Total financial support from the government in 2006 was about 800,000 U.S. Dollars.\r\n",
            "\r\n",
            "References\r\n",
            "\r\n",
            "Almasy, L., et al . (1999). Human pedigree-based quantita- tive-trait-locus mapping: localization of two genes influ- encing HDL-cholesterol metabolism. Am. J. Human Ge- netics 64, 1686-1693.\r\n",
            "\r\n",
            "Aouizerat, B.E., et al . (1999). A genome scan for familial combined hyperlipidemia reveals evidence of linkage with a locus on chromosome 11. Am. J. Human Genetics 65, 397-412.\r\n",
            "\r\n",
            "Arya, R., et al . (2002). Linkage of high-density lip- oprotein-cholesterol concentrations to a locus on chro- mosome 9p in Mexican Americans. Nature Genetics 30, 102-105.\r\n",
            "\r\n",
            "Barcat, D., et al . (2006). Combined hyperlipidemia/hyper- alphalipoproteinemia associated with premature sponta- neous atherosclerosis in mice lacking hepatic lipase and low density lipoprotein receptor. Atherosclerosis 188, 347-355.\r\n",
            "\r\n",
            "Bowry, V.W., Stanley, K.K., and Stocker, R. (1992). high-density-lipoprotein is the major carrier of lipid hydro- peroxides in human blood-plasma from fasting donors. Proceedings of the National Academy of Sciences of the United States of America 89, 10316-10320.\r\n",
            "\r\n",
            "Brousseau, M.E., et al . (2004). Effects of an inhibitor of cholesteryl ester transfer protein on HDL cholesterol. N. Engl. J. Med. 350, 1505-1515.\r\n",
            "\r\n",
            "Coon, H., et al . (2001). Genome-wide linkage analysis of Hypertension Genetic Epidemiology Network (HyperGEN) Blood Pressure study. Arteriosclerosis Thrombosis and Vascular Biology 21, 1969-1976.\r\n",
            "\r\n",
            "Dastani, Z., et al . (2006). Genetics of high-density lipoproteins. Current Opinion in Cardiology 21, 329- 335. Forwood, J.K., Harley, V., and Jans, D.A. (2001). The C-ter- minal nuclear localization signal of the sex determining region Y (SRY) high mobility group domain mediates nu- clear import through beta 1. Journal of Biological Chemistry 276, 46575-46582.\r\n",
            "\r\n",
            "-----------------------------------------------------Page 5-----------------------------------------------------\r\n",
            "﻿\f\r\n",
            "Heath, S.C. (1997). Markov chain Monte Carlo segregation and linkage analysis for oligogenic models. American Journal of Human Genetics 61, 748-760.\r\n",
            "\r\n",
            "Imperatore, G., et al . (2000). A locus influencing total serum cholesterol on chromosome 19p - Results from an auto- somal genomic scan of serum lipid concentrations in Pima Indians. Arteriosclerosis Thrombosis and Vascular Biology 20, 2651-2656.\r\n",
            "\r\n",
            "Inazu, A., et al . (1994). Genetic cholesteryl ester transfer protein-deficiency caused by 2 prevalent mutations as a major determinant of increased levels of high-density- lip- oprotein cholesterol. Journal of Clinical Investigation 94, 1872-1882.\r\n",
            "\r\n",
            "Klos, K.L., et al . (2001). Genome-wide linkage analysis re- veals evidence of multiple regions that influence variation in plasma lipid and apolipoprotein levels associated with risk of coronary heart disease. Arteriosclerosis Thrombo- sis and Vascular Biology 21, 971-978.\r\n",
            "\r\n",
            "Kuivenhoven, J.A., et al . (1997). Heterogeneity at the CETP gene locus - Influence on plasma CETP concentrations and HDL cholesterol levels. Arteriosclerosis Thrombosis and Vascular Biology 17, 560-568.\r\n",
            "\r\n",
            "Mahaney, M.C., et al . (2003). A quantitative trait locus on chromosome 16q influences variation in plasma HDL-C levels in Mexican Americans. Arteriosclerosis Thrombosis and Vascular Biology 23, 339-345.\r\n",
            "\r\n",
            "Mari, M., and Cederbaum, A.I. (2001). Induction of catalase, alpha, and microsomal glutathione S-transferase in CYP2E1 overexpressing HepG2 cells and protection\r\n",
            "\r\n",
            "Genetic Determinants of HDL Cholesterol    13\r\n",
            "\r\n",
            "against short-term oxidative stress. Hepatology 33, 652-661.\r\n",
            "\r\n",
            "Mcpeek, M.S., and Sun, L. (2000). Statistical tests for de- tection of misspecified relationships by use of genome- screen data. American Journal of Human Genetics 66, 1076-1094.\r\n",
            "\r\n",
            "Pajukanta, P., et al . (2003). Combined analysis of genome scans of Dutch and Finnish families reveals a suscepti- bility locus for high-density lipoprotein cholesterol on chromosome 16q. American Journal of Human Genetics 72, 903-917.\r\n",
            "\r\n",
            "Peacock, J.M., et al . (2001). Genome scan for quantitative trait loci linked to high-density lipoprotein cholesterol - The NHLBI family heart study. Arteriosclerosis Thrombo- sis and Vascular Biology 21, 1823-1828.\r\n",
            "\r\n",
            "Shoulders, C.C., Jones, E.L., and Naoumova, R.P. (2004). Genetics of familial combined hyperlipidemia and risk of coronary heart disease. Human Molecular Genetics 13, R149-R160.\r\n",
            "\r\n",
            "Wang, X.S., and Paigen, B. (2005). Genome-wide search for new genes controlling plasma lipid concentrations in mice and humans. Current Opinion in Lipidology 16, 127-137.\r\n",
            "\r\n",
            "Yamashita, S., et al . (2000). Molecular mechanisms, lip- oprotein abnormalities and atherogenicity of hyperalphali- poproteinemia. Atherosclerosis 152, 271-285.\r\n",
            "\r\n",
            "Yancey, P.G., et al . (2003). Importance of different path- ways of cellular cholesterol efflux. Arteriosclerosis Throm- bosis and Vascular Biology 23, 712-719.\r\n",
            "\r\n",
            "-----------------------------------------------------Page 6-----------------------------------------------------\r\n",
            "\n"
          ],
          "name": "stdout"
        }
      ]
    },
    {
      "cell_type": "markdown",
      "metadata": {
        "id": "tZyGN9Qyh9j2",
        "colab_type": "text"
      },
      "source": [
        "'Several candidate' 부터 문단의 줄바꿈 표시\n",
        "\n",
        "'subject are'로 넘어가는 부분에 문단이 바뀌지 않았는데 줄바꿈 표시가 삽입되어 있음"
      ]
    },
    {
      "cell_type": "code",
      "metadata": {
        "id": "xQCihP7ahJDm",
        "colab_type": "code",
        "outputId": "1cd1732e-d6e2-4e5a-c25a-b0e1b4a17be3",
        "colab": {
          "base_uri": "https://localhost:8080/",
          "height": 36
        }
      },
      "source": [
        "re.findall('Several candidate', N_giRaw)"
      ],
      "execution_count": 0,
      "outputs": [
        {
          "output_type": "execute_result",
          "data": {
            "text/plain": [
              "['Several candidate']"
            ]
          },
          "metadata": {
            "tags": []
          },
          "execution_count": 241
        }
      ]
    },
    {
      "cell_type": "code",
      "metadata": {
        "id": "tEVDX7yvhagG",
        "colab_type": "code",
        "colab": {}
      },
      "source": [
        "N_giRaw = re.sub(r'(Several candidate)', r'\\r\\n\\r\\n\\1', N_giRaw)"
      ],
      "execution_count": 0,
      "outputs": []
    },
    {
      "cell_type": "code",
      "metadata": {
        "id": "_cSHsFT6hmnV",
        "colab_type": "code",
        "outputId": "71082739-4302-4e66-da0c-889a8990d132",
        "colab": {
          "base_uri": "https://localhost:8080/",
          "height": 36
        }
      },
      "source": [
        "re.findall('[\\r\\n]+subjects are', N_giRaw)"
      ],
      "execution_count": 0,
      "outputs": [
        {
          "output_type": "execute_result",
          "data": {
            "text/plain": [
              "['\\r\\n\\r\\nsubjects are']"
            ]
          },
          "metadata": {
            "tags": []
          },
          "execution_count": 244
        }
      ]
    },
    {
      "cell_type": "code",
      "metadata": {
        "id": "OxMKuTVshv3n",
        "colab_type": "code",
        "colab": {}
      },
      "source": [
        "N_giRaw = re.sub(r'[\\r\\n]+subjects are', r' subjects are', N_giRaw)"
      ],
      "execution_count": 0,
      "outputs": []
    },
    {
      "cell_type": "markdown",
      "metadata": {
        "id": "4iCWSasci5uS",
        "colab_type": "text"
      },
      "source": [
        "문단 띄우기 교정 필요"
      ]
    },
    {
      "cell_type": "code",
      "metadata": {
        "id": "qPe0f_ZqjF-K",
        "colab_type": "code",
        "outputId": "7abd3ccc-8e3f-4bcc-8da1-ada208a1f08a",
        "colab": {
          "base_uri": "https://localhost:8080/",
          "height": 1000
        }
      },
      "source": [
        "re.findall(r'[\\r\\n]{3,}', N_giRaw)"
      ],
      "execution_count": 0,
      "outputs": [
        {
          "output_type": "execute_result",
          "data": {
            "text/plain": [
              "['\\r\\n\\r\\n',\n",
              " '\\r\\n\\r\\n',\n",
              " '\\r\\n\\r\\n',\n",
              " '\\r\\n\\r\\n',\n",
              " '\\r\\n\\r\\n',\n",
              " '\\r\\n\\r\\n',\n",
              " '\\r\\n\\r\\n',\n",
              " '\\r\\n\\r\\n',\n",
              " '\\r\\n\\r\\n',\n",
              " '\\r\\n\\r\\n',\n",
              " '\\r\\n\\r\\n',\n",
              " '\\r\\n\\r\\n',\n",
              " '\\r\\n\\r\\n',\n",
              " '\\r\\n\\r\\n',\n",
              " '\\r\\n\\r\\n\\r\\n',\n",
              " '\\r\\n\\r\\n',\n",
              " '\\r\\n\\r\\n',\n",
              " '\\r\\n\\r\\n',\n",
              " '\\r\\n\\r\\n',\n",
              " '\\r\\n\\r\\n',\n",
              " '\\r\\n\\r\\n',\n",
              " '\\r\\n\\r\\n',\n",
              " '\\r\\n\\r\\n',\n",
              " '\\r\\n\\r\\n',\n",
              " '\\r\\n\\r\\n',\n",
              " '\\r\\n\\r\\n',\n",
              " '\\r\\n\\r\\n',\n",
              " '\\r\\n\\r\\n',\n",
              " '\\r\\n\\r\\n',\n",
              " '\\r\\n\\r\\n',\n",
              " '\\r\\n\\r\\n',\n",
              " '\\r\\n\\r\\n',\n",
              " '\\r\\n\\r\\n',\n",
              " '\\r\\n\\r\\n',\n",
              " '\\r\\n\\r\\n',\n",
              " '\\r\\n\\r\\n',\n",
              " '\\r\\n\\r\\n',\n",
              " '\\r\\n\\r\\n',\n",
              " '\\r\\n\\r\\n',\n",
              " '\\r\\n\\r\\n',\n",
              " '\\r\\n\\r\\n',\n",
              " '\\r\\n\\r\\n',\n",
              " '\\r\\n\\r\\n',\n",
              " '\\r\\n\\r\\n',\n",
              " '\\r\\n\\r\\n\\r\\n',\n",
              " '\\r\\n\\r\\n',\n",
              " '\\r\\n\\r\\n',\n",
              " '\\r\\n\\r\\n',\n",
              " '\\r\\n\\r\\n\\r\\n',\n",
              " '\\r\\n\\r\\n',\n",
              " '\\r\\n\\r\\n',\n",
              " '\\r\\n\\r\\n',\n",
              " '\\r\\n\\r\\n',\n",
              " '\\r\\n\\r\\n',\n",
              " '\\r\\n\\r\\n',\n",
              " '\\r\\n\\r\\n',\n",
              " '\\r\\n\\r\\n',\n",
              " '\\r\\n\\r\\n',\n",
              " '\\r\\n\\r\\n',\n",
              " '\\r\\n\\r\\n',\n",
              " '\\r\\n\\r\\n',\n",
              " '\\r\\n\\r\\n',\n",
              " '\\r\\n\\r\\n',\n",
              " '\\r\\n\\r\\n',\n",
              " '\\r\\n\\r\\n',\n",
              " '\\r\\n\\r\\n',\n",
              " '\\r\\n\\r\\n',\n",
              " '\\r\\n\\r\\n',\n",
              " '\\r\\n\\r\\n',\n",
              " '\\r\\n\\r\\n',\n",
              " '\\r\\n\\r\\n',\n",
              " '\\r\\n\\r\\n',\n",
              " '\\r\\n\\r\\n',\n",
              " '\\r\\n\\r\\n',\n",
              " '\\r\\n\\r\\n',\n",
              " '\\r\\n\\r\\n',\n",
              " '\\r\\n\\r\\n',\n",
              " '\\r\\n\\r\\n',\n",
              " '\\r\\n\\r\\n',\n",
              " '\\r\\n\\r\\n\\r\\n',\n",
              " '\\r\\n\\r\\n',\n",
              " '\\r\\n\\r\\n',\n",
              " '\\r\\n\\r\\n',\n",
              " '\\r\\n\\r\\n',\n",
              " '\\r\\n\\r\\n',\n",
              " '\\r\\n\\r\\n',\n",
              " '\\r\\n\\r\\n',\n",
              " '\\r\\n\\r\\n',\n",
              " '\\r\\n\\r\\n',\n",
              " '\\r\\n\\r\\n',\n",
              " '\\r\\n\\r\\n',\n",
              " '\\r\\n\\r\\n',\n",
              " '\\r\\n\\r\\n',\n",
              " '\\r\\n\\r\\n',\n",
              " '\\r\\n\\r\\n',\n",
              " '\\r\\n\\r\\n\\r\\n',\n",
              " '\\r\\n\\r\\n',\n",
              " '\\r\\n\\r\\n',\n",
              " '\\r\\n\\r\\n',\n",
              " '\\r\\n\\r\\n',\n",
              " '\\r\\n\\r\\n',\n",
              " '\\r\\n\\r\\n',\n",
              " '\\r\\n\\r\\n',\n",
              " '\\r\\n\\r\\n',\n",
              " '\\r\\n\\r\\n',\n",
              " '\\r\\n\\r\\n',\n",
              " '\\r\\n\\r\\n',\n",
              " '\\r\\n\\r\\n',\n",
              " '\\r\\n\\r\\n',\n",
              " '\\r\\n\\r\\n',\n",
              " '\\r\\n\\r\\n',\n",
              " '\\r\\n\\r\\n\\r\\n']"
            ]
          },
          "metadata": {
            "tags": []
          },
          "execution_count": 247
        }
      ]
    },
    {
      "cell_type": "code",
      "metadata": {
        "id": "LnIy6a9gjIui",
        "colab_type": "code",
        "colab": {}
      },
      "source": [
        "N_giRaw = re.sub(r'[\\r\\n]{3,}', '\\r\\n\\r\\n', N_giRaw)"
      ],
      "execution_count": 0,
      "outputs": []
    },
    {
      "cell_type": "code",
      "metadata": {
        "id": "Pi500F1YjK5Q",
        "colab_type": "code",
        "outputId": "2333844e-89f0-4113-e286-ced48c40a5f6",
        "colab": {
          "base_uri": "https://localhost:8080/",
          "height": 111
        }
      },
      "source": [
        "re.findall(r'\\r\\n\\r\\n\\ufeff\\x0c\\r\\n', N_giRaw)"
      ],
      "execution_count": 0,
      "outputs": [
        {
          "output_type": "execute_result",
          "data": {
            "text/plain": [
              "['\\r\\n\\r\\n\\ufeff\\x0c\\r\\n',\n",
              " '\\r\\n\\r\\n\\ufeff\\x0c\\r\\n',\n",
              " '\\r\\n\\r\\n\\ufeff\\x0c\\r\\n',\n",
              " '\\r\\n\\r\\n\\ufeff\\x0c\\r\\n',\n",
              " '\\r\\n\\r\\n\\ufeff\\x0c\\r\\n']"
            ]
          },
          "metadata": {
            "tags": []
          },
          "execution_count": 249
        }
      ]
    },
    {
      "cell_type": "code",
      "metadata": {
        "id": "WO-4aMhQjORt",
        "colab_type": "code",
        "colab": {}
      },
      "source": [
        "N_giRaw = re.sub(r'\\r\\n\\r\\n\\ufeff\\x0c\\r\\n', '\\r\\n\\r\\n', N_giRaw)"
      ],
      "execution_count": 0,
      "outputs": []
    },
    {
      "cell_type": "code",
      "metadata": {
        "id": "cR1jQ8XIjPl4",
        "colab_type": "code",
        "outputId": "27a4898c-af5d-4838-9606-ef82396d5f8b",
        "colab": {
          "base_uri": "https://localhost:8080/",
          "height": 36
        }
      },
      "source": [
        "re.findall(r'\\.\\n', N_giRaw)"
      ],
      "execution_count": 0,
      "outputs": [
        {
          "output_type": "execute_result",
          "data": {
            "text/plain": [
              "['.\\n']"
            ]
          },
          "metadata": {
            "tags": []
          },
          "execution_count": 259
        }
      ]
    },
    {
      "cell_type": "code",
      "metadata": {
        "id": "-f4FN6fakUgE",
        "colab_type": "code",
        "colab": {}
      },
      "source": [
        "N_giRaw = re.sub(r'\\.\\n', '\\.\\r\\n\\r\\n', N_giRaw)"
      ],
      "execution_count": 0,
      "outputs": []
    },
    {
      "cell_type": "markdown",
      "metadata": {
        "id": "2DMtCQHhvlWg",
        "colab_type": "text"
      },
      "source": [
        "\n",
        "\n",
        "---\n",
        "최종 text\n"
      ]
    },
    {
      "cell_type": "code",
      "metadata": {
        "id": "Fix8lSN80PMu",
        "colab_type": "code",
        "outputId": "7ea9d7a9-9cf7-4997-b567-43a086d8af34",
        "colab": {
          "base_uri": "https://localhost:8080/",
          "height": 1000
        }
      },
      "source": [
        "print(N_giRaw)"
      ],
      "execution_count": 0,
      "outputs": [
        {
          "output_type": "stream",
          "text": [
            "<Genomics & Informatics   Vol. 6(1) 8-13, March 2008>\r\n",
            "\r\n",
            "Genome-wide Linkage Study for Plasma HDL Cholesterol Level in an Isolated Population of Mongolia\r\n",
            "\r\n",
            "Hansoo Park 1 , Jong-Il Kim 1,2 , Sung-Il Cho 3 , Joohon Sung 3 , Hyung-Lae Kim 4 , Young Seok Ju 1 , Gombojav Bayasgalan 5 , Mi-Kyeong Lee 2 and Jeong-Sun Seo 1,6 *\r\n",
            "\r\n",
            "1 Department of Biochemistry and Molecular Biology, Seoul National University College of Medicine, Seoul110-799, Korea, 2Psoma Therapeutics Inc., Seoul 110-799, Korea, 3Seoul National University School of Public Health, Seoul 110-799, Korea, 4 Ewha Womans University, Seoul 120-750, Korea, 5Yonsei University College of Medicine, 6Macrogen Inc., Seoul 153-023, Korea\r\n",
            "\r\n",
            "Abstract\r\n",
            "\r\n",
            "High-density lipoprotein (HDL) whose primary role is to transport cholesterol from peripheral tissues to the liver, is associated with the incidence of coronary heart disease. We analyzed HDL cholesterol levels in a genetically isolated population of extended Mongolian families. A total of 1002 individuals (54.5% women) from 95 families were enrolled. After genotyping by use of 1000 microsatellite markers, we performed a genome-wide linkage search with variance component analysis. The estimated heritability of HDL cholesterol was 0.45, revealing that HDL cholesterol was under significant genetic influence. We found peak evidence of linkage (LOD score=1.88) for HDL cholesterol level on chromosome 6 (nearest marker D6S1660 ) and potential evidences for linkage on chromosomes 1, 12 and 19 with the LOD scores of 1.32, 1.44 and 1.14, respectively. These results should pave the way for the discovery of the relevant genes by fine mapping and association analysis.\r\n",
            "\r\n",
            "Keywords: chromosome, genome-wide linkage search, heritability, HDL cholesterol\r\n",
            "\r\n",
            "Introduction\r\n",
            "\r\n",
            "Cholesterol is a major part of cell membranes. Cholesterol is carried in the blood by chylomicrons, very low density lipoproteins (VLDL), high density lipoproteins (HDL) and low density lipoproteins (LDL) (Dastani et al . 2006). HDL cholesterol is reversely associated with car-\r\n",
            "\r\n",
            "(*Corresponding author: E-mail jeongsun@snu.ac.kr Tel +82-2-764-9444, Fax +82-2-740-4534 Accepted 14 March 2008)\r\n",
            "\r\n",
            "diovascular disease, and is more tightly controlled by genetic factors than the other lipoproteins such as LDL, VLDL and chylomicrons. Environmental factors including chronic alcoholism, estrogen replacement therapy, and exercise influence the levels of HDL cholesterol. Several families with strikingly elevated HDL cholesterol levels have been identified. HDL cholesterol levels are higher in blacks compared with whites and HDL cholesterol levels of females are higher than those of males (Barcat et al . 2006; Brousseau et al . 2004; Yamashita et al . 2000; Imperatore et al . 2000).\r\n",
            "\r\n",
            "Candidate gene analysis using population-based case-control studies has been used to test the association between SNPs and HDL cholesterol levels. Among the candidate genes selected mainly from lipid metabolism pathways, ApoA-I gene is the one most intensively studied (Inazu et al . 1994; Kuivenhoven et al . 1997). By genome-wide linkage analysis, susceptibility genes can be identified although the genes are not candidates based on lipid metabolism. Genome-wide linkage scans are conducted by use of microsatellite markers to identify genetic determinants affecting the traits (Wang and Paigen 2005). Using HDL cholesterol levels as either discrete or quantitative trait, several linkage studies on genetic determinants of HDL cholesterol have been reported (Yancey et al . 2003). Genetic effects on the variations in HDL cholesterol were studied mainly in Caucasians and Africans thus far, and little attention has been focused in this regard on Asian populations. We found suggestive evidence for linkage for HDL cholesterol on chromosome 6, 1, 12 and 19, in studies conducted as part of GENDISCAN study, a large epidemiological study of Complex traits in geographically, culturally and genetically isolated large Mongolian families l in Dornod, Mongolia report.\r\n",
            "\r\n",
            "Methods\r\n",
            "\r\n",
            "Subjects, medical histories, genotyping, and measurement of HDL cholesterol\r\n",
            "\r\n",
            "We analyzed data from 1002 Mongolian individuals from 95 large extended families. Informed consent was obtained from all subjects prior to participation and the protocol was approved by the Institutional Review Board at Seoul National University. Potentially confounding variables were assessed for each participant along with overall medical history. Information on age,\r\n",
            "\r\n",
            "gender and anthropometry (height, weight, waist circumference, hip circumference and body fat content) were obtained for each individual. Height in centimeter (cm) and weight in kilograms (kg) were measured using an automatic measuring instrument (IMI 1000, Immanuel Elec., Korea). Body mass index (BMI) was calculated in kg/m2. Waist circumference was measured to the nearest centimeter at the level of the umbilicus, and hip circumference was measured at the level of the maximal circumference of the gluteus. All other variables were collected through interviews performed by trained interviewers. Information about amount of alcohol and smoking was also obtained from all the participants\\.\r\n",
            "\r\n",
            "All the subjects were asked to fast for 12 hours before\r\n",
            "\r\n",
            "[Table 1. Baseline demographic characteristics of the study population]\r\n",
            "\r\n",
            "[Characteristics                     Value\r\n",
            "\r\n",
            "No. of families                                 95 Mean±SD no. of family members             15.68±12.44 No. of genotyped subjects                      1,002 Mean±SD age (in years)                    30.63±15.36 Percentage female (%)                          54.5 Total cholesterol (mg/dl)                    159.82±37.19 HDL (mg/dl)                               55.19±11.95 LDL (mg/dl)                               90.51±28.79 Triglyceride (mg/dl)                         63.30±29.93 Height (cm)                              155.78±11.11 Weight (kg)                                57.95±15.55\r\n",
            "\r\n",
            "2\r\n",
            "\r\n",
            "Waist circumference                        78.17±12.71 Hip circumference                          92.73±11.25 Fasting glucose (mg/dl)                      93.87±11.85 Insulin                                     8.54±4.10 Alcohol (%)*                               151 (14.7)\r\n",
            "\r\n",
            "Smoking (%)   †                        221 (21.19)\r\n",
            "\r\n",
            "*Habitual alcohol intake (in %; No=0 and Yes=1).   † Current\r\n",
            "\r\n",
            "smoker (in %; No=0 and Yes=1).]\r\n",
            "\r\n",
            "[Table 2. Pedigree characteristics of the study population]\r\n",
            "\r\n",
            "[Characteristics                     Value\r\n",
            "\r\n",
            "No. of study pairs of :\r\n",
            "\r\n",
            "Parent-offspring                               1,812 Full-sib pairs                                  734 Sisters                                      198 Brothers                                    167 Brother and sister                            369 Half-sib pairs                                  395 Grandparent-grandchild pairs                    1,202 Avuncular pairs                                888 First-cousin pairs                               598]\r\n",
            "\r\n",
            "<Genetic Determinants of HDL Cholesterol    9>\r\n",
            "\r\n",
            "their visit. Blood samples were collected from an antecubital vein into vacutainer tubes containing EDTA. Blood samples were centrifuged at 3000 rpm for 10 minutes and then stored at −70'C. DNA was isolated from lymphocytes for polymerase chain reaction (PCR) and automated genotyping. A 10 ml blood sample was collected from each participating individual for genomic DNA extraction. DNA was extracted from peripheral lymphocytes using the PUREGENE DNA Purification Kit for whole blood (Gentra Systems Inc, USA). For genotyping, a set of 1000 microsatellite markers deCODE mapping sets (deCODE genetics, USA) was used covering the genome at an average density of 3 centimorgans (cM). HDL cholesterol was measured by the enzymatic method using Cholestest-N-HDL kit (DAICHI, JAPAN) and HITACHI 7600-210 & HITACHI 7180 instruments. Extensive quality control procedures ensured the validity and reproducibility of the measurements.\r\n",
            "\r\n",
            "Statistical analyses, heritability estimation, and variance component linkage analysis\r\n",
            "\r\n",
            "Multiple linear regression analysis was used by PC SAS\r\n",
            "\r\n",
            "[Table 3. Relationships between baseline characteristics and HDL cholesterol]\r\n",
            "\r\n",
            "[Characteristics               Pearson correlation\r\n",
            "\r\n",
            "coefficients* Age                                      0.022 (0.46) Systolic BP                               0.008 (0.77) Alcohol                                 − 0.005 (0.86) Mean values (SD)\r\n",
            "\r\n",
            "Gender (t-test)*                              ＜ .0001 Women (544)                          56.88±11.98 Men (458)                            53.38±11.67\r\n",
            "\r\n",
            "Smoking status (t-test)   †                   0.045\r\n",
            "\r\n",
            "Yes                                 53.72±11.79 No                                 55.54±11.98\r\n",
            "\r\n",
            "*p values reflect test of subgroup differences (women ver-\r\n",
            "\r\n",
            "sus men). †   p values reflect test of subgroup differences\r\n",
            "\r\n",
            "(Smoking yes versus no).]\r\n",
            "\r\n",
            "[Table 4. Heritability of HDL]\r\n",
            "\r\n",
            "[Parameters                      Value\r\n",
            "\r\n",
            "Fully adjusted Heritability*                       0.45 p-value                                     ＜ .0001 Kurtosis                                      0.59\r\n",
            "\r\n",
            "*Includes adjustment for age, gender, systolic BP, smoking and alcohol.]\r\n",
            "\r\n",
            "<10 Genomics & Informatics Vol. 6(1) 8-13, March 2008>\r\n",
            "\r\n",
            "version 8.2 and PC SPSS version 12 to account for effect of confounding variables. Pedigree data was managed by PedSys (Southwest Foundation for Biomedical Research, San Antonio, Texas, USA). Nonpaternity was examined using PEDCHECK (Mcpeek and Sun 2000) and relationships other than paternity were checked using average IBD-based method by PREST. After correcting pedigree error and Mendelian errors, non-mendelian errors were examined and corrected using SimWalk. Identity by descent (IBD) matrix between every relationship pairs in family was calculated and IBD matrix for single marker was calculated by SOLAR (Sequential Oligogenic Linkage Analysis Routines software version 2.1.4). Multipoint IBD matrices were computed on every 1 cM distance using Markov chain Monte Carlo method by LOKI (Heath 1997).\r\n",
            "\r\n",
            "Genetic components of selected phenotypes were estimated in terms of heritability. Narrow sense heritability, defined as the proportion of total phenotypic variation due to additive genetic effects, was calculated. Heritability of HDL cholesterol adjusted for age, gender, agesquare, product of age and gender, product of agesquare and gender, systolic BP, smoking and alcohol was estimated and a variance component linkage analysis was carried out by SOLAR which uses maximum likelihood methods to estimate variance components for the polygenic genetic effect and random individual environmental effects.\r\n",
            "\r\n",
            "[Fig. 1. Multipoint variance component linkage analyses for HDL cholesterol. The X axis represents the genetic location according to the deCODE genetic map and the Y axis represents the multipoint LOD score. HDL cholesterol was adjusted for age, gender, agesquare, product of age and gender, product of age-square and gender, systolic BP, smoking and alcohol.]\r\n",
            "\r\n",
            "Results and Discussion\r\n",
            "\r\n",
            "The mean age of the 1002 individuals was 31 years and 54.5% of them were female. Demographic and pedigree characteristics of the study sample are shown in Table 1. The family size had a mean of 16. Table 2 included information on 2546 pairs of first degree relatives (1812 parent-offspring pairs and 734 full-sib pairs), 2485 pairs of their second degree relatives (395 half-sibling pairs, 1202 grandparent-grandchild pairs, and 888 avuncular pairs), and 598 first-cousin pairs. Means of their total cholesterol, HDL cholesterol, LDL cholesterol, and triglyceride were 159.82 mg/dl, 55.19 mg/dl, 90.51 mg/dl,\r\n",
            "\r\n",
            "<Genetic Determinants of HDL Cholesterol    11>\r\n",
            "\r\n",
            "and 63.30 mg/dl, respectively. Table 3 shows correlation between HDL cholesterol and covariates such as age, gender, systolic blood pressure, alcohol consumption status, and smoking status. These parameters were used as covariates in the variance component analysis which provided multivariable adjusted heritability estimates for HDL cholesterol of 0.45 (Table 4). The peak multipoint LOD score was 1.88 on 6p21 (nearest marker D6S1660) and a secondary peak (LOD score of 1.44) was found on 12q23 (nearest marker D12S354). We identified other potential evidence for linkage in the LOD score of 1.32 on 1q24 (nearest marker D1S412) and a LOD score of 1.14 at 19p13 (nearest marker D19S884) (Fig. 1, 2). Table 5 presents all LOD scores ＞ 1.0 for HDL cholesterol.\r\n",
            "\r\n",
            "We identified potential evidence of linkage on several chromosomes. In other genome scan, a weak linkage signal for HDL cholesterol was observed for regions that overlapped slightly with the regions identified herein. Klos et al . reported the appearance of peak position in the chromosome 12q in European American population (Klos et al . 2001) (Table 6). We found evidence of link-\r\n",
            "\r\n",
            "[Table 5. LOD scores], chromosomal locations, and nearest marker data for all LOD scores ＞ 1.00*\r\n",
            "\r\n",
            "[Trait     Marker at or Chromosome\r\n",
            "\r\n",
            "Near Peak Location\r\n",
            "\r\n",
            "Peak\r\n",
            "\r\n",
            "Position\r\n",
            "\r\n",
            "(cM)\r\n",
            "\r\n",
            "Maximum\r\n",
            "\r\n",
            "LOD Score\r\n",
            "\r\n",
            "HDL\r\n",
            "\r\n",
            "D1S412         1q24          200          1.32 D6S1660        6p21           50          1.88 D12S354        12q23         138          1.44\r\n",
            "\r\n",
            "[Fig. 2. Multipoint LOD scores for HDL cholesterol on chromosome 6p21. HDL cholesterol was adjusted for age, gender, age-square, product of age and gender, product of age-square and gender, systolic BP, smoking and alcohol.]\r\n",
            "\r\n",
            "D19S884        19p13          30          1.14\r\n",
            "\r\n",
            "*Includes adjustment for age, gender, systolic BP, smoking and alcohol.]\r\n",
            "\r\n",
            "[Table 6. Loci for HDL cholesterol identified by genome]-wide linkage scan\r\n",
            "\r\n",
            "[Authors and year            Population           No. of families    No. of subjects      Selection criteria              Locus Seo et al           Asian (GENDISCAN   study)           95           1,002       None                  Chr   1q24\r\n",
            "\r\n",
            "Chr   6p21\r\n",
            "\r\n",
            "Chr   12q23 Chr   19p13\r\n",
            "\r\n",
            "Mahaney et al\r\n",
            " Mexican Americans                  10             472       None                   Chr   16q22-24\r\n",
            "\r\n",
            "2003\r\n",
            "\r\n",
            "Klos et al 2001      Rochester, MN, USA               232           1,484       None                  Chr 12, 17\r\n",
            "\r\n",
            "Peacock et al\r\n",
            "\r\n",
            "2001\r\n",
            "\r\n",
            "FHS, UHFTS, Minneapolis,\r\n",
            "\r\n",
            "MN, USA, ARIC\r\n",
            "\r\n",
            "101            1,027       None                   Chr 5p13.1, 13q, 13.2\r\n",
            "\r\n",
            "Almasy et al 1999    Mexican Americans                 10            477       None                  Chr 8, 15 Dastani et al 2006    French Cannadian                  13            362       Low HDL chol ( ＜ 5%)     Chr 4q31.21 FHS, Framingham Heart Study; UHFTS, Utah Health Family Tree Study; ARIC, ARIC, Forsyth County, NC, field centers of the Atherosclerosis Risk in Communities Study.]\r\n",
            "\r\n",
            "<12 Genomics & Informatics Vol. 6(1) 8-13, March 2008>\r\n",
            "\r\n",
            "age at similar region in the chromosome 12q23. This locus is reported to be associated with variation in plasma apoA-I level. Given the fact that the subjects of other studies were primarily of European and African origins, whereas those in the present study were of Asian origin, the loci on the chromosome 1, 6, and 19 appear to be potential susceptibility loci for the variation of HDL cholesterol in our Asian ethnic group, with likely smaller effects for European and African American compared with Asian (Peacock et al . 2001; Almasy et al . 1999). \r\n",
            "\r\n",
            "Several candidate genes influencing HDL cholesterol variation, reside at chromosome 1q24 region. Microsomal glutathione S-transferase 3 catalyzes glutathionedependent peroxidase activity towards lipid hydroperoxides (Mari and Cederbaum 2001). HDL cholesterol may be more rapidly oxidized than LDL in vivo. HDL is the principal vehicle for circulating plasma lipid hydroperoxides (Bowry, Stanley, and Stocker 1992). A specific gene called SRY (sex determining region Y)-box 4 is located at chromosome 6p21 region. This gene encodes a member of the SOX (SRY-related HMG-box) family of transcription factors. It plays a major role in the regulation of embryonic development and may function in tumorigenesis as well. (Forwood, Harley, and Jans 2001). TRAF and TNF receptor-associated protein encoded by TTRAP associates with CD40, tumor necrosis factor (TNF) receptor-75 and TNF receptor associated factors (TRAFs), and inhibit nuclear factor-kappa-B activation.\r\n",
            "\r\n",
            "We have found four loci for HDL cholesterol, covering a large portion of the genome. The genomic regions identified in this study need further studies involvinf fine mapping of these regions. The region is very large, encompassing more than 3 cM of genetic length and containing between 3-5 megabases of DNA, with several genes. After genotyping at less than 1 cM intervals using SNP chip and fidentifying the polymorphisms that are likely to have functional significance for HDL cholesterol variation, we can confirm the polymorphisms by association study.\r\n",
            "\r\n",
            "Several other genetic studies attempted to identify the genes contributing to HDL cholesterol variation. These studies focused on families with extreme HDL cholesterol levels (Shoulders, Jones, and Naoumova 2004; Aouizerat et al . 1999). Our study as did some others, examined families with members having serum HDL cholesterol within the normal range (Mahaney et al . 2003; Pajukanta et al . 2003; Arya et al . 2002). When homogenous populations are studied, environmental variations might be lower and the genetic makeup of these populations less complex (Coon et al . 2001). GENDISCAN study is the first and largest family study of Asian populations. The uniqueness of this study is that study subjects are members of large extended families in an isolated rural area, long exposed to similar environmental conditions. The component of the GENDISCAN study, we describe here, provides statistical support for linkage of the level of HDL cholesterol. It should provide the basis for identification of genetic polymorphism related with lipid metabolism in Asian population.\r\n",
            "\r\n",
            "Acknowledgements\r\n",
            "\r\n",
            "We would like to thank all the individuals and their families for participation in this study. Korean government approved and has supported the pilot study, and phase I study (Ministry of Science and Technology, Grant # M10306030002-03B4803-00210). Total financial support from the government in 2006 was about 800,000 U.S. Dollars.\r\n",
            "\r\n",
            "References\r\n",
            "\r\n",
            "Almasy, L., et al . (1999). Human pedigree-based quantitative-trait-locus mapping: localization of two genes influencing HDL-cholesterol metabolism. Am. J. Human Genetics 64, 1686-1693.\r\n",
            "\r\n",
            "Aouizerat, B.E., et al . (1999). A genome scan for familial combined hyperlipidemia reveals evidence of linkage with a locus on chromosome 11. Am. J. Human Genetics 65, 397-412.\r\n",
            "\r\n",
            "Arya, R., et al . (2002). Linkage of high-density lipoprotein-cholesterol concentrations to a locus on chromosome 9p in Mexican Americans. Nature Genetics 30, 102-105.\r\n",
            "\r\n",
            "Barcat, D., et al . (2006). Combined hyperlipidemia/hyperalphalipoproteinemia associated with premature spontaneous atherosclerosis in mice lacking hepatic lipase and low density lipoprotein receptor. Atherosclerosis 188, 347-355.\r\n",
            "\r\n",
            "Bowry, V.W., Stanley, K.K., and Stocker, R. (1992). high-density-lipoprotein is the major carrier of lipid hydroperoxides in human blood-plasma from fasting donors. Proceedings of the National Academy of Sciences of the United States of America 89, 10316-10320.\r\n",
            "\r\n",
            "Brousseau, M.E., et al . (2004). Effects of an inhibitor of cholesteryl ester transfer protein on HDL cholesterol. N. Engl. J. Med. 350, 1505-1515.\r\n",
            "\r\n",
            "Coon, H., et al . (2001). Genome-wide linkage analysis of Hypertension Genetic Epidemiology Network (HyperGEN) Blood Pressure study. Arteriosclerosis Thrombosis and Vascular Biology 21, 1969-1976.\r\n",
            "\r\n",
            "Dastani, Z., et al . (2006). Genetics of high-density lipoproteins. Current Opinion in Cardiology 21, 329335. Forwood, J.K., Harley, V., and Jans, D.A. (2001). The C-terminal nuclear localization signal of the sex determining region Y (SRY) high mobility group domain mediates nuclear import through beta 1. Journal of Biological Chemistry 276, 46575-46582.\r\n",
            "\r\n",
            "Heath, S.C. (1997). Markov chain Monte Carlo segregation and linkage analysis for oligogenic models. American Journal of Human Genetics 61, 748-760.\r\n",
            "\r\n",
            "Imperatore, G., et al . (2000). A locus influencing total serum cholesterol on chromosome 19p Results from an autosomal genomic scan of serum lipid concentrations in Pima Indians. Arteriosclerosis Thrombosis and Vascular Biology 20, 2651-2656.\r\n",
            "\r\n",
            "Inazu, A., et al . (1994). Genetic cholesteryl ester transfer protein-deficiency caused by 2 prevalent mutations as a major determinant of increased levels of high-densitylipoprotein cholesterol. Journal of Clinical Investigation 94, 1872-1882.\r\n",
            "\r\n",
            "Klos, K.L., et al . (2001). Genome-wide linkage analysis reveals evidence of multiple regions that influence variation in plasma lipid and apolipoprotein levels associated with risk of coronary heart disease. Arteriosclerosis Thrombosis and Vascular Biology 21, 971-978.\r\n",
            "\r\n",
            "Kuivenhoven, J.A., et al . (1997). Heterogeneity at the CETP gene locus Influence on plasma CETP concentrations and HDL cholesterol levels. Arteriosclerosis Thrombosis and Vascular Biology 17, 560-568.\r\n",
            "\r\n",
            "Mahaney, M.C., et al . (2003). A quantitative trait locus on chromosome 16q influences variation in plasma HDL-C levels in Mexican Americans. Arteriosclerosis Thrombosis and Vascular Biology 23, 339-345.\r\n",
            "\r\n",
            "Mari, M., and Cederbaum, A.I. (2001). Induction of catalase, alpha, and microsomal glutathione S-transferase in CYP2E1 overexpressing HepG2 cells and protection\r\n",
            "\r\n",
            "<Genetic Determinants of HDL Cholesterol    13>\r\n",
            "\r\n",
            "against short-term oxidative stress. Hepatology 33, 652-661.\r\n",
            "\r\n",
            "Mcpeek, M.S., and Sun, L. (2000). Statistical tests for detection of misspecified relationships by use of genomescreen data. American Journal of Human Genetics 66, 1076-1094.\r\n",
            "\r\n",
            "Pajukanta, P., et al . (2003). Combined analysis of genome scans of Dutch and Finnish families reveals a susceptibility locus for high-density lipoprotein cholesterol on chromosome 16q. American Journal of Human Genetics 72, 903-917.\r\n",
            "\r\n",
            "Peacock, J.M., et al . (2001). Genome scan for quantitative trait loci linked to high-density lipoprotein cholesterol The NHLBI family heart study. Arteriosclerosis Thrombosis and Vascular Biology 21, 1823-1828.\r\n",
            "\r\n",
            "Shoulders, C.C., Jones, E.L., and Naoumova, R.P. (2004). Genetics of familial combined hyperlipidemia and risk of coronary heart disease. Human Molecular Genetics 13, R149-R160.\r\n",
            "\r\n",
            "Wang, X.S., and Paigen, B. (2005). Genome-wide search for new genes controlling plasma lipid concentrations in mice and humans. Current Opinion in Lipidology 16, 127-137.\r\n",
            "\r\n",
            "Yamashita, S., et al . (2000). Molecular mechanisms, lipoprotein abnormalities and atherogenicity of hyperalphalipoproteinemia. Atherosclerosis 152, 271-285.\r\n",
            "\r\n",
            "Yancey, P.G., et al . (2003). Importance of different pathways of cellular cholesterol efflux. Arteriosclerosis Thrombosis and Vascular Biology 23, 712-719.\r\n",
            "\r\n",
            "\n"
          ],
          "name": "stdout"
        }
      ]
    },
    {
      "cell_type": "code",
      "metadata": {
        "id": "Q12YiPaej465",
        "colab_type": "code",
        "outputId": "c69e4604-dfec-488f-dbda-1b1954514443",
        "colab": {
          "base_uri": "https://localhost:8080/",
          "height": 56
        }
      },
      "source": [
        "N_giRaw"
      ],
      "execution_count": 0,
      "outputs": [
        {
          "output_type": "execute_result",
          "data": {
            "text/plain": [
              "\"<Genomics & Informatics   Vol. 6(1) 8-13, March 2008>\\r\\n\\r\\nGenome-wide Linkage Study for Plasma HDL Cholesterol Level in an Isolated Population of Mongolia\\r\\n\\r\\nHansoo Park 1 , Jong-Il Kim 1,2 , Sung-Il Cho 3 , Joohon Sung 3 , Hyung-Lae Kim 4 , Young Seok Ju 1 , Gombojav Bayasgalan 5 , Mi-Kyeong Lee 2 and Jeong-Sun Seo 1,6 *\\r\\n\\r\\n1 Department of Biochemistry and Molecular Biology, Seoul National University College of Medicine, Seoul110-799, Korea, 2Psoma Therapeutics Inc., Seoul 110-799, Korea, 3Seoul National University School of Public Health, Seoul 110-799, Korea, 4 Ewha Womans University, Seoul 120-750, Korea, 5Yonsei University College of Medicine, 6Macrogen Inc., Seoul 153-023, Korea\\r\\n\\r\\nAbstract\\r\\n\\r\\nHigh-density lipoprotein (HDL) whose primary role is to transport cholesterol from peripheral tissues to the liver, is associated with the incidence of coronary heart disease. We analyzed HDL cholesterol levels in a genetically isolated population of extended Mongolian families. A total of 1002 individuals (54.5% women) from 95 families were enrolled. After genotyping by use of 1000 microsatellite markers, we performed a genome-wide linkage search with variance component analysis. The estimated heritability of HDL cholesterol was 0.45, revealing that HDL cholesterol was under significant genetic influence. We found peak evidence of linkage (LOD score=1.88) for HDL cholesterol level on chromosome 6 (nearest marker D6S1660 ) and potential evidences for linkage on chromosomes 1, 12 and 19 with the LOD scores of 1.32, 1.44 and 1.14, respectively. These results should pave the way for the discovery of the relevant genes by fine mapping and association analysis.\\r\\n\\r\\nKeywords: chromosome, genome-wide linkage search, heritability, HDL cholesterol\\r\\n\\r\\nIntroduction\\r\\n\\r\\nCholesterol is a major part of cell membranes. Cholesterol is carried in the blood by chylomicrons, very low density lipoproteins (VLDL), high density lipoproteins (HDL) and low density lipoproteins (LDL) (Dastani et al . 2006). HDL cholesterol is reversely associated with car-\\r\\n\\r\\n(*Corresponding author: E-mail jeongsun@snu.ac.kr Tel +82-2-764-9444, Fax +82-2-740-4534 Accepted 14 March 2008)\\r\\n\\r\\ndiovascular disease, and is more tightly controlled by genetic factors than the other lipoproteins such as LDL, VLDL and chylomicrons. Environmental factors including chronic alcoholism, estrogen replacement therapy, and exercise influence the levels of HDL cholesterol. Several families with strikingly elevated HDL cholesterol levels have been identified. HDL cholesterol levels are higher in blacks compared with whites and HDL cholesterol levels of females are higher than those of males (Barcat et al . 2006; Brousseau et al . 2004; Yamashita et al . 2000; Imperatore et al . 2000).\\r\\n\\r\\nCandidate gene analysis using population-based case-control studies has been used to test the association between SNPs and HDL cholesterol levels. Among the candidate genes selected mainly from lipid metabolism pathways, ApoA-I gene is the one most intensively studied (Inazu et al . 1994; Kuivenhoven et al . 1997). By genome-wide linkage analysis, susceptibility genes can be identified although the genes are not candidates based on lipid metabolism. Genome-wide linkage scans are conducted by use of microsatellite markers to identify genetic determinants affecting the traits (Wang and Paigen 2005). Using HDL cholesterol levels as either discrete or quantitative trait, several linkage studies on genetic determinants of HDL cholesterol have been reported (Yancey et al . 2003). Genetic effects on the variations in HDL cholesterol were studied mainly in Caucasians and Africans thus far, and little attention has been focused in this regard on Asian populations. We found suggestive evidence for linkage for HDL cholesterol on chromosome 6, 1, 12 and 19, in studies conducted as part of GENDISCAN study, a large epidemiological study of Complex traits in geographically, culturally and genetically isolated large Mongolian families l in Dornod, Mongolia report.\\r\\n\\r\\nMethods\\r\\n\\r\\nSubjects, medical histories, genotyping, and measurement of HDL cholesterol\\r\\n\\r\\nWe analyzed data from 1002 Mongolian individuals from 95 large extended families. Informed consent was obtained from all subjects prior to participation and the protocol was approved by the Institutional Review Board at Seoul National University. Potentially confounding variables were assessed for each participant along with overall medical history. Information on age,\\r\\n\\r\\ngender and anthropometry (height, weight, waist circumference, hip circumference and body fat content) were obtained for each individual. Height in centimeter (cm) and weight in kilograms (kg) were measured using an automatic measuring instrument (IMI 1000, Immanuel Elec., Korea). Body mass index (BMI) was calculated in kg/m2. Waist circumference was measured to the nearest centimeter at the level of the umbilicus, and hip circumference was measured at the level of the maximal circumference of the gluteus. All other variables were collected through interviews performed by trained interviewers. Information about amount of alcohol and smoking was also obtained from all the participants\\\\.\\r\\n\\r\\nAll the subjects were asked to fast for 12 hours before\\r\\n\\r\\n[Table 1. Baseline demographic characteristics of the study population]\\r\\n\\r\\n[Characteristics                     Value\\r\\n\\r\\nNo. of families                                 95 Mean±SD no. of family members             15.68±12.44 No. of genotyped subjects                      1,002 Mean±SD age (in years)                    30.63±15.36 Percentage female (%)                          54.5 Total cholesterol (mg/dl)                    159.82±37.19 HDL (mg/dl)                               55.19±11.95 LDL (mg/dl)                               90.51±28.79 Triglyceride (mg/dl)                         63.30±29.93 Height (cm)                              155.78±11.11 Weight (kg)                                57.95±15.55\\r\\n\\r\\n2\\r\\n\\r\\nWaist circumference                        78.17±12.71 Hip circumference                          92.73±11.25 Fasting glucose (mg/dl)                      93.87±11.85 Insulin                                     8.54±4.10 Alcohol (%)*                               151 (14.7)\\r\\n\\r\\nSmoking (%)   †                        221 (21.19)\\r\\n\\r\\n*Habitual alcohol intake (in %; No=0 and Yes=1).   † Current\\r\\n\\r\\nsmoker (in %; No=0 and Yes=1).]\\r\\n\\r\\n[Table 2. Pedigree characteristics of the study population]\\r\\n\\r\\n[Characteristics                     Value\\r\\n\\r\\nNo. of study pairs of :\\r\\n\\r\\nParent-offspring                               1,812 Full-sib pairs                                  734 Sisters                                      198 Brothers                                    167 Brother and sister                            369 Half-sib pairs                                  395 Grandparent-grandchild pairs                    1,202 Avuncular pairs                                888 First-cousin pairs                               598]\\r\\n\\r\\n<Genetic Determinants of HDL Cholesterol    9>\\r\\n\\r\\ntheir visit. Blood samples were collected from an antecubital vein into vacutainer tubes containing EDTA. Blood samples were centrifuged at 3000 rpm for 10 minutes and then stored at −70'C. DNA was isolated from lymphocytes for polymerase chain reaction (PCR) and automated genotyping. A 10 ml blood sample was collected from each participating individual for genomic DNA extraction. DNA was extracted from peripheral lymphocytes using the PUREGENE DNA Purification Kit for whole blood (Gentra Systems Inc, USA). For genotyping, a set of 1000 microsatellite markers deCODE mapping sets (deCODE genetics, USA) was used covering the genome at an average density of 3 centimorgans (cM). HDL cholesterol was measured by the enzymatic method using Cholestest-N-HDL kit (DAICHI, JAPAN) and HITACHI 7600-210 & HITACHI 7180 instruments. Extensive quality control procedures ensured the validity and reproducibility of the measurements.\\r\\n\\r\\nStatistical analyses, heritability estimation, and variance component linkage analysis\\r\\n\\r\\nMultiple linear regression analysis was used by PC SAS\\r\\n\\r\\n[Table 3. Relationships between baseline characteristics and HDL cholesterol]\\r\\n\\r\\n[Characteristics               Pearson correlation\\r\\n\\r\\ncoefficients* Age                                      0.022 (0.46) Systolic BP                               0.008 (0.77) Alcohol                                 − 0.005 (0.86) Mean values (SD)\\r\\n\\r\\nGender (t-test)*                              ＜ .0001 Women (544)                          56.88±11.98 Men (458)                            53.38±11.67\\r\\n\\r\\nSmoking status (t-test)   †                   0.045\\r\\n\\r\\nYes                                 53.72±11.79 No                                 55.54±11.98\\r\\n\\r\\n*p values reflect test of subgroup differences (women ver-\\r\\n\\r\\nsus men). †   p values reflect test of subgroup differences\\r\\n\\r\\n(Smoking yes versus no).]\\r\\n\\r\\n[Table 4. Heritability of HDL]\\r\\n\\r\\n[Parameters                      Value\\r\\n\\r\\nFully adjusted Heritability*                       0.45 p-value                                     ＜ .0001 Kurtosis                                      0.59\\r\\n\\r\\n*Includes adjustment for age, gender, systolic BP, smoking and alcohol.]\\r\\n\\r\\n<10 Genomics & Informatics Vol. 6(1) 8-13, March 2008>\\r\\n\\r\\nversion 8.2 and PC SPSS version 12 to account for effect of confounding variables. Pedigree data was managed by PedSys (Southwest Foundation for Biomedical Research, San Antonio, Texas, USA). Nonpaternity was examined using PEDCHECK (Mcpeek and Sun 2000) and relationships other than paternity were checked using average IBD-based method by PREST. After correcting pedigree error and Mendelian errors, non-mendelian errors were examined and corrected using SimWalk. Identity by descent (IBD) matrix between every relationship pairs in family was calculated and IBD matrix for single marker was calculated by SOLAR (Sequential Oligogenic Linkage Analysis Routines software version 2.1.4). Multipoint IBD matrices were computed on every 1 cM distance using Markov chain Monte Carlo method by LOKI (Heath 1997).\\r\\n\\r\\nGenetic components of selected phenotypes were estimated in terms of heritability. Narrow sense heritability, defined as the proportion of total phenotypic variation due to additive genetic effects, was calculated. Heritability of HDL cholesterol adjusted for age, gender, agesquare, product of age and gender, product of agesquare and gender, systolic BP, smoking and alcohol was estimated and a variance component linkage analysis was carried out by SOLAR which uses maximum likelihood methods to estimate variance components for the polygenic genetic effect and random individual environmental effects.\\r\\n\\r\\n[Fig. 1. Multipoint variance component linkage analyses for HDL cholesterol. The X axis represents the genetic location according to the deCODE genetic map and the Y axis represents the multipoint LOD score. HDL cholesterol was adjusted for age, gender, agesquare, product of age and gender, product of age-square and gender, systolic BP, smoking and alcohol.]\\r\\n\\r\\nResults and Discussion\\r\\n\\r\\nThe mean age of the 1002 individuals was 31 years and 54.5% of them were female. Demographic and pedigree characteristics of the study sample are shown in Table 1. The family size had a mean of 16. Table 2 included information on 2546 pairs of first degree relatives (1812 parent-offspring pairs and 734 full-sib pairs), 2485 pairs of their second degree relatives (395 half-sibling pairs, 1202 grandparent-grandchild pairs, and 888 avuncular pairs), and 598 first-cousin pairs. Means of their total cholesterol, HDL cholesterol, LDL cholesterol, and triglyceride were 159.82 mg/dl, 55.19 mg/dl, 90.51 mg/dl,\\r\\n\\r\\n<Genetic Determinants of HDL Cholesterol    11>\\r\\n\\r\\nand 63.30 mg/dl, respectively. Table 3 shows correlation between HDL cholesterol and covariates such as age, gender, systolic blood pressure, alcohol consumption status, and smoking status. These parameters were used as covariates in the variance component analysis which provided multivariable adjusted heritability estimates for HDL cholesterol of 0.45 (Table 4). The peak multipoint LOD score was 1.88 on 6p21 (nearest marker D6S1660) and a secondary peak (LOD score of 1.44) was found on 12q23 (nearest marker D12S354). We identified other potential evidence for linkage in the LOD score of 1.32 on 1q24 (nearest marker D1S412) and a LOD score of 1.14 at 19p13 (nearest marker D19S884) (Fig. 1, 2). Table 5 presents all LOD scores ＞ 1.0 for HDL cholesterol.\\r\\n\\r\\nWe identified potential evidence of linkage on several chromosomes. In other genome scan, a weak linkage signal for HDL cholesterol was observed for regions that overlapped slightly with the regions identified herein. Klos et al . reported the appearance of peak position in the chromosome 12q in European American population (Klos et al . 2001) (Table 6). We found evidence of link-\\r\\n\\r\\n[Table 5. LOD scores], chromosomal locations, and nearest marker data for all LOD scores ＞ 1.00*\\r\\n\\r\\n[Trait     Marker at or Chromosome\\r\\n\\r\\nNear Peak Location\\r\\n\\r\\nPeak\\r\\n\\r\\nPosition\\r\\n\\r\\n(cM)\\r\\n\\r\\nMaximum\\r\\n\\r\\nLOD Score\\r\\n\\r\\nHDL\\r\\n\\r\\nD1S412         1q24          200          1.32 D6S1660        6p21           50          1.88 D12S354        12q23         138          1.44\\r\\n\\r\\n[Fig. 2. Multipoint LOD scores for HDL cholesterol on chromosome 6p21. HDL cholesterol was adjusted for age, gender, age-square, product of age and gender, product of age-square and gender, systolic BP, smoking and alcohol.]\\r\\n\\r\\nD19S884        19p13          30          1.14\\r\\n\\r\\n*Includes adjustment for age, gender, systolic BP, smoking and alcohol.]\\r\\n\\r\\n[Table 6. Loci for HDL cholesterol identified by genome]-wide linkage scan\\r\\n\\r\\n[Authors and year            Population           No. of families    No. of subjects      Selection criteria              Locus Seo et al           Asian (GENDISCAN   study)           95           1,002       None                  Chr   1q24\\r\\n\\r\\nChr   6p21\\r\\n\\r\\nChr   12q23 Chr   19p13\\r\\n\\r\\nMahaney et al\\r\\n Mexican Americans                  10             472       None                   Chr   16q22-24\\r\\n\\r\\n2003\\r\\n\\r\\nKlos et al 2001      Rochester, MN, USA               232           1,484       None                  Chr 12, 17\\r\\n\\r\\nPeacock et al\\r\\n\\r\\n2001\\r\\n\\r\\nFHS, UHFTS, Minneapolis,\\r\\n\\r\\nMN, USA, ARIC\\r\\n\\r\\n101            1,027       None                   Chr 5p13.1, 13q, 13.2\\r\\n\\r\\nAlmasy et al 1999    Mexican Americans                 10            477       None                  Chr 8, 15 Dastani et al 2006    French Cannadian                  13            362       Low HDL chol ( ＜ 5%)     Chr 4q31.21 FHS, Framingham Heart Study; UHFTS, Utah Health Family Tree Study; ARIC, ARIC, Forsyth County, NC, field centers of the Atherosclerosis Risk in Communities Study.]\\r\\n\\r\\n<12 Genomics & Informatics Vol. 6(1) 8-13, March 2008>\\r\\n\\r\\nage at similar region in the chromosome 12q23. This locus is reported to be associated with variation in plasma apoA-I level. Given the fact that the subjects of other studies were primarily of European and African origins, whereas those in the present study were of Asian origin, the loci on the chromosome 1, 6, and 19 appear to be potential susceptibility loci for the variation of HDL cholesterol in our Asian ethnic group, with likely smaller effects for European and African American compared with Asian (Peacock et al . 2001; Almasy et al . 1999). \\r\\n\\r\\nSeveral candidate genes influencing HDL cholesterol variation, reside at chromosome 1q24 region. Microsomal glutathione S-transferase 3 catalyzes glutathionedependent peroxidase activity towards lipid hydroperoxides (Mari and Cederbaum 2001). HDL cholesterol may be more rapidly oxidized than LDL in vivo. HDL is the principal vehicle for circulating plasma lipid hydroperoxides (Bowry, Stanley, and Stocker 1992). A specific gene called SRY (sex determining region Y)-box 4 is located at chromosome 6p21 region. This gene encodes a member of the SOX (SRY-related HMG-box) family of transcription factors. It plays a major role in the regulation of embryonic development and may function in tumorigenesis as well. (Forwood, Harley, and Jans 2001). TRAF and TNF receptor-associated protein encoded by TTRAP associates with CD40, tumor necrosis factor (TNF) receptor-75 and TNF receptor associated factors (TRAFs), and inhibit nuclear factor-kappa-B activation.\\r\\n\\r\\nWe have found four loci for HDL cholesterol, covering a large portion of the genome. The genomic regions identified in this study need further studies involvinf fine mapping of these regions. The region is very large, encompassing more than 3 cM of genetic length and containing between 3-5 megabases of DNA, with several genes. After genotyping at less than 1 cM intervals using SNP chip and fidentifying the polymorphisms that are likely to have functional significance for HDL cholesterol variation, we can confirm the polymorphisms by association study.\\r\\n\\r\\nSeveral other genetic studies attempted to identify the genes contributing to HDL cholesterol variation. These studies focused on families with extreme HDL cholesterol levels (Shoulders, Jones, and Naoumova 2004; Aouizerat et al . 1999). Our study as did some others, examined families with members having serum HDL cholesterol within the normal range (Mahaney et al . 2003; Pajukanta et al . 2003; Arya et al . 2002). When homogenous populations are studied, environmental variations might be lower and the genetic makeup of these populations less complex (Coon et al . 2001). GENDISCAN study is the first and largest family study of Asian populations. The uniqueness of this study is that study subjects are members of large extended families in an isolated rural area, long exposed to similar environmental conditions. The component of the GENDISCAN study, we describe here, provides statistical support for linkage of the level of HDL cholesterol. It should provide the basis for identification of genetic polymorphism related with lipid metabolism in Asian population.\\r\\n\\r\\nAcknowledgements\\r\\n\\r\\nWe would like to thank all the individuals and their families for participation in this study. Korean government approved and has supported the pilot study, and phase I study (Ministry of Science and Technology, Grant # M10306030002-03B4803-00210). Total financial support from the government in 2006 was about 800,000 U.S. Dollars.\\r\\n\\r\\nReferences\\r\\n\\r\\nAlmasy, L., et al . (1999). Human pedigree-based quantitative-trait-locus mapping: localization of two genes influencing HDL-cholesterol metabolism. Am. J. Human Genetics 64, 1686-1693.\\r\\n\\r\\nAouizerat, B.E., et al . (1999). A genome scan for familial combined hyperlipidemia reveals evidence of linkage with a locus on chromosome 11. Am. J. Human Genetics 65, 397-412.\\r\\n\\r\\nArya, R., et al . (2002). Linkage of high-density lipoprotein-cholesterol concentrations to a locus on chromosome 9p in Mexican Americans. Nature Genetics 30, 102-105.\\r\\n\\r\\nBarcat, D., et al . (2006). Combined hyperlipidemia/hyperalphalipoproteinemia associated with premature spontaneous atherosclerosis in mice lacking hepatic lipase and low density lipoprotein receptor. Atherosclerosis 188, 347-355.\\r\\n\\r\\nBowry, V.W., Stanley, K.K., and Stocker, R. (1992). high-density-lipoprotein is the major carrier of lipid hydroperoxides in human blood-plasma from fasting donors. Proceedings of the National Academy of Sciences of the United States of America 89, 10316-10320.\\r\\n\\r\\nBrousseau, M.E., et al . (2004). Effects of an inhibitor of cholesteryl ester transfer protein on HDL cholesterol. N. Engl. J. Med. 350, 1505-1515.\\r\\n\\r\\nCoon, H., et al . (2001). Genome-wide linkage analysis of Hypertension Genetic Epidemiology Network (HyperGEN) Blood Pressure study. Arteriosclerosis Thrombosis and Vascular Biology 21, 1969-1976.\\r\\n\\r\\nDastani, Z., et al . (2006). Genetics of high-density lipoproteins. Current Opinion in Cardiology 21, 329335. Forwood, J.K., Harley, V., and Jans, D.A. (2001). The C-terminal nuclear localization signal of the sex determining region Y (SRY) high mobility group domain mediates nuclear import through beta 1. Journal of Biological Chemistry 276, 46575-46582.\\r\\n\\r\\nHeath, S.C. (1997). Markov chain Monte Carlo segregation and linkage analysis for oligogenic models. American Journal of Human Genetics 61, 748-760.\\r\\n\\r\\nImperatore, G., et al . (2000). A locus influencing total serum cholesterol on chromosome 19p Results from an autosomal genomic scan of serum lipid concentrations in Pima Indians. Arteriosclerosis Thrombosis and Vascular Biology 20, 2651-2656.\\r\\n\\r\\nInazu, A., et al . (1994). Genetic cholesteryl ester transfer protein-deficiency caused by 2 prevalent mutations as a major determinant of increased levels of high-densitylipoprotein cholesterol. Journal of Clinical Investigation 94, 1872-1882.\\r\\n\\r\\nKlos, K.L., et al . (2001). Genome-wide linkage analysis reveals evidence of multiple regions that influence variation in plasma lipid and apolipoprotein levels associated with risk of coronary heart disease. Arteriosclerosis Thrombosis and Vascular Biology 21, 971-978.\\r\\n\\r\\nKuivenhoven, J.A., et al . (1997). Heterogeneity at the CETP gene locus Influence on plasma CETP concentrations and HDL cholesterol levels. Arteriosclerosis Thrombosis and Vascular Biology 17, 560-568.\\r\\n\\r\\nMahaney, M.C., et al . (2003). A quantitative trait locus on chromosome 16q influences variation in plasma HDL-C levels in Mexican Americans. Arteriosclerosis Thrombosis and Vascular Biology 23, 339-345.\\r\\n\\r\\nMari, M., and Cederbaum, A.I. (2001). Induction of catalase, alpha, and microsomal glutathione S-transferase in CYP2E1 overexpressing HepG2 cells and protection\\r\\n\\r\\n<Genetic Determinants of HDL Cholesterol    13>\\r\\n\\r\\nagainst short-term oxidative stress. Hepatology 33, 652-661.\\r\\n\\r\\nMcpeek, M.S., and Sun, L. (2000). Statistical tests for detection of misspecified relationships by use of genomescreen data. American Journal of Human Genetics 66, 1076-1094.\\r\\n\\r\\nPajukanta, P., et al . (2003). Combined analysis of genome scans of Dutch and Finnish families reveals a susceptibility locus for high-density lipoprotein cholesterol on chromosome 16q. American Journal of Human Genetics 72, 903-917.\\r\\n\\r\\nPeacock, J.M., et al . (2001). Genome scan for quantitative trait loci linked to high-density lipoprotein cholesterol The NHLBI family heart study. Arteriosclerosis Thrombosis and Vascular Biology 21, 1823-1828.\\r\\n\\r\\nShoulders, C.C., Jones, E.L., and Naoumova, R.P. (2004). Genetics of familial combined hyperlipidemia and risk of coronary heart disease. Human Molecular Genetics 13, R149-R160.\\r\\n\\r\\nWang, X.S., and Paigen, B. (2005). Genome-wide search for new genes controlling plasma lipid concentrations in mice and humans. Current Opinion in Lipidology 16, 127-137.\\r\\n\\r\\nYamashita, S., et al . (2000). Molecular mechanisms, lipoprotein abnormalities and atherogenicity of hyperalphalipoproteinemia. Atherosclerosis 152, 271-285.\\r\\n\\r\\nYancey, P.G., et al . (2003). Importance of different pathways of cellular cholesterol efflux. Arteriosclerosis Thrombosis and Vascular Biology 23, 712-719.\\r\\n\\r\\n\""
            ]
          },
          "metadata": {
            "tags": []
          },
          "execution_count": 262
        }
      ]
    },
    {
      "cell_type": "code",
      "metadata": {
        "id": "iyPaR-N-muFN",
        "colab_type": "code",
        "colab": {}
      },
      "source": [
        "#txt 파일 생성\n",
        "f = open(\"NEW_gni-6-1-8.txt\", 'w')\n",
        "f.write(N_giRaw)\n",
        "f.close()"
      ],
      "execution_count": 0,
      "outputs": []
    }
  ]
}