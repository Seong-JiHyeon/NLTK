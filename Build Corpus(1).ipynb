{
  "nbformat": 4,
  "nbformat_minor": 0,
  "metadata": {
    "colab": {
      "name": "Take Home Exam #2",
      "provenance": [],
      "collapsed_sections": [],
      "authorship_tag": "ABX9TyMtV0frWg2iI+6cFmUg9rli",
      "include_colab_link": true
    },
    "kernelspec": {
      "name": "python3",
      "display_name": "Python 3"
    }
  },
  "cells": [
    {
      "cell_type": "markdown",
      "metadata": {
        "id": "view-in-github",
        "colab_type": "text"
      },
      "source": [
        "<a href=\"https://colab.research.google.com/github/Seong-JiHyeon/NLTK/blob/master/Build%20Corpus(1).ipynb\" target=\"_parent\"><img src=\"https://colab.research.google.com/assets/colab-badge.svg\" alt=\"Open In Colab\"/></a>"
      ]
    },
    {
      "cell_type": "code",
      "metadata": {
        "id": "IS1X0hwWcPpx",
        "colab_type": "code",
        "outputId": "f1e50f00-0bb8-411c-d790-20b38e65e9ad",
        "colab": {
          "base_uri": "https://localhost:8080/",
          "height": 56
        }
      },
      "source": [
        "from google.colab import drive\n",
        "\n",
        "drive.mount('/content/gdrive')"
      ],
      "execution_count": 0,
      "outputs": [
        {
          "output_type": "stream",
          "text": [
            "Drive already mounted at /content/gdrive; to attempt to forcibly remount, call drive.mount(\"/content/gdrive\", force_remount=True).\n"
          ],
          "name": "stdout"
        }
      ]
    },
    {
      "cell_type": "code",
      "metadata": {
        "id": "s5h_RXoMciWL",
        "colab_type": "code",
        "outputId": "72e3aaf7-75c4-455e-fa9d-b2d644f8507c",
        "colab": {
          "base_uri": "https://localhost:8080/",
          "height": 36
        }
      },
      "source": [
        "cd /content/gdrive/My Drive/인공지능 수업 데이터 파일"
      ],
      "execution_count": 0,
      "outputs": [
        {
          "output_type": "stream",
          "text": [
            "/content/gdrive/My Drive/인공지능 수업 데이터 파일\n"
          ],
          "name": "stdout"
        }
      ]
    },
    {
      "cell_type": "code",
      "metadata": {
        "id": "TCDZ08Aacjl1",
        "colab_type": "code",
        "colab": {}
      },
      "source": [
        "from nltk.corpus import PlaintextCorpusReader\n",
        "corpus_root = '/content/gdrive/My Drive/인공지능 수업 데이터 파일/Genomics-Informatics-Corpus-master/raw_text2/'\n",
        "GNICorpus = PlaintextCorpusReader(corpus_root, '.*\\.txt', encoding='utf-16')"
      ],
      "execution_count": 0,
      "outputs": []
    },
    {
      "cell_type": "code",
      "metadata": {
        "id": "Cn74gBFMdF9i",
        "colab_type": "code",
        "colab": {}
      },
      "source": [
        "giRaw = GNICorpus.raw('gni-6-1-1.txt')"
      ],
      "execution_count": 0,
      "outputs": []
    },
    {
      "cell_type": "code",
      "metadata": {
        "id": "UntkSb8SoKhk",
        "colab_type": "code",
        "outputId": "b64de3ba-7cbf-483d-a1ec-b3f7de550d00",
        "colab": {
          "base_uri": "https://localhost:8080/",
          "height": 36
        }
      },
      "source": [
        "len(giRaw)"
      ],
      "execution_count": 0,
      "outputs": [
        {
          "output_type": "execute_result",
          "data": {
            "text/plain": [
              "27372"
            ]
          },
          "metadata": {
            "tags": []
          },
          "execution_count": 5
        }
      ]
    },
    {
      "cell_type": "code",
      "metadata": {
        "id": "yjRJ9VqX6DwS",
        "colab_type": "code",
        "outputId": "2c826e3c-db17-4a34-925b-12c76b7d749d",
        "colab": {
          "base_uri": "https://localhost:8080/",
          "height": 205
        }
      },
      "source": [
        "print(giRaw[:350])"
      ],
      "execution_count": 0,
      "outputs": [
        {
          "output_type": "stream",
          "text": [
            "M IN I R E V IE W              Genomics & Informatics   Vol. 6(1) 1-7, March 2008\r\n",
            "\r\n",
            "Copy Number Variations in the Human Genome: Potential Source for Individual Diversity and Disease Association Studies\r\n",
            "\r\n",
            "Tae-Min Kim 1 , Seon-Hee Yim 2 and Yeun-Jun Chung 1,2 *\r\n",
            "\r\n",
            "2\r\n",
            "\r\n",
            "for Genome Polymorphism, The Catholic University of Korea, Seoul 137-701, Korea\r\n"
          ],
          "name": "stdout"
        }
      ]
    },
    {
      "cell_type": "code",
      "metadata": {
        "id": "4COyGr0KfOj0",
        "colab_type": "code",
        "outputId": "efbeb95c-9c0e-40ce-e472-d2ee35cede9e",
        "colab": {
          "base_uri": "https://localhost:8080/",
          "height": 56
        }
      },
      "source": [
        "giRaw[:350] #corpus (Vol. 6(1) 1-7) head"
      ],
      "execution_count": 0,
      "outputs": [
        {
          "output_type": "execute_result",
          "data": {
            "text/plain": [
              "'M IN I R E V IE W              Genomics & Informatics   Vol. 6(1) 1-7, March 2008\\r\\n\\r\\nCopy Number Variations in the Human Genome: Potential Source for Individual Diversity and Disease Association Studies\\r\\n\\r\\nTae-Min Kim 1 , Seon-Hee Yim 2 and Yeun-Jun Chung 1,2 *\\r\\n\\r\\n2\\r\\n\\r\\nfor Genome Polymorphism, The Catholic University of Korea, Seoul 137-701, Korea\\r'"
            ]
          },
          "metadata": {
            "tags": []
          },
          "execution_count": 7
        }
      ]
    },
    {
      "cell_type": "markdown",
      "metadata": {
        "id": "wcXucDReA-Uo",
        "colab_type": "text"
      },
      "source": [
        "(Department of Microbiology, Integrated Research Center)가 빠져있음\n",
        "\n",
        "논문 head 표시해주기"
      ]
    },
    {
      "cell_type": "markdown",
      "metadata": {
        "id": "ak9ntD9sW2Cc",
        "colab_type": "text"
      },
      "source": [
        "\n",
        "\n",
        "---\n",
        "수정\n"
      ]
    },
    {
      "cell_type": "code",
      "metadata": {
        "id": "8kroU5S6WyeX",
        "colab_type": "code",
        "outputId": "67008db9-00e0-4a21-ba35-76e18ea78260",
        "colab": {
          "base_uri": "https://localhost:8080/",
          "height": 36
        }
      },
      "source": [
        "import re\n",
        "pattern0 = re.findall(r'\\r\\n2\\r\\n\\r\\nfor', giRaw)\n",
        "len(pattern0)"
      ],
      "execution_count": 0,
      "outputs": [
        {
          "output_type": "execute_result",
          "data": {
            "text/plain": [
              "1"
            ]
          },
          "metadata": {
            "tags": []
          },
          "execution_count": 8
        }
      ]
    },
    {
      "cell_type": "code",
      "metadata": {
        "id": "PZZ1qFj9ZSr8",
        "colab_type": "code",
        "outputId": "6af69fe1-f8d0-43c1-b779-a36a36f50df9",
        "colab": {
          "base_uri": "https://localhost:8080/",
          "height": 36
        }
      },
      "source": [
        "pattern0"
      ],
      "execution_count": 0,
      "outputs": [
        {
          "output_type": "execute_result",
          "data": {
            "text/plain": [
              "['\\r\\n2\\r\\n\\r\\nfor']"
            ]
          },
          "metadata": {
            "tags": []
          },
          "execution_count": 9
        }
      ]
    },
    {
      "cell_type": "code",
      "metadata": {
        "id": "WhGNR80YZVHM",
        "colab_type": "code",
        "outputId": "c8663f6a-e19d-4d16-d69b-97d8cdc97d24",
        "colab": {
          "base_uri": "https://localhost:8080/",
          "height": 36
        }
      },
      "source": [
        "[re.sub(r'\\r\\n2\\r\\n\\r\\nfor', '\\r\\n1Department of Microbiology, 2Integrated Research Center for', p0) for p0 in pattern0]"
      ],
      "execution_count": 0,
      "outputs": [
        {
          "output_type": "execute_result",
          "data": {
            "text/plain": [
              "['\\r\\n1Department of Microbiology, 2Integrated Research Center for']"
            ]
          },
          "metadata": {
            "tags": []
          },
          "execution_count": 10
        }
      ]
    },
    {
      "cell_type": "code",
      "metadata": {
        "id": "Fasd7cXLZyn_",
        "colab_type": "code",
        "colab": {}
      },
      "source": [
        "N_giRaw = re.sub(r'\\r\\n2\\r\\n\\r\\nfor', '\\r\\n1Department of Microbiology, 2Integrated Research Center for', giRaw)"
      ],
      "execution_count": 0,
      "outputs": []
    },
    {
      "cell_type": "code",
      "metadata": {
        "id": "CYvJHNmEnI7_",
        "colab_type": "code",
        "outputId": "3569e487-997b-42d8-e39a-3fd8d956d8c8",
        "colab": {
          "base_uri": "https://localhost:8080/",
          "height": 36
        }
      },
      "source": [
        "re.findall(r'M IN I R E V IE W              Genomics & Informatics   Vol.', N_giRaw)"
      ],
      "execution_count": 0,
      "outputs": [
        {
          "output_type": "execute_result",
          "data": {
            "text/plain": [
              "['M IN I R E V IE W              Genomics & Informatics   Vol.']"
            ]
          },
          "metadata": {
            "tags": []
          },
          "execution_count": 12
        }
      ]
    },
    {
      "cell_type": "code",
      "metadata": {
        "id": "_DYWMiX7mDuW",
        "colab_type": "code",
        "colab": {}
      },
      "source": [
        "N_giRaw = re.sub(r'M IN I R E V IE W              Genomics & Informatics   Vol.', '<MINIREVIEW  Genomics & Informatics  Vol.', N_giRaw)"
      ],
      "execution_count": 0,
      "outputs": []
    },
    {
      "cell_type": "code",
      "metadata": {
        "id": "RJN0VWFEoWDj",
        "colab_type": "code",
        "outputId": "ff842c27-2ada-422a-f783-beeb9b0973d3",
        "colab": {
          "base_uri": "https://localhost:8080/",
          "height": 92
        }
      },
      "source": [
        "re.findall(r'6\\(1\\) 1-7, March 2008', N_giRaw)"
      ],
      "execution_count": 0,
      "outputs": [
        {
          "output_type": "execute_result",
          "data": {
            "text/plain": [
              "['6(1) 1-7, March 2008',\n",
              " '6(1) 1-7, March 2008',\n",
              " '6(1) 1-7, March 2008',\n",
              " '6(1) 1-7, March 2008']"
            ]
          },
          "metadata": {
            "tags": []
          },
          "execution_count": 14
        }
      ]
    },
    {
      "cell_type": "code",
      "metadata": {
        "id": "WJRMb1KaopXm",
        "colab_type": "code",
        "colab": {}
      },
      "source": [
        "N_giRaw = re.sub(r'(6\\(1\\) 1-7, March 2008)', r'\\1>', N_giRaw)"
      ],
      "execution_count": 0,
      "outputs": []
    },
    {
      "cell_type": "markdown",
      "metadata": {
        "id": "kmsOCdhbW4c6",
        "colab_type": "text"
      },
      "source": [
        "\n",
        "\n",
        "---\n",
        "\n"
      ]
    },
    {
      "cell_type": "code",
      "metadata": {
        "id": "cMQoc04G4Ww2",
        "colab_type": "code",
        "outputId": "7b257740-fbe1-449f-ea74-6db0ff98ca9c",
        "colab": {
          "base_uri": "https://localhost:8080/",
          "height": 131
        }
      },
      "source": [
        "print(giRaw[350:1200]) #Abstract"
      ],
      "execution_count": 0,
      "outputs": [
        {
          "output_type": "stream",
          "text": [
            "\n",
            "\r\n",
            "Abstract\r\n",
            "\r\n",
            "The widespread presence of large-scale genomic varia- tions, termed copy number variation (CNVs), has been recently recognized in phenotypically normal individuals. Judging by the growing number of reports on CNVs, it is now evident that these variants contribute significantly to genetic diversity in the human genome. Like single nucleotide polymorphisms (SNPs), CNVs are expected to serve as potential biomarkers for disease suscepti- bility or drug responses. However, the technical and practical concerns still remain to be tackled. In this re- view, we examine the current status of CNV DBs and research, including the ongoing efforts of CNV screening in the human genome. We also discuss the character- istics of platforms that are available at the moment and suggest the potential of CNVs in clinical research and application.\r\n"
          ],
          "name": "stdout"
        }
      ]
    },
    {
      "cell_type": "code",
      "metadata": {
        "id": "FP8-jeB7iqpD",
        "colab_type": "code",
        "outputId": "3a3e0cff-1feb-41c3-e820-71867f298bee",
        "colab": {
          "base_uri": "https://localhost:8080/",
          "height": 56
        }
      },
      "source": [
        "giRaw[350:1200] "
      ],
      "execution_count": 0,
      "outputs": [
        {
          "output_type": "execute_result",
          "data": {
            "text/plain": [
              "'\\n\\r\\nAbstract\\r\\n\\r\\nThe widespread presence of large-scale genomic varia- tions, termed copy number variation (CNVs), has been recently recognized in phenotypically normal individuals. Judging by the growing number of reports on CNVs, it is now evident that these variants contribute significantly to genetic diversity in the human genome. Like single nucleotide polymorphisms (SNPs), CNVs are expected to serve as potential biomarkers for disease suscepti- bility or drug responses. However, the technical and practical concerns still remain to be tackled. In this re- view, we examine the current status of CNV DBs and research, including the ongoing efforts of CNV screening in the human genome. We also discuss the character- istics of platforms that are available at the moment and suggest the potential of CNVs in clinical research and application.\\r'"
            ]
          },
          "metadata": {
            "tags": []
          },
          "execution_count": 17
        }
      ]
    },
    {
      "cell_type": "markdown",
      "metadata": {
        "id": "ILZbBaA95-2C",
        "colab_type": "text"
      },
      "source": [
        "한 단어인데 '- '로 나눠져 있는 경우"
      ]
    },
    {
      "cell_type": "markdown",
      "metadata": {
        "id": "PGMfNVs4QySW",
        "colab_type": "text"
      },
      "source": [
        "\n",
        "\n",
        "---\n",
        "수정\n"
      ]
    },
    {
      "cell_type": "code",
      "metadata": {
        "id": "O0sZa36uQ03y",
        "colab_type": "code",
        "outputId": "d0ae63ad-6712-4000-d06f-09bfa1c28d96",
        "colab": {
          "base_uri": "https://localhost:8080/",
          "height": 36
        }
      },
      "source": [
        "pattern1 = re.findall(r'[a-z]+- [a-z]+', N_giRaw)\n",
        "len(pattern1)"
      ],
      "execution_count": 0,
      "outputs": [
        {
          "output_type": "execute_result",
          "data": {
            "text/plain": [
              "100"
            ]
          },
          "metadata": {
            "tags": []
          },
          "execution_count": 18
        }
      ]
    },
    {
      "cell_type": "code",
      "metadata": {
        "id": "RYvTMthWRGnG",
        "colab_type": "code",
        "outputId": "aee31d03-28b7-431a-937c-c78eda0a898f",
        "colab": {
          "base_uri": "https://localhost:8080/",
          "height": 1000
        }
      },
      "source": [
        "pattern1"
      ],
      "execution_count": 0,
      "outputs": [
        {
          "output_type": "execute_result",
          "data": {
            "text/plain": [
              "['varia- tions',\n",
              " 'suscepti- bility',\n",
              " 're- view',\n",
              " 'character- istics',\n",
              " 'visi- ble',\n",
              " 'dis- ease',\n",
              " 'ge- nome',\n",
              " 'mini- or',\n",
              " 'whole- genome',\n",
              " 'wide- spread',\n",
              " 'ge- nome',\n",
              " 're- main',\n",
              " 'demon- strated',\n",
              " 'in- creasing',\n",
              " 'struc- tural',\n",
              " 'knowl- edge',\n",
              " 'in- sertion',\n",
              " 'sub- microscopic',\n",
              " 'insertional- dele',\n",
              " 'consid- ered',\n",
              " 'differ- ent',\n",
              " 'im- prove',\n",
              " 're- ported',\n",
              " 'ar- ray',\n",
              " 'artifi- cial',\n",
              " 'representa- tional',\n",
              " 'in- dividuals',\n",
              " 'con- cept',\n",
              " 'dis- covered',\n",
              " 'com- parison',\n",
              " 'use- ful',\n",
              " 'de- tectable',\n",
              " 'vali- dated',\n",
              " 'cur- rently',\n",
              " 'on- going',\n",
              " 'se- quence',\n",
              " 'ex- pected',\n",
              " 're- ported',\n",
              " 'link- age',\n",
              " 'de- letions',\n",
              " 're- ported',\n",
              " 'in- sert',\n",
              " 'oligonu- cleotides',\n",
              " 'vari- able',\n",
              " 're- ported',\n",
              " 'boun- daries',\n",
              " 'oligonucleo- tides',\n",
              " 'advan- tages',\n",
              " 'sub- tle',\n",
              " 'mis- classification',\n",
              " 'ar- ray',\n",
              " 'spot- ted',\n",
              " 'var- iant',\n",
              " 'in- dividuals',\n",
              " 'ge- nome',\n",
              " 'in- tensities',\n",
              " 'dis- ease',\n",
              " 'poly- morphisms',\n",
              " 'as- sess',\n",
              " 'hu- man',\n",
              " 'in- dividual',\n",
              " 'alter- ation',\n",
              " 'eiden- blad',\n",
              " 'correla- tions',\n",
              " 'ex- pression',\n",
              " 'in- cluding',\n",
              " 'develop- ing',\n",
              " 'mean- time',\n",
              " 'glomer- ulonephritis',\n",
              " 'om- parative',\n",
              " 'mi- croarrays',\n",
              " 'uni- parental',\n",
              " 'poly- morphisms',\n",
              " 'ge- nome',\n",
              " 'im- plications',\n",
              " 'sus- ceptibility',\n",
              " 'auto- immunity',\n",
              " 'hu- man',\n",
              " 'analy- sis',\n",
              " 'assem- blies',\n",
              " 'in- fluence',\n",
              " 'duplica- tions',\n",
              " 'cho- enmakers',\n",
              " 'anal- yses',\n",
              " 'alter- ations',\n",
              " 'can- cer',\n",
              " 'amplifi- cations',\n",
              " 'ge- nome',\n",
              " 'ge- nome',\n",
              " 'ex- cretion',\n",
              " 'asso- ciated',\n",
              " 'poly- morphism',\n",
              " 'enome- wide',\n",
              " 'hu- man',\n",
              " 'rheuma- toid',\n",
              " 'archi- tecture',\n",
              " 're- arrangements',\n",
              " 'com- plement',\n",
              " 'eryth- ematosus',\n",
              " 'sus- ceptibility']"
            ]
          },
          "metadata": {
            "tags": []
          },
          "execution_count": 19
        }
      ]
    },
    {
      "cell_type": "code",
      "metadata": {
        "id": "xQGBCFdmRQ7d",
        "colab_type": "code",
        "outputId": "94107447-a395-44f9-bd01-1946810c820a",
        "colab": {
          "base_uri": "https://localhost:8080/",
          "height": 1000
        }
      },
      "source": [
        "[re.sub(r'- ', '', p1) for p1 in pattern1]"
      ],
      "execution_count": 0,
      "outputs": [
        {
          "output_type": "execute_result",
          "data": {
            "text/plain": [
              "['variations',\n",
              " 'susceptibility',\n",
              " 'review',\n",
              " 'characteristics',\n",
              " 'visible',\n",
              " 'disease',\n",
              " 'genome',\n",
              " 'minior',\n",
              " 'wholegenome',\n",
              " 'widespread',\n",
              " 'genome',\n",
              " 'remain',\n",
              " 'demonstrated',\n",
              " 'increasing',\n",
              " 'structural',\n",
              " 'knowledge',\n",
              " 'insertion',\n",
              " 'submicroscopic',\n",
              " 'insertionaldele',\n",
              " 'considered',\n",
              " 'different',\n",
              " 'improve',\n",
              " 'reported',\n",
              " 'array',\n",
              " 'artificial',\n",
              " 'representational',\n",
              " 'individuals',\n",
              " 'concept',\n",
              " 'discovered',\n",
              " 'comparison',\n",
              " 'useful',\n",
              " 'detectable',\n",
              " 'validated',\n",
              " 'currently',\n",
              " 'ongoing',\n",
              " 'sequence',\n",
              " 'expected',\n",
              " 'reported',\n",
              " 'linkage',\n",
              " 'deletions',\n",
              " 'reported',\n",
              " 'insert',\n",
              " 'oligonucleotides',\n",
              " 'variable',\n",
              " 'reported',\n",
              " 'boundaries',\n",
              " 'oligonucleotides',\n",
              " 'advantages',\n",
              " 'subtle',\n",
              " 'misclassification',\n",
              " 'array',\n",
              " 'spotted',\n",
              " 'variant',\n",
              " 'individuals',\n",
              " 'genome',\n",
              " 'intensities',\n",
              " 'disease',\n",
              " 'polymorphisms',\n",
              " 'assess',\n",
              " 'human',\n",
              " 'individual',\n",
              " 'alteration',\n",
              " 'eidenblad',\n",
              " 'correlations',\n",
              " 'expression',\n",
              " 'including',\n",
              " 'developing',\n",
              " 'meantime',\n",
              " 'glomerulonephritis',\n",
              " 'omparative',\n",
              " 'microarrays',\n",
              " 'uniparental',\n",
              " 'polymorphisms',\n",
              " 'genome',\n",
              " 'implications',\n",
              " 'susceptibility',\n",
              " 'autoimmunity',\n",
              " 'human',\n",
              " 'analysis',\n",
              " 'assemblies',\n",
              " 'influence',\n",
              " 'duplications',\n",
              " 'choenmakers',\n",
              " 'analyses',\n",
              " 'alterations',\n",
              " 'cancer',\n",
              " 'amplifications',\n",
              " 'genome',\n",
              " 'genome',\n",
              " 'excretion',\n",
              " 'associated',\n",
              " 'polymorphism',\n",
              " 'enomewide',\n",
              " 'human',\n",
              " 'rheumatoid',\n",
              " 'architecture',\n",
              " 'rearrangements',\n",
              " 'complement',\n",
              " 'erythematosus',\n",
              " 'susceptibility']"
            ]
          },
          "metadata": {
            "tags": []
          },
          "execution_count": 20
        }
      ]
    },
    {
      "cell_type": "code",
      "metadata": {
        "id": "4zYmCEFYRZlb",
        "colab_type": "code",
        "colab": {}
      },
      "source": [
        "N_giRaw = re.sub(r'- ', '', N_giRaw)"
      ],
      "execution_count": 0,
      "outputs": []
    },
    {
      "cell_type": "markdown",
      "metadata": {
        "id": "iP8LTfdPRExz",
        "colab_type": "text"
      },
      "source": [
        "\n",
        "\n",
        "---\n",
        "\n"
      ]
    },
    {
      "cell_type": "code",
      "metadata": {
        "id": "83RwvoIt5wUK",
        "colab_type": "code",
        "outputId": "51bf3531-d862-4b99-a826-9431c4e1da00",
        "colab": {
          "base_uri": "https://localhost:8080/",
          "height": 93
        }
      },
      "source": [
        "print(giRaw[1200:1290]) #Keywords"
      ],
      "execution_count": 0,
      "outputs": [
        {
          "output_type": "stream",
          "text": [
            "\n",
            "\r\n",
            "Keywords: array-CGH, Copy number variation (CNV), Genome-wide association study (GWAS)\r\n"
          ],
          "name": "stdout"
        }
      ]
    },
    {
      "cell_type": "code",
      "metadata": {
        "id": "D8KZdNe8kEOt",
        "colab_type": "code",
        "outputId": "59b364ef-df91-45be-9a92-c6b0cc580426",
        "colab": {
          "base_uri": "https://localhost:8080/",
          "height": 280
        }
      },
      "source": [
        "print(giRaw[1290:3729]) #Introduction"
      ],
      "execution_count": 0,
      "outputs": [
        {
          "output_type": "stream",
          "text": [
            "\n",
            "\r\n",
            "Introduction\r\n",
            "\r\n",
            "Traditionally, large-scale genomic variants that are visi- ble in conventional karyotyping have been thought to be associated with early-onset, highly penetrant genetic disorders, while they are incompatible in normal, dis- ease-free individuals (Lupski, 1998; Stankiewicz and Lupski, 2002). The construction of the 'reference ge- nome' by the human genome sequencing project is based on the belief that human genome sequences are virtually identical, even in different individuals, except for well-known single nucleotide polymorphisms (SNP) or size-variants of tandem repeats such as mini- or micro-\r\n",
            "\r\n",
            "*Corresponding author: E-mail yejun@catholic.ac.kr Tel +82-2-590-1214, Fax +82-2-596-8969 Accepted 11 March 2008\r\n",
            "\r\n",
            "satellites (variable number of tandem repeats or VNTR) (Przeworski et al ., 2000). This traditional concept has been recently challenged by the discovery that large structural variations are more prevalent than previously presumed (Check, 2005). Using high-resolution whole- genome scanning technologies such as array-based comparative genomic hybridization (array-CGH), two groups of pioneering scientists have identified wide- spread copy number variations (CNVs) in apparently healthy, normal individuals (Iafrate et al., 2004; Sebat et al ., 2004). It proposes that our genome is more diverse than has ever been recognized, and subsequent studies have identified up to 11,000 CNVs across the whole ge- nome (Tuzun et al. , 2005; Hinds et al ., 2006; Mills et al ., 2006; McCarroll et al ., 2006; Conrad et al ., 2006; Sharp et al ., 2005; Wong et al ., 2007; de Smith et al ., 2007). Although the current understanding of CNVs is still limited for practical use and technical challenges still re- main to be tackled, recent studies already have demon- strated the potential association of CNVs with various diseases, suggesting plausible functional significances and highlighting the promising utility of CNVs.\r\n",
            "\r\n",
            "The current coverage of CNVs in the human genome already has exceeded that of SNPs (approximately 600 Mb comprising ∼ 12% of human genome) and is still in- creasing (Cooper et al ., 2007). These large-scale struc- tural variants, in addition to SNPs, will serve as powerful sources to help our understanding of human genetic variation and of differences in disease susceptibility for various diseases. This paper reviews the current knowl- edge and future perspectives of CNVs.\r\n",
            "\r\n",
            "\n"
          ],
          "name": "stdout"
        }
      ]
    },
    {
      "cell_type": "code",
      "metadata": {
        "id": "hkyPuFLv_mdj",
        "colab_type": "code",
        "outputId": "f7a96ce2-efa2-4df3-9651-b1a6e3b88916",
        "colab": {
          "base_uri": "https://localhost:8080/",
          "height": 56
        }
      },
      "source": [
        "giRaw[1290:3729]"
      ],
      "execution_count": 0,
      "outputs": [
        {
          "output_type": "execute_result",
          "data": {
            "text/plain": [
              "\"\\n\\r\\nIntroduction\\r\\n\\r\\nTraditionally, large-scale genomic variants that are visi- ble in conventional karyotyping have been thought to be associated with early-onset, highly penetrant genetic disorders, while they are incompatible in normal, dis- ease-free individuals (Lupski, 1998; Stankiewicz and Lupski, 2002). The construction of the 'reference ge- nome' by the human genome sequencing project is based on the belief that human genome sequences are virtually identical, even in different individuals, except for well-known single nucleotide polymorphisms (SNP) or size-variants of tandem repeats such as mini- or micro-\\r\\n\\r\\n*Corresponding author: E-mail yejun@catholic.ac.kr Tel +82-2-590-1214, Fax +82-2-596-8969 Accepted 11 March 2008\\r\\n\\r\\nsatellites (variable number of tandem repeats or VNTR) (Przeworski et al ., 2000). This traditional concept has been recently challenged by the discovery that large structural variations are more prevalent than previously presumed (Check, 2005). Using high-resolution whole- genome scanning technologies such as array-based comparative genomic hybridization (array-CGH), two groups of pioneering scientists have identified wide- spread copy number variations (CNVs) in apparently healthy, normal individuals (Iafrate et al., 2004; Sebat et al ., 2004). It proposes that our genome is more diverse than has ever been recognized, and subsequent studies have identified up to 11,000 CNVs across the whole ge- nome (Tuzun et al. , 2005; Hinds et al ., 2006; Mills et al ., 2006; McCarroll et al ., 2006; Conrad et al ., 2006; Sharp et al ., 2005; Wong et al ., 2007; de Smith et al ., 2007). Although the current understanding of CNVs is still limited for practical use and technical challenges still re- main to be tackled, recent studies already have demon- strated the potential association of CNVs with various diseases, suggesting plausible functional significances and highlighting the promising utility of CNVs.\\r\\n\\r\\nThe current coverage of CNVs in the human genome already has exceeded that of SNPs (approximately 600 Mb comprising ∼ 12% of human genome) and is still in- creasing (Cooper et al ., 2007). These large-scale struc- tural variants, in addition to SNPs, will serve as powerful sources to help our understanding of human genetic variation and of differences in disease susceptibility for various diseases. This paper reviews the current knowl- edge and future perspectives of CNVs.\\r\\n\\r\\n\""
            ]
          },
          "metadata": {
            "tags": []
          },
          "execution_count": 24
        }
      ]
    },
    {
      "cell_type": "markdown",
      "metadata": {
        "id": "3fv1Nl-r75Gm",
        "colab_type": "text"
      },
      "source": [
        "Although 문단 나누기가 안되어 있음\n",
        "\n",
        "Corresponding author가 Introduction 안에 삽입되어 있음"
      ]
    },
    {
      "cell_type": "markdown",
      "metadata": {
        "id": "_ks9uIC2RzEq",
        "colab_type": "text"
      },
      "source": [
        "\n",
        "\n",
        "---\n",
        "수정\n"
      ]
    },
    {
      "cell_type": "code",
      "metadata": {
        "id": "RiNTLTJ3R1pS",
        "colab_type": "code",
        "outputId": "203b6f38-c727-4e86-8880-9586736647fa",
        "colab": {
          "base_uri": "https://localhost:8080/",
          "height": 36
        }
      },
      "source": [
        "pattern2 = re.findall(r'Although the current', N_giRaw)\n",
        "len(pattern2)"
      ],
      "execution_count": 0,
      "outputs": [
        {
          "output_type": "execute_result",
          "data": {
            "text/plain": [
              "1"
            ]
          },
          "metadata": {
            "tags": []
          },
          "execution_count": 25
        }
      ]
    },
    {
      "cell_type": "code",
      "metadata": {
        "id": "xO9HjLKkSElx",
        "colab_type": "code",
        "outputId": "48b8c82d-8d10-4fc1-bfc9-19b812393dcb",
        "colab": {
          "base_uri": "https://localhost:8080/",
          "height": 36
        }
      },
      "source": [
        "[re.sub(r'Although the current', '\\nAlthough the current', p2) for p2 in pattern2]"
      ],
      "execution_count": 0,
      "outputs": [
        {
          "output_type": "execute_result",
          "data": {
            "text/plain": [
              "['\\nAlthough the current']"
            ]
          },
          "metadata": {
            "tags": []
          },
          "execution_count": 26
        }
      ]
    },
    {
      "cell_type": "code",
      "metadata": {
        "id": "Hbmfa698STE5",
        "colab_type": "code",
        "colab": {}
      },
      "source": [
        "N_giRaw = re.sub(r'Although the current', '\\nAlthough the current', N_giRaw)"
      ],
      "execution_count": 0,
      "outputs": []
    },
    {
      "cell_type": "code",
      "metadata": {
        "id": "bAkPR7IGTLN5",
        "colab_type": "code",
        "outputId": "6d4664d9-0f5a-4e89-8138-20d9dd7d9289",
        "colab": {
          "base_uri": "https://localhost:8080/",
          "height": 36
        }
      },
      "source": [
        "pattern3 = re.findall(r'\\*[A-Za-z0-9: .,@+-]+\\r\\n', N_giRaw)\n",
        "len(pattern3)"
      ],
      "execution_count": 0,
      "outputs": [
        {
          "output_type": "execute_result",
          "data": {
            "text/plain": [
              "1"
            ]
          },
          "metadata": {
            "tags": []
          },
          "execution_count": 28
        }
      ]
    },
    {
      "cell_type": "code",
      "metadata": {
        "id": "kpTueHAeTo1u",
        "colab_type": "code",
        "outputId": "d733cbc5-3462-4936-a349-d2578eaa0953",
        "colab": {
          "base_uri": "https://localhost:8080/",
          "height": 56
        }
      },
      "source": [
        "pattern3"
      ],
      "execution_count": 0,
      "outputs": [
        {
          "output_type": "execute_result",
          "data": {
            "text/plain": [
              "['*Corresponding author: E-mail yejun@catholic.ac.kr Tel +82-2-590-1214, Fax +82-2-596-8969 Accepted 11 March 2008\\r\\n']"
            ]
          },
          "metadata": {
            "tags": []
          },
          "execution_count": 29
        }
      ]
    },
    {
      "cell_type": "code",
      "metadata": {
        "id": "bMuRkm05bPca",
        "colab_type": "code",
        "outputId": "43766e17-4950-44b6-f8e0-68328040722c",
        "colab": {
          "base_uri": "https://localhost:8080/",
          "height": 36
        }
      },
      "source": [
        "re.findall(r'\\*C', N_giRaw)"
      ],
      "execution_count": 0,
      "outputs": [
        {
          "output_type": "execute_result",
          "data": {
            "text/plain": [
              "['*C']"
            ]
          },
          "metadata": {
            "tags": []
          },
          "execution_count": 30
        }
      ]
    },
    {
      "cell_type": "code",
      "metadata": {
        "id": "OM9yPnM5ahoO",
        "colab_type": "code",
        "outputId": "f565cea4-a053-40ee-8af2-629003723729",
        "colab": {
          "base_uri": "https://localhost:8080/",
          "height": 36
        }
      },
      "source": [
        "re.findall(r'11 March 2008\\r\\n', N_giRaw)"
      ],
      "execution_count": 0,
      "outputs": [
        {
          "output_type": "execute_result",
          "data": {
            "text/plain": [
              "['11 March 2008\\r\\n']"
            ]
          },
          "metadata": {
            "tags": []
          },
          "execution_count": 31
        }
      ]
    },
    {
      "cell_type": "code",
      "metadata": {
        "id": "NGDp4gETVuMy",
        "colab_type": "code",
        "outputId": "a46eb581-5af6-4b9a-ac02-7f0a2382ca95",
        "colab": {
          "base_uri": "https://localhost:8080/",
          "height": 56
        }
      },
      "source": [
        "[re.sub(r'\\*', '(*', p3) for p3 in pattern3]"
      ],
      "execution_count": 0,
      "outputs": [
        {
          "output_type": "execute_result",
          "data": {
            "text/plain": [
              "['(*Corresponding author: E-mail yejun@catholic.ac.kr Tel +82-2-590-1214, Fax +82-2-596-8969 Accepted 11 March 2008\\r\\n']"
            ]
          },
          "metadata": {
            "tags": []
          },
          "execution_count": 32
        }
      ]
    },
    {
      "cell_type": "code",
      "metadata": {
        "id": "LeiKEfrdWfn1",
        "colab_type": "code",
        "outputId": "8a1010c3-1b6d-4f54-b9aa-659fd0a8958a",
        "colab": {
          "base_uri": "https://localhost:8080/",
          "height": 56
        }
      },
      "source": [
        "[re.sub(r'\\r', ')\\r', p3) for p3 in pattern3]"
      ],
      "execution_count": 0,
      "outputs": [
        {
          "output_type": "execute_result",
          "data": {
            "text/plain": [
              "['*Corresponding author: E-mail yejun@catholic.ac.kr Tel +82-2-590-1214, Fax +82-2-596-8969 Accepted 11 March 2008)\\r\\n']"
            ]
          },
          "metadata": {
            "tags": []
          },
          "execution_count": 33
        }
      ]
    },
    {
      "cell_type": "code",
      "metadata": {
        "id": "GVqWeKLaaDtF",
        "colab_type": "code",
        "colab": {}
      },
      "source": [
        "N_giRaw = re.sub(r'\\*C', '(*C', N_giRaw)"
      ],
      "execution_count": 0,
      "outputs": []
    },
    {
      "cell_type": "code",
      "metadata": {
        "id": "d8UKtN5abedR",
        "colab_type": "code",
        "colab": {}
      },
      "source": [
        "N_giRaw = re.sub(r'11 March 2008\\r\\n', '11 March 2008)\\r\\n', N_giRaw)"
      ],
      "execution_count": 0,
      "outputs": []
    },
    {
      "cell_type": "markdown",
      "metadata": {
        "id": "f5VgkjSsR2AQ",
        "colab_type": "text"
      },
      "source": [
        "\n",
        "\n",
        "---\n",
        "\n"
      ]
    },
    {
      "cell_type": "code",
      "metadata": {
        "id": "ViiTZdIo_31q",
        "colab_type": "code",
        "outputId": "0ae68129-9b17-4364-aa52-7e1340821ed4",
        "colab": {
          "base_uri": "https://localhost:8080/",
          "height": 355
        }
      },
      "source": [
        "print(giRaw[3729:5778]) #The definition of CNV"
      ],
      "execution_count": 0,
      "outputs": [
        {
          "output_type": "stream",
          "text": [
            "The definition of CNV\r\n",
            "\r\n",
            "Structural variations that involve large DNA segments can take various forms, such as duplication, deletion, in- sertion, inversion, and translocation. Among them, DNA copy number variations larger than 1 kb are collectively termed CNVs. Fig. 1 illustrates the concept of CNV. Although the CNV can include large, microscopically visible genomic variations, it generally indicates a sub- microscopic structural variation that is hardly detectable by conventional karyotyping (3 ∼ 5 Mb) (Freeman et al ., 2006). Smaller variations such as small insertional- dele- tion (indel) polymorphisms are not included in CNVs, while they comprise another large collection of over\r\n",
            "\r\n",
            "1 Department of Microbiology, Integrated Research Center\r\n",
            "\r\n",
            "-----------------------------------------------------Page 1-----------------------------------------------------\r\n",
            "﻿\f\r\n",
            "2 Genomics & Informatics Vol. 6(1) 1-7, March 2008\r\n",
            "\r\n",
            "Fig. 1. Concept of inter-individual copy number variations. Most humans have two copies of DNA/gene (diploid, 2n), each originating from the maternal (n) and paternal (n) genome. However, some of the DNA regions/genes are not diploid, showing variable numbers of copies. These variable copies are mainly inherited but partly can be gained de novo . This phenomenon is termed copy number variation (CNV). Such CNVs may affect gene expressions through dosage imbalance of genes.\r\n",
            "\r\n",
            "400,000 variants in the human genome (Mills et al ., 2006), and neither is the insertional polymorphism of mobile elements such as Alus or L1 elements consid- ered a CNV.\r\n",
            "\r\n",
            "At the beginning stages of CNV discovery, a number of terms were proposed to define them e.g ., large-scale copy number variants (LCV) (Iafrate et al ., 2004), copy number polymorphism (CNP) (Sebat et al ., 2004), and intermediate-sized variants (ISV) (Tuzun et al ., 2005). The current definition of CNV is also operational and can be modified with the advance of scanning resolution and coverage, and availability of allele frequency in a determined population.\r\n",
            "\r\n",
            "\n"
          ],
          "name": "stdout"
        }
      ]
    },
    {
      "cell_type": "code",
      "metadata": {
        "id": "FyDZY9AaFLOy",
        "colab_type": "code",
        "outputId": "76f9801a-506a-45c1-db2b-43bb5483c26d",
        "colab": {
          "base_uri": "https://localhost:8080/",
          "height": 56
        }
      },
      "source": [
        "giRaw[3729:5778]"
      ],
      "execution_count": 0,
      "outputs": [
        {
          "output_type": "execute_result",
          "data": {
            "text/plain": [
              "'The definition of CNV\\r\\n\\r\\nStructural variations that involve large DNA segments can take various forms, such as duplication, deletion, in- sertion, inversion, and translocation. Among them, DNA copy number variations larger than 1 kb are collectively termed CNVs. Fig. 1 illustrates the concept of CNV. Although the CNV can include large, microscopically visible genomic variations, it generally indicates a sub- microscopic structural variation that is hardly detectable by conventional karyotyping (3 ∼ 5 Mb) (Freeman et al ., 2006). Smaller variations such as small insertional- dele- tion (indel) polymorphisms are not included in CNVs, while they comprise another large collection of over\\r\\n\\r\\n1 Department of Microbiology, Integrated Research Center\\r\\n\\r\\n-----------------------------------------------------Page 1-----------------------------------------------------\\r\\n\\ufeff\\x0c\\r\\n2 Genomics & Informatics Vol. 6(1) 1-7, March 2008\\r\\n\\r\\nFig. 1. Concept of inter-individual copy number variations. Most humans have two copies of DNA/gene (diploid, 2n), each originating from the maternal (n) and paternal (n) genome. However, some of the DNA regions/genes are not diploid, showing variable numbers of copies. These variable copies are mainly inherited but partly can be gained de novo . This phenomenon is termed copy number variation (CNV). Such CNVs may affect gene expressions through dosage imbalance of genes.\\r\\n\\r\\n400,000 variants in the human genome (Mills et al ., 2006), and neither is the insertional polymorphism of mobile elements such as Alus or L1 elements consid- ered a CNV.\\r\\n\\r\\nAt the beginning stages of CNV discovery, a number of terms were proposed to define them e.g ., large-scale copy number variants (LCV) (Iafrate et al ., 2004), copy number polymorphism (CNP) (Sebat et al ., 2004), and intermediate-sized variants (ISV) (Tuzun et al ., 2005). The current definition of CNV is also operational and can be modified with the advance of scanning resolution and coverage, and availability of allele frequency in a determined population.\\r\\n\\r\\n'"
            ]
          },
          "metadata": {
            "tags": []
          },
          "execution_count": 37
        }
      ]
    },
    {
      "cell_type": "markdown",
      "metadata": {
        "id": "pcGGs8lh__MI",
        "colab_type": "text"
      },
      "source": [
        "page 표시 생략하기\n",
        "\n",
        "위에서 생략된 (1 Department of Microbiology, Integrated Research Center)가 삽입되어 있음\n",
        "\n",
        "2페이지의 논문 head 및 사진의 설명(Fig)이 'The definition of CNV' 중간에 삽입되어 있음"
      ]
    },
    {
      "cell_type": "markdown",
      "metadata": {
        "id": "TTY8hXvaj3Sk",
        "colab_type": "text"
      },
      "source": [
        "\n",
        "\n",
        "---\n",
        "수정\n"
      ]
    },
    {
      "cell_type": "code",
      "metadata": {
        "id": "I779_fyCj5_D",
        "colab_type": "code",
        "outputId": "bea93aba-c843-48bc-8181-fcad85fe248e",
        "colab": {
          "base_uri": "https://localhost:8080/",
          "height": 36
        }
      },
      "source": [
        "pattern4 = re.findall(r'[-]{2,}Page [0-9]+[-]{2,}', N_giRaw)\n",
        "len(pattern4)"
      ],
      "execution_count": 0,
      "outputs": [
        {
          "output_type": "execute_result",
          "data": {
            "text/plain": [
              "7"
            ]
          },
          "metadata": {
            "tags": []
          },
          "execution_count": 38
        }
      ]
    },
    {
      "cell_type": "code",
      "metadata": {
        "id": "N-eDmTzQkol-",
        "colab_type": "code",
        "outputId": "80026c5c-eacb-4b9e-ad48-d539649917b6",
        "colab": {
          "base_uri": "https://localhost:8080/",
          "height": 168
        }
      },
      "source": [
        "pattern4"
      ],
      "execution_count": 0,
      "outputs": [
        {
          "output_type": "execute_result",
          "data": {
            "text/plain": [
              "['-----------------------------------------------------Page 1-----------------------------------------------------',\n",
              " '-----------------------------------------------------Page 2-----------------------------------------------------',\n",
              " '-----------------------------------------------------Page 3-----------------------------------------------------',\n",
              " '-----------------------------------------------------Page 4-----------------------------------------------------',\n",
              " '-----------------------------------------------------Page 5-----------------------------------------------------',\n",
              " '-----------------------------------------------------Page 6-----------------------------------------------------',\n",
              " '-----------------------------------------------------Page 7-----------------------------------------------------']"
            ]
          },
          "metadata": {
            "tags": []
          },
          "execution_count": 39
        }
      ]
    },
    {
      "cell_type": "code",
      "metadata": {
        "id": "SftPLEydksLZ",
        "colab_type": "code",
        "colab": {}
      },
      "source": [
        "N_giRaw = re.sub(r'[-]{2,}Page [0-9]+[-]{2,}', '', N_giRaw)"
      ],
      "execution_count": 0,
      "outputs": []
    },
    {
      "cell_type": "code",
      "metadata": {
        "id": "giRXF_6_qWUI",
        "colab_type": "code",
        "outputId": "5279f1f7-548f-4aa2-a853-8aaa0dd679df",
        "colab": {
          "base_uri": "https://localhost:8080/",
          "height": 36
        }
      },
      "source": [
        "re.findall(r'1 Department of Microbiology, Integrated Research Center', N_giRaw)"
      ],
      "execution_count": 0,
      "outputs": [
        {
          "output_type": "execute_result",
          "data": {
            "text/plain": [
              "['1 Department of Microbiology, Integrated Research Center']"
            ]
          },
          "metadata": {
            "tags": []
          },
          "execution_count": 41
        }
      ]
    },
    {
      "cell_type": "code",
      "metadata": {
        "id": "atttQ4VyqPeF",
        "colab_type": "code",
        "colab": {}
      },
      "source": [
        "N_giRaw = re.sub(r'1 Department of Microbiology, Integrated Research Center', '', N_giRaw)"
      ],
      "execution_count": 0,
      "outputs": []
    },
    {
      "cell_type": "code",
      "metadata": {
        "id": "37weZdGUqiec",
        "colab_type": "code",
        "outputId": "ee51d42d-e441-4b4e-e5d6-6132130f9d99",
        "colab": {
          "base_uri": "https://localhost:8080/",
          "height": 36
        }
      },
      "source": [
        "pattern5 = re.findall(r'[0-9] Genomics & Informatics Vol.', N_giRaw)\n",
        "len(pattern5)"
      ],
      "execution_count": 0,
      "outputs": [
        {
          "output_type": "execute_result",
          "data": {
            "text/plain": [
              "3"
            ]
          },
          "metadata": {
            "tags": []
          },
          "execution_count": 43
        }
      ]
    },
    {
      "cell_type": "code",
      "metadata": {
        "id": "hA0M0p6K8VRT",
        "colab_type": "code",
        "outputId": "c45fcf66-e399-4d9a-b2e5-68077eca1dd2",
        "colab": {
          "base_uri": "https://localhost:8080/",
          "height": 73
        }
      },
      "source": [
        "pattern5"
      ],
      "execution_count": 0,
      "outputs": [
        {
          "output_type": "execute_result",
          "data": {
            "text/plain": [
              "['2 Genomics & Informatics Vol.',\n",
              " '4 Genomics & Informatics Vol.',\n",
              " '6 Genomics & Informatics Vol.']"
            ]
          },
          "metadata": {
            "tags": []
          },
          "execution_count": 44
        }
      ]
    },
    {
      "cell_type": "code",
      "metadata": {
        "id": "n1VhK6QD7pLj",
        "colab_type": "code",
        "outputId": "5f01e4fa-70f4-47bb-e3e2-d693fcaf8e5e",
        "colab": {
          "base_uri": "https://localhost:8080/",
          "height": 73
        }
      },
      "source": [
        "[re.sub(r'([0-9] Genomics & Informatics Vol.)', r'<\\1',p5) for p5 in pattern5]"
      ],
      "execution_count": 0,
      "outputs": [
        {
          "output_type": "execute_result",
          "data": {
            "text/plain": [
              "['<2 Genomics & Informatics Vol.',\n",
              " '<4 Genomics & Informatics Vol.',\n",
              " '<6 Genomics & Informatics Vol.']"
            ]
          },
          "metadata": {
            "tags": []
          },
          "execution_count": 45
        }
      ]
    },
    {
      "cell_type": "code",
      "metadata": {
        "id": "Q0QuXXsl7bii",
        "colab_type": "code",
        "colab": {}
      },
      "source": [
        "N_giRaw = re.sub(r'([0-9] Genomics & Informatics Vol.)', r'<\\1', N_giRaw)"
      ],
      "execution_count": 0,
      "outputs": []
    },
    {
      "cell_type": "code",
      "metadata": {
        "id": "6fVXoBAV92dk",
        "colab_type": "code",
        "outputId": "c40b3b43-ee23-411b-a49a-f0f6a55cfbf2",
        "colab": {
          "base_uri": "https://localhost:8080/",
          "height": 112
        }
      },
      "source": [
        "re.findall(r'(\\r\\n)(Fig[0-9. ]+[a-zA-Z -./0-9]+)', N_giRaw)"
      ],
      "execution_count": 0,
      "outputs": [
        {
          "output_type": "execute_result",
          "data": {
            "text/plain": [
              "[('\\r\\n',\n",
              "  'Fig. 1. Concept of inter-individual copy number variations. Most humans have two copies of DNA/gene (diploid, 2n), each originating from the maternal (n) and paternal (n) genome. However, some of the DNA regions/genes are not diploid, showing variable numbers of copies. These variable copies are mainly inherited but partly can be gained de novo . This phenomenon is termed copy number variation (CNV). Such CNVs may affect gene expressions through dosage imbalance of genes.'),\n",
              " ('\\r\\n',\n",
              "  \"Fig. 2. CNV screening procedure between two individuals using two-dye array-CGH platform. Dye swap hybridization is useful to get reliable interpretation of CNVs. Both individual DNAs are labeled with Cy3 and Cy5, respectively, and co-hybridized. Then, the same experiment is repeated by switching the dyes ('dye-swap'). When both dye-swap profiles show peaks beyond the cutoff and inverted peaks of similar intensity at the same location simultaneously, we interpret them as true CNVs.\")]"
            ]
          },
          "metadata": {
            "tags": []
          },
          "execution_count": 47
        }
      ]
    },
    {
      "cell_type": "code",
      "metadata": {
        "id": "X5ybq-gpAq5q",
        "colab_type": "code",
        "colab": {}
      },
      "source": [
        "N_giRaw = re.sub(r'(\\r\\n)(Fig[0-9. ]+[a-zA-Z -./0-9]+)', r'\\1[\\2]', N_giRaw)"
      ],
      "execution_count": 0,
      "outputs": []
    },
    {
      "cell_type": "markdown",
      "metadata": {
        "id": "uwVNhX6Tj6dL",
        "colab_type": "text"
      },
      "source": [
        "\n",
        "\n",
        "---\n",
        "\n"
      ]
    },
    {
      "cell_type": "code",
      "metadata": {
        "id": "ckQYJQpSLda4",
        "colab_type": "code",
        "outputId": "f8fcedc8-e4f8-40b1-d682-4b5219d05fdb",
        "colab": {
          "base_uri": "https://localhost:8080/",
          "height": 448
        }
      },
      "source": [
        "print(giRaw[5778:8200]) #The identification of CNVs using different platforms"
      ],
      "execution_count": 0,
      "outputs": [
        {
          "output_type": "stream",
          "text": [
            "The identification of CNVs using differ- ent platforms\r\n",
            "\r\n",
            "Various scanning platforms and quality control methods have been used to identify CNV calls. Because the choice of platforms has a great effect on the results, it is worth reviewing the characteristics of platforms to im- prove the understanding of CNVs.\r\n",
            "\r\n",
            "The presence of CNVs in normal individuals was re- ported for the first time in 2004 independently by two\r\n",
            "\r\n",
            "groups led by Lee C. and Wigler M. (Iafrate et al ., 2004; Sebat et al ., 2004). Both studies used two-dye ar- ray-CGH techniques that used clones of bacterial artifi- cial chromosomes (BAC) or oligonucleotides (representa- tional oligonucleotide microarray analysis, or ROMA). They independently reported about 250 and 80 loci as changes in copy number from 39 and 20 normal in- dividuals, respectively. Fig. 2 illustrates the general con- cept of CNV detection based on two-dye array-CGH. Although the average numbers of CNVs per individual genome were similar in two studies (about 12 CNVs per genome), it should be noted that there was little overlap between the results. This discrepancy between studies was possibly due to the use of different platforms and experimental conditions in different populations. However, it is also probable that there are still large numbers of structural variants that have yet to be dis- covered (Buckley et al ., 2005; Eichler, 2006).\r\n",
            "\r\n",
            "One following study that provided evidence on the widespread presence of large-scale structural variations in the human genome was based solely on in silico analysis (Tuzun et al ., 2005). The sequence-level com- parison of two independent genome sequences, i.e ., one derived from a human genome reference assembly\r\n",
            "\r\n",
            "-----------------------------------------------------Page 2-----------------------------------------------------\r\n",
            "﻿\f\r\n",
            "Copy Number Variations in the Human Genome    3\r\n",
            "\r\n",
            "DNA of\r\n",
            "\r\n",
            "I di id l 1\r\n",
            "\r\n",
            "Individual 2\r\n",
            "\r\n",
            "Fig. 2. CNV screening procedure between two individuals using two-dye array-CGH platform. Dye swap hybridization is use- ful to get reliable interpretation of CNVs. Both individual DNAs are labeled with Cy3 and Cy5, respectively, and co-hybridized. Then, the same experiment is repeated by switching the dyes ('dye-swap'). When both dye-swap profiles show peaks beyond the cutoff and inverted peaks of similar intensity at the same location simultaneously, we interpret them as true CNVs.\r\n",
            "\r\n"
          ],
          "name": "stdout"
        }
      ]
    },
    {
      "cell_type": "code",
      "metadata": {
        "id": "HYsEMgmeHS8w",
        "colab_type": "code",
        "outputId": "60c80f70-2234-4f09-f9ed-8b90050e7845",
        "colab": {
          "base_uri": "https://localhost:8080/",
          "height": 56
        }
      },
      "source": [
        "giRaw[5778:8200]"
      ],
      "execution_count": 0,
      "outputs": [
        {
          "output_type": "execute_result",
          "data": {
            "text/plain": [
              "\"The identification of CNVs using differ- ent platforms\\r\\n\\r\\nVarious scanning platforms and quality control methods have been used to identify CNV calls. Because the choice of platforms has a great effect on the results, it is worth reviewing the characteristics of platforms to im- prove the understanding of CNVs.\\r\\n\\r\\nThe presence of CNVs in normal individuals was re- ported for the first time in 2004 independently by two\\r\\n\\r\\ngroups led by Lee C. and Wigler M. (Iafrate et al ., 2004; Sebat et al ., 2004). Both studies used two-dye ar- ray-CGH techniques that used clones of bacterial artifi- cial chromosomes (BAC) or oligonucleotides (representa- tional oligonucleotide microarray analysis, or ROMA). They independently reported about 250 and 80 loci as changes in copy number from 39 and 20 normal in- dividuals, respectively. Fig. 2 illustrates the general con- cept of CNV detection based on two-dye array-CGH. Although the average numbers of CNVs per individual genome were similar in two studies (about 12 CNVs per genome), it should be noted that there was little overlap between the results. This discrepancy between studies was possibly due to the use of different platforms and experimental conditions in different populations. However, it is also probable that there are still large numbers of structural variants that have yet to be dis- covered (Buckley et al ., 2005; Eichler, 2006).\\r\\n\\r\\nOne following study that provided evidence on the widespread presence of large-scale structural variations in the human genome was based solely on in silico analysis (Tuzun et al ., 2005). The sequence-level com- parison of two independent genome sequences, i.e ., one derived from a human genome reference assembly\\r\\n\\r\\n-----------------------------------------------------Page 2-----------------------------------------------------\\r\\n\\ufeff\\x0c\\r\\nCopy Number Variations in the Human Genome    3\\r\\n\\r\\nDNA of\\r\\n\\r\\nI di id l 1\\r\\n\\r\\nIndividual 2\\r\\n\\r\\nFig. 2. CNV screening procedure between two individuals using two-dye array-CGH platform. Dye swap hybridization is use- ful to get reliable interpretation of CNVs. Both individual DNAs are labeled with Cy3 and Cy5, respectively, and co-hybridized. Then, the same experiment is repeated by switching the dyes ('dye-swap'). When both dye-swap profiles show peaks beyond the cutoff and inverted peaks of similar intensity at the same location simultaneously, we interpret them as true CNVs.\\r\\n\\r\""
            ]
          },
          "metadata": {
            "tags": []
          },
          "execution_count": 50
        }
      ]
    },
    {
      "cell_type": "markdown",
      "metadata": {
        "id": "LdRsAykVEhjg",
        "colab_type": "text"
      },
      "source": [
        "'by two groups'에서 문단이 나눠짐\n",
        "\n",
        "이미지 안의 단어가 포함되어 있음"
      ]
    },
    {
      "cell_type": "markdown",
      "metadata": {
        "id": "nuz8IvNBBM78",
        "colab_type": "text"
      },
      "source": [
        "\n",
        "\n",
        "---\n",
        "수정\n"
      ]
    },
    {
      "cell_type": "code",
      "metadata": {
        "id": "dhe3kk7GCES-",
        "colab_type": "code",
        "outputId": "656a02ae-f9d1-48b1-dda5-3d19976e9df5",
        "colab": {
          "base_uri": "https://localhost:8080/",
          "height": 73
        }
      },
      "source": [
        "re.findall(r'Copy Number [a-zA-Z ]+[0-9]+', N_giRaw)"
      ],
      "execution_count": 0,
      "outputs": [
        {
          "output_type": "execute_result",
          "data": {
            "text/plain": [
              "['Copy Number Variations in the Human Genome    3',\n",
              " 'Copy Number Variations in the Human Genome    5',\n",
              " 'Copy Number Variations in the Human Genome    7']"
            ]
          },
          "metadata": {
            "tags": []
          },
          "execution_count": 51
        }
      ]
    },
    {
      "cell_type": "code",
      "metadata": {
        "id": "85nfbwtoBPBZ",
        "colab_type": "code",
        "colab": {}
      },
      "source": [
        "N_giRaw = re.sub(r'(Copy Number [a-zA-Z ]+[0-9]+)', r'<\\1>', N_giRaw)"
      ],
      "execution_count": 0,
      "outputs": []
    },
    {
      "cell_type": "code",
      "metadata": {
        "id": "WuJTg1C9C3Zo",
        "colab_type": "code",
        "outputId": "1876a6d5-7b7f-400f-cbc1-b01f7b4ec5f8",
        "colab": {
          "base_uri": "https://localhost:8080/",
          "height": 36
        }
      },
      "source": [
        "re.findall(r'\\r\\n\\r\\nDNA of\\r\\n\\r\\nI di id l 1\\r\\n\\r\\nIndividual 2\\r\\n', N_giRaw)"
      ],
      "execution_count": 0,
      "outputs": [
        {
          "output_type": "execute_result",
          "data": {
            "text/plain": [
              "['\\r\\n\\r\\nDNA of\\r\\n\\r\\nI di id l 1\\r\\n\\r\\nIndividual 2\\r\\n']"
            ]
          },
          "metadata": {
            "tags": []
          },
          "execution_count": 53
        }
      ]
    },
    {
      "cell_type": "code",
      "metadata": {
        "id": "7d4mPXkYDXZE",
        "colab_type": "code",
        "colab": {}
      },
      "source": [
        "N_giRaw = re.sub(r'\\r\\n\\r\\nDNA of\\r\\n\\r\\nI di id l 1\\r\\n\\r\\nIndividual 2\\r\\n', '', N_giRaw)"
      ],
      "execution_count": 0,
      "outputs": []
    },
    {
      "cell_type": "code",
      "metadata": {
        "id": "_xmnz5FPfEXD",
        "colab_type": "code",
        "outputId": "4d21eb94-9ce5-4a28-8740-264512f77946",
        "colab": {
          "base_uri": "https://localhost:8080/",
          "height": 36
        }
      },
      "source": [
        "re.findall(r'by two\\r\\n\\r\\ngroups', N_giRaw)"
      ],
      "execution_count": 0,
      "outputs": [
        {
          "output_type": "execute_result",
          "data": {
            "text/plain": [
              "['by two\\r\\n\\r\\ngroups']"
            ]
          },
          "metadata": {
            "tags": []
          },
          "execution_count": 76
        }
      ]
    },
    {
      "cell_type": "code",
      "metadata": {
        "id": "1EdYrXzJfzz-",
        "colab_type": "code",
        "colab": {}
      },
      "source": [
        "N_giRaw = re.sub(r'by two\\r\\n\\r\\ngroups', 'by two groups', N_giRaw)"
      ],
      "execution_count": 0,
      "outputs": []
    },
    {
      "cell_type": "markdown",
      "metadata": {
        "id": "0u1yCtpFBPjD",
        "colab_type": "text"
      },
      "source": [
        "\n",
        "\n",
        "---\n",
        "\n"
      ]
    },
    {
      "cell_type": "code",
      "metadata": {
        "id": "UcWc7g-7AGM9",
        "colab_type": "code",
        "outputId": "33ff28fc-7253-437f-bf72-1d52f8173fdd",
        "colab": {
          "base_uri": "https://localhost:8080/",
          "height": 224
        }
      },
      "source": [
        "print(giRaw[8200:10400]) #The identification of CNVs using different platforms2"
      ],
      "execution_count": 0,
      "outputs": [
        {
          "output_type": "stream",
          "text": [
            "\n",
            "and the other from fosmid clones of a genomic library, revealed about 300 structural variations, including inversions. This method can detect various types of structural variants, including inversion, which is not de- tectable by conventional array-CGH platforms. Indeed, the results by Tuzun et al . (2005) can be used as vali- dated control for primary verification or for parameter tuning for the development of CNV-detection platforms or algorithms. Although the use of this method is cur- rently limited by the unavailability of sequence data, on- going efforts to sequence the individual human genome and to develop cost-effective sequencing platforms (Bennett et al ., 2005) will be able to facilitate se- quence-level genome comparisons and the identification of highly qualified structural variants in the near future. Two studies by McCarroll et al . and Conrad et al ., which focused on the identification of deletion variants (McCarroll et al ., 2006; Conrad et al ., 2006), used 1.2\r\n",
            " million SNP genotyping data from The International HapMap Consortium (International HapMap Consortium. 2005). They assumed that allelic deletion causes the discard of probes in SNP genotyping. For example, the runs of consecutive probes with null genotype calls or runs of SNP genotypes whose allelic frequencies deviate from expected Hardy-Weinberg equilibrium ratios or ex- pected Mendelian inheritance patterns might represent the presence of deleted loci. They independently re- ported about 600 potential deletions as small as less than 100 bp. The relatively small size of the identified variants, compared with the array-CGH method, is due to the high resolution of the platforms. The use of an SNP-centric array platform can be used to identify link- age disequilibrium (LD) of structural variants with nearby SNPs in a given population. But, the discrepancy in de- letions that were identified in the two studies was also noted in spite of using similar HapMap populations and\r\n",
            "\r\n",
            "-----------------------------------------------------Page 3-----------------------------------------------------\r\n",
            "﻿\f\r\n",
            "4 Genomics & Informatics Vol. 6(1) 1-7, March 2008\r\n",
            "\r\n",
            "identification methods (Eichler 2006).\r\n",
            "\n"
          ],
          "name": "stdout"
        }
      ]
    },
    {
      "cell_type": "code",
      "metadata": {
        "id": "1fnRc3D4L6XR",
        "colab_type": "code",
        "outputId": "5b4fd4cf-0765-4c27-aaae-a8e13e19783f",
        "colab": {
          "base_uri": "https://localhost:8080/",
          "height": 56
        }
      },
      "source": [
        "giRaw[8200:10400]"
      ],
      "execution_count": 0,
      "outputs": [
        {
          "output_type": "execute_result",
          "data": {
            "text/plain": [
              "'\\nand the other from fosmid clones of a genomic library, revealed about 300 structural variations, including inversions. This method can detect various types of structural variants, including inversion, which is not de- tectable by conventional array-CGH platforms. Indeed, the results by Tuzun et al . (2005) can be used as vali- dated control for primary verification or for parameter tuning for the development of CNV-detection platforms or algorithms. Although the use of this method is cur- rently limited by the unavailability of sequence data, on- going efforts to sequence the individual human genome and to develop cost-effective sequencing platforms (Bennett et al ., 2005) will be able to facilitate se- quence-level genome comparisons and the identification of highly qualified structural variants in the near future. Two studies by McCarroll et al . and Conrad et al ., which focused on the identification of deletion variants (McCarroll et al ., 2006; Conrad et al ., 2006), used 1.2\\r\\n million SNP genotyping data from The International HapMap Consortium (International HapMap Consortium. 2005). They assumed that allelic deletion causes the discard of probes in SNP genotyping. For example, the runs of consecutive probes with null genotype calls or runs of SNP genotypes whose allelic frequencies deviate from expected Hardy-Weinberg equilibrium ratios or ex- pected Mendelian inheritance patterns might represent the presence of deleted loci. They independently re- ported about 600 potential deletions as small as less than 100 bp. The relatively small size of the identified variants, compared with the array-CGH method, is due to the high resolution of the platforms. The use of an SNP-centric array platform can be used to identify link- age disequilibrium (LD) of structural variants with nearby SNPs in a given population. But, the discrepancy in de- letions that were identified in the two studies was also noted in spite of using similar HapMap populations and\\r\\n\\r\\n-----------------------------------------------------Page 3-----------------------------------------------------\\r\\n\\ufeff\\x0c\\r\\n4 Genomics & Informatics Vol. 6(1) 1-7, March 2008\\r\\n\\r\\nidentification methods (Eichler 2006).\\r\\n'"
            ]
          },
          "metadata": {
            "tags": []
          },
          "execution_count": 56
        }
      ]
    },
    {
      "cell_type": "markdown",
      "metadata": {
        "id": "KHDabIy9B5Ad",
        "colab_type": "text"
      },
      "source": [
        "million에서 문단이 나눠져 있음"
      ]
    },
    {
      "cell_type": "markdown",
      "metadata": {
        "id": "3cJjPctREL-S",
        "colab_type": "text"
      },
      "source": [
        "\n",
        "\n",
        "---\n",
        "수정\n"
      ]
    },
    {
      "cell_type": "code",
      "metadata": {
        "id": "Mu9jbC4zEN4y",
        "colab_type": "code",
        "outputId": "b8e3e075-61ca-493d-b1ae-d09ec634248f",
        "colab": {
          "base_uri": "https://localhost:8080/",
          "height": 36
        }
      },
      "source": [
        "re.findall(r'\\r\\n million', N_giRaw)"
      ],
      "execution_count": 0,
      "outputs": [
        {
          "output_type": "execute_result",
          "data": {
            "text/plain": [
              "['\\r\\n million']"
            ]
          },
          "metadata": {
            "tags": []
          },
          "execution_count": 57
        }
      ]
    },
    {
      "cell_type": "code",
      "metadata": {
        "id": "3T_05zReFCtg",
        "colab_type": "code",
        "colab": {}
      },
      "source": [
        "N_giRaw = re.sub(r'\\r\\n million', 'million', N_giRaw)"
      ],
      "execution_count": 0,
      "outputs": []
    },
    {
      "cell_type": "markdown",
      "metadata": {
        "id": "bOaMptlBEObR",
        "colab_type": "text"
      },
      "source": [
        "\n",
        "\n",
        "---\n",
        "\n"
      ]
    },
    {
      "cell_type": "code",
      "metadata": {
        "id": "xf6iGGOYnt9_",
        "colab_type": "code",
        "outputId": "e69d9c72-e558-4c2e-cc65-a2562f7b811d",
        "colab": {
          "base_uri": "https://localhost:8080/",
          "height": 224
        }
      },
      "source": [
        "print(giRaw[10400:13713]) #The identification of CNVs using different platforms3"
      ],
      "execution_count": 0,
      "outputs": [
        {
          "output_type": "stream",
          "text": [
            "\r\n",
            "Recently, a comprehensive CNV analysis was re- ported based on high-resolution array platforms, Whole Genome TilePath (WGTP), which used 26,000 large in- sert clones, and Affymetric GeneChip Human Mapping 500K early access, which used 500,000 SNP oligonu- cleotides. They identified about 1500 genomic segments as copy number variations or CNVRs (copy number vari- able regions) consisting of overlapping CNVs from 269 HapMap individuals (Redon et al ., 2006). The results from the two platforms are worth comparing becasuse they provide the highest currently achievable resolution and are often selected as primary platforms in many other studies. Firstly, the CNVs that are identified from BAC-based array-CGH are generally larger than those from oligonucleotide-based arrays (230 kb and 80 kb of median size, respectively). This overestimation of CNVs by BAC-based array-CGH is due to the large insert clones that are used, which has been frequently re- ported (Iafrate et al ., 2006). Secondly, the actual boun- daries of structural variants can not be determined through BAC-based array-CGH. On the other hand, a more accurate determination of variant boundaries can be achieved through SNP-centric oligonucleotide-based arrays that have an extensive number of oligonucleo- tides. The SNP-centric platform has additional advan- tages of accompanying SNP genotype information as a potential variant source, combined with large structural variants and its ability to detect the presence of loss of heterozygosity (LOH) or segmental uniparental disomy (Bruce et al ., 2005; Mei et al ., 2000). But, the SNP-cen-\r\n",
            "\r\n",
            "tric platform also has its disadvantages. In spite of the advanced resolution, the relatively low signal-to-noise ratio of oligonucleotide-based hybridization intensity, compared with large insert clone array, might result in higher false-positive rates. Because most CNVs are sub- tle changes, this makes the results prone to mis- classification of signal intensities and, consequently, to statistical errors.\r\n",
            "\r\n",
            "Sometimes, it is pointed out that the SNP-centric ar- ray was originally designed for allelic discrimination and is not appropriate for CNV detection because of biased genomic distribution and sequence composition of spot- ted probes (McCarroll and Altshuler 2007d). Recently proposed oligonucleotide-based array platforms have been designed for CNV detection specifically without sacrificing the advantage of high resolution, which can be a promising solution for CNV detection in the near future (Barrett et al ., 2004).\r\n",
            "\r\n",
            "In identifying CNVs in normal populations, one of the fundamental problems is the lack of a reference genome from which diploid states of sample DNA can be inferred. Unlike the array-CGH-based tumor study in which the normal DNA of the same individual can be used as a reference genome, no single DNA source can present the standardized and universal genome in var- iant analysis. Often, the pooled genome of several in- dividuals has been used to represent the average ge- nome, while the heterogeneity of the used population might affect the copy number inference step, as shown for examples of X chromosomes. Redon et al . and Komura et al . adopted the pairwise comparison for ac-\r\n",
            "\r\n",
            "Table 1. Copy number variations and associated diseases/phenotypes\n"
          ],
          "name": "stdout"
        }
      ]
    },
    {
      "cell_type": "code",
      "metadata": {
        "id": "4YAoVUxyNQPp",
        "colab_type": "code",
        "outputId": "c591efb3-8620-4e8c-87bd-6078c5c0276a",
        "colab": {
          "base_uri": "https://localhost:8080/",
          "height": 56
        }
      },
      "source": [
        "giRaw[10400:13713]"
      ],
      "execution_count": 0,
      "outputs": [
        {
          "output_type": "execute_result",
          "data": {
            "text/plain": [
              "'\\r\\nRecently, a comprehensive CNV analysis was re- ported based on high-resolution array platforms, Whole Genome TilePath (WGTP), which used 26,000 large in- sert clones, and Affymetric GeneChip Human Mapping 500K early access, which used 500,000 SNP oligonu- cleotides. They identified about 1500 genomic segments as copy number variations or CNVRs (copy number vari- able regions) consisting of overlapping CNVs from 269 HapMap individuals (Redon et al ., 2006). The results from the two platforms are worth comparing becasuse they provide the highest currently achievable resolution and are often selected as primary platforms in many other studies. Firstly, the CNVs that are identified from BAC-based array-CGH are generally larger than those from oligonucleotide-based arrays (230 kb and 80 kb of median size, respectively). This overestimation of CNVs by BAC-based array-CGH is due to the large insert clones that are used, which has been frequently re- ported (Iafrate et al ., 2006). Secondly, the actual boun- daries of structural variants can not be determined through BAC-based array-CGH. On the other hand, a more accurate determination of variant boundaries can be achieved through SNP-centric oligonucleotide-based arrays that have an extensive number of oligonucleo- tides. The SNP-centric platform has additional advan- tages of accompanying SNP genotype information as a potential variant source, combined with large structural variants and its ability to detect the presence of loss of heterozygosity (LOH) or segmental uniparental disomy (Bruce et al ., 2005; Mei et al ., 2000). But, the SNP-cen-\\r\\n\\r\\ntric platform also has its disadvantages. In spite of the advanced resolution, the relatively low signal-to-noise ratio of oligonucleotide-based hybridization intensity, compared with large insert clone array, might result in higher false-positive rates. Because most CNVs are sub- tle changes, this makes the results prone to mis- classification of signal intensities and, consequently, to statistical errors.\\r\\n\\r\\nSometimes, it is pointed out that the SNP-centric ar- ray was originally designed for allelic discrimination and is not appropriate for CNV detection because of biased genomic distribution and sequence composition of spot- ted probes (McCarroll and Altshuler 2007d). Recently proposed oligonucleotide-based array platforms have been designed for CNV detection specifically without sacrificing the advantage of high resolution, which can be a promising solution for CNV detection in the near future (Barrett et al ., 2004).\\r\\n\\r\\nIn identifying CNVs in normal populations, one of the fundamental problems is the lack of a reference genome from which diploid states of sample DNA can be inferred. Unlike the array-CGH-based tumor study in which the normal DNA of the same individual can be used as a reference genome, no single DNA source can present the standardized and universal genome in var- iant analysis. Often, the pooled genome of several in- dividuals has been used to represent the average ge- nome, while the heterogeneity of the used population might affect the copy number inference step, as shown for examples of X chromosomes. Redon et al . and Komura et al . adopted the pairwise comparison for ac-\\r\\n\\r\\nTable 1. Copy number variations and associated diseases/phenotypes'"
            ]
          },
          "metadata": {
            "tags": []
          },
          "execution_count": 60
        }
      ]
    },
    {
      "cell_type": "markdown",
      "metadata": {
        "id": "9rfAlbLLoZVV",
        "colab_type": "text"
      },
      "source": [
        "'SNP-cen-tric'에서 문단이 나눠짐"
      ]
    },
    {
      "cell_type": "markdown",
      "metadata": {
        "id": "rvJba14-FxqA",
        "colab_type": "text"
      },
      "source": [
        "\n",
        "\n",
        "---\n",
        "수정\n"
      ]
    },
    {
      "cell_type": "code",
      "metadata": {
        "id": "PNSVZ3nzFzcj",
        "colab_type": "code",
        "outputId": "25caa2d5-41e5-4f91-91fb-71a7b4d3954d",
        "colab": {
          "base_uri": "https://localhost:8080/",
          "height": 36
        }
      },
      "source": [
        "re.findall(r'SNP-cen-\\r\\n\\r\\ntric', N_giRaw)"
      ],
      "execution_count": 0,
      "outputs": [
        {
          "output_type": "execute_result",
          "data": {
            "text/plain": [
              "['SNP-cen-\\r\\n\\r\\ntric']"
            ]
          },
          "metadata": {
            "tags": []
          },
          "execution_count": 61
        }
      ]
    },
    {
      "cell_type": "code",
      "metadata": {
        "id": "H0u3VDWfF-YY",
        "colab_type": "code",
        "colab": {}
      },
      "source": [
        "N_giRaw = re.sub(r'SNP-cen-\\r\\n\\r\\ntric', 'SNP-centric', N_giRaw)"
      ],
      "execution_count": 0,
      "outputs": []
    },
    {
      "cell_type": "code",
      "metadata": {
        "id": "_hdW554BGPyt",
        "colab_type": "code",
        "outputId": "1ee114e0-7cc4-4355-87c8-eaef5ef1dfa4",
        "colab": {
          "base_uri": "https://localhost:8080/",
          "height": 36
        }
      },
      "source": [
        "re.findall(r'(\\n)(Table [0-9a-zA-Z. /]+)', N_giRaw)"
      ],
      "execution_count": 0,
      "outputs": [
        {
          "output_type": "execute_result",
          "data": {
            "text/plain": [
              "[('\\n', 'Table 1. Copy number variations and associated diseases/phenotypes')]"
            ]
          },
          "metadata": {
            "tags": []
          },
          "execution_count": 63
        }
      ]
    },
    {
      "cell_type": "code",
      "metadata": {
        "id": "Ks-Srfq1Gvgx",
        "colab_type": "code",
        "colab": {}
      },
      "source": [
        "N_giRaw = re.sub(r'(\\n)(Table [0-9a-zA-Z. /]+)', r'\\1[\\2]', N_giRaw)"
      ],
      "execution_count": 0,
      "outputs": []
    },
    {
      "cell_type": "markdown",
      "metadata": {
        "id": "CrWInJlwFz40",
        "colab_type": "text"
      },
      "source": [
        "\n",
        "\n",
        "---\n",
        "\n"
      ]
    },
    {
      "cell_type": "code",
      "metadata": {
        "id": "MbFwsxmwqtdN",
        "colab_type": "code",
        "outputId": "d20ecf26-c8a0-41d2-aa42-8c1159806ed9",
        "colab": {
          "base_uri": "https://localhost:8080/",
          "height": 131
        }
      },
      "source": [
        "print(giRaw[13713:15440]) #The identification of CNVs using different platforms4"
      ],
      "execution_count": 0,
      "outputs": [
        {
          "output_type": "stream",
          "text": [
            "\r\n",
            "\r\n",
            "Gene          Location       Susceptible type                       Phenotype                           Reference FCGR3          1q23.3           Low copy                       Glomerulonephritis                    Aitman et al ., 2006 FCGR3B          1q23.3           Low copy       Systemic lupus erythematosus, microscopic polyangiitis Fanciulli M et al ., 2007 C4            6p21.32          Low copy                  Systemic lupus erythematosus                Yang et al ., 2007 CCL3L1          17q12           Low copy                     HIV/AIDS susceptibility                 Gonzalez et al ., 2005 CCL3L1          17q12           High copy                      Rheumatoid arthritis                  McKinney et al ., 2008 UGT2B17          4p13           Low copy            Body testosterone level, prostate cancer risk       Jakobsson et al ., 2006 CNTNAP2         7q36.1           Low copy                   Schizophrenia and epilepsy               Friedman et al ., 2008 AMY1           1p21.1         Variable copy                        Starch diet                        Perry et al ., 2007 DEFB4          8p23.1         Variable copy                       Crohn disease                    Fellermann et al ., 2006 DEFENSIN         8p23.1           Low copy                    Autism spectrum disorder                  Cho et al ., 2008 SHANK3         22q13.3          Low copy                    Autism spectrum disorder                Moessner et al ., 2007 NRXN1          2p16.3           Low copy                         Schizophrenia                       Kirov et al ., 2008 APBA2          15q13.1          Duplication                        Schizophrenia                       Kirov et al ., 2008\r\n",
            "\r\n",
            "\n"
          ],
          "name": "stdout"
        }
      ]
    },
    {
      "cell_type": "code",
      "metadata": {
        "id": "CPZabTDiOIUY",
        "colab_type": "code",
        "outputId": "87828fcf-1d41-4447-a913-748ba69f02ab",
        "colab": {
          "base_uri": "https://localhost:8080/",
          "height": 56
        }
      },
      "source": [
        "giRaw[13713:15440]"
      ],
      "execution_count": 0,
      "outputs": [
        {
          "output_type": "execute_result",
          "data": {
            "text/plain": [
              "'\\r\\n\\r\\nGene          Location       Susceptible type                       Phenotype                           Reference FCGR3          1q23.3           Low copy                       Glomerulonephritis                    Aitman et al ., 2006 FCGR3B          1q23.3           Low copy       Systemic lupus erythematosus, microscopic polyangiitis Fanciulli M et al ., 2007 C4            6p21.32          Low copy                  Systemic lupus erythematosus                Yang et al ., 2007 CCL3L1          17q12           Low copy                     HIV/AIDS susceptibility                 Gonzalez et al ., 2005 CCL3L1          17q12           High copy                      Rheumatoid arthritis                  McKinney et al ., 2008 UGT2B17          4p13           Low copy            Body testosterone level, prostate cancer risk       Jakobsson et al ., 2006 CNTNAP2         7q36.1           Low copy                   Schizophrenia and epilepsy               Friedman et al ., 2008 AMY1           1p21.1         Variable copy                        Starch diet                        Perry et al ., 2007 DEFB4          8p23.1         Variable copy                       Crohn disease                    Fellermann et al ., 2006 DEFENSIN         8p23.1           Low copy                    Autism spectrum disorder                  Cho et al ., 2008 SHANK3         22q13.3          Low copy                    Autism spectrum disorder                Moessner et al ., 2007 NRXN1          2p16.3           Low copy                         Schizophrenia                       Kirov et al ., 2008 APBA2          15q13.1          Duplication                        Schizophrenia                       Kirov et al ., 2008\\r\\n\\r\\n'"
            ]
          },
          "metadata": {
            "tags": []
          },
          "execution_count": 66
        }
      ]
    },
    {
      "cell_type": "markdown",
      "metadata": {
        "id": "ZVL_xIUnwxn5",
        "colab_type": "text"
      },
      "source": [
        "11. 표"
      ]
    },
    {
      "cell_type": "markdown",
      "metadata": {
        "id": "PoN63gFXHpMg",
        "colab_type": "text"
      },
      "source": [
        "\n",
        "\n",
        "---\n",
        "수정\n"
      ]
    },
    {
      "cell_type": "code",
      "metadata": {
        "id": "X5OadouFHtYJ",
        "colab_type": "code",
        "outputId": "4ca52fc1-bf4f-4f47-8549-a35635b4ba9d",
        "colab": {
          "base_uri": "https://localhost:8080/",
          "height": 75
        }
      },
      "source": [
        "re.findall(r'(\\r\\n\\r\\n)(Gene [ a-zA-Z0-9.,/]+)', N_giRaw)"
      ],
      "execution_count": 0,
      "outputs": [
        {
          "output_type": "execute_result",
          "data": {
            "text/plain": [
              "[('\\r\\n\\r\\n',\n",
              "  'Gene          Location       Susceptible type                       Phenotype                           Reference FCGR3          1q23.3           Low copy                       Glomerulonephritis                    Aitman et al ., 2006 FCGR3B          1q23.3           Low copy       Systemic lupus erythematosus, microscopic polyangiitis Fanciulli M et al ., 2007 C4            6p21.32          Low copy                  Systemic lupus erythematosus                Yang et al ., 2007 CCL3L1          17q12           Low copy                     HIV/AIDS susceptibility                 Gonzalez et al ., 2005 CCL3L1          17q12           High copy                      Rheumatoid arthritis                  McKinney et al ., 2008 UGT2B17          4p13           Low copy            Body testosterone level, prostate cancer risk       Jakobsson et al ., 2006 CNTNAP2         7q36.1           Low copy                   Schizophrenia and epilepsy               Friedman et al ., 2008 AMY1           1p21.1         Variable copy                        Starch diet                        Perry et al ., 2007 DEFB4          8p23.1         Variable copy                       Crohn disease                    Fellermann et al ., 2006 DEFENSIN         8p23.1           Low copy                    Autism spectrum disorder                  Cho et al ., 2008 SHANK3         22q13.3          Low copy                    Autism spectrum disorder                Moessner et al ., 2007 NRXN1          2p16.3           Low copy                         Schizophrenia                       Kirov et al ., 2008 APBA2          15q13.1          Duplication                        Schizophrenia                       Kirov et al ., 2008')]"
            ]
          },
          "metadata": {
            "tags": []
          },
          "execution_count": 67
        }
      ]
    },
    {
      "cell_type": "code",
      "metadata": {
        "id": "t_-phPbdIkl2",
        "colab_type": "code",
        "colab": {}
      },
      "source": [
        "N_giRaw = re.sub(r'(\\r\\n\\r\\n)(Gene [ a-zA-Z0-9.,/]+)', r'\\1[\\2]', N_giRaw)"
      ],
      "execution_count": 0,
      "outputs": []
    },
    {
      "cell_type": "markdown",
      "metadata": {
        "id": "r68PEEdZHt6i",
        "colab_type": "text"
      },
      "source": [
        "\n",
        "\n",
        "---\n",
        "\n"
      ]
    },
    {
      "cell_type": "code",
      "metadata": {
        "id": "HpcWMXJvyP-S",
        "colab_type": "code",
        "outputId": "4d996a3f-4919-42bd-ec6d-99a6ab7899cf",
        "colab": {
          "base_uri": "https://localhost:8080/",
          "height": 131
        }
      },
      "source": [
        "print(giRaw[15440:15934]) #The identification of CNVs using different platforms5"
      ],
      "execution_count": 0,
      "outputs": [
        {
          "output_type": "stream",
          "text": [
            "-----------------------------------------------------Page 4-----------------------------------------------------\r\n",
            "﻿\f\r\n",
            "curate inference of copy number states in individual loci, which is noteworthy (Redon et al ., 2006; Komura et al ., 2006). In pairwise comparison, the hybridization in- tensities of one sample is compared with those of all other remaining samples as one large reference, and the diploid states of loci can be more accurately inferred from the multiple comparison results.\r\n",
            "\r\n",
            "\n"
          ],
          "name": "stdout"
        }
      ]
    },
    {
      "cell_type": "code",
      "metadata": {
        "id": "Qp7pGvSLOj59",
        "colab_type": "code",
        "outputId": "ae61cfe1-39b9-4627-d4b1-f4c1791b7e50",
        "colab": {
          "base_uri": "https://localhost:8080/",
          "height": 56
        }
      },
      "source": [
        "giRaw[15440:15934]"
      ],
      "execution_count": 0,
      "outputs": [
        {
          "output_type": "execute_result",
          "data": {
            "text/plain": [
              "'-----------------------------------------------------Page 4-----------------------------------------------------\\r\\n\\ufeff\\x0c\\r\\ncurate inference of copy number states in individual loci, which is noteworthy (Redon et al ., 2006; Komura et al ., 2006). In pairwise comparison, the hybridization in- tensities of one sample is compared with those of all other remaining samples as one large reference, and the diploid states of loci can be more accurately inferred from the multiple comparison results.\\r\\n\\r\\n'"
            ]
          },
          "metadata": {
            "tags": []
          },
          "execution_count": 78
        }
      ]
    },
    {
      "cell_type": "code",
      "metadata": {
        "id": "FtfzSqzszS3S",
        "colab_type": "code",
        "outputId": "eb6add43-f2b2-4b65-f3ec-8c710f26c859",
        "colab": {
          "base_uri": "https://localhost:8080/",
          "height": 112
        }
      },
      "source": [
        "print(giRaw[15934:17170]) #Clinical implications of CNVs and disease association study"
      ],
      "execution_count": 0,
      "outputs": [
        {
          "output_type": "stream",
          "text": [
            "Clinical implications of CNVs and dis- ease association study\r\n",
            "\r\n",
            "In spite of recent technological developments of genetic polymorphism-oriented disease association studies, still little is known about the effects of genetic poly- morphisms on common complex diseases. One of the ultimate goals in exploring CNVs is to systematically as- sess the association between such variants and the disease. Although it is unlikely that all CNVs in the hu- man genome are associated with diseases, evidence of the association of CNVs and a wide spectrum of human diseases has rapidly accumulated. Table 1 summarizes the CNVs that have been reported to be associated with diseases. CNVs can affect disease susceptibility or in- dividual differences in responses to drugs through alter- ation of gene expression. Stranger et al .'s and Heiden- blad et al' s reports coherently showed positive correla- tions between DNA copy number dosage and gene ex- pression level (Stranger et al ., 2007; Heidenblad et al ., 2005). If a CNV region contains transcriptional regulatory elements rather than protein coding genes, it still can affect gene expression levels by changing transcriptional regulation or heterochromatin spread (Reymond et al ., 2007).\r\n",
            "\r\n"
          ],
          "name": "stdout"
        }
      ]
    },
    {
      "cell_type": "code",
      "metadata": {
        "id": "KWwxPQslPV-_",
        "colab_type": "code",
        "outputId": "0f09aa29-59be-4887-c471-05d73ae19f15",
        "colab": {
          "base_uri": "https://localhost:8080/",
          "height": 299
        }
      },
      "source": [
        "print(giRaw[17170:18400]) #Conclusion and Acknowledgements"
      ],
      "execution_count": 0,
      "outputs": [
        {
          "output_type": "stream",
          "text": [
            "\n",
            "Conclusion\r\n",
            "\r\n",
            "The genomic fraction that is occupied by CNVs is now estimated to be about 600 Mb, already exceeding that of single base-level variants. It is likely that the number of CNVs and the genomic fraction that is affected by structural variants will continue to expand, and many of them will be used for more practical purposes, including disease association or population studies. However, it should be remembered that the current CNV entries are plagued by substantial amounts of false-positive and false-negative results. Only a small portion of them have been validated by independent methods. To overcome this, it is necessary to improve scanning platforms, in- cluding optimizing experimental conditions and develop- ing more reliable CNV calling algorithms. In the mean- time, it is required for individual researchers to know the characteristics of the available platforms and analytical techniques to use them or to interpret the published re-\r\n",
            "\r\n",
            "Copy Number Variations in the Human Genome    5\r\n",
            "\r\n",
            "sults properly.\r\n",
            "\r\n",
            "Acknowledgements\r\n",
            "\r\n",
            "This work is supported by a grant from the Korea Health 21 R&D Project, Ministry of Health & Welfare, Republic of Korea (0405-BC02-0604-0004) and (01-PJ3- PG6-01GN09-003).\r\n",
            "\r\n",
            "\n"
          ],
          "name": "stdout"
        }
      ]
    },
    {
      "cell_type": "code",
      "metadata": {
        "id": "EaYs54EtQMGK",
        "colab_type": "code",
        "outputId": "9b363033-d7e6-49ef-a31e-60995dfe191b",
        "colab": {
          "base_uri": "https://localhost:8080/",
          "height": 56
        }
      },
      "source": [
        "giRaw[17170:18400]"
      ],
      "execution_count": 0,
      "outputs": [
        {
          "output_type": "execute_result",
          "data": {
            "text/plain": [
              "'\\nConclusion\\r\\n\\r\\nThe genomic fraction that is occupied by CNVs is now estimated to be about 600 Mb, already exceeding that of single base-level variants. It is likely that the number of CNVs and the genomic fraction that is affected by structural variants will continue to expand, and many of them will be used for more practical purposes, including disease association or population studies. However, it should be remembered that the current CNV entries are plagued by substantial amounts of false-positive and false-negative results. Only a small portion of them have been validated by independent methods. To overcome this, it is necessary to improve scanning platforms, in- cluding optimizing experimental conditions and develop- ing more reliable CNV calling algorithms. In the mean- time, it is required for individual researchers to know the characteristics of the available platforms and analytical techniques to use them or to interpret the published re-\\r\\n\\r\\nCopy Number Variations in the Human Genome    5\\r\\n\\r\\nsults properly.\\r\\n\\r\\nAcknowledgements\\r\\n\\r\\nThis work is supported by a grant from the Korea Health 21 R&D Project, Ministry of Health & Welfare, Republic of Korea (0405-BC02-0604-0004) and (01-PJ3- PG6-01GN09-003).\\r\\n\\r\\n'"
            ]
          },
          "metadata": {
            "tags": []
          },
          "execution_count": 73
        }
      ]
    },
    {
      "cell_type": "code",
      "metadata": {
        "id": "EEa7kue-QKPb",
        "colab_type": "code",
        "outputId": "80575d47-fc87-4d68-cd04-7ca1458d7b6c",
        "colab": {
          "base_uri": "https://localhost:8080/",
          "height": 1000
        }
      },
      "source": [
        "print(giRaw[18400:]) #reference: 본문 내용이 아니므로 그대로 둠"
      ],
      "execution_count": 0,
      "outputs": [
        {
          "output_type": "stream",
          "text": [
            "References\r\n",
            "\r\n",
            "Aitman, T.J., R.Dong, T.J., Vyse, P.J., et al . (2006). Copy number polymorphism in Fcgr3 predisposes to glomer- ulonephritis in rats and humans. Nature 439, 851-855. Barrett, M.T., Scheffer, A., Ben-Dor, A., et al . (2004). Com- parative genomic hybridization using oligonucleotide mi- croarrays and total genomic DNA. Proc. Natl. Acad. Sci. U. S. A 101, 17765-17770.\r\n",
            "\r\n",
            "Bennett, S.T., Barnes, C., Cox, A., Davies, L., and Brown, C. (2005). Toward the 1,000 dollars human genome. Pharmacogenomics 6, 373-382.\r\n",
            "\r\n",
            "Bruce, S., Leinonen, R., Lindgren, C.M., Kivinen, K., Dahlman-Wright, K., Lipsanen-Nyman, M., Hannula- Jouppi, K., and Kere, J. (2005). Global analysis of uni- parental disomy using high density genotyping arrays. J. Med. Genet. 42, 847-851.\r\n",
            "\r\n",
            "Buckley, P.G., Mantripragada, K.K., Piotrowski, A., az de, S.T., and Dumanski, J.P. (2005). Copy-number poly- morphisms: mining the tip of an iceberg. Trends Genet . 21, 315-317.\r\n",
            "\r\n",
            "Check, E. (2005). Human genome: patchwork people.\r\n",
            "\r\n",
            "Nature 437, 1084-1086.\r\n",
            "\r\n",
            "Cheng, Z., Ventura, M., She, X., et al . (2005). A ge- nome-wide comparison of recent chimpanzee and human segmental duplications. Nature 437, 88-93.\r\n",
            "\r\n",
            "Cho, C.S., Yim, S.H., Yoo, H.K., et al . (2008). Copy number variations associated with idiopathic autism identified by whole-genome array-CGH. Psychiatric Genetics in press. Conrad, D.F., Andrews, T.D., Carter, N.P., Hurles, M.E., and Pritchard, J.K. (2006). A high-resolution survey of deletion polymorphism in the human genome. Nat. Genet . 38, 75- 81.\r\n",
            "\r\n",
            "Cooper, G.M., Nickerson, D.A., and Eichler, E.E. (2007). Mutational and selective effects on copy-number variants in the human genome. Nat. Genet . 39, S22-S29.\r\n",
            "\r\n",
            "de Smith, A.J., Tsalenko, A., Sampas, N., et al . (2007). Array CGH analysis of copy number variation identifies 1284 new genes variant in healthy white males: im- plications for association studies of complex diseases. Hum. Mol. Genet . 16, 2783-2794.\r\n",
            "\r\n",
            "Eichler, E.E. (2006). Widening the spectrum of human ge-\r\n",
            "\r\n",
            "netic variation. Nat. Genet . 38, 9-11.\r\n",
            "\r\n",
            "Fanciulli, M., Norsworthy, P.J., Petretto, E., et al . (2007). FCGR3B copy number variation is associated with sus- ceptibility to systemic, but not organ-specific, auto- immunity. Nat. Genet . 39, 721-723.\r\n",
            "\r\n",
            "Fellermann, K., Stange, D.E., Schaeffeler, E., et al . (2006). A\r\n",
            "\r\n",
            "-----------------------------------------------------Page 5-----------------------------------------------------\r\n",
            "﻿\f\r\n",
            "6 Genomics & Informatics Vol. 6(1) 1-7, March 2008\r\n",
            "\r\n",
            "chromosome 8 gene-cluster polymorphism with low hu- man beta-defensin 2 gene copy number predisposes to Crohn disease of the colon. Am. J. Hum. Genet . 79, 439-448.\r\n",
            "\r\n",
            "Feuk, L., MacDonald, J.R., Tang, T., Carson, A.R., Li, M., Rao, G., Khaja, R., and Scherer, S.W. (2005). Discovery of human inversion polymorphisms by comparative analy- sis of human and chimpanzee DNA sequence assem- blies. PLoS. Genet . 1, e56.\r\n",
            "\r\n",
            "Freeman, J.L., Perry, G.H., Feuk, L., et al . (2006). Copy number variation: new insights in genome diversity. Genome Res . 16, 949-961.\r\n",
            "\r\n",
            "Friedman, J.I., Vrijenhoek, T., Markx, S., et al . (2008). CNTNAP2 gene dosage variation is associated with schizophrenia and epilepsy. Mol. Psychiatry . 13, 26126- 26126.\r\n",
            "\r\n",
            "Gonzalez, E., Kulkarni, H., Bolivar, H., et al . (2005). The in- fluence of CCL3L1 gene-containing segmental duplica- tions on HIV-1/AIDS susceptibility. Science 307, 1434- 1440.\r\n",
            "\r\n",
            "Heidenblad, M., Lindgren, D., Veltman, J.A., Jonson, T., Mahlam ä ki, E.H., Gorunova, L., van Kessel, A.G., Scho- enmakers, E.F., and H ö glund, M. (2005). Microarray anal- yses reveal strong influence of DNA copy number alter- ations on the transcriptional patterns in pancreatic can- cer: implications for the interpretation of genomic amplifi- cations. Oncogene 24, 1794-1801.\r\n",
            "\r\n",
            "Hinds, D.A., Kloek, A.P., Jen, M., Chen, X., and Frazer, K.A. (2006). Common deletions and SNPs are in linkage disequilibrium in the human genome. Nat. Genet . 38, 82- 85.\r\n",
            "\r\n",
            "Iafrate, A.J., Feuk, L., Rivera, M.N., Listewnik, M.L., Donahoe, P.K., Qi, Y., Scherer, S.W., and Lee, C. (2004). Detection of large-scale variation in the human genome. Nat. Genet . 36, 949-951.\r\n",
            "\r\n",
            "International HapMap Consortium. (2005). A haplotype map\r\n",
            "\r\n",
            "of the human genome. Nature 437, 1299-1320.\r\n",
            "\r\n",
            "Istrail, S., Sutton, G.G., Florea, L., et al . (2004). Whole-ge- nome shotgun assembly and comparison of human ge- nome assemblies. Proc. Natl. Acad. Sci. U. S. A 101, 1916-1921.\r\n",
            "\r\n",
            "Jakobsson, J., Ekstrom. L., Inotsume, N., Garle, M., Lorentzon, M., Ohlsson, C., Roh, H.K., Carlstr ö m, K., and Rane, A. (2006). Large differences in testosterone ex- cretion in Korean and Swedish men are strongly asso- ciated with a UDP-glucuronosyl transferase 2B17 poly- morphism. J. Clin. Endocrinol. Metab . 91, 687-693.\r\n",
            "\r\n",
            "Kirov, G., Gumus, D., Chen, W., et al . (2008). Comparative genome hybridization suggests a role for NRXN1 and APBA2 in schizophrenia. Hum. Mol. Genet . 17, 458-465. Komura, D., Shen, F., Ishikawa, S., et al . (2006). Genome- wide detection of human copy number variations using high-density DNA oligonucleotide arrays. Genome Res . 16, 1575-1584.\r\n",
            "\r\n",
            "Lupski, J.R. (1998). Genomic disorders: structural features of the genome can lead to DNA rearrangements and hu- man disease traits. Trends Genet . 14, 417-422.\r\n",
            "\r\n",
            "McCarroll, S.A., and Altshuler, D.M. (2007). Copy-number variation and association studies of human disease. Nat.\r\n",
            "\r\n",
            "Genet . 39, S37-S42.\r\n",
            "\r\n",
            "McCarroll, S.A., Hadnott, T.N., Perry, G.H., et al . (2006). Common deletion polymorphisms in the human genome. Nat. Genet . 38, 86-92.\r\n",
            "\r\n",
            "McKinney, C., Merriman, M.E., Chapman, P.T., et al . (2008). Evidence for an influence of chemokine ligand 3-like 1 (CCL3L1) gene copy number on susceptibility to rheuma- toid arthritis. Ann. Rheum. Dis . 67, 409-413.\r\n",
            "\r\n",
            "Mei, R., Galipeau, P.C., Prass, C., Berno, A., Ghandour, G., Patil, N., Wolff, R.K., Chee, M.S., Reid, B.J., and Lockhart, D.J. (2000). Genome-wide detection of allelic imbalance using human SNPs and high-density DNA arrays. Genome Res . 10, 1126-1137.\r\n",
            "\r\n",
            "Mills, R.E., Luttig, C.T., Larkins, C.E., Beauchamp, A., Tsui, C., Pittard, W.S., and Devine, S.E. (2006). An initial map of insertion and deletion (INDEL) variation in the human genome. Genome Res . 16, 1182-1190.\r\n",
            "\r\n",
            "Moessner, R., Marshall, C.R., Sutcliffe, J.S., et al . (2007). Contribution of SHANK3 mutations to autism spectrum disorder. Am. J. Hum. Genet . 81, 1289-1297.\r\n",
            "\r\n",
            "Perry, G.H., Dominy, N.J., Claw, K.G., et al . (2007). Diet and the evolution of human amylase gene copy number variation. Nat. Genet . 39, 1256-1260.\r\n",
            "\r\n",
            "Przeworski, M., Hudson, R.R., and Di, R.A. (2000). Adjusting the focus on human variation. Trends Genet . 16, 296- 302.\r\n",
            "\r\n",
            "Redon, R., Ishikawa, S., Fitch, K.R., et al . (2006). Global variation in copy number in the human genome. Nature 444, 444-454.\r\n",
            "\r\n",
            "Reymond, A., Henrichsen, C.N., Harewood, L., and Merla, G. (2007). Side effects of genome structural changes. Curr. Opin. Genet. Dev . 17, 381-386.\r\n",
            "\r\n",
            "Sachidanandam, R., Weissman, D., Schmidt, S.C., et al . (2001). A map of human genome sequence variation containing 1.42 million single nucleotide polymorphisms. Nature 409, 928-933.\r\n",
            "\r\n",
            "Sebat, J., Lakshmi, B., Troge, J., et al . (2004). Large-scale copy number polymorphism in the human genome. Science 305, 525-528.\r\n",
            "\r\n",
            "Sharp, A.J., Locke, D.P., McGrath, S.D., et al . (2005). Segmental duplications and copy-number variation in the human genome. Am. J. Hum. Genet . 77, 78-88.\r\n",
            "\r\n",
            "Stankiewicz, P., and Lupski, J.R. (2002). Genome archi- tecture, rearrangements and genomic disorders. Trends Genet . 18, 74-82.\r\n",
            "\r\n",
            "Stranger, B.E., Forrest, M.S., Dunning, M., et al . (2007). Relative impact of nucleotide and copy number variation on gene expression phenotypes. Science 315, 848-853. Tuzun, E., Sharp, A.J., Bailey, J.A., et al . (2005). Fine-scale structural variation of the human genome. Nat. Genet . 37, 727-732.\r\n",
            "\r\n",
            "Warburton, D. (1991). De novo balanced chromosome re- arrangements and extra marker chromosomes identified at prenatal diagnosis: clinical significance and distribution of breakpoints. Am. J. Hum. Genet . 49, 995-1013.\r\n",
            "\r\n",
            "Wong, K.K., deLeeuw, R.J., Dosanjh, N.S., et al . (2007). A comprehensive analysis of common copy-number variations in the human genome. Am. J. Hum. Genet . 80, 91-104. Yang, Y., Chung, E.K., Wu, Y.L., et al . (2007). Gene copy-\r\n",
            "\r\n",
            "-----------------------------------------------------Page 6-----------------------------------------------------\r\n",
            "﻿\f\r\n",
            "number variation and associated polymorphisms of com- plement component C4 in human systemic lupus eryth- ematosus (SLE): low copy number is a risk factor for and\r\n",
            "\r\n",
            "Copy Number Variations in the Human Genome    7\r\n",
            "\r\n",
            "high copy number is a protective factor against SLE sus- ceptibility in European Americans. Am. J. Hum. Genet . 80, 1037-1054.\r\n",
            "\r\n",
            "-----------------------------------------------------Page 7-----------------------------------------------------\r\n",
            "\n"
          ],
          "name": "stdout"
        }
      ]
    },
    {
      "cell_type": "markdown",
      "metadata": {
        "id": "-rCkgLqeCOuW",
        "colab_type": "text"
      },
      "source": [
        "문단 띄우기 교정 필요"
      ]
    },
    {
      "cell_type": "markdown",
      "metadata": {
        "id": "TmR95DTOCUrA",
        "colab_type": "text"
      },
      "source": [
        "\n",
        "\n",
        "---\n",
        "수정\n"
      ]
    },
    {
      "cell_type": "code",
      "metadata": {
        "id": "YwE89lXtCL_E",
        "colab_type": "code",
        "outputId": "34a30f31-811f-4e5d-d7fc-1a41d96ddfba",
        "colab": {
          "base_uri": "https://localhost:8080/",
          "height": 1000
        }
      },
      "source": [
        "re.findall(r'[\\r\\n]{3,}', N_giRaw)"
      ],
      "execution_count": 0,
      "outputs": [
        {
          "output_type": "execute_result",
          "data": {
            "text/plain": [
              "['\\r\\n\\r\\n',\n",
              " '\\r\\n\\r\\n',\n",
              " '\\r\\n\\r\\n',\n",
              " '\\r\\n\\r\\n',\n",
              " '\\r\\n\\r\\n',\n",
              " '\\r\\n\\r\\n',\n",
              " '\\r\\n\\r\\n',\n",
              " '\\r\\n\\r\\n',\n",
              " '\\r\\n\\r\\n',\n",
              " '\\r\\n\\r\\n',\n",
              " '\\r\\n\\r\\n',\n",
              " '\\r\\n\\r\\n',\n",
              " '\\r\\n\\r\\n',\n",
              " '\\r\\n\\r\\n\\r\\n\\r\\n\\r\\n',\n",
              " '\\r\\n\\r\\n',\n",
              " '\\r\\n\\r\\n',\n",
              " '\\r\\n\\r\\n',\n",
              " '\\r\\n\\r\\n',\n",
              " '\\r\\n\\r\\n',\n",
              " '\\r\\n\\r\\n',\n",
              " '\\r\\n\\r\\n',\n",
              " '\\r\\n\\r\\n\\r\\n',\n",
              " '\\r\\n\\r\\n',\n",
              " '\\r\\n\\r\\n\\r\\n',\n",
              " '\\r\\n\\r\\n',\n",
              " '\\r\\n\\r\\n',\n",
              " '\\r\\n\\r\\n',\n",
              " '\\r\\n\\r\\n',\n",
              " '\\r\\n\\r\\n',\n",
              " '\\r\\n\\r\\n',\n",
              " '\\r\\n\\r\\n\\r\\n',\n",
              " '\\r\\n\\r\\n',\n",
              " '\\r\\n\\r\\n',\n",
              " '\\r\\n\\r\\n',\n",
              " '\\r\\n\\r\\n',\n",
              " '\\r\\n\\r\\n',\n",
              " '\\r\\n\\r\\n',\n",
              " '\\r\\n\\r\\n',\n",
              " '\\r\\n\\r\\n',\n",
              " '\\r\\n\\r\\n',\n",
              " '\\r\\n\\r\\n',\n",
              " '\\r\\n\\r\\n',\n",
              " '\\r\\n\\r\\n',\n",
              " '\\r\\n\\r\\n',\n",
              " '\\r\\n\\r\\n',\n",
              " '\\r\\n\\r\\n',\n",
              " '\\r\\n\\r\\n',\n",
              " '\\r\\n\\r\\n',\n",
              " '\\r\\n\\r\\n',\n",
              " '\\r\\n\\r\\n',\n",
              " '\\r\\n\\r\\n',\n",
              " '\\r\\n\\r\\n',\n",
              " '\\r\\n\\r\\n',\n",
              " '\\r\\n\\r\\n',\n",
              " '\\r\\n\\r\\n\\r\\n',\n",
              " '\\r\\n\\r\\n',\n",
              " '\\r\\n\\r\\n',\n",
              " '\\r\\n\\r\\n',\n",
              " '\\r\\n\\r\\n',\n",
              " '\\r\\n\\r\\n',\n",
              " '\\r\\n\\r\\n',\n",
              " '\\r\\n\\r\\n',\n",
              " '\\r\\n\\r\\n',\n",
              " '\\r\\n\\r\\n',\n",
              " '\\r\\n\\r\\n',\n",
              " '\\r\\n\\r\\n',\n",
              " '\\r\\n\\r\\n',\n",
              " '\\r\\n\\r\\n',\n",
              " '\\r\\n\\r\\n',\n",
              " '\\r\\n\\r\\n',\n",
              " '\\r\\n\\r\\n',\n",
              " '\\r\\n\\r\\n',\n",
              " '\\r\\n\\r\\n',\n",
              " '\\r\\n\\r\\n',\n",
              " '\\r\\n\\r\\n',\n",
              " '\\r\\n\\r\\n',\n",
              " '\\r\\n\\r\\n',\n",
              " '\\r\\n\\r\\n',\n",
              " '\\r\\n\\r\\n',\n",
              " '\\r\\n\\r\\n',\n",
              " '\\r\\n\\r\\n',\n",
              " '\\r\\n\\r\\n',\n",
              " '\\r\\n\\r\\n',\n",
              " '\\r\\n\\r\\n',\n",
              " '\\r\\n\\r\\n',\n",
              " '\\r\\n\\r\\n',\n",
              " '\\r\\n\\r\\n',\n",
              " '\\r\\n\\r\\n\\r\\n',\n",
              " '\\r\\n\\r\\n',\n",
              " '\\r\\n\\r\\n',\n",
              " '\\r\\n\\r\\n\\r\\n']"
            ]
          },
          "metadata": {
            "tags": []
          },
          "execution_count": 84
        }
      ]
    },
    {
      "cell_type": "code",
      "metadata": {
        "id": "rkbVfj09Cqos",
        "colab_type": "code",
        "colab": {}
      },
      "source": [
        "N_giRaw = re.sub(r'[\\r\\n]{3,}', '\\r\\n\\r\\n', N_giRaw)"
      ],
      "execution_count": 0,
      "outputs": []
    },
    {
      "cell_type": "code",
      "metadata": {
        "id": "m5Aozpo3DU0Y",
        "colab_type": "code",
        "outputId": "5e45ce6b-d206-476e-e910-f8fc223bd1d3",
        "colab": {
          "base_uri": "https://localhost:8080/",
          "height": 129
        }
      },
      "source": [
        "re.findall(r'\\r\\n\\r\\n\\ufeff\\x0c\\r\\n', N_giRaw)"
      ],
      "execution_count": 0,
      "outputs": [
        {
          "output_type": "execute_result",
          "data": {
            "text/plain": [
              "['\\r\\n\\r\\n\\ufeff\\x0c\\r\\n',\n",
              " '\\r\\n\\r\\n\\ufeff\\x0c\\r\\n',\n",
              " '\\r\\n\\r\\n\\ufeff\\x0c\\r\\n',\n",
              " '\\r\\n\\r\\n\\ufeff\\x0c\\r\\n',\n",
              " '\\r\\n\\r\\n\\ufeff\\x0c\\r\\n',\n",
              " '\\r\\n\\r\\n\\ufeff\\x0c\\r\\n']"
            ]
          },
          "metadata": {
            "tags": []
          },
          "execution_count": 88
        }
      ]
    },
    {
      "cell_type": "code",
      "metadata": {
        "id": "-9s1CJPDDceR",
        "colab_type": "code",
        "colab": {}
      },
      "source": [
        "N_giRaw = re.sub(r'\\r\\n\\r\\n\\ufeff\\x0c\\r\\n', '\\r\\n\\r\\n', N_giRaw)"
      ],
      "execution_count": 0,
      "outputs": []
    },
    {
      "cell_type": "code",
      "metadata": {
        "id": "zbji3zOIDh3p",
        "colab_type": "code",
        "outputId": "96278654-47a6-4fa9-d031-164d43812d9c",
        "colab": {
          "base_uri": "https://localhost:8080/",
          "height": 36
        }
      },
      "source": [
        "re.findall(r'([ >])(\\r\\n|\\n)([\\[A-Z])', N_giRaw)"
      ],
      "execution_count": 0,
      "outputs": [
        {
          "output_type": "execute_result",
          "data": {
            "text/plain": [
              "[(' ', '\\n', 'A'), ('>', '\\r\\n', '[')]"
            ]
          },
          "metadata": {
            "tags": []
          },
          "execution_count": 103
        }
      ]
    },
    {
      "cell_type": "code",
      "metadata": {
        "id": "FEzfyRg_Fl6f",
        "colab_type": "code",
        "colab": {}
      },
      "source": [
        "N_giRaw = re.sub(r'([ >])(\\r\\n|\\n)([\\[A-Z])', r'\\1\\r\\n\\r\\n\\3', N_giRaw)"
      ],
      "execution_count": 0,
      "outputs": []
    },
    {
      "cell_type": "markdown",
      "metadata": {
        "id": "8OrvdEpilcTL",
        "colab_type": "text"
      },
      "source": [
        "\n",
        "\n",
        "---\n",
        "최종 text\n"
      ]
    },
    {
      "cell_type": "code",
      "metadata": {
        "id": "gDOdhrcFbos9",
        "colab_type": "code",
        "outputId": "f0cbc89f-bab7-420d-c08e-6b6ccee99188",
        "colab": {
          "base_uri": "https://localhost:8080/",
          "height": 1000
        }
      },
      "source": [
        "print(N_giRaw)"
      ],
      "execution_count": 0,
      "outputs": [
        {
          "output_type": "stream",
          "text": [
            "<MINIREVIEW  Genomics & Informatics  Vol. 6(1) 1-7, March 2008>\r\n",
            "\r\n",
            "Copy Number Variations in the Human Genome: Potential Source for Individual Diversity and Disease Association Studies\r\n",
            "\r\n",
            "Tae-Min Kim 1 , Seon-Hee Yim 2 and Yeun-Jun Chung 1,2 *\r\n",
            "\r\n",
            "1Department of Microbiology, 2Integrated Research Center for Genome Polymorphism, The Catholic University of Korea, Seoul 137-701, Korea\r\n",
            "\r\n",
            "Abstract\r\n",
            "\r\n",
            "The widespread presence of large-scale genomic variations, termed copy number variation (CNVs), has been recently recognized in phenotypically normal individuals. Judging by the growing number of reports on CNVs, it is now evident that these variants contribute significantly to genetic diversity in the human genome. Like single nucleotide polymorphisms (SNPs), CNVs are expected to serve as potential biomarkers for disease susceptibility or drug responses. However, the technical and practical concerns still remain to be tackled. In this review, we examine the current status of CNV DBs and research, including the ongoing efforts of CNV screening in the human genome. We also discuss the characteristics of platforms that are available at the moment and suggest the potential of CNVs in clinical research and application.\r\n",
            "\r\n",
            "Keywords: array-CGH, Copy number variation (CNV), Genome-wide association study (GWAS)\r\n",
            "\r\n",
            "Introduction\r\n",
            "\r\n",
            "Traditionally, large-scale genomic variants that are visible in conventional karyotyping have been thought to be associated with early-onset, highly penetrant genetic disorders, while they are incompatible in normal, disease-free individuals (Lupski, 1998; Stankiewicz and Lupski, 2002). The construction of the 'reference genome' by the human genome sequencing project is based on the belief that human genome sequences are virtually identical, even in different individuals, except for well-known single nucleotide polymorphisms (SNP) or size-variants of tandem repeats such as minior micro-\r\n",
            "\r\n",
            "(*Corresponding author: E-mail yejun@catholic.ac.kr Tel +82-2-590-1214, Fax +82-2-596-8969 Accepted 11 March 2008)\r\n",
            "\r\n",
            "satellites (variable number of tandem repeats or VNTR) (Przeworski et al ., 2000). This traditional concept has been recently challenged by the discovery that large structural variations are more prevalent than previously presumed (Check, 2005). Using high-resolution wholegenome scanning technologies such as array-based comparative genomic hybridization (array-CGH), two groups of pioneering scientists have identified widespread copy number variations (CNVs) in apparently healthy, normal individuals (Iafrate et al., 2004; Sebat et al ., 2004). It proposes that our genome is more diverse than has ever been recognized, and subsequent studies have identified up to 11,000 CNVs across the whole genome (Tuzun et al. , 2005; Hinds et al ., 2006; Mills et al ., 2006; McCarroll et al ., 2006; Conrad et al ., 2006; Sharp et al ., 2005; Wong et al ., 2007; de Smith et al ., 2007). \r\n",
            "\r\n",
            "Although the current understanding of CNVs is still limited for practical use and technical challenges still remain to be tackled, recent studies already have demonstrated the potential association of CNVs with various diseases, suggesting plausible functional significances and highlighting the promising utility of CNVs.\r\n",
            "\r\n",
            "The current coverage of CNVs in the human genome already has exceeded that of SNPs (approximately 600 Mb comprising ∼ 12% of human genome) and is still increasing (Cooper et al ., 2007). These large-scale structural variants, in addition to SNPs, will serve as powerful sources to help our understanding of human genetic variation and of differences in disease susceptibility for various diseases. This paper reviews the current knowledge and future perspectives of CNVs.\r\n",
            "\r\n",
            "The definition of CNV\r\n",
            "\r\n",
            "Structural variations that involve large DNA segments can take various forms, such as duplication, deletion, insertion, inversion, and translocation. Among them, DNA copy number variations larger than 1 kb are collectively termed CNVs. Fig. 1 illustrates the concept of CNV. Although the CNV can include large, microscopically visible genomic variations, it generally indicates a submicroscopic structural variation that is hardly detectable by conventional karyotyping (3 ∼ 5 Mb) (Freeman et al ., 2006). Smaller variations such as small insertionaldeletion (indel) polymorphisms are not included in CNVs, while they comprise another large collection of over\r\n",
            "\r\n",
            "<2 Genomics & Informatics Vol. 6(1) 1-7, March 2008>\r\n",
            "\r\n",
            "[Fig. 1. Concept of inter-individual copy number variations. Most humans have two copies of DNA/gene (diploid, 2n), each originating from the maternal (n) and paternal (n) genome. However, some of the DNA regions/genes are not diploid, showing variable numbers of copies. These variable copies are mainly inherited but partly can be gained de novo . This phenomenon is termed copy number variation (CNV). Such CNVs may affect gene expressions through dosage imbalance of genes.]\r\n",
            "\r\n",
            "400,000 variants in the human genome (Mills et al ., 2006), and neither is the insertional polymorphism of mobile elements such as Alus or L1 elements considered a CNV.\r\n",
            "\r\n",
            "At the beginning stages of CNV discovery, a number of terms were proposed to define them e.g ., large-scale copy number variants (LCV) (Iafrate et al ., 2004), copy number polymorphism (CNP) (Sebat et al ., 2004), and intermediate-sized variants (ISV) (Tuzun et al ., 2005). The current definition of CNV is also operational and can be modified with the advance of scanning resolution and coverage, and availability of allele frequency in a determined population.\r\n",
            "\r\n",
            "The identification of CNVs using different platforms\r\n",
            "\r\n",
            "Various scanning platforms and quality control methods have been used to identify CNV calls. Because the choice of platforms has a great effect on the results, it is worth reviewing the characteristics of platforms to improve the understanding of CNVs.\r\n",
            "\r\n",
            "The presence of CNVs in normal individuals was reported for the first time in 2004 independently by two groups led by Lee C. and Wigler M. (Iafrate et al ., 2004; Sebat et al ., 2004). Both studies used two-dye array-CGH techniques that used clones of bacterial artificial chromosomes (BAC) or oligonucleotides (representational oligonucleotide microarray analysis, or ROMA). They independently reported about 250 and 80 loci as changes in copy number from 39 and 20 normal individuals, respectively. Fig. 2 illustrates the general concept of CNV detection based on two-dye array-CGH. Although the average numbers of CNVs per individual genome were similar in two studies (about 12 CNVs per genome), it should be noted that there was little overlap between the results. This discrepancy between studies was possibly due to the use of different platforms and experimental conditions in different populations. However, it is also probable that there are still large numbers of structural variants that have yet to be discovered (Buckley et al ., 2005; Eichler, 2006).\r\n",
            "\r\n",
            "One following study that provided evidence on the widespread presence of large-scale structural variations in the human genome was based solely on in silico analysis (Tuzun et al ., 2005). The sequence-level comparison of two independent genome sequences, i.e ., one derived from a human genome reference assembly\r\n",
            "\r\n",
            "<Copy Number Variations in the Human Genome    3>\r\n",
            "\r\n",
            "[Fig. 2. CNV screening procedure between two individuals using two-dye array-CGH platform. Dye swap hybridization is useful to get reliable interpretation of CNVs. Both individual DNAs are labeled with Cy3 and Cy5, respectively, and co-hybridized. Then, the same experiment is repeated by switching the dyes ('dye-swap'). When both dye-swap profiles show peaks beyond the cutoff and inverted peaks of similar intensity at the same location simultaneously, we interpret them as true CNVs.]\r\n",
            "\r\n",
            "and the other from fosmid clones of a genomic library, revealed about 300 structural variations, including inversions. This method can detect various types of structural variants, including inversion, which is not detectable by conventional array-CGH platforms. Indeed, the results by Tuzun et al . (2005) can be used as validated control for primary verification or for parameter tuning for the development of CNV-detection platforms or algorithms. Although the use of this method is currently limited by the unavailability of sequence data, ongoing efforts to sequence the individual human genome and to develop cost-effective sequencing platforms (Bennett et al ., 2005) will be able to facilitate sequence-level genome comparisons and the identification of highly qualified structural variants in the near future. Two studies by McCarroll et al . and Conrad et al ., which focused on the identification of deletion variants (McCarroll et al ., 2006; Conrad et al ., 2006), used 1.2million SNP genotyping data from The International HapMap Consortium (International HapMap Consortium. 2005). They assumed that allelic deletion causes the discard of probes in SNP genotyping. For example, the runs of consecutive probes with null genotype calls or runs of SNP genotypes whose allelic frequencies deviate from expected Hardy-Weinberg equilibrium ratios or expected Mendelian inheritance patterns might represent the presence of deleted loci. They independently reported about 600 potential deletions as small as less than 100 bp. The relatively small size of the identified variants, compared with the array-CGH method, is due to the high resolution of the platforms. The use of an SNP-centric array platform can be used to identify linkage disequilibrium (LD) of structural variants with nearby SNPs in a given population. But, the discrepancy in deletions that were identified in the two studies was also noted in spite of using similar HapMap populations and\r\n",
            "\r\n",
            "<4 Genomics & Informatics Vol. 6(1) 1-7, March 2008>\r\n",
            "\r\n",
            "identification methods (Eichler 2006).\r\n",
            "\r\n",
            "Recently, a comprehensive CNV analysis was reported based on high-resolution array platforms, Whole Genome TilePath (WGTP), which used 26,000 large insert clones, and Affymetric GeneChip Human Mapping 500K early access, which used 500,000 SNP oligonucleotides. They identified about 1500 genomic segments as copy number variations or CNVRs (copy number variable regions) consisting of overlapping CNVs from 269 HapMap individuals (Redon et al ., 2006). The results from the two platforms are worth comparing becasuse they provide the highest currently achievable resolution and are often selected as primary platforms in many other studies. Firstly, the CNVs that are identified from BAC-based array-CGH are generally larger than those from oligonucleotide-based arrays (230 kb and 80 kb of median size, respectively). This overestimation of CNVs by BAC-based array-CGH is due to the large insert clones that are used, which has been frequently reported (Iafrate et al ., 2006). Secondly, the actual boundaries of structural variants can not be determined through BAC-based array-CGH. On the other hand, a more accurate determination of variant boundaries can be achieved through SNP-centric oligonucleotide-based arrays that have an extensive number of oligonucleotides. The SNP-centric platform has additional advantages of accompanying SNP genotype information as a potential variant source, combined with large structural variants and its ability to detect the presence of loss of heterozygosity (LOH) or segmental uniparental disomy (Bruce et al ., 2005; Mei et al ., 2000). But, the SNP-centric platform also has its disadvantages. In spite of the advanced resolution, the relatively low signal-to-noise ratio of oligonucleotide-based hybridization intensity, compared with large insert clone array, might result in higher false-positive rates. Because most CNVs are subtle changes, this makes the results prone to misclassification of signal intensities and, consequently, to statistical errors.\r\n",
            "\r\n",
            "Sometimes, it is pointed out that the SNP-centric array was originally designed for allelic discrimination and is not appropriate for CNV detection because of biased genomic distribution and sequence composition of spotted probes (McCarroll and Altshuler 2007d). Recently proposed oligonucleotide-based array platforms have been designed for CNV detection specifically without sacrificing the advantage of high resolution, which can be a promising solution for CNV detection in the near future (Barrett et al ., 2004).\r\n",
            "\r\n",
            "In identifying CNVs in normal populations, one of the fundamental problems is the lack of a reference genome from which diploid states of sample DNA can be inferred. Unlike the array-CGH-based tumor study in which the normal DNA of the same individual can be used as a reference genome, no single DNA source can present the standardized and universal genome in variant analysis. Often, the pooled genome of several individuals has been used to represent the average genome, while the heterogeneity of the used population might affect the copy number inference step, as shown for examples of X chromosomes. Redon et al . and Komura et al . adopted the pairwise comparison for ac-\r\n",
            "\r\n",
            "[Table 1. Copy number variations and associated diseases/phenotypes]\r\n",
            "\r\n",
            "[Gene          Location       Susceptible type                       Phenotype                           Reference FCGR3          1q23.3           Low copy                       Glomerulonephritis                    Aitman et al ., 2006 FCGR3B          1q23.3           Low copy       Systemic lupus erythematosus, microscopic polyangiitis Fanciulli M et al ., 2007 C4            6p21.32          Low copy                  Systemic lupus erythematosus                Yang et al ., 2007 CCL3L1          17q12           Low copy                     HIV/AIDS susceptibility                 Gonzalez et al ., 2005 CCL3L1          17q12           High copy                      Rheumatoid arthritis                  McKinney et al ., 2008 UGT2B17          4p13           Low copy            Body testosterone level, prostate cancer risk       Jakobsson et al ., 2006 CNTNAP2         7q36.1           Low copy                   Schizophrenia and epilepsy               Friedman et al ., 2008 AMY1           1p21.1         Variable copy                        Starch diet                        Perry et al ., 2007 DEFB4          8p23.1         Variable copy                       Crohn disease                    Fellermann et al ., 2006 DEFENSIN         8p23.1           Low copy                    Autism spectrum disorder                  Cho et al ., 2008 SHANK3         22q13.3          Low copy                    Autism spectrum disorder                Moessner et al ., 2007 NRXN1          2p16.3           Low copy                         Schizophrenia                       Kirov et al ., 2008 APBA2          15q13.1          Duplication                        Schizophrenia                       Kirov et al ., 2008]\r\n",
            "\r\n",
            "curate inference of copy number states in individual loci, which is noteworthy (Redon et al ., 2006; Komura et al ., 2006). In pairwise comparison, the hybridization intensities of one sample is compared with those of all other remaining samples as one large reference, and the diploid states of loci can be more accurately inferred from the multiple comparison results.\r\n",
            "\r\n",
            "Clinical implications of CNVs and disease association study\r\n",
            "\r\n",
            "In spite of recent technological developments of genetic polymorphism-oriented disease association studies, still little is known about the effects of genetic polymorphisms on common complex diseases. One of the ultimate goals in exploring CNVs is to systematically assess the association between such variants and the disease. Although it is unlikely that all CNVs in the human genome are associated with diseases, evidence of the association of CNVs and a wide spectrum of human diseases has rapidly accumulated. Table 1 summarizes the CNVs that have been reported to be associated with diseases. CNVs can affect disease susceptibility or individual differences in responses to drugs through alteration of gene expression. Stranger et al .'s and Heidenblad et al' s reports coherently showed positive correlations between DNA copy number dosage and gene expression level (Stranger et al ., 2007; Heidenblad et al ., 2005). If a CNV region contains transcriptional regulatory elements rather than protein coding genes, it still can affect gene expression levels by changing transcriptional regulation or heterochromatin spread (Reymond et al ., 2007).\r\n",
            "\r\n",
            "Conclusion\r\n",
            "\r\n",
            "The genomic fraction that is occupied by CNVs is now estimated to be about 600 Mb, already exceeding that of single base-level variants. It is likely that the number of CNVs and the genomic fraction that is affected by structural variants will continue to expand, and many of them will be used for more practical purposes, including disease association or population studies. However, it should be remembered that the current CNV entries are plagued by substantial amounts of false-positive and false-negative results. Only a small portion of them have been validated by independent methods. To overcome this, it is necessary to improve scanning platforms, including optimizing experimental conditions and developing more reliable CNV calling algorithms. In the meantime, it is required for individual researchers to know the characteristics of the available platforms and analytical techniques to use them or to interpret the published re-\r\n",
            "\r\n",
            "<Copy Number Variations in the Human Genome    5>\r\n",
            "\r\n",
            "sults properly.\r\n",
            "\r\n",
            "Acknowledgements\r\n",
            "\r\n",
            "This work is supported by a grant from the Korea Health 21 R&D Project, Ministry of Health & Welfare, Republic of Korea (0405-BC02-0604-0004) and (01-PJ3PG6-01GN09-003).\r\n",
            "\r\n",
            "References\r\n",
            "\r\n",
            "Aitman, T.J., R.Dong, T.J., Vyse, P.J., et al . (2006). Copy number polymorphism in Fcgr3 predisposes to glomerulonephritis in rats and humans. Nature 439, 851-855. Barrett, M.T., Scheffer, A., Ben-Dor, A., et al . (2004). Comparative genomic hybridization using oligonucleotide microarrays and total genomic DNA. Proc. Natl. Acad. Sci. U. S. A 101, 17765-17770.\r\n",
            "\r\n",
            "Bennett, S.T., Barnes, C., Cox, A., Davies, L., and Brown, C. (2005). Toward the 1,000 dollars human genome. Pharmacogenomics 6, 373-382.\r\n",
            "\r\n",
            "Bruce, S., Leinonen, R., Lindgren, C.M., Kivinen, K., Dahlman-Wright, K., Lipsanen-Nyman, M., HannulaJouppi, K., and Kere, J. (2005). Global analysis of uniparental disomy using high density genotyping arrays. J. Med. Genet. 42, 847-851.\r\n",
            "\r\n",
            "Buckley, P.G., Mantripragada, K.K., Piotrowski, A., az de, S.T., and Dumanski, J.P. (2005). Copy-number polymorphisms: mining the tip of an iceberg. Trends Genet . 21, 315-317.\r\n",
            "\r\n",
            "Check, E. (2005). Human genome: patchwork people.\r\n",
            "\r\n",
            "Nature 437, 1084-1086.\r\n",
            "\r\n",
            "Cheng, Z., Ventura, M., She, X., et al . (2005). A genome-wide comparison of recent chimpanzee and human segmental duplications. Nature 437, 88-93.\r\n",
            "\r\n",
            "Cho, C.S., Yim, S.H., Yoo, H.K., et al . (2008). Copy number variations associated with idiopathic autism identified by whole-genome array-CGH. Psychiatric Genetics in press. Conrad, D.F., Andrews, T.D., Carter, N.P., Hurles, M.E., and Pritchard, J.K. (2006). A high-resolution survey of deletion polymorphism in the human genome. Nat. Genet . 38, 7581.\r\n",
            "\r\n",
            "Cooper, G.M., Nickerson, D.A., and Eichler, E.E. (2007). Mutational and selective effects on copy-number variants in the human genome. Nat. Genet . 39, S22-S29.\r\n",
            "\r\n",
            "de Smith, A.J., Tsalenko, A., Sampas, N., et al . (2007). Array CGH analysis of copy number variation identifies 1284 new genes variant in healthy white males: implications for association studies of complex diseases. Hum. Mol. Genet . 16, 2783-2794.\r\n",
            "\r\n",
            "Eichler, E.E. (2006). Widening the spectrum of human ge-\r\n",
            "\r\n",
            "netic variation. Nat. Genet . 38, 9-11.\r\n",
            "\r\n",
            "Fanciulli, M., Norsworthy, P.J., Petretto, E., et al . (2007). FCGR3B copy number variation is associated with susceptibility to systemic, but not organ-specific, autoimmunity. Nat. Genet . 39, 721-723.\r\n",
            "\r\n",
            "Fellermann, K., Stange, D.E., Schaeffeler, E., et al . (2006). A\r\n",
            "\r\n",
            "<6 Genomics & Informatics Vol. 6(1) 1-7, March 2008>\r\n",
            "\r\n",
            "chromosome 8 gene-cluster polymorphism with low human beta-defensin 2 gene copy number predisposes to Crohn disease of the colon. Am. J. Hum. Genet . 79, 439-448.\r\n",
            "\r\n",
            "Feuk, L., MacDonald, J.R., Tang, T., Carson, A.R., Li, M., Rao, G., Khaja, R., and Scherer, S.W. (2005). Discovery of human inversion polymorphisms by comparative analysis of human and chimpanzee DNA sequence assemblies. PLoS. Genet . 1, e56.\r\n",
            "\r\n",
            "Freeman, J.L., Perry, G.H., Feuk, L., et al . (2006). Copy number variation: new insights in genome diversity. Genome Res . 16, 949-961.\r\n",
            "\r\n",
            "Friedman, J.I., Vrijenhoek, T., Markx, S., et al . (2008). CNTNAP2 gene dosage variation is associated with schizophrenia and epilepsy. Mol. Psychiatry . 13, 2612626126.\r\n",
            "\r\n",
            "Gonzalez, E., Kulkarni, H., Bolivar, H., et al . (2005). The influence of CCL3L1 gene-containing segmental duplications on HIV-1/AIDS susceptibility. Science 307, 14341440.\r\n",
            "\r\n",
            "Heidenblad, M., Lindgren, D., Veltman, J.A., Jonson, T., Mahlam ä ki, E.H., Gorunova, L., van Kessel, A.G., Schoenmakers, E.F., and H ö glund, M. (2005). Microarray analyses reveal strong influence of DNA copy number alterations on the transcriptional patterns in pancreatic cancer: implications for the interpretation of genomic amplifications. Oncogene 24, 1794-1801.\r\n",
            "\r\n",
            "Hinds, D.A., Kloek, A.P., Jen, M., Chen, X., and Frazer, K.A. (2006). Common deletions and SNPs are in linkage disequilibrium in the human genome. Nat. Genet . 38, 8285.\r\n",
            "\r\n",
            "Iafrate, A.J., Feuk, L., Rivera, M.N., Listewnik, M.L., Donahoe, P.K., Qi, Y., Scherer, S.W., and Lee, C. (2004). Detection of large-scale variation in the human genome. Nat. Genet . 36, 949-951.\r\n",
            "\r\n",
            "International HapMap Consortium. (2005). A haplotype map\r\n",
            "\r\n",
            "of the human genome. Nature 437, 1299-1320.\r\n",
            "\r\n",
            "Istrail, S., Sutton, G.G., Florea, L., et al . (2004). Whole-genome shotgun assembly and comparison of human genome assemblies. Proc. Natl. Acad. Sci. U. S. A 101, 1916-1921.\r\n",
            "\r\n",
            "Jakobsson, J., Ekstrom. L., Inotsume, N., Garle, M., Lorentzon, M., Ohlsson, C., Roh, H.K., Carlstr ö m, K., and Rane, A. (2006). Large differences in testosterone excretion in Korean and Swedish men are strongly associated with a UDP-glucuronosyl transferase 2B17 polymorphism. J. Clin. Endocrinol. Metab . 91, 687-693.\r\n",
            "\r\n",
            "Kirov, G., Gumus, D., Chen, W., et al . (2008). Comparative genome hybridization suggests a role for NRXN1 and APBA2 in schizophrenia. Hum. Mol. Genet . 17, 458-465. Komura, D., Shen, F., Ishikawa, S., et al . (2006). Genomewide detection of human copy number variations using high-density DNA oligonucleotide arrays. Genome Res . 16, 1575-1584.\r\n",
            "\r\n",
            "Lupski, J.R. (1998). Genomic disorders: structural features of the genome can lead to DNA rearrangements and human disease traits. Trends Genet . 14, 417-422.\r\n",
            "\r\n",
            "McCarroll, S.A., and Altshuler, D.M. (2007). Copy-number variation and association studies of human disease. Nat.\r\n",
            "\r\n",
            "Genet . 39, S37-S42.\r\n",
            "\r\n",
            "McCarroll, S.A., Hadnott, T.N., Perry, G.H., et al . (2006). Common deletion polymorphisms in the human genome. Nat. Genet . 38, 86-92.\r\n",
            "\r\n",
            "McKinney, C., Merriman, M.E., Chapman, P.T., et al . (2008). Evidence for an influence of chemokine ligand 3-like 1 (CCL3L1) gene copy number on susceptibility to rheumatoid arthritis. Ann. Rheum. Dis . 67, 409-413.\r\n",
            "\r\n",
            "Mei, R., Galipeau, P.C., Prass, C., Berno, A., Ghandour, G., Patil, N., Wolff, R.K., Chee, M.S., Reid, B.J., and Lockhart, D.J. (2000). Genome-wide detection of allelic imbalance using human SNPs and high-density DNA arrays. Genome Res . 10, 1126-1137.\r\n",
            "\r\n",
            "Mills, R.E., Luttig, C.T., Larkins, C.E., Beauchamp, A., Tsui, C., Pittard, W.S., and Devine, S.E. (2006). An initial map of insertion and deletion (INDEL) variation in the human genome. Genome Res . 16, 1182-1190.\r\n",
            "\r\n",
            "Moessner, R., Marshall, C.R., Sutcliffe, J.S., et al . (2007). Contribution of SHANK3 mutations to autism spectrum disorder. Am. J. Hum. Genet . 81, 1289-1297.\r\n",
            "\r\n",
            "Perry, G.H., Dominy, N.J., Claw, K.G., et al . (2007). Diet and the evolution of human amylase gene copy number variation. Nat. Genet . 39, 1256-1260.\r\n",
            "\r\n",
            "Przeworski, M., Hudson, R.R., and Di, R.A. (2000). Adjusting the focus on human variation. Trends Genet . 16, 296302.\r\n",
            "\r\n",
            "Redon, R., Ishikawa, S., Fitch, K.R., et al . (2006). Global variation in copy number in the human genome. Nature 444, 444-454.\r\n",
            "\r\n",
            "Reymond, A., Henrichsen, C.N., Harewood, L., and Merla, G. (2007). Side effects of genome structural changes. Curr. Opin. Genet. Dev . 17, 381-386.\r\n",
            "\r\n",
            "Sachidanandam, R., Weissman, D., Schmidt, S.C., et al . (2001). A map of human genome sequence variation containing 1.42 million single nucleotide polymorphisms. Nature 409, 928-933.\r\n",
            "\r\n",
            "Sebat, J., Lakshmi, B., Troge, J., et al . (2004). Large-scale copy number polymorphism in the human genome. Science 305, 525-528.\r\n",
            "\r\n",
            "Sharp, A.J., Locke, D.P., McGrath, S.D., et al . (2005). Segmental duplications and copy-number variation in the human genome. Am. J. Hum. Genet . 77, 78-88.\r\n",
            "\r\n",
            "Stankiewicz, P., and Lupski, J.R. (2002). Genome architecture, rearrangements and genomic disorders. Trends Genet . 18, 74-82.\r\n",
            "\r\n",
            "Stranger, B.E., Forrest, M.S., Dunning, M., et al . (2007). Relative impact of nucleotide and copy number variation on gene expression phenotypes. Science 315, 848-853. Tuzun, E., Sharp, A.J., Bailey, J.A., et al . (2005). Fine-scale structural variation of the human genome. Nat. Genet . 37, 727-732.\r\n",
            "\r\n",
            "Warburton, D. (1991). De novo balanced chromosome rearrangements and extra marker chromosomes identified at prenatal diagnosis: clinical significance and distribution of breakpoints. Am. J. Hum. Genet . 49, 995-1013.\r\n",
            "\r\n",
            "Wong, K.K., deLeeuw, R.J., Dosanjh, N.S., et al . (2007). A comprehensive analysis of common copy-number variations in the human genome. Am. J. Hum. Genet . 80, 91-104. Yang, Y., Chung, E.K., Wu, Y.L., et al . (2007). Gene copy-\r\n",
            "\r\n",
            "number variation and associated polymorphisms of complement component C4 in human systemic lupus erythematosus (SLE): low copy number is a risk factor for and\r\n",
            "\r\n",
            "<Copy Number Variations in the Human Genome    7>\r\n",
            "\r\n",
            "high copy number is a protective factor against SLE susceptibility in European Americans. Am. J. Hum. Genet . 80, 1037-1054.\r\n",
            "\r\n",
            "\n"
          ],
          "name": "stdout"
        }
      ]
    },
    {
      "cell_type": "code",
      "metadata": {
        "id": "YyZrer17CB4V",
        "colab_type": "code",
        "outputId": "b5033661-68c5-4f87-cd4b-ae4c321849aa",
        "colab": {
          "base_uri": "https://localhost:8080/",
          "height": 56
        }
      },
      "source": [
        "N_giRaw"
      ],
      "execution_count": 0,
      "outputs": [
        {
          "output_type": "execute_result",
          "data": {
            "text/plain": [
              "\"<MINIREVIEW  Genomics & Informatics  Vol. 6(1) 1-7, March 2008>\\r\\n\\r\\nCopy Number Variations in the Human Genome: Potential Source for Individual Diversity and Disease Association Studies\\r\\n\\r\\nTae-Min Kim 1 , Seon-Hee Yim 2 and Yeun-Jun Chung 1,2 *\\r\\n\\r\\n1Department of Microbiology, 2Integrated Research Center for Genome Polymorphism, The Catholic University of Korea, Seoul 137-701, Korea\\r\\n\\r\\nAbstract\\r\\n\\r\\nThe widespread presence of large-scale genomic variations, termed copy number variation (CNVs), has been recently recognized in phenotypically normal individuals. Judging by the growing number of reports on CNVs, it is now evident that these variants contribute significantly to genetic diversity in the human genome. Like single nucleotide polymorphisms (SNPs), CNVs are expected to serve as potential biomarkers for disease susceptibility or drug responses. However, the technical and practical concerns still remain to be tackled. In this review, we examine the current status of CNV DBs and research, including the ongoing efforts of CNV screening in the human genome. We also discuss the characteristics of platforms that are available at the moment and suggest the potential of CNVs in clinical research and application.\\r\\n\\r\\nKeywords: array-CGH, Copy number variation (CNV), Genome-wide association study (GWAS)\\r\\n\\r\\nIntroduction\\r\\n\\r\\nTraditionally, large-scale genomic variants that are visible in conventional karyotyping have been thought to be associated with early-onset, highly penetrant genetic disorders, while they are incompatible in normal, disease-free individuals (Lupski, 1998; Stankiewicz and Lupski, 2002). The construction of the 'reference genome' by the human genome sequencing project is based on the belief that human genome sequences are virtually identical, even in different individuals, except for well-known single nucleotide polymorphisms (SNP) or size-variants of tandem repeats such as minior micro-\\r\\n\\r\\n(*Corresponding author: E-mail yejun@catholic.ac.kr Tel +82-2-590-1214, Fax +82-2-596-8969 Accepted 11 March 2008)\\r\\n\\r\\nsatellites (variable number of tandem repeats or VNTR) (Przeworski et al ., 2000). This traditional concept has been recently challenged by the discovery that large structural variations are more prevalent than previously presumed (Check, 2005). Using high-resolution wholegenome scanning technologies such as array-based comparative genomic hybridization (array-CGH), two groups of pioneering scientists have identified widespread copy number variations (CNVs) in apparently healthy, normal individuals (Iafrate et al., 2004; Sebat et al ., 2004). It proposes that our genome is more diverse than has ever been recognized, and subsequent studies have identified up to 11,000 CNVs across the whole genome (Tuzun et al. , 2005; Hinds et al ., 2006; Mills et al ., 2006; McCarroll et al ., 2006; Conrad et al ., 2006; Sharp et al ., 2005; Wong et al ., 2007; de Smith et al ., 2007). \\r\\n\\r\\nAlthough the current understanding of CNVs is still limited for practical use and technical challenges still remain to be tackled, recent studies already have demonstrated the potential association of CNVs with various diseases, suggesting plausible functional significances and highlighting the promising utility of CNVs.\\r\\n\\r\\nThe current coverage of CNVs in the human genome already has exceeded that of SNPs (approximately 600 Mb comprising ∼ 12% of human genome) and is still increasing (Cooper et al ., 2007). These large-scale structural variants, in addition to SNPs, will serve as powerful sources to help our understanding of human genetic variation and of differences in disease susceptibility for various diseases. This paper reviews the current knowledge and future perspectives of CNVs.\\r\\n\\r\\nThe definition of CNV\\r\\n\\r\\nStructural variations that involve large DNA segments can take various forms, such as duplication, deletion, insertion, inversion, and translocation. Among them, DNA copy number variations larger than 1 kb are collectively termed CNVs. Fig. 1 illustrates the concept of CNV. Although the CNV can include large, microscopically visible genomic variations, it generally indicates a submicroscopic structural variation that is hardly detectable by conventional karyotyping (3 ∼ 5 Mb) (Freeman et al ., 2006). Smaller variations such as small insertionaldeletion (indel) polymorphisms are not included in CNVs, while they comprise another large collection of over\\r\\n\\r\\n<2 Genomics & Informatics Vol. 6(1) 1-7, March 2008>\\r\\n\\r\\n[Fig. 1. Concept of inter-individual copy number variations. Most humans have two copies of DNA/gene (diploid, 2n), each originating from the maternal (n) and paternal (n) genome. However, some of the DNA regions/genes are not diploid, showing variable numbers of copies. These variable copies are mainly inherited but partly can be gained de novo . This phenomenon is termed copy number variation (CNV). Such CNVs may affect gene expressions through dosage imbalance of genes.]\\r\\n\\r\\n400,000 variants in the human genome (Mills et al ., 2006), and neither is the insertional polymorphism of mobile elements such as Alus or L1 elements considered a CNV.\\r\\n\\r\\nAt the beginning stages of CNV discovery, a number of terms were proposed to define them e.g ., large-scale copy number variants (LCV) (Iafrate et al ., 2004), copy number polymorphism (CNP) (Sebat et al ., 2004), and intermediate-sized variants (ISV) (Tuzun et al ., 2005). The current definition of CNV is also operational and can be modified with the advance of scanning resolution and coverage, and availability of allele frequency in a determined population.\\r\\n\\r\\nThe identification of CNVs using different platforms\\r\\n\\r\\nVarious scanning platforms and quality control methods have been used to identify CNV calls. Because the choice of platforms has a great effect on the results, it is worth reviewing the characteristics of platforms to improve the understanding of CNVs.\\r\\n\\r\\nThe presence of CNVs in normal individuals was reported for the first time in 2004 independently by two groups led by Lee C. and Wigler M. (Iafrate et al ., 2004; Sebat et al ., 2004). Both studies used two-dye array-CGH techniques that used clones of bacterial artificial chromosomes (BAC) or oligonucleotides (representational oligonucleotide microarray analysis, or ROMA). They independently reported about 250 and 80 loci as changes in copy number from 39 and 20 normal individuals, respectively. Fig. 2 illustrates the general concept of CNV detection based on two-dye array-CGH. Although the average numbers of CNVs per individual genome were similar in two studies (about 12 CNVs per genome), it should be noted that there was little overlap between the results. This discrepancy between studies was possibly due to the use of different platforms and experimental conditions in different populations. However, it is also probable that there are still large numbers of structural variants that have yet to be discovered (Buckley et al ., 2005; Eichler, 2006).\\r\\n\\r\\nOne following study that provided evidence on the widespread presence of large-scale structural variations in the human genome was based solely on in silico analysis (Tuzun et al ., 2005). The sequence-level comparison of two independent genome sequences, i.e ., one derived from a human genome reference assembly\\r\\n\\r\\n<Copy Number Variations in the Human Genome    3>\\r\\n\\r\\n[Fig. 2. CNV screening procedure between two individuals using two-dye array-CGH platform. Dye swap hybridization is useful to get reliable interpretation of CNVs. Both individual DNAs are labeled with Cy3 and Cy5, respectively, and co-hybridized. Then, the same experiment is repeated by switching the dyes ('dye-swap'). When both dye-swap profiles show peaks beyond the cutoff and inverted peaks of similar intensity at the same location simultaneously, we interpret them as true CNVs.]\\r\\n\\r\\nand the other from fosmid clones of a genomic library, revealed about 300 structural variations, including inversions. This method can detect various types of structural variants, including inversion, which is not detectable by conventional array-CGH platforms. Indeed, the results by Tuzun et al . (2005) can be used as validated control for primary verification or for parameter tuning for the development of CNV-detection platforms or algorithms. Although the use of this method is currently limited by the unavailability of sequence data, ongoing efforts to sequence the individual human genome and to develop cost-effective sequencing platforms (Bennett et al ., 2005) will be able to facilitate sequence-level genome comparisons and the identification of highly qualified structural variants in the near future. Two studies by McCarroll et al . and Conrad et al ., which focused on the identification of deletion variants (McCarroll et al ., 2006; Conrad et al ., 2006), used 1.2million SNP genotyping data from The International HapMap Consortium (International HapMap Consortium. 2005). They assumed that allelic deletion causes the discard of probes in SNP genotyping. For example, the runs of consecutive probes with null genotype calls or runs of SNP genotypes whose allelic frequencies deviate from expected Hardy-Weinberg equilibrium ratios or expected Mendelian inheritance patterns might represent the presence of deleted loci. They independently reported about 600 potential deletions as small as less than 100 bp. The relatively small size of the identified variants, compared with the array-CGH method, is due to the high resolution of the platforms. The use of an SNP-centric array platform can be used to identify linkage disequilibrium (LD) of structural variants with nearby SNPs in a given population. But, the discrepancy in deletions that were identified in the two studies was also noted in spite of using similar HapMap populations and\\r\\n\\r\\n<4 Genomics & Informatics Vol. 6(1) 1-7, March 2008>\\r\\n\\r\\nidentification methods (Eichler 2006).\\r\\n\\r\\nRecently, a comprehensive CNV analysis was reported based on high-resolution array platforms, Whole Genome TilePath (WGTP), which used 26,000 large insert clones, and Affymetric GeneChip Human Mapping 500K early access, which used 500,000 SNP oligonucleotides. They identified about 1500 genomic segments as copy number variations or CNVRs (copy number variable regions) consisting of overlapping CNVs from 269 HapMap individuals (Redon et al ., 2006). The results from the two platforms are worth comparing becasuse they provide the highest currently achievable resolution and are often selected as primary platforms in many other studies. Firstly, the CNVs that are identified from BAC-based array-CGH are generally larger than those from oligonucleotide-based arrays (230 kb and 80 kb of median size, respectively). This overestimation of CNVs by BAC-based array-CGH is due to the large insert clones that are used, which has been frequently reported (Iafrate et al ., 2006). Secondly, the actual boundaries of structural variants can not be determined through BAC-based array-CGH. On the other hand, a more accurate determination of variant boundaries can be achieved through SNP-centric oligonucleotide-based arrays that have an extensive number of oligonucleotides. The SNP-centric platform has additional advantages of accompanying SNP genotype information as a potential variant source, combined with large structural variants and its ability to detect the presence of loss of heterozygosity (LOH) or segmental uniparental disomy (Bruce et al ., 2005; Mei et al ., 2000). But, the SNP-centric platform also has its disadvantages. In spite of the advanced resolution, the relatively low signal-to-noise ratio of oligonucleotide-based hybridization intensity, compared with large insert clone array, might result in higher false-positive rates. Because most CNVs are subtle changes, this makes the results prone to misclassification of signal intensities and, consequently, to statistical errors.\\r\\n\\r\\nSometimes, it is pointed out that the SNP-centric array was originally designed for allelic discrimination and is not appropriate for CNV detection because of biased genomic distribution and sequence composition of spotted probes (McCarroll and Altshuler 2007d). Recently proposed oligonucleotide-based array platforms have been designed for CNV detection specifically without sacrificing the advantage of high resolution, which can be a promising solution for CNV detection in the near future (Barrett et al ., 2004).\\r\\n\\r\\nIn identifying CNVs in normal populations, one of the fundamental problems is the lack of a reference genome from which diploid states of sample DNA can be inferred. Unlike the array-CGH-based tumor study in which the normal DNA of the same individual can be used as a reference genome, no single DNA source can present the standardized and universal genome in variant analysis. Often, the pooled genome of several individuals has been used to represent the average genome, while the heterogeneity of the used population might affect the copy number inference step, as shown for examples of X chromosomes. Redon et al . and Komura et al . adopted the pairwise comparison for ac-\\r\\n\\r\\n[Table 1. Copy number variations and associated diseases/phenotypes]\\r\\n\\r\\n[Gene          Location       Susceptible type                       Phenotype                           Reference FCGR3          1q23.3           Low copy                       Glomerulonephritis                    Aitman et al ., 2006 FCGR3B          1q23.3           Low copy       Systemic lupus erythematosus, microscopic polyangiitis Fanciulli M et al ., 2007 C4            6p21.32          Low copy                  Systemic lupus erythematosus                Yang et al ., 2007 CCL3L1          17q12           Low copy                     HIV/AIDS susceptibility                 Gonzalez et al ., 2005 CCL3L1          17q12           High copy                      Rheumatoid arthritis                  McKinney et al ., 2008 UGT2B17          4p13           Low copy            Body testosterone level, prostate cancer risk       Jakobsson et al ., 2006 CNTNAP2         7q36.1           Low copy                   Schizophrenia and epilepsy               Friedman et al ., 2008 AMY1           1p21.1         Variable copy                        Starch diet                        Perry et al ., 2007 DEFB4          8p23.1         Variable copy                       Crohn disease                    Fellermann et al ., 2006 DEFENSIN         8p23.1           Low copy                    Autism spectrum disorder                  Cho et al ., 2008 SHANK3         22q13.3          Low copy                    Autism spectrum disorder                Moessner et al ., 2007 NRXN1          2p16.3           Low copy                         Schizophrenia                       Kirov et al ., 2008 APBA2          15q13.1          Duplication                        Schizophrenia                       Kirov et al ., 2008]\\r\\n\\r\\ncurate inference of copy number states in individual loci, which is noteworthy (Redon et al ., 2006; Komura et al ., 2006). In pairwise comparison, the hybridization intensities of one sample is compared with those of all other remaining samples as one large reference, and the diploid states of loci can be more accurately inferred from the multiple comparison results.\\r\\n\\r\\nClinical implications of CNVs and disease association study\\r\\n\\r\\nIn spite of recent technological developments of genetic polymorphism-oriented disease association studies, still little is known about the effects of genetic polymorphisms on common complex diseases. One of the ultimate goals in exploring CNVs is to systematically assess the association between such variants and the disease. Although it is unlikely that all CNVs in the human genome are associated with diseases, evidence of the association of CNVs and a wide spectrum of human diseases has rapidly accumulated. Table 1 summarizes the CNVs that have been reported to be associated with diseases. CNVs can affect disease susceptibility or individual differences in responses to drugs through alteration of gene expression. Stranger et al .'s and Heidenblad et al' s reports coherently showed positive correlations between DNA copy number dosage and gene expression level (Stranger et al ., 2007; Heidenblad et al ., 2005). If a CNV region contains transcriptional regulatory elements rather than protein coding genes, it still can affect gene expression levels by changing transcriptional regulation or heterochromatin spread (Reymond et al ., 2007).\\r\\n\\r\\nConclusion\\r\\n\\r\\nThe genomic fraction that is occupied by CNVs is now estimated to be about 600 Mb, already exceeding that of single base-level variants. It is likely that the number of CNVs and the genomic fraction that is affected by structural variants will continue to expand, and many of them will be used for more practical purposes, including disease association or population studies. However, it should be remembered that the current CNV entries are plagued by substantial amounts of false-positive and false-negative results. Only a small portion of them have been validated by independent methods. To overcome this, it is necessary to improve scanning platforms, including optimizing experimental conditions and developing more reliable CNV calling algorithms. In the meantime, it is required for individual researchers to know the characteristics of the available platforms and analytical techniques to use them or to interpret the published re-\\r\\n\\r\\n<Copy Number Variations in the Human Genome    5>\\r\\n\\r\\nsults properly.\\r\\n\\r\\nAcknowledgements\\r\\n\\r\\nThis work is supported by a grant from the Korea Health 21 R&D Project, Ministry of Health & Welfare, Republic of Korea (0405-BC02-0604-0004) and (01-PJ3PG6-01GN09-003).\\r\\n\\r\\nReferences\\r\\n\\r\\nAitman, T.J., R.Dong, T.J., Vyse, P.J., et al . (2006). Copy number polymorphism in Fcgr3 predisposes to glomerulonephritis in rats and humans. Nature 439, 851-855. Barrett, M.T., Scheffer, A., Ben-Dor, A., et al . (2004). Comparative genomic hybridization using oligonucleotide microarrays and total genomic DNA. Proc. Natl. Acad. Sci. U. S. A 101, 17765-17770.\\r\\n\\r\\nBennett, S.T., Barnes, C., Cox, A., Davies, L., and Brown, C. (2005). Toward the 1,000 dollars human genome. Pharmacogenomics 6, 373-382.\\r\\n\\r\\nBruce, S., Leinonen, R., Lindgren, C.M., Kivinen, K., Dahlman-Wright, K., Lipsanen-Nyman, M., HannulaJouppi, K., and Kere, J. (2005). Global analysis of uniparental disomy using high density genotyping arrays. J. Med. Genet. 42, 847-851.\\r\\n\\r\\nBuckley, P.G., Mantripragada, K.K., Piotrowski, A., az de, S.T., and Dumanski, J.P. (2005). Copy-number polymorphisms: mining the tip of an iceberg. Trends Genet . 21, 315-317.\\r\\n\\r\\nCheck, E. (2005). Human genome: patchwork people.\\r\\n\\r\\nNature 437, 1084-1086.\\r\\n\\r\\nCheng, Z., Ventura, M., She, X., et al . (2005). A genome-wide comparison of recent chimpanzee and human segmental duplications. Nature 437, 88-93.\\r\\n\\r\\nCho, C.S., Yim, S.H., Yoo, H.K., et al . (2008). Copy number variations associated with idiopathic autism identified by whole-genome array-CGH. Psychiatric Genetics in press. Conrad, D.F., Andrews, T.D., Carter, N.P., Hurles, M.E., and Pritchard, J.K. (2006). A high-resolution survey of deletion polymorphism in the human genome. Nat. Genet . 38, 7581.\\r\\n\\r\\nCooper, G.M., Nickerson, D.A., and Eichler, E.E. (2007). Mutational and selective effects on copy-number variants in the human genome. Nat. Genet . 39, S22-S29.\\r\\n\\r\\nde Smith, A.J., Tsalenko, A., Sampas, N., et al . (2007). Array CGH analysis of copy number variation identifies 1284 new genes variant in healthy white males: implications for association studies of complex diseases. Hum. Mol. Genet . 16, 2783-2794.\\r\\n\\r\\nEichler, E.E. (2006). Widening the spectrum of human ge-\\r\\n\\r\\nnetic variation. Nat. Genet . 38, 9-11.\\r\\n\\r\\nFanciulli, M., Norsworthy, P.J., Petretto, E., et al . (2007). FCGR3B copy number variation is associated with susceptibility to systemic, but not organ-specific, autoimmunity. Nat. Genet . 39, 721-723.\\r\\n\\r\\nFellermann, K., Stange, D.E., Schaeffeler, E., et al . (2006). A\\r\\n\\r\\n<6 Genomics & Informatics Vol. 6(1) 1-7, March 2008>\\r\\n\\r\\nchromosome 8 gene-cluster polymorphism with low human beta-defensin 2 gene copy number predisposes to Crohn disease of the colon. Am. J. Hum. Genet . 79, 439-448.\\r\\n\\r\\nFeuk, L., MacDonald, J.R., Tang, T., Carson, A.R., Li, M., Rao, G., Khaja, R., and Scherer, S.W. (2005). Discovery of human inversion polymorphisms by comparative analysis of human and chimpanzee DNA sequence assemblies. PLoS. Genet . 1, e56.\\r\\n\\r\\nFreeman, J.L., Perry, G.H., Feuk, L., et al . (2006). Copy number variation: new insights in genome diversity. Genome Res . 16, 949-961.\\r\\n\\r\\nFriedman, J.I., Vrijenhoek, T., Markx, S., et al . (2008). CNTNAP2 gene dosage variation is associated with schizophrenia and epilepsy. Mol. Psychiatry . 13, 2612626126.\\r\\n\\r\\nGonzalez, E., Kulkarni, H., Bolivar, H., et al . (2005). The influence of CCL3L1 gene-containing segmental duplications on HIV-1/AIDS susceptibility. Science 307, 14341440.\\r\\n\\r\\nHeidenblad, M., Lindgren, D., Veltman, J.A., Jonson, T., Mahlam ä ki, E.H., Gorunova, L., van Kessel, A.G., Schoenmakers, E.F., and H ö glund, M. (2005). Microarray analyses reveal strong influence of DNA copy number alterations on the transcriptional patterns in pancreatic cancer: implications for the interpretation of genomic amplifications. Oncogene 24, 1794-1801.\\r\\n\\r\\nHinds, D.A., Kloek, A.P., Jen, M., Chen, X., and Frazer, K.A. (2006). Common deletions and SNPs are in linkage disequilibrium in the human genome. Nat. Genet . 38, 8285.\\r\\n\\r\\nIafrate, A.J., Feuk, L., Rivera, M.N., Listewnik, M.L., Donahoe, P.K., Qi, Y., Scherer, S.W., and Lee, C. (2004). Detection of large-scale variation in the human genome. Nat. Genet . 36, 949-951.\\r\\n\\r\\nInternational HapMap Consortium. (2005). A haplotype map\\r\\n\\r\\nof the human genome. Nature 437, 1299-1320.\\r\\n\\r\\nIstrail, S., Sutton, G.G., Florea, L., et al . (2004). Whole-genome shotgun assembly and comparison of human genome assemblies. Proc. Natl. Acad. Sci. U. S. A 101, 1916-1921.\\r\\n\\r\\nJakobsson, J., Ekstrom. L., Inotsume, N., Garle, M., Lorentzon, M., Ohlsson, C., Roh, H.K., Carlstr ö m, K., and Rane, A. (2006). Large differences in testosterone excretion in Korean and Swedish men are strongly associated with a UDP-glucuronosyl transferase 2B17 polymorphism. J. Clin. Endocrinol. Metab . 91, 687-693.\\r\\n\\r\\nKirov, G., Gumus, D., Chen, W., et al . (2008). Comparative genome hybridization suggests a role for NRXN1 and APBA2 in schizophrenia. Hum. Mol. Genet . 17, 458-465. Komura, D., Shen, F., Ishikawa, S., et al . (2006). Genomewide detection of human copy number variations using high-density DNA oligonucleotide arrays. Genome Res . 16, 1575-1584.\\r\\n\\r\\nLupski, J.R. (1998). Genomic disorders: structural features of the genome can lead to DNA rearrangements and human disease traits. Trends Genet . 14, 417-422.\\r\\n\\r\\nMcCarroll, S.A., and Altshuler, D.M. (2007). Copy-number variation and association studies of human disease. Nat.\\r\\n\\r\\nGenet . 39, S37-S42.\\r\\n\\r\\nMcCarroll, S.A., Hadnott, T.N., Perry, G.H., et al . (2006). Common deletion polymorphisms in the human genome. Nat. Genet . 38, 86-92.\\r\\n\\r\\nMcKinney, C., Merriman, M.E., Chapman, P.T., et al . (2008). Evidence for an influence of chemokine ligand 3-like 1 (CCL3L1) gene copy number on susceptibility to rheumatoid arthritis. Ann. Rheum. Dis . 67, 409-413.\\r\\n\\r\\nMei, R., Galipeau, P.C., Prass, C., Berno, A., Ghandour, G., Patil, N., Wolff, R.K., Chee, M.S., Reid, B.J., and Lockhart, D.J. (2000). Genome-wide detection of allelic imbalance using human SNPs and high-density DNA arrays. Genome Res . 10, 1126-1137.\\r\\n\\r\\nMills, R.E., Luttig, C.T., Larkins, C.E., Beauchamp, A., Tsui, C., Pittard, W.S., and Devine, S.E. (2006). An initial map of insertion and deletion (INDEL) variation in the human genome. Genome Res . 16, 1182-1190.\\r\\n\\r\\nMoessner, R., Marshall, C.R., Sutcliffe, J.S., et al . (2007). Contribution of SHANK3 mutations to autism spectrum disorder. Am. J. Hum. Genet . 81, 1289-1297.\\r\\n\\r\\nPerry, G.H., Dominy, N.J., Claw, K.G., et al . (2007). Diet and the evolution of human amylase gene copy number variation. Nat. Genet . 39, 1256-1260.\\r\\n\\r\\nPrzeworski, M., Hudson, R.R., and Di, R.A. (2000). Adjusting the focus on human variation. Trends Genet . 16, 296302.\\r\\n\\r\\nRedon, R., Ishikawa, S., Fitch, K.R., et al . (2006). Global variation in copy number in the human genome. Nature 444, 444-454.\\r\\n\\r\\nReymond, A., Henrichsen, C.N., Harewood, L., and Merla, G. (2007). Side effects of genome structural changes. Curr. Opin. Genet. Dev . 17, 381-386.\\r\\n\\r\\nSachidanandam, R., Weissman, D., Schmidt, S.C., et al . (2001). A map of human genome sequence variation containing 1.42 million single nucleotide polymorphisms. Nature 409, 928-933.\\r\\n\\r\\nSebat, J., Lakshmi, B., Troge, J., et al . (2004). Large-scale copy number polymorphism in the human genome. Science 305, 525-528.\\r\\n\\r\\nSharp, A.J., Locke, D.P., McGrath, S.D., et al . (2005). Segmental duplications and copy-number variation in the human genome. Am. J. Hum. Genet . 77, 78-88.\\r\\n\\r\\nStankiewicz, P., and Lupski, J.R. (2002). Genome architecture, rearrangements and genomic disorders. Trends Genet . 18, 74-82.\\r\\n\\r\\nStranger, B.E., Forrest, M.S., Dunning, M., et al . (2007). Relative impact of nucleotide and copy number variation on gene expression phenotypes. Science 315, 848-853. Tuzun, E., Sharp, A.J., Bailey, J.A., et al . (2005). Fine-scale structural variation of the human genome. Nat. Genet . 37, 727-732.\\r\\n\\r\\nWarburton, D. (1991). De novo balanced chromosome rearrangements and extra marker chromosomes identified at prenatal diagnosis: clinical significance and distribution of breakpoints. Am. J. Hum. Genet . 49, 995-1013.\\r\\n\\r\\nWong, K.K., deLeeuw, R.J., Dosanjh, N.S., et al . (2007). A comprehensive analysis of common copy-number variations in the human genome. Am. J. Hum. Genet . 80, 91-104. Yang, Y., Chung, E.K., Wu, Y.L., et al . (2007). Gene copy-\\r\\n\\r\\nnumber variation and associated polymorphisms of complement component C4 in human systemic lupus erythematosus (SLE): low copy number is a risk factor for and\\r\\n\\r\\n<Copy Number Variations in the Human Genome    7>\\r\\n\\r\\nhigh copy number is a protective factor against SLE susceptibility in European Americans. Am. J. Hum. Genet . 80, 1037-1054.\\r\\n\\r\\n\""
            ]
          },
          "metadata": {
            "tags": []
          },
          "execution_count": 106
        }
      ]
    },
    {
      "cell_type": "code",
      "metadata": {
        "id": "f-7Cjqy7mDt8",
        "colab_type": "code",
        "colab": {}
      },
      "source": [
        "#txt 파일 생성\n",
        "f = open(\"NEW_gni-6-1-7.txt\", 'w')\n",
        "f.write(N_giRaw)\n",
        "f.close()"
      ],
      "execution_count": 0,
      "outputs": []
    }
  ]
}