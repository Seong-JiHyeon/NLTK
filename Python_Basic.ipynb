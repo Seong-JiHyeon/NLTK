{
  "nbformat": 4,
  "nbformat_minor": 0,
  "metadata": {
    "colab": {
      "name": "인공지능 수업 - 파이썬 수업",
      "provenance": [],
      "collapsed_sections": [],
      "authorship_tag": "ABX9TyM2W2lAUvnQ8s8aMEdypcnd",
      "include_colab_link": true
    },
    "kernelspec": {
      "name": "python3",
      "display_name": "Python 3"
    },
    "accelerator": "GPU"
  },
  "cells": [
    {
      "cell_type": "markdown",
      "metadata": {
        "id": "view-in-github",
        "colab_type": "text"
      },
      "source": [
        "<a href=\"https://colab.research.google.com/github/Seong-JiHyeon/NLTK/blob/master/Python_Basic.ipynb\" target=\"_parent\"><img src=\"https://colab.research.google.com/assets/colab-badge.svg\" alt=\"Open In Colab\"/></a>"
      ]
    },
    {
      "cell_type": "markdown",
      "metadata": {
        "id": "dJ_xaEKnYNRB",
        "colab_type": "text"
      },
      "source": [
        "자료구조 (Built in data types)\n",
        "\n",
        "*   numbers (immutable)\n",
        "*   sequences\n",
        "> * string (immutable)\n",
        "> * list (mutable)\n",
        "> * tuple (immutable)\n",
        "> * dictionary (mutable)\n",
        "* files\n",
        "\n",
        "\n",
        "---\n",
        "\n",
        "\n",
        "+ immutable: 새로운 값을 assign할 경우 memory 값이 변함\n",
        "+ mutable: 가장 처음에 생긴 memory 공간에서 값이 추가되거나 변환되어도 주소값이 변하지 않음"
      ]
    },
    {
      "cell_type": "code",
      "metadata": {
        "id": "TMLN9MKvYIIO",
        "colab_type": "code",
        "colab": {}
      },
      "source": [
        "myString = 'Time flies like an arrow'\n",
        "myList = myString.split(' ')"
      ],
      "execution_count": 0,
      "outputs": []
    },
    {
      "cell_type": "code",
      "metadata": {
        "id": "uYsJgUwJZvqG",
        "colab_type": "code",
        "outputId": "867cda40-eb8e-4b76-cd18-40b268ff8c03",
        "colab": {
          "base_uri": "https://localhost:8080/",
          "height": 36
        }
      },
      "source": [
        "myList"
      ],
      "execution_count": 0,
      "outputs": [
        {
          "output_type": "execute_result",
          "data": {
            "text/plain": [
              "['Time', 'flies', 'like', 'an', 'arrow']"
            ]
          },
          "metadata": {
            "tags": []
          },
          "execution_count": 2
        }
      ]
    },
    {
      "cell_type": "code",
      "metadata": {
        "id": "hamBlGHLZye2",
        "colab_type": "code",
        "outputId": "1c7a59fe-8d53-4dc7-8f79-2cd5919df24c",
        "colab": {
          "base_uri": "https://localhost:8080/",
          "height": 36
        }
      },
      "source": [
        "myString2 = ' '.join(myList)\n",
        "myString2"
      ],
      "execution_count": 0,
      "outputs": [
        {
          "output_type": "execute_result",
          "data": {
            "text/plain": [
              "'Time flies like an arrow'"
            ]
          },
          "metadata": {
            "tags": []
          },
          "execution_count": 3
        }
      ]
    },
    {
      "cell_type": "code",
      "metadata": {
        "id": "HlRIjE-xZ9uU",
        "colab_type": "code",
        "outputId": "eb39bdc8-ed6c-4ea4-d5e2-ff4801461365",
        "colab": {
          "base_uri": "https://localhost:8080/",
          "height": 36
        }
      },
      "source": [
        "myTuple = ('time', 'flies', 'like', 'an', 'arrow')\n",
        "myTuple"
      ],
      "execution_count": 0,
      "outputs": [
        {
          "output_type": "execute_result",
          "data": {
            "text/plain": [
              "('time', 'flies', 'like', 'an', 'arrow')"
            ]
          },
          "metadata": {
            "tags": []
          },
          "execution_count": 4
        }
      ]
    },
    {
      "cell_type": "code",
      "metadata": {
        "id": "jWviSyBcaV1Z",
        "colab_type": "code",
        "outputId": "3ec142a5-4bb8-4eeb-9975-3d1223091853",
        "colab": {
          "base_uri": "https://localhost:8080/",
          "height": 36
        }
      },
      "source": [
        "myDictionary = {'time': 3, 'flies': 2}\n",
        "# myDictionary = dict(Time='Noun', flies='Verb')\n",
        "# dictionary with one key, multiple values\n",
        "# myDictionary['Time'] = ['Noun','Verb'] -> list로 지정\n",
        "# list와 dictionary의 상호 변경: dict(myList) / list(myDictionary)\n",
        "myDictionary['time']"
      ],
      "execution_count": 0,
      "outputs": [
        {
          "output_type": "execute_result",
          "data": {
            "text/plain": [
              "3"
            ]
          },
          "metadata": {
            "tags": []
          },
          "execution_count": 5
        }
      ]
    },
    {
      "cell_type": "code",
      "metadata": {
        "id": "QFGPyEeka1Od",
        "colab_type": "code",
        "outputId": "f31f62f1-556e-438b-ff91-4f7849bbbbed",
        "colab": {
          "base_uri": "https://localhost:8080/",
          "height": 36
        }
      },
      "source": [
        "list(myDictionary) #key들로 구성된 list"
      ],
      "execution_count": 0,
      "outputs": [
        {
          "output_type": "execute_result",
          "data": {
            "text/plain": [
              "['time', 'flies']"
            ]
          },
          "metadata": {
            "tags": []
          },
          "execution_count": 6
        }
      ]
    },
    {
      "cell_type": "code",
      "metadata": {
        "id": "7NTB8FYca8H1",
        "colab_type": "code",
        "outputId": "2319a860-e91e-4859-f074-2f1ae36c5b6a",
        "colab": {
          "base_uri": "https://localhost:8080/",
          "height": 36
        }
      },
      "source": [
        "myString + myString2 # +는 concatenation -> 같은 자료형끼리 가능 -> overloading"
      ],
      "execution_count": 0,
      "outputs": [
        {
          "output_type": "execute_result",
          "data": {
            "text/plain": [
              "'Time flies like an arrowTime flies like an arrow'"
            ]
          },
          "metadata": {
            "tags": []
          },
          "execution_count": 7
        }
      ]
    },
    {
      "cell_type": "code",
      "metadata": {
        "id": "S2rnbvX6bE5u",
        "colab_type": "code",
        "outputId": "95c8c70f-bb6a-44e2-9811-81f2a355efcc",
        "colab": {
          "base_uri": "https://localhost:8080/",
          "height": 36
        }
      },
      "source": [
        "monty = 'Monty Python'\n",
        "monty[-1]"
      ],
      "execution_count": 0,
      "outputs": [
        {
          "output_type": "execute_result",
          "data": {
            "text/plain": [
              "'n'"
            ]
          },
          "metadata": {
            "tags": []
          },
          "execution_count": 8
        }
      ]
    },
    {
      "cell_type": "code",
      "metadata": {
        "id": "NcuJQdtqcAH-",
        "colab_type": "code",
        "outputId": "0efb60bb-d39d-4244-bff6-2c8e71d19385",
        "colab": {
          "base_uri": "https://localhost:8080/",
          "height": 36
        }
      },
      "source": [
        "monty[-12:-7] #끝에서부터 -1로 count"
      ],
      "execution_count": 0,
      "outputs": [
        {
          "output_type": "execute_result",
          "data": {
            "text/plain": [
              "'Monty'"
            ]
          },
          "metadata": {
            "tags": []
          },
          "execution_count": 9
        }
      ]
    },
    {
      "cell_type": "code",
      "metadata": {
        "id": "3B1DBgKHcD29",
        "colab_type": "code",
        "outputId": "00278ac4-2ebf-42aa-e0ac-8f0a6ea1a3e4",
        "colab": {
          "base_uri": "https://localhost:8080/",
          "height": 36
        }
      },
      "source": [
        "monty.find('P') #대소문자 구분, 찾는 character가 없는 경우 -1 반환"
      ],
      "execution_count": 0,
      "outputs": [
        {
          "output_type": "execute_result",
          "data": {
            "text/plain": [
              "6"
            ]
          },
          "metadata": {
            "tags": []
          },
          "execution_count": 10
        }
      ]
    },
    {
      "cell_type": "code",
      "metadata": {
        "id": "tt8lkRuocRng",
        "colab_type": "code",
        "outputId": "25530931-43c7-4295-bf04-c35b17f019cb",
        "colab": {
          "base_uri": "https://localhost:8080/",
          "height": 36
        }
      },
      "source": [
        "myString.upper() #대문자화, lower은 소문자화 <string에서!!>"
      ],
      "execution_count": 0,
      "outputs": [
        {
          "output_type": "execute_result",
          "data": {
            "text/plain": [
              "'TIME FLIES LIKE AN ARROW'"
            ]
          },
          "metadata": {
            "tags": []
          },
          "execution_count": 11
        }
      ]
    },
    {
      "cell_type": "code",
      "metadata": {
        "id": "kfsCHXmUcpyb",
        "colab_type": "code",
        "outputId": "a7a5b14b-7a2d-467f-ac6a-fb6a4dda5820",
        "colab": {
          "base_uri": "https://localhost:8080/",
          "height": 36
        }
      },
      "source": [
        "myString.replace('a', 'A') #myString.upper().replace('T', 'U') 같이 사용 가능"
      ],
      "execution_count": 0,
      "outputs": [
        {
          "output_type": "execute_result",
          "data": {
            "text/plain": [
              "'Time flies like An Arrow'"
            ]
          },
          "metadata": {
            "tags": []
          },
          "execution_count": 12
        }
      ]
    },
    {
      "cell_type": "code",
      "metadata": {
        "id": "M6_JH-cIc49t",
        "colab_type": "code",
        "outputId": "caaca097-2cc9-4acf-b5b9-4522b1478d5b",
        "colab": {
          "base_uri": "https://localhost:8080/",
          "height": 36
        }
      },
      "source": [
        "myString.count('a')"
      ],
      "execution_count": 0,
      "outputs": [
        {
          "output_type": "execute_result",
          "data": {
            "text/plain": [
              "2"
            ]
          },
          "metadata": {
            "tags": []
          },
          "execution_count": 13
        }
      ]
    },
    {
      "cell_type": "code",
      "metadata": {
        "id": "v7Z7iKcRBO7e",
        "colab_type": "code",
        "outputId": "c5b3048c-c7e9-4cb1-9f98-e89e09d3ca81",
        "colab": {
          "base_uri": "https://localhost:8080/",
          "height": 36
        }
      },
      "source": [
        "myList.append(';')\n",
        "myList"
      ],
      "execution_count": 0,
      "outputs": [
        {
          "output_type": "execute_result",
          "data": {
            "text/plain": [
              "['Time', 'flies', 'like', 'an', 'arrow', ';']"
            ]
          },
          "metadata": {
            "tags": []
          },
          "execution_count": 14
        }
      ]
    },
    {
      "cell_type": "code",
      "metadata": {
        "id": "5_VuAJPrBdCv",
        "colab_type": "code",
        "outputId": "770a8103-8232-4d2d-8193-f2e373deff43",
        "colab": {
          "base_uri": "https://localhost:8080/",
          "height": 223
        }
      },
      "source": [
        "myList.extend(['fruit', 'flies', 'like', 'a', 'banana'])\n",
        "myList"
      ],
      "execution_count": 0,
      "outputs": [
        {
          "output_type": "execute_result",
          "data": {
            "text/plain": [
              "['Time',\n",
              " 'flies',\n",
              " 'like',\n",
              " 'an',\n",
              " 'arrow',\n",
              " ';',\n",
              " 'fruit',\n",
              " 'flies',\n",
              " 'like',\n",
              " 'a',\n",
              " 'banana']"
            ]
          },
          "metadata": {
            "tags": []
          },
          "execution_count": 15
        }
      ]
    },
    {
      "cell_type": "code",
      "metadata": {
        "id": "zYnzqq_RBqbT",
        "colab_type": "code",
        "outputId": "2840d8f2-cf31-43ed-b76c-dba169e3dd4f",
        "colab": {
          "base_uri": "https://localhost:8080/",
          "height": 241
        }
      },
      "source": [
        "myList.insert(3, 'wow')\n",
        "myList"
      ],
      "execution_count": 0,
      "outputs": [
        {
          "output_type": "execute_result",
          "data": {
            "text/plain": [
              "['Time',\n",
              " 'flies',\n",
              " 'like',\n",
              " 'wow',\n",
              " 'an',\n",
              " 'arrow',\n",
              " ';',\n",
              " 'fruit',\n",
              " 'flies',\n",
              " 'like',\n",
              " 'a',\n",
              " 'banana']"
            ]
          },
          "metadata": {
            "tags": []
          },
          "execution_count": 16
        }
      ]
    },
    {
      "cell_type": "code",
      "metadata": {
        "id": "EDKCwP5EBxho",
        "colab_type": "code",
        "outputId": "9b732c99-02cb-4a91-ab19-77f095df81c5",
        "colab": {
          "base_uri": "https://localhost:8080/",
          "height": 36
        }
      },
      "source": [
        "myList.remove('wow')\n",
        "myList.index('flies')"
      ],
      "execution_count": 0,
      "outputs": [
        {
          "output_type": "execute_result",
          "data": {
            "text/plain": [
              "1"
            ]
          },
          "metadata": {
            "tags": []
          },
          "execution_count": 17
        }
      ]
    },
    {
      "cell_type": "code",
      "metadata": {
        "id": "BZKk0VyQB1iL",
        "colab_type": "code",
        "outputId": "6ca69a95-b359-4901-96a0-cefb2fdc1dfc",
        "colab": {
          "base_uri": "https://localhost:8080/",
          "height": 223
        }
      },
      "source": [
        "myList.reverse() #역순\n",
        "myList"
      ],
      "execution_count": 0,
      "outputs": [
        {
          "output_type": "execute_result",
          "data": {
            "text/plain": [
              "['banana',\n",
              " 'a',\n",
              " 'like',\n",
              " 'flies',\n",
              " 'fruit',\n",
              " ';',\n",
              " 'arrow',\n",
              " 'an',\n",
              " 'like',\n",
              " 'flies',\n",
              " 'Time']"
            ]
          },
          "metadata": {
            "tags": []
          },
          "execution_count": 18
        }
      ]
    },
    {
      "cell_type": "code",
      "metadata": {
        "id": "zQzlHyxBB8nh",
        "colab_type": "code",
        "colab": {}
      },
      "source": [
        "# else if = elif\n",
        "# python에서 false는 0, null / true는 0 제외 존재하는 값\n",
        "# myString[::-1] = reverse"
      ],
      "execution_count": 0,
      "outputs": []
    },
    {
      "cell_type": "code",
      "metadata": {
        "id": "X0lFnGbkETQT",
        "colab_type": "code",
        "outputId": "01fbd6bf-815a-4de3-9ca0-7d38bd5949e3",
        "colab": {
          "base_uri": "https://localhost:8080/",
          "height": 129
        }
      },
      "source": [
        "word=''\n",
        "\n",
        "while word.strip() != 'quit': #strip()은 문자열 양 옆의 공백과 \\n 삭제함\n",
        "  word = input(\"enter a word: \")"
      ],
      "execution_count": 0,
      "outputs": [
        {
          "output_type": "stream",
          "text": [
            "enter a word: time\n",
            "enter a word: flies\n",
            "enter a word: like\n",
            "enter a word: an\n",
            "enter a word: arrow\n",
            "enter a word: quit\n"
          ],
          "name": "stdout"
        }
      ]
    },
    {
      "cell_type": "code",
      "metadata": {
        "id": "YSW3N-jREsHT",
        "colab_type": "code",
        "outputId": "bbcfa1ac-717e-4193-940a-2966c4ac1da1",
        "colab": {
          "base_uri": "https://localhost:8080/",
          "height": 223
        }
      },
      "source": [
        "for x in myList:\n",
        "  print(x[::-1])"
      ],
      "execution_count": 0,
      "outputs": [
        {
          "output_type": "stream",
          "text": [
            "ananab\n",
            "a\n",
            "ekil\n",
            "seilf\n",
            "tiurf\n",
            ";\n",
            "worra\n",
            "na\n",
            "ekil\n",
            "seilf\n",
            "emiT\n"
          ],
          "name": "stdout"
        }
      ]
    },
    {
      "cell_type": "code",
      "metadata": {
        "id": "l3A23QssFL5h",
        "colab_type": "code",
        "outputId": "1f571cd8-d433-40aa-83cf-82c9f4c3edc6",
        "colab": {
          "base_uri": "https://localhost:8080/",
          "height": 167
        }
      },
      "source": [
        "for i in range(0, len(myString)-2, 3):\n",
        "  print(myString[i:i+3])"
      ],
      "execution_count": 0,
      "outputs": [
        {
          "output_type": "stream",
          "text": [
            "Tim\n",
            "e f\n",
            "lie\n",
            "s l\n",
            "ike\n",
            " an\n",
            " ar\n",
            "row\n"
          ],
          "name": "stdout"
        }
      ]
    },
    {
      "cell_type": "code",
      "metadata": {
        "id": "9WyTr679FpyS",
        "colab_type": "code",
        "outputId": "d34cfb21-6e2f-4e0a-f29e-fccacef4107d",
        "colab": {
          "base_uri": "https://localhost:8080/",
          "height": 131
        }
      },
      "source": [
        "from google.colab import drive\n",
        "\n",
        "drive.mount('/content/gdrive')"
      ],
      "execution_count": 0,
      "outputs": [
        {
          "output_type": "stream",
          "text": [
            "Go to this URL in a browser: https://accounts.google.com/o/oauth2/auth?client_id=947318989803-6bn6qk8qdgf4n4g3pfee6491hc0brc4i.apps.googleusercontent.com&redirect_uri=urn%3aietf%3awg%3aoauth%3a2.0%3aoob&response_type=code&scope=email%20https%3a%2f%2fwww.googleapis.com%2fauth%2fdocs.test%20https%3a%2f%2fwww.googleapis.com%2fauth%2fdrive%20https%3a%2f%2fwww.googleapis.com%2fauth%2fdrive.photos.readonly%20https%3a%2f%2fwww.googleapis.com%2fauth%2fpeopleapi.readonly\n",
            "\n",
            "Enter your authorization code:\n",
            "··········\n",
            "Mounted at /content/gdrive\n"
          ],
          "name": "stdout"
        }
      ]
    },
    {
      "cell_type": "code",
      "metadata": {
        "id": "gZHX9aNZHV1A",
        "colab_type": "code",
        "outputId": "5f50c414-7568-4065-aba4-adae5ceea21b",
        "colab": {
          "base_uri": "https://localhost:8080/",
          "height": 36
        }
      },
      "source": [
        "cd /content/gdrive/My Drive/natural_language"
      ],
      "execution_count": 0,
      "outputs": [
        {
          "output_type": "stream",
          "text": [
            "/content/gdrive/My Drive/natural_language\n"
          ],
          "name": "stdout"
        }
      ]
    },
    {
      "cell_type": "code",
      "metadata": {
        "id": "qQXcMy_AHaW-",
        "colab_type": "code",
        "outputId": "6cb736ac-8c89-4901-eacb-020761d7e4d0",
        "colab": {
          "base_uri": "https://localhost:8080/",
          "height": 36
        }
      },
      "source": [
        "path2 = \"/content/gdrive/My Drive/natural_language/\"\n",
        "f=open('gni-6-1-1.txt', \"r\", encoding='utf-8') #utf-16\n",
        "fileString = f.read()\n",
        "print(fileString.count('a'))"
      ],
      "execution_count": 0,
      "outputs": [
        {
          "output_type": "stream",
          "text": [
            "1473\n"
          ],
          "name": "stdout"
        }
      ]
    },
    {
      "cell_type": "code",
      "metadata": {
        "id": "xS3MY2rVJn33",
        "colab_type": "code",
        "outputId": "77299177-c8f0-4b96-f65a-1114b5527dfe",
        "colab": {
          "base_uri": "https://localhost:8080/",
          "height": 55
        }
      },
      "source": [
        "# line 단위로 읽기 (\\n)\n",
        "import os\n",
        "\n",
        "for file in os.listdir(path2): #path2에 있는 모든 파일 이름 읽기\n",
        "  print(path2+file)"
      ],
      "execution_count": 0,
      "outputs": [
        {
          "output_type": "stream",
          "text": [
            "/content/gdrive/My Drive/natural_language/harvard_england.wav\n",
            "/content/gdrive/My Drive/natural_language/gni-6-1-1.txt\n"
          ],
          "name": "stdout"
        }
      ]
    },
    {
      "cell_type": "code",
      "metadata": {
        "id": "EQUM9es4KQXa",
        "colab_type": "code",
        "outputId": "17349172-ac82-4b47-f71d-fa2998f8f979",
        "colab": {
          "base_uri": "https://localhost:8080/",
          "height": 1000
        }
      },
      "source": [
        "for line in open('gni-6-1-1.txt', 'r', encoding='utf-8'): #line 단위로 읽기\n",
        "  print(line)"
      ],
      "execution_count": 0,
      "outputs": [
        {
          "output_type": "stream",
          "text": [
            "M IN I R E V IE W              Genomics & Informatics   Vol. 6(1) 1-7, March 2008\n",
            "\n",
            "\n",
            "\n",
            "Copy Number Variations in the Human Genome: Potential Source for Individual Diversity and Disease Association Studies\n",
            "\n",
            "\n",
            "\n",
            "Tae-Min Kim 1 , Seon-Hee Yim 2 and Yeun-Jun Chung 1,2 *\n",
            "\n",
            "\n",
            "\n",
            "2\n",
            "\n",
            "\n",
            "\n",
            "for Genome Polymorphism, The Catholic University of Korea, Seoul 137-701, Korea\n",
            "\n",
            "\n",
            "\n",
            "Abstract\n",
            "\n",
            "\n",
            "\n",
            "The widespread presence of large-scale genomic varia- tions, termed copy number variation (CNVs), has been recently recognized in phenotypically normal individuals. Judging by the growing number of reports on CNVs, it is now evident that these variants contribute significantly to genetic diversity in the human genome. Like single nucleotide polymorphisms (SNPs), CNVs are expected to serve as potential biomarkers for disease suscepti- bility or drug responses. However, the technical and practical concerns still remain to be tackled. In this re- view, we examine the current status of CNV DBs and research, including the ongoing efforts of CNV screening in the human genome. We also discuss the character- istics of platforms that are available at the moment and suggest the potential of CNVs in clinical research and application.\n",
            "\n",
            "\n",
            "\n",
            "Keywords: array-CGH, Copy number variation (CNV), Genome-wide association study (GWAS)\n",
            "\n",
            "\n",
            "\n",
            "Introduction\n",
            "\n",
            "\n",
            "\n",
            "Traditionally, large-scale genomic variants that are visi- ble in conventional karyotyping have been thought to be associated with early-onset, highly penetrant genetic disorders, while they are incompatible in normal, dis- ease-free individuals (Lupski, 1998; Stankiewicz and Lupski, 2002). The construction of the 'reference ge- nome' by the human genome sequencing project is based on the belief that human genome sequences are virtually identical, even in different individuals, except for well-known single nucleotide polymorphisms (SNP) or size-variants of tandem repeats such as mini- or micro-\n",
            "\n",
            "\n",
            "\n",
            "*Corresponding author: E-mail yejun@catholic.ac.kr Tel +82-2-590-1214, Fax +82-2-596-8969 Accepted 11 March 2008\n",
            "\n",
            "\n",
            "\n",
            "satellites (variable number of tandem repeats or VNTR) (Przeworski et al ., 2000). This traditional concept has been recently challenged by the discovery that large structural variations are more prevalent than previously presumed (Check, 2005). Using high-resolution whole- genome scanning technologies such as array-based comparative genomic hybridization (array-CGH), two groups of pioneering scientists have identified wide- spread copy number variations (CNVs) in apparently healthy, normal individuals (Iafrate et al., 2004; Sebat et al ., 2004). It proposes that our genome is more diverse than has ever been recognized, and subsequent studies have identified up to 11,000 CNVs across the whole ge- nome (Tuzun et al. , 2005; Hinds et al ., 2006; Mills et al ., 2006; McCarroll et al ., 2006; Conrad et al ., 2006; Sharp et al ., 2005; Wong et al ., 2007; de Smith et al ., 2007). Although the current understanding of CNVs is still limited for practical use and technical challenges still re- main to be tackled, recent studies already have demon- strated the potential association of CNVs with various diseases, suggesting plausible functional significances and highlighting the promising utility of CNVs.\n",
            "\n",
            "\n",
            "\n",
            "The current coverage of CNVs in the human genome already has exceeded that of SNPs (approximately 600 Mb comprising ∼ 12% of human genome) and is still in- creasing (Cooper et al ., 2007). These large-scale struc- tural variants, in addition to SNPs, will serve as powerful sources to help our understanding of human genetic variation and of differences in disease susceptibility for various diseases. This paper reviews the current knowl- edge and future perspectives of CNVs.\n",
            "\n",
            "\n",
            "\n",
            "The definition of CNV\n",
            "\n",
            "\n",
            "\n",
            "Structural variations that involve large DNA segments can take various forms, such as duplication, deletion, in- sertion, inversion, and translocation. Among them, DNA copy number variations larger than 1 kb are collectively termed CNVs. Fig. 1 illustrates the concept of CNV. Although the CNV can include large, microscopically visible genomic variations, it generally indicates a sub- microscopic structural variation that is hardly detectable by conventional karyotyping (3 ∼ 5 Mb) (Freeman et al ., 2006). Smaller variations such as small insertional- dele- tion (indel) polymorphisms are not included in CNVs, while they comprise another large collection of over\n",
            "\n",
            "\n",
            "\n",
            "1 Department of Microbiology, Integrated Research Center\n",
            "\n",
            "\n",
            "\n",
            "-----------------------------------------------------Page 1-----------------------------------------------------\n",
            "\n",
            "﻿\n",
            "\n",
            "2 Genomics & Informatics Vol. 6(1) 1-7, March 2008\n",
            "\n",
            "\n",
            "\n",
            "Fig. 1. Concept of inter-individual copy number variations. Most humans have two copies of DNA/gene (diploid, 2n), each originating from the maternal (n) and paternal (n) genome. However, some of the DNA regions/genes are not diploid, showing variable numbers of copies. These variable copies are mainly inherited but partly can be gained de novo . This phenomenon is termed copy number variation (CNV). Such CNVs may affect gene expressions through dosage imbalance of genes.\n",
            "\n",
            "\n",
            "\n",
            "400,000 variants in the human genome (Mills et al ., 2006), and neither is the insertional polymorphism of mobile elements such as Alus or L1 elements consid- ered a CNV.\n",
            "\n",
            "\n",
            "\n",
            "At the beginning stages of CNV discovery, a number of terms were proposed to define them e.g ., large-scale copy number variants (LCV) (Iafrate et al ., 2004), copy number polymorphism (CNP) (Sebat et al ., 2004), and intermediate-sized variants (ISV) (Tuzun et al ., 2005). The current definition of CNV is also operational and can be modified with the advance of scanning resolution and coverage, and availability of allele frequency in a determined population.\n",
            "\n",
            "\n",
            "\n",
            "The identification of CNVs using differ- ent platforms\n",
            "\n",
            "\n",
            "\n",
            "Various scanning platforms and quality control methods have been used to identify CNV calls. Because the choice of platforms has a great effect on the results, it is worth reviewing the characteristics of platforms to im- prove the understanding of CNVs.\n",
            "\n",
            "\n",
            "\n",
            "The presence of CNVs in normal individuals was re- ported for the first time in 2004 independently by two\n",
            "\n",
            "\n",
            "\n",
            "groups led by Lee C. and Wigler M. (Iafrate et al ., 2004; Sebat et al ., 2004). Both studies used two-dye ar- ray-CGH techniques that used clones of bacterial artifi- cial chromosomes (BAC) or oligonucleotides (representa- tional oligonucleotide microarray analysis, or ROMA). They independently reported about 250 and 80 loci as changes in copy number from 39 and 20 normal in- dividuals, respectively. Fig. 2 illustrates the general con- cept of CNV detection based on two-dye array-CGH. Although the average numbers of CNVs per individual genome were similar in two studies (about 12 CNVs per genome), it should be noted that there was little overlap between the results. This discrepancy between studies was possibly due to the use of different platforms and experimental conditions in different populations. However, it is also probable that there are still large numbers of structural variants that have yet to be dis- covered (Buckley et al ., 2005; Eichler, 2006).\n",
            "\n",
            "\n",
            "\n",
            "One following study that provided evidence on the widespread presence of large-scale structural variations in the human genome was based solely on in silico analysis (Tuzun et al ., 2005). The sequence-level com- parison of two independent genome sequences, i.e ., one derived from a human genome reference assembly\n",
            "\n",
            "\n",
            "\n",
            "-----------------------------------------------------Page 2-----------------------------------------------------\n",
            "\n",
            "﻿\n",
            "\n",
            "Copy Number Variations in the Human Genome    3\n",
            "\n",
            "\n",
            "\n",
            "DNA of\n",
            "\n",
            "\n",
            "\n",
            "I di id l 1\n",
            "\n",
            "\n",
            "\n",
            "Individual 2\n",
            "\n",
            "\n",
            "\n",
            "Fig. 2. CNV screening procedure between two individuals using two-dye array-CGH platform. Dye swap hybridization is use- ful to get reliable interpretation of CNVs. Both individual DNAs are labeled with Cy3 and Cy5, respectively, and co-hybridized. Then, the same experiment is repeated by switching the dyes ('dye-swap'). When both dye-swap profiles show peaks beyond the cutoff and inverted peaks of similar intensity at the same location simultaneously, we interpret them as true CNVs.\n",
            "\n",
            "\n",
            "\n",
            "and the other from fosmid clones of a genomic library, revealed about 300 structural variations, including inversions. This method can detect various types of structural variants, including inversion, which is not de- tectable by conventional array-CGH platforms. Indeed, the results by Tuzun et al . (2005) can be used as vali- dated control for primary verification or for parameter tuning for the development of CNV-detection platforms or algorithms. Although the use of this method is cur- rently limited by the unavailability of sequence data, on- going efforts to sequence the individual human genome and to develop cost-effective sequencing platforms (Bennett et al ., 2005) will be able to facilitate se- quence-level genome comparisons and the identification of highly qualified structural variants in the near future. Two studies by McCarroll et al . and Conrad et al ., which focused on the identification of deletion variants (McCarroll et al ., 2006; Conrad et al ., 2006), used 1.2\n",
            "\n",
            " million SNP genotyping data from The International HapMap Consortium (International HapMap Consortium. 2005). They assumed that allelic deletion causes the discard of probes in SNP genotyping. For example, the runs of consecutive probes with null genotype calls or runs of SNP genotypes whose allelic frequencies deviate from expected Hardy-Weinberg equilibrium ratios or ex- pected Mendelian inheritance patterns might represent the presence of deleted loci. They independently re- ported about 600 potential deletions as small as less than 100 bp. The relatively small size of the identified variants, compared with the array-CGH method, is due to the high resolution of the platforms. The use of an SNP-centric array platform can be used to identify link- age disequilibrium (LD) of structural variants with nearby SNPs in a given population. But, the discrepancy in de- letions that were identified in the two studies was also noted in spite of using similar HapMap populations and\n",
            "\n",
            "\n",
            "\n",
            "-----------------------------------------------------Page 3-----------------------------------------------------\n",
            "\n",
            "﻿\n",
            "\n",
            "4 Genomics & Informatics Vol. 6(1) 1-7, March 2008\n",
            "\n",
            "\n",
            "\n",
            "identification methods (Eichler 2006).\n",
            "\n",
            "\n",
            "\n",
            "Recently, a comprehensive CNV analysis was re- ported based on high-resolution array platforms, Whole Genome TilePath (WGTP), which used 26,000 large in- sert clones, and Affymetric GeneChip Human Mapping 500K early access, which used 500,000 SNP oligonu- cleotides. They identified about 1500 genomic segments as copy number variations or CNVRs (copy number vari- able regions) consisting of overlapping CNVs from 269 HapMap individuals (Redon et al ., 2006). The results from the two platforms are worth comparing becasuse they provide the highest currently achievable resolution and are often selected as primary platforms in many other studies. Firstly, the CNVs that are identified from BAC-based array-CGH are generally larger than those from oligonucleotide-based arrays (230 kb and 80 kb of median size, respectively). This overestimation of CNVs by BAC-based array-CGH is due to the large insert clones that are used, which has been frequently re- ported (Iafrate et al ., 2006). Secondly, the actual boun- daries of structural variants can not be determined through BAC-based array-CGH. On the other hand, a more accurate determination of variant boundaries can be achieved through SNP-centric oligonucleotide-based arrays that have an extensive number of oligonucleo- tides. The SNP-centric platform has additional advan- tages of accompanying SNP genotype information as a potential variant source, combined with large structural variants and its ability to detect the presence of loss of heterozygosity (LOH) or segmental uniparental disomy (Bruce et al ., 2005; Mei et al ., 2000). But, the SNP-cen-\n",
            "\n",
            "\n",
            "\n",
            "tric platform also has its disadvantages. In spite of the advanced resolution, the relatively low signal-to-noise ratio of oligonucleotide-based hybridization intensity, compared with large insert clone array, might result in higher false-positive rates. Because most CNVs are sub- tle changes, this makes the results prone to mis- classification of signal intensities and, consequently, to statistical errors.\n",
            "\n",
            "\n",
            "\n",
            "Sometimes, it is pointed out that the SNP-centric ar- ray was originally designed for allelic discrimination and is not appropriate for CNV detection because of biased genomic distribution and sequence composition of spot- ted probes (McCarroll and Altshuler 2007d). Recently proposed oligonucleotide-based array platforms have been designed for CNV detection specifically without sacrificing the advantage of high resolution, which can be a promising solution for CNV detection in the near future (Barrett et al ., 2004).\n",
            "\n",
            "\n",
            "\n",
            "In identifying CNVs in normal populations, one of the fundamental problems is the lack of a reference genome from which diploid states of sample DNA can be inferred. Unlike the array-CGH-based tumor study in which the normal DNA of the same individual can be used as a reference genome, no single DNA source can present the standardized and universal genome in var- iant analysis. Often, the pooled genome of several in- dividuals has been used to represent the average ge- nome, while the heterogeneity of the used population might affect the copy number inference step, as shown for examples of X chromosomes. Redon et al . and Komura et al . adopted the pairwise comparison for ac-\n",
            "\n",
            "\n",
            "\n",
            "Table 1. Copy number variations and associated diseases/phenotypes\n",
            "\n",
            "\n",
            "\n",
            "Gene          Location       Susceptible type                       Phenotype                           Reference FCGR3          1q23.3           Low copy                       Glomerulonephritis                    Aitman et al ., 2006 FCGR3B          1q23.3           Low copy       Systemic lupus erythematosus, microscopic polyangiitis Fanciulli M et al ., 2007 C4            6p21.32          Low copy                  Systemic lupus erythematosus                Yang et al ., 2007 CCL3L1          17q12           Low copy                     HIV/AIDS susceptibility                 Gonzalez et al ., 2005 CCL3L1          17q12           High copy                      Rheumatoid arthritis                  McKinney et al ., 2008 UGT2B17          4p13           Low copy            Body testosterone level, prostate cancer risk       Jakobsson et al ., 2006 CNTNAP2         7q36.1           Low copy                   Schizophrenia and epilepsy               Friedman et al ., 2008 AMY1           1p21.1         Variable copy                        Starch diet                        Perry et al ., 2007 DEFB4          8p23.1         Variable copy                       Crohn disease                    Fellermann et al ., 2006 DEFENSIN         8p23.1           Low copy                    Autism spectrum disorder                  Cho et al ., 2008 SHANK3         22q13.3          Low copy                    Autism spectrum disorder                Moessner et al ., 2007 NRXN1          2p16.3           Low copy                         Schizophrenia                       Kirov et al ., 2008 APBA2          15q13.1          Duplication                        Schizophrenia                       Kirov et al ., 2008\n",
            "\n",
            "\n",
            "\n",
            "-----------------------------------------------------Page 4-----------------------------------------------------\n",
            "\n",
            "﻿\n",
            "\n",
            "curate inference of copy number states in individual loci, which is noteworthy (Redon et al ., 2006; Komura et al ., 2006). In pairwise comparison, the hybridization in- tensities of one sample is compared with those of all other remaining samples as one large reference, and the diploid states of loci can be more accurately inferred from the multiple comparison results.\n",
            "\n",
            "\n",
            "\n",
            "Clinical implications of CNVs and dis- ease association study\n",
            "\n",
            "\n",
            "\n",
            "In spite of recent technological developments of genetic polymorphism-oriented disease association studies, still little is known about the effects of genetic poly- morphisms on common complex diseases. One of the ultimate goals in exploring CNVs is to systematically as- sess the association between such variants and the disease. Although it is unlikely that all CNVs in the hu- man genome are associated with diseases, evidence of the association of CNVs and a wide spectrum of human diseases has rapidly accumulated. Table 1 summarizes the CNVs that have been reported to be associated with diseases. CNVs can affect disease susceptibility or in- dividual differences in responses to drugs through alter- ation of gene expression. Stranger et al .'s and Heiden- blad et al' s reports coherently showed positive correla- tions between DNA copy number dosage and gene ex- pression level (Stranger et al ., 2007; Heidenblad et al ., 2005). If a CNV region contains transcriptional regulatory elements rather than protein coding genes, it still can affect gene expression levels by changing transcriptional regulation or heterochromatin spread (Reymond et al ., 2007).\n",
            "\n",
            "\n",
            "\n",
            "Conclusion\n",
            "\n",
            "\n",
            "\n",
            "The genomic fraction that is occupied by CNVs is now estimated to be about 600 Mb, already exceeding that of single base-level variants. It is likely that the number of CNVs and the genomic fraction that is affected by structural variants will continue to expand, and many of them will be used for more practical purposes, including disease association or population studies. However, it should be remembered that the current CNV entries are plagued by substantial amounts of false-positive and false-negative results. Only a small portion of them have been validated by independent methods. To overcome this, it is necessary to improve scanning platforms, in- cluding optimizing experimental conditions and develop- ing more reliable CNV calling algorithms. In the mean- time, it is required for individual researchers to know the characteristics of the available platforms and analytical techniques to use them or to interpret the published re-\n",
            "\n",
            "\n",
            "\n",
            "Copy Number Variations in the Human Genome    5\n",
            "\n",
            "\n",
            "\n",
            "sults properly.\n",
            "\n",
            "\n",
            "\n",
            "Acknowledgements\n",
            "\n",
            "\n",
            "\n",
            "This work is supported by a grant from the Korea Health 21 R&D Project, Ministry of Health & Welfare, Republic of Korea (0405-BC02-0604-0004) and (01-PJ3- PG6-01GN09-003).\n",
            "\n",
            "\n",
            "\n",
            "References\n",
            "\n",
            "\n",
            "\n",
            "Aitman, T.J., R.Dong, T.J., Vyse, P.J., et al . (2006). Copy number polymorphism in Fcgr3 predisposes to glomer- ulonephritis in rats and humans. Nature 439, 851-855. Barrett, M.T., Scheffer, A., Ben-Dor, A., et al . (2004). Com- parative genomic hybridization using oligonucleotide mi- croarrays and total genomic DNA. Proc. Natl. Acad. Sci. U. S. A 101, 17765-17770.\n",
            "\n",
            "\n",
            "\n",
            "Bennett, S.T., Barnes, C., Cox, A., Davies, L., and Brown, C. (2005). Toward the 1,000 dollars human genome. Pharmacogenomics 6, 373-382.\n",
            "\n",
            "\n",
            "\n",
            "Bruce, S., Leinonen, R., Lindgren, C.M., Kivinen, K., Dahlman-Wright, K., Lipsanen-Nyman, M., Hannula- Jouppi, K., and Kere, J. (2005). Global analysis of uni- parental disomy using high density genotyping arrays. J. Med. Genet. 42, 847-851.\n",
            "\n",
            "\n",
            "\n",
            "Buckley, P.G., Mantripragada, K.K., Piotrowski, A., az de, S.T., and Dumanski, J.P. (2005). Copy-number poly- morphisms: mining the tip of an iceberg. Trends Genet . 21, 315-317.\n",
            "\n",
            "\n",
            "\n",
            "Check, E. (2005). Human genome: patchwork people.\n",
            "\n",
            "\n",
            "\n",
            "Nature 437, 1084-1086.\n",
            "\n",
            "\n",
            "\n",
            "Cheng, Z., Ventura, M., She, X., et al . (2005). A ge- nome-wide comparison of recent chimpanzee and human segmental duplications. Nature 437, 88-93.\n",
            "\n",
            "\n",
            "\n",
            "Cho, C.S., Yim, S.H., Yoo, H.K., et al . (2008). Copy number variations associated with idiopathic autism identified by whole-genome array-CGH. Psychiatric Genetics in press. Conrad, D.F., Andrews, T.D., Carter, N.P., Hurles, M.E., and Pritchard, J.K. (2006). A high-resolution survey of deletion polymorphism in the human genome. Nat. Genet . 38, 75- 81.\n",
            "\n",
            "\n",
            "\n",
            "Cooper, G.M., Nickerson, D.A., and Eichler, E.E. (2007). Mutational and selective effects on copy-number variants in the human genome. Nat. Genet . 39, S22-S29.\n",
            "\n",
            "\n",
            "\n",
            "de Smith, A.J., Tsalenko, A., Sampas, N., et al . (2007). Array CGH analysis of copy number variation identifies 1284 new genes variant in healthy white males: im- plications for association studies of complex diseases. Hum. Mol. Genet . 16, 2783-2794.\n",
            "\n",
            "\n",
            "\n",
            "Eichler, E.E. (2006). Widening the spectrum of human ge-\n",
            "\n",
            "\n",
            "\n",
            "netic variation. Nat. Genet . 38, 9-11.\n",
            "\n",
            "\n",
            "\n",
            "Fanciulli, M., Norsworthy, P.J., Petretto, E., et al . (2007). FCGR3B copy number variation is associated with sus- ceptibility to systemic, but not organ-specific, auto- immunity. Nat. Genet . 39, 721-723.\n",
            "\n",
            "\n",
            "\n",
            "Fellermann, K., Stange, D.E., Schaeffeler, E., et al . (2006). A\n",
            "\n",
            "\n",
            "\n",
            "-----------------------------------------------------Page 5-----------------------------------------------------\n",
            "\n",
            "﻿\n",
            "\n",
            "6 Genomics & Informatics Vol. 6(1) 1-7, March 2008\n",
            "\n",
            "\n",
            "\n",
            "chromosome 8 gene-cluster polymorphism with low hu- man beta-defensin 2 gene copy number predisposes to Crohn disease of the colon. Am. J. Hum. Genet . 79, 439-448.\n",
            "\n",
            "\n",
            "\n",
            "Feuk, L., MacDonald, J.R., Tang, T., Carson, A.R., Li, M., Rao, G., Khaja, R., and Scherer, S.W. (2005). Discovery of human inversion polymorphisms by comparative analy- sis of human and chimpanzee DNA sequence assem- blies. PLoS. Genet . 1, e56.\n",
            "\n",
            "\n",
            "\n",
            "Freeman, J.L., Perry, G.H., Feuk, L., et al . (2006). Copy number variation: new insights in genome diversity. Genome Res . 16, 949-961.\n",
            "\n",
            "\n",
            "\n",
            "Friedman, J.I., Vrijenhoek, T., Markx, S., et al . (2008). CNTNAP2 gene dosage variation is associated with schizophrenia and epilepsy. Mol. Psychiatry . 13, 26126- 26126.\n",
            "\n",
            "\n",
            "\n",
            "Gonzalez, E., Kulkarni, H., Bolivar, H., et al . (2005). The in- fluence of CCL3L1 gene-containing segmental duplica- tions on HIV-1/AIDS susceptibility. Science 307, 1434- 1440.\n",
            "\n",
            "\n",
            "\n",
            "Heidenblad, M., Lindgren, D., Veltman, J.A., Jonson, T., Mahlam ä ki, E.H., Gorunova, L., van Kessel, A.G., Scho- enmakers, E.F., and H ö glund, M. (2005). Microarray anal- yses reveal strong influence of DNA copy number alter- ations on the transcriptional patterns in pancreatic can- cer: implications for the interpretation of genomic amplifi- cations. Oncogene 24, 1794-1801.\n",
            "\n",
            "\n",
            "\n",
            "Hinds, D.A., Kloek, A.P., Jen, M., Chen, X., and Frazer, K.A. (2006). Common deletions and SNPs are in linkage disequilibrium in the human genome. Nat. Genet . 38, 82- 85.\n",
            "\n",
            "\n",
            "\n",
            "Iafrate, A.J., Feuk, L., Rivera, M.N., Listewnik, M.L., Donahoe, P.K., Qi, Y., Scherer, S.W., and Lee, C. (2004). Detection of large-scale variation in the human genome. Nat. Genet . 36, 949-951.\n",
            "\n",
            "\n",
            "\n",
            "International HapMap Consortium. (2005). A haplotype map\n",
            "\n",
            "\n",
            "\n",
            "of the human genome. Nature 437, 1299-1320.\n",
            "\n",
            "\n",
            "\n",
            "Istrail, S., Sutton, G.G., Florea, L., et al . (2004). Whole-ge- nome shotgun assembly and comparison of human ge- nome assemblies. Proc. Natl. Acad. Sci. U. S. A 101, 1916-1921.\n",
            "\n",
            "\n",
            "\n",
            "Jakobsson, J., Ekstrom. L., Inotsume, N., Garle, M., Lorentzon, M., Ohlsson, C., Roh, H.K., Carlstr ö m, K., and Rane, A. (2006). Large differences in testosterone ex- cretion in Korean and Swedish men are strongly asso- ciated with a UDP-glucuronosyl transferase 2B17 poly- morphism. J. Clin. Endocrinol. Metab . 91, 687-693.\n",
            "\n",
            "\n",
            "\n",
            "Kirov, G., Gumus, D., Chen, W., et al . (2008). Comparative genome hybridization suggests a role for NRXN1 and APBA2 in schizophrenia. Hum. Mol. Genet . 17, 458-465. Komura, D., Shen, F., Ishikawa, S., et al . (2006). Genome- wide detection of human copy number variations using high-density DNA oligonucleotide arrays. Genome Res . 16, 1575-1584.\n",
            "\n",
            "\n",
            "\n",
            "Lupski, J.R. (1998). Genomic disorders: structural features of the genome can lead to DNA rearrangements and hu- man disease traits. Trends Genet . 14, 417-422.\n",
            "\n",
            "\n",
            "\n",
            "McCarroll, S.A., and Altshuler, D.M. (2007). Copy-number variation and association studies of human disease. Nat.\n",
            "\n",
            "\n",
            "\n",
            "Genet . 39, S37-S42.\n",
            "\n",
            "\n",
            "\n",
            "McCarroll, S.A., Hadnott, T.N., Perry, G.H., et al . (2006). Common deletion polymorphisms in the human genome. Nat. Genet . 38, 86-92.\n",
            "\n",
            "\n",
            "\n",
            "McKinney, C., Merriman, M.E., Chapman, P.T., et al . (2008). Evidence for an influence of chemokine ligand 3-like 1 (CCL3L1) gene copy number on susceptibility to rheuma- toid arthritis. Ann. Rheum. Dis . 67, 409-413.\n",
            "\n",
            "\n",
            "\n",
            "Mei, R., Galipeau, P.C., Prass, C., Berno, A., Ghandour, G., Patil, N., Wolff, R.K., Chee, M.S., Reid, B.J., and Lockhart, D.J. (2000). Genome-wide detection of allelic imbalance using human SNPs and high-density DNA arrays. Genome Res . 10, 1126-1137.\n",
            "\n",
            "\n",
            "\n",
            "Mills, R.E., Luttig, C.T., Larkins, C.E., Beauchamp, A., Tsui, C., Pittard, W.S., and Devine, S.E. (2006). An initial map of insertion and deletion (INDEL) variation in the human genome. Genome Res . 16, 1182-1190.\n",
            "\n",
            "\n",
            "\n",
            "Moessner, R., Marshall, C.R., Sutcliffe, J.S., et al . (2007). Contribution of SHANK3 mutations to autism spectrum disorder. Am. J. Hum. Genet . 81, 1289-1297.\n",
            "\n",
            "\n",
            "\n",
            "Perry, G.H., Dominy, N.J., Claw, K.G., et al . (2007). Diet and the evolution of human amylase gene copy number variation. Nat. Genet . 39, 1256-1260.\n",
            "\n",
            "\n",
            "\n",
            "Przeworski, M., Hudson, R.R., and Di, R.A. (2000). Adjusting the focus on human variation. Trends Genet . 16, 296- 302.\n",
            "\n",
            "\n",
            "\n",
            "Redon, R., Ishikawa, S., Fitch, K.R., et al . (2006). Global variation in copy number in the human genome. Nature 444, 444-454.\n",
            "\n",
            "\n",
            "\n",
            "Reymond, A., Henrichsen, C.N., Harewood, L., and Merla, G. (2007). Side effects of genome structural changes. Curr. Opin. Genet. Dev . 17, 381-386.\n",
            "\n",
            "\n",
            "\n",
            "Sachidanandam, R., Weissman, D., Schmidt, S.C., et al . (2001). A map of human genome sequence variation containing 1.42 million single nucleotide polymorphisms. Nature 409, 928-933.\n",
            "\n",
            "\n",
            "\n",
            "Sebat, J., Lakshmi, B., Troge, J., et al . (2004). Large-scale copy number polymorphism in the human genome. Science 305, 525-528.\n",
            "\n",
            "\n",
            "\n",
            "Sharp, A.J., Locke, D.P., McGrath, S.D., et al . (2005). Segmental duplications and copy-number variation in the human genome. Am. J. Hum. Genet . 77, 78-88.\n",
            "\n",
            "\n",
            "\n",
            "Stankiewicz, P., and Lupski, J.R. (2002). Genome archi- tecture, rearrangements and genomic disorders. Trends Genet . 18, 74-82.\n",
            "\n",
            "\n",
            "\n",
            "Stranger, B.E., Forrest, M.S., Dunning, M., et al . (2007). Relative impact of nucleotide and copy number variation on gene expression phenotypes. Science 315, 848-853. Tuzun, E., Sharp, A.J., Bailey, J.A., et al . (2005). Fine-scale structural variation of the human genome. Nat. Genet . 37, 727-732.\n",
            "\n",
            "\n",
            "\n",
            "Warburton, D. (1991). De novo balanced chromosome re- arrangements and extra marker chromosomes identified at prenatal diagnosis: clinical significance and distribution of breakpoints. Am. J. Hum. Genet . 49, 995-1013.\n",
            "\n",
            "\n",
            "\n",
            "Wong, K.K., deLeeuw, R.J., Dosanjh, N.S., et al . (2007). A comprehensive analysis of common copy-number variations in the human genome. Am. J. Hum. Genet . 80, 91-104. Yang, Y., Chung, E.K., Wu, Y.L., et al . (2007). Gene copy-\n",
            "\n",
            "\n",
            "\n",
            "-----------------------------------------------------Page 6-----------------------------------------------------\n",
            "\n",
            "﻿\n",
            "\n",
            "number variation and associated polymorphisms of com- plement component C4 in human systemic lupus eryth- ematosus (SLE): low copy number is a risk factor for and\n",
            "\n",
            "\n",
            "\n",
            "Copy Number Variations in the Human Genome    7\n",
            "\n",
            "\n",
            "\n",
            "high copy number is a protective factor against SLE sus- ceptibility in European Americans. Am. J. Hum. Genet . 80, 1037-1054.\n",
            "\n",
            "\n",
            "\n",
            "-----------------------------------------------------Page 7-----------------------------------------------------\n",
            "\n"
          ],
          "name": "stdout"
        }
      ]
    },
    {
      "cell_type": "markdown",
      "metadata": {
        "id": "Fv9NjnwOKskc",
        "colab_type": "text"
      },
      "source": [
        "\n",
        "\n",
        "```\n",
        "# for file in os.listdir(path2):\n",
        "    print(path2+file)\n",
        "    for line in in open(path2+file, 'r', encoding='utf-16'):\n",
        "      print(line)\n",
        "```\n",
        "-> 한 폴더 안에 있는 모든 파일에 대해 빅데이터 처리할 때 많이 사용하는 코드\n"
      ]
    },
    {
      "cell_type": "code",
      "metadata": {
        "id": "s-VquPmdKjKn",
        "colab_type": "code",
        "outputId": "44857543-fe88-477e-f0d5-7dd58ef4c782",
        "colab": {
          "base_uri": "https://localhost:8080/",
          "height": 503
        }
      },
      "source": [
        "alphabet = ['a', 'b', 'c', 'd', 'e', 'f', 'g', 'h', 'i', 'j', 'k', 'l', 'm','n', 'o', 'p', 'q', 'r', 's', 't', 'u', 'v', 'w', 'x', 'y', 'z']\n",
        "for ch in alphabet:\n",
        "  print(\"number of\" + str(ch)+\":\"+str(fileString.count(ch)))"
      ],
      "execution_count": 0,
      "outputs": [
        {
          "output_type": "stream",
          "text": [
            "number ofa:1473\n",
            "number ofb:235\n",
            "number ofc:645\n",
            "number ofd:608\n",
            "number ofe:2193\n",
            "number off:335\n",
            "number ofg:352\n",
            "number ofh:583\n",
            "number ofi:1429\n",
            "number ofj:7\n",
            "number ofk:68\n",
            "number ofl:804\n",
            "number ofm:550\n",
            "number ofn:1413\n",
            "number ofo:1283\n",
            "number ofp:452\n",
            "number ofq:31\n",
            "number ofr:1088\n",
            "number ofs:1121\n",
            "number oft:1353\n",
            "number ofu:535\n",
            "number ofv:218\n",
            "number ofw:140\n",
            "number ofx:28\n",
            "number ofy:317\n",
            "number ofz:40\n"
          ],
          "name": "stdout"
        }
      ]
    },
    {
      "cell_type": "code",
      "metadata": {
        "id": "s97NJKCpMapO",
        "colab_type": "code",
        "outputId": "7ba2d478-bf8e-4910-95cb-bf5a64d81e59",
        "colab": {
          "base_uri": "https://localhost:8080/",
          "height": 36
        }
      },
      "source": [
        "# 특정 단어의 개수 세기\n",
        "fileList = fileString.split(' ')\n",
        "fileList.count('the')"
      ],
      "execution_count": 0,
      "outputs": [
        {
          "output_type": "execute_result",
          "data": {
            "text/plain": [
              "129"
            ]
          },
          "metadata": {
            "tags": []
          },
          "execution_count": 33
        }
      ]
    },
    {
      "cell_type": "markdown",
      "metadata": {
        "id": "DaeEU17NNAmK",
        "colab_type": "text"
      },
      "source": [
        "-Python variable Binding-\n",
        "* id(object)는 객체를 입력 받아 객체의 고유 주소값(레퍼런스)을 리턴하는 함수"
      ]
    },
    {
      "cell_type": "code",
      "metadata": {
        "id": "23vJHxhQMy4t",
        "colab_type": "code",
        "outputId": "e141e5a4-fe8d-4314-f047-1dc556dcf268",
        "colab": {
          "base_uri": "https://localhost:8080/",
          "height": 36
        }
      },
      "source": [
        "a = 2\n",
        "id(a)"
      ],
      "execution_count": 0,
      "outputs": [
        {
          "output_type": "execute_result",
          "data": {
            "text/plain": [
              "10914528"
            ]
          },
          "metadata": {
            "tags": []
          },
          "execution_count": 34
        }
      ]
    },
    {
      "cell_type": "code",
      "metadata": {
        "id": "4OLHo_fBNiOv",
        "colab_type": "code",
        "outputId": "d58ae9bd-759a-42eb-9300-024c4718615c",
        "colab": {
          "base_uri": "https://localhost:8080/",
          "height": 36
        }
      },
      "source": [
        "a=a+1\n",
        "id(a)"
      ],
      "execution_count": 0,
      "outputs": [
        {
          "output_type": "execute_result",
          "data": {
            "text/plain": [
              "10914560"
            ]
          },
          "metadata": {
            "tags": []
          },
          "execution_count": 35
        }
      ]
    },
    {
      "cell_type": "code",
      "metadata": {
        "id": "mCfiwVLgNlMa",
        "colab_type": "code",
        "outputId": "6884c379-345a-4546-c101-dbaf7a273a63",
        "colab": {
          "base_uri": "https://localhost:8080/",
          "height": 36
        }
      },
      "source": [
        "b=2\n",
        "id(b)"
      ],
      "execution_count": 0,
      "outputs": [
        {
          "output_type": "execute_result",
          "data": {
            "text/plain": [
              "10914528"
            ]
          },
          "metadata": {
            "tags": []
          },
          "execution_count": 36
        }
      ]
    },
    {
      "cell_type": "markdown",
      "metadata": {
        "id": "iVZkSdddNpFQ",
        "colab_type": "text"
      },
      "source": [
        "-> a의 값이 변하고 난 후, a의 주소값도 변하는 것을 볼 수 있음\n",
        "\n",
        "-> 2가 지정된 객체의 자리에 b로서 새로 지정된 변수b가 배정됨.\n",
        "\n",
        "-> a와 b는 다른 객체임!"
      ]
    },
    {
      "cell_type": "code",
      "metadata": {
        "id": "tllpKCbKN49W",
        "colab_type": "code",
        "outputId": "c73e2599-97e1-49b1-b5ab-f9f82568f54e",
        "colab": {
          "base_uri": "https://localhost:8080/",
          "height": 36
        }
      },
      "source": [
        "myList[0]"
      ],
      "execution_count": 0,
      "outputs": [
        {
          "output_type": "execute_result",
          "data": {
            "text/plain": [
              "'banana'"
            ]
          },
          "metadata": {
            "tags": []
          },
          "execution_count": 37
        }
      ]
    },
    {
      "cell_type": "code",
      "metadata": {
        "id": "vsRp5hYFOYUO",
        "colab_type": "code",
        "outputId": "fa56e72b-82bd-4b09-f8bf-1c7a0159d240",
        "colab": {
          "base_uri": "https://localhost:8080/",
          "height": 223
        }
      },
      "source": [
        "myList[0] = 'apple'\n",
        "myList"
      ],
      "execution_count": 0,
      "outputs": [
        {
          "output_type": "execute_result",
          "data": {
            "text/plain": [
              "['apple',\n",
              " 'a',\n",
              " 'like',\n",
              " 'flies',\n",
              " 'fruit',\n",
              " ';',\n",
              " 'arrow',\n",
              " 'an',\n",
              " 'like',\n",
              " 'flies',\n",
              " 'Time']"
            ]
          },
          "metadata": {
            "tags": []
          },
          "execution_count": 38
        }
      ]
    },
    {
      "cell_type": "code",
      "metadata": {
        "id": "6egbhseZOcpr",
        "colab_type": "code",
        "outputId": "3c95ef58-4aeb-4500-bfb0-5265e20c1a7b",
        "colab": {
          "base_uri": "https://localhost:8080/",
          "height": 36
        }
      },
      "source": [
        "myString[0]"
      ],
      "execution_count": 0,
      "outputs": [
        {
          "output_type": "execute_result",
          "data": {
            "text/plain": [
              "'T'"
            ]
          },
          "metadata": {
            "tags": []
          },
          "execution_count": 39
        }
      ]
    },
    {
      "cell_type": "code",
      "metadata": {
        "id": "bsFbrWQJOe0Y",
        "colab_type": "code",
        "outputId": "998a0614-5a60-449d-aa9a-c46036440b40",
        "colab": {
          "base_uri": "https://localhost:8080/",
          "height": 176
        }
      },
      "source": [
        "myString[0] = 'A'"
      ],
      "execution_count": 0,
      "outputs": [
        {
          "output_type": "error",
          "ename": "TypeError",
          "evalue": "ignored",
          "traceback": [
            "\u001b[0;31m---------------------------------------------------------------------------\u001b[0m",
            "\u001b[0;31mTypeError\u001b[0m                                 Traceback (most recent call last)",
            "\u001b[0;32m<ipython-input-40-7ca962f631a2>\u001b[0m in \u001b[0;36m<module>\u001b[0;34m()\u001b[0m\n\u001b[0;32m----> 1\u001b[0;31m \u001b[0mmyString\u001b[0m\u001b[0;34m[\u001b[0m\u001b[0;36m0\u001b[0m\u001b[0;34m]\u001b[0m \u001b[0;34m=\u001b[0m \u001b[0;34m'A'\u001b[0m\u001b[0;34m\u001b[0m\u001b[0;34m\u001b[0m\u001b[0m\n\u001b[0m",
            "\u001b[0;31mTypeError\u001b[0m: 'str' object does not support item assignment"
          ]
        }
      ]
    },
    {
      "cell_type": "markdown",
      "metadata": {
        "id": "vR-fuWvIOj1o",
        "colab_type": "text"
      },
      "source": [
        "-> list는 mutable로서 변경 가능한 반면, string은 immutable로서 값 변경 자체가 불가능함."
      ]
    },
    {
      "cell_type": "code",
      "metadata": {
        "id": "mOpAg1DIOp1m",
        "colab_type": "code",
        "outputId": "7757bcd4-1c72-42a4-ab2c-1c7e6f866c53",
        "colab": {
          "base_uri": "https://localhost:8080/",
          "height": 36
        }
      },
      "source": [
        "x = ['a'] #list 주소값 변경 없음\n",
        "id(x)"
      ],
      "execution_count": 0,
      "outputs": [
        {
          "output_type": "execute_result",
          "data": {
            "text/plain": [
              "140505731547016"
            ]
          },
          "metadata": {
            "tags": []
          },
          "execution_count": 41
        }
      ]
    },
    {
      "cell_type": "code",
      "metadata": {
        "id": "XAflQotFO_nT",
        "colab_type": "code",
        "outputId": "f4cd9687-1781-4c18-f7bf-c2d9224d13d2",
        "colab": {
          "base_uri": "https://localhost:8080/",
          "height": 36
        }
      },
      "source": [
        "x +=['t']\n",
        "id(x)"
      ],
      "execution_count": 0,
      "outputs": [
        {
          "output_type": "execute_result",
          "data": {
            "text/plain": [
              "140505731547016"
            ]
          },
          "metadata": {
            "tags": []
          },
          "execution_count": 43
        }
      ]
    },
    {
      "cell_type": "code",
      "metadata": {
        "id": "hV0pZKp5PGGy",
        "colab_type": "code",
        "outputId": "3120180c-ea16-4dc3-f1c6-a19e3fcd377b",
        "colab": {
          "base_uri": "https://localhost:8080/",
          "height": 36
        }
      },
      "source": [
        "x='a' #string은 값 변경 후, 주소값도 같이 변경\n",
        "id(x)"
      ],
      "execution_count": 0,
      "outputs": [
        {
          "output_type": "execute_result",
          "data": {
            "text/plain": [
              "140506322760512"
            ]
          },
          "metadata": {
            "tags": []
          },
          "execution_count": 44
        }
      ]
    },
    {
      "cell_type": "code",
      "metadata": {
        "id": "XNWQfltAPMer",
        "colab_type": "code",
        "outputId": "4982bf77-4726-4cf4-d9a3-017d7523af51",
        "colab": {
          "base_uri": "https://localhost:8080/",
          "height": 36
        }
      },
      "source": [
        "x +='t'\n",
        "id(x)"
      ],
      "execution_count": 0,
      "outputs": [
        {
          "output_type": "execute_result",
          "data": {
            "text/plain": [
              "140505731186616"
            ]
          },
          "metadata": {
            "tags": []
          },
          "execution_count": 45
        }
      ]
    },
    {
      "cell_type": "code",
      "metadata": {
        "id": "drz0cnRrPTzS",
        "colab_type": "code",
        "outputId": "971c6d1d-fdae-4199-f1a4-ff99efa889be",
        "colab": {
          "base_uri": "https://localhost:8080/",
          "height": 36
        }
      },
      "source": [
        "# 'is'는 id가 같은지의 여부를 가리킴\n",
        "x is myString"
      ],
      "execution_count": 0,
      "outputs": [
        {
          "output_type": "execute_result",
          "data": {
            "text/plain": [
              "False"
            ]
          },
          "metadata": {
            "tags": []
          },
          "execution_count": 46
        }
      ]
    },
    {
      "cell_type": "code",
      "metadata": {
        "id": "J5ZqoRXoPyCd",
        "colab_type": "code",
        "colab": {}
      },
      "source": [
        "sorted(myList) #sorting된 myList 프린트\n",
        "myList.sort() #myList자체를 sort함"
      ],
      "execution_count": 0,
      "outputs": []
    },
    {
      "cell_type": "code",
      "metadata": {
        "id": "uYPGCMAQgfV4",
        "colab_type": "code",
        "colab": {}
      },
      "source": [
        "#polymorphism (다형성)\n",
        "def addSomething(x,y):\n",
        "  return (x+y)\n",
        "\n",
        "# 숫자, list, tuple 등 모든 형 가능"
      ],
      "execution_count": 0,
      "outputs": []
    },
    {
      "cell_type": "code",
      "metadata": {
        "id": "ZukBWvMtgsUI",
        "colab_type": "code",
        "colab": {}
      },
      "source": [
        "# list, dictionary는 def 함수 내에서 변수가 새롭게 지정될 경우만 아니면 swap 등 값의 변경이 가능함.\n",
        "def toUpper(x):\n",
        "  x[0] = x[0].upper()\n",
        "  # x=' '.join(x) -> 새롭게 x가 지정되어서 변환하고자 하는 변수 자체에는 변화가 없고, 이 함수 안에서 새로운 변수 x가 생성됨\n",
        "  print(x)"
      ],
      "execution_count": 0,
      "outputs": []
    },
    {
      "cell_type": "code",
      "metadata": {
        "id": "mKN3gua6ji4R",
        "colab_type": "code",
        "colab": {}
      },
      "source": [
        "def repeat(msg='python', num=1):\n",
        "  # default 값이 지정되어 있음. 만약 default값이 없다면 repeat()는 사용 불가능\n",
        "  return msg*num\n",
        "\n",
        "repeat()\n",
        "repeat(num=3)\n",
        "repeat(msg='java')\n",
        "repeat(num=4, msg='java')"
      ],
      "execution_count": 0,
      "outputs": []
    },
    {
      "cell_type": "markdown",
      "metadata": {
        "id": "GaV6oTN-NmMy",
        "colab_type": "text"
      },
      "source": [
        "-Imperative style(반복, 빠름) vs Functional style(재귀, 느림)-\n",
        " \n",
        " -> local 변수의 유무"
      ]
    },
    {
      "cell_type": "code",
      "metadata": {
        "id": "pZX3QdghMSx7",
        "colab_type": "code",
        "colab": {}
      },
      "source": [
        "# 1. imperative style\n",
        "def factorial1(n):\n",
        "  result = 1\n",
        "  for i in range(n):\n",
        "    result *= (i+1)\n",
        "  return result"
      ],
      "execution_count": 0,
      "outputs": []
    },
    {
      "cell_type": "code",
      "metadata": {
        "id": "jf1iVCogQoSk",
        "colab_type": "code",
        "colab": {}
      },
      "source": [
        "def reverse1(dnaString):\n",
        "  dnaList = [x for x in dnaString]\n",
        "  result = []\n",
        "  for i in range(len(dnaList)):\n",
        "    result.append(dnaList[len(dnaList)-i-1])\n",
        "  return ''.join(result)"
      ],
      "execution_count": 0,
      "outputs": []
    },
    {
      "cell_type": "code",
      "metadata": {
        "id": "dDx5ltQrOo--",
        "colab_type": "code",
        "colab": {}
      },
      "source": [
        "# 2. functional style\n",
        "def factorial2(n):\n",
        "  if n==1:\n",
        "    return 1\n",
        "  else:\n",
        "    return n*factorial(n-1)"
      ],
      "execution_count": 0,
      "outputs": []
    },
    {
      "cell_type": "code",
      "metadata": {
        "id": "wHAVdGLIPoGl",
        "colab_type": "code",
        "colab": {}
      },
      "source": [
        "def listsum(x):\n",
        "  if(not x):\n",
        "    return 0\n",
        "  else:\n",
        "    return x[0] + listsum(x[1:])"
      ],
      "execution_count": 0,
      "outputs": []
    },
    {
      "cell_type": "code",
      "metadata": {
        "id": "Qysos2isP15Q",
        "colab_type": "code",
        "colab": {}
      },
      "source": [
        "def length(x):\n",
        "  if(not x): \n",
        "    return 0\n",
        "  else:\n",
        "    return 1+ length(x[1:])"
      ],
      "execution_count": 0,
      "outputs": []
    },
    {
      "cell_type": "code",
      "metadata": {
        "id": "mm9z8Rr8QKUu",
        "colab_type": "code",
        "colab": {}
      },
      "source": [
        "def cycle1(x):\n",
        "  return x[1:]+x[0]\n",
        "#리스트의 원소를 한 칸씩 앞으로 당기고 가장 앞에 것은 맨 뒤로 보냄"
      ],
      "execution_count": 0,
      "outputs": []
    },
    {
      "cell_type": "code",
      "metadata": {
        "id": "p4feIefbQao7",
        "colab_type": "code",
        "colab": {}
      },
      "source": [
        "def reverse2(x):\n",
        "  if(not x):\n",
        "    return ''\n",
        "  else:\n",
        "    return (reverse2(x[1:])+x[0])"
      ],
      "execution_count": 0,
      "outputs": []
    },
    {
      "cell_type": "markdown",
      "metadata": {
        "id": "-RdlzamcR0vb",
        "colab_type": "text"
      },
      "source": [
        "-고차원 함수-\n",
        "\n",
        "-> parameter를 함수로 가짐"
      ]
    },
    {
      "cell_type": "code",
      "metadata": {
        "id": "rFDj7ZyzRk5I",
        "colab_type": "code",
        "outputId": "839ba34b-f8dc-4114-c9fb-922e417959ac",
        "colab": {
          "base_uri": "https://localhost:8080/",
          "height": 36
        }
      },
      "source": [
        "# lambda expression: anonymous function\n",
        "# map: 고차원 함수 -> lambda라는 함수를 myList에 하나씩 적용하도록 함.\n",
        "# -> list의 각 원소에 대해서 f(x) 적용 후, 결과를 list로 만듦\n",
        "# 'time flies like an arrow'에서 각 단어의 마지막 character만 묶어서 출력\n",
        "map(lambda w: w[-1], myList)"
      ],
      "execution_count": 0,
      "outputs": [
        {
          "output_type": "execute_result",
          "data": {
            "text/plain": [
              "<map at 0x7f59ec10d198>"
            ]
          },
          "metadata": {
            "tags": []
          },
          "execution_count": 8
        }
      ]
    },
    {
      "cell_type": "code",
      "metadata": {
        "id": "zaYh_relSadW",
        "colab_type": "code",
        "outputId": "466de2d3-f7eb-4e60-c149-50585b8321e5",
        "colab": {
          "base_uri": "https://localhost:8080/",
          "height": 36
        }
      },
      "source": [
        "myString = 'time flies like an arrow'\n",
        "myList = myString.split(' ')\n",
        "def f(x):\n",
        "  return x**2\n",
        "\n",
        "f = lambda x: x**2 #function\n",
        "(lambda x: x**2)(3)"
      ],
      "execution_count": 0,
      "outputs": [
        {
          "output_type": "execute_result",
          "data": {
            "text/plain": [
              "9"
            ]
          },
          "metadata": {
            "tags": []
          },
          "execution_count": 7
        }
      ]
    },
    {
      "cell_type": "code",
      "metadata": {
        "id": "zVd4gaIFYf2A",
        "colab_type": "code",
        "outputId": "e8464e58-c273-436e-bcaa-7e1b5a2c6e10",
        "colab": {
          "base_uri": "https://localhost:8080/",
          "height": 36
        }
      },
      "source": [
        "def myMap(f, lst):\n",
        "  result = []\n",
        "  for x in lst:\n",
        "    result.append(f(x))\n",
        "  return result\n",
        "\n",
        "myMap(len, myList) #각 단어의 길이\n",
        "myMap(lambda x:x[-1], myList) #각 단어의 마지막 character"
      ],
      "execution_count": 0,
      "outputs": [
        {
          "output_type": "execute_result",
          "data": {
            "text/plain": [
              "['e', 's', 'e', 'n', 'w']"
            ]
          },
          "metadata": {
            "tags": []
          },
          "execution_count": 9
        }
      ]
    },
    {
      "cell_type": "code",
      "metadata": {
        "id": "NPLWATh8iaAr",
        "colab_type": "code",
        "outputId": "f2b36b25-39f3-40b6-fbdd-2cd179a2a7a5",
        "colab": {
          "base_uri": "https://localhost:8080/",
          "height": 36
        }
      },
      "source": [
        "myList = ['TAAccCtA', 'ccct', 'ccCTAAccct', 'cccTAAcc']\n",
        "map(lambda x: x.lower(), myList)\n",
        "map(len, myList)\n",
        "map(lambda x:x[:-1], myList) # 마지막 character 제거"
      ],
      "execution_count": 0,
      "outputs": [
        {
          "output_type": "execute_result",
          "data": {
            "text/plain": [
              "<map at 0x7f59ec11a7f0>"
            ]
          },
          "metadata": {
            "tags": []
          },
          "execution_count": 10
        }
      ]
    },
    {
      "cell_type": "code",
      "metadata": {
        "id": "YUxH_FBWkS38",
        "colab_type": "code",
        "outputId": "83cf77cd-c7bc-4185-d456-871a9afb9a0d",
        "colab": {
          "base_uri": "https://localhost:8080/",
          "height": 36
        }
      },
      "source": [
        "filter(lambda x: len(x)>4, myList) # 길이가 4 이상인 원소\n",
        "\n",
        "from functools import reduce\n",
        "reduce(lambda x,y: x+y, myList) # list concatenate to string (누적)"
      ],
      "execution_count": 0,
      "outputs": [
        {
          "output_type": "execute_result",
          "data": {
            "text/plain": [
              "'TAAccCtAccctccCTAAccctcccTAAcc'"
            ]
          },
          "metadata": {
            "tags": []
          },
          "execution_count": 12
        }
      ]
    },
    {
      "cell_type": "markdown",
      "metadata": {
        "id": "yr_Uv6v3m8jx",
        "colab_type": "text"
      },
      "source": [
        "-List Comprehension-\n",
        "\n",
        "-> iterator: iterable object에 대해서 한꺼번에 출력하는 것이 아닌, 명령에 의해 다음 결과 출력"
      ]
    },
    {
      "cell_type": "code",
      "metadata": {
        "id": "4hm14Q5amfjh",
        "colab_type": "code",
        "colab": {}
      },
      "source": [
        "def squareNumbers(nums):\n",
        "  for i in nums:\n",
        "    yield(i*i) # return과 비슷하게 사용되는 키워드 -> 함수 실행 중간에 빠져 나올 수 있는 generator 만들 때 사용 \n",
        "\n",
        "y = squareNumbers([1,3,5,7,9])"
      ],
      "execution_count": 0,
      "outputs": []
    },
    {
      "cell_type": "code",
      "metadata": {
        "id": "iZiDfJWloUbZ",
        "colab_type": "code",
        "outputId": "48ea5ba5-836e-47d8-d1c6-06db6eacd724",
        "colab": {
          "base_uri": "https://localhost:8080/",
          "height": 36
        }
      },
      "source": [
        "type(y) #generator"
      ],
      "execution_count": 0,
      "outputs": [
        {
          "output_type": "execute_result",
          "data": {
            "text/plain": [
              "generator"
            ]
          },
          "metadata": {
            "tags": []
          },
          "execution_count": 4
        }
      ]
    },
    {
      "cell_type": "code",
      "metadata": {
        "id": "wbrMiCxzoWtT",
        "colab_type": "code",
        "outputId": "a3bcfb4b-93f4-4ff6-cb0e-53962ac269a4",
        "colab": {
          "base_uri": "https://localhost:8080/",
          "height": 36
        }
      },
      "source": [
        "next(y) # 할 때마다 결과를 하나씩 출력 (lazy evaluation)"
      ],
      "execution_count": 0,
      "outputs": [
        {
          "output_type": "execute_result",
          "data": {
            "text/plain": [
              "1"
            ]
          },
          "metadata": {
            "tags": []
          },
          "execution_count": 5
        }
      ]
    },
    {
      "cell_type": "code",
      "metadata": {
        "id": "9L-FXwSXp2jC",
        "colab_type": "code",
        "outputId": "ef7cc09a-4b49-44be-8e3d-82f96883d381",
        "colab": {
          "base_uri": "https://localhost:8080/",
          "height": 36
        }
      },
      "source": [
        "next(y)"
      ],
      "execution_count": 0,
      "outputs": [
        {
          "output_type": "execute_result",
          "data": {
            "text/plain": [
              "9"
            ]
          },
          "metadata": {
            "tags": []
          },
          "execution_count": 6
        }
      ]
    },
    {
      "cell_type": "markdown",
      "metadata": {
        "id": "_L2ImI28pWTS",
        "colab_type": "text"
      },
      "source": [
        "-> iterable objects: string, list, file 등이 모두 for문의 sequence가 될 수 있음"
      ]
    },
    {
      "cell_type": "code",
      "metadata": {
        "id": "Ub4VJ7pspf2w",
        "colab_type": "code",
        "outputId": "0df42796-a3eb-4c26-ea57-9053098a6149",
        "colab": {
          "base_uri": "https://localhost:8080/",
          "height": 36
        }
      },
      "source": [
        "myString = \"Natural Language Processing with Python\"\n",
        "for x in myString:\n",
        "  print(x,end=' ')"
      ],
      "execution_count": 0,
      "outputs": [
        {
          "output_type": "stream",
          "text": [
            "N a t u r a l   L a n g u a g e   P r o c e s s i n g   w i t h   P y t h o n "
          ],
          "name": "stdout"
        }
      ]
    },
    {
      "cell_type": "code",
      "metadata": {
        "id": "OqYOhvCiobvp",
        "colab_type": "code",
        "outputId": "fceef624-776f-4fee-8263-4d67a43ed17f",
        "colab": {
          "base_uri": "https://localhost:8080/",
          "height": 111
        }
      },
      "source": [
        "myList = myString.split(' ')\n",
        "for x in myList:\n",
        "  print(x)"
      ],
      "execution_count": 0,
      "outputs": [
        {
          "output_type": "stream",
          "text": [
            "Natural\n",
            "Language\n",
            "Processing\n",
            "with\n",
            "Python\n"
          ],
          "name": "stdout"
        }
      ]
    },
    {
      "cell_type": "markdown",
      "metadata": {
        "id": "ZmSHhoQAqdXC",
        "colab_type": "text"
      },
      "source": [
        "* 고차원 함수: x = map(lambda n: n*n, filter(lambda n: n%2==1, num)\n",
        "> print(list(x))를 해 주어야 출력됨. (generator의 형태로 남아있기 때문)\n",
        "\n",
        "* list comprehension: x = [n*n for n in num if n%2==1]"
      ]
    },
    {
      "cell_type": "code",
      "metadata": {
        "id": "esgNcoF5qZTe",
        "colab_type": "code",
        "outputId": "43432622-cc35-44eb-c415-6f033ac81916",
        "colab": {
          "base_uri": "https://localhost:8080/",
          "height": 36
        }
      },
      "source": [
        "myTuple = [(len(x), x) for x in myList]\n",
        "myTuple.sort()\n",
        "myTuple"
      ],
      "execution_count": 0,
      "outputs": [
        {
          "output_type": "execute_result",
          "data": {
            "text/plain": [
              "[(4, 'ccct'), (8, 'TAAccCtA'), (8, 'cccTAAcc'), (10, 'ccCTAAccct')]"
            ]
          },
          "metadata": {
            "tags": []
          },
          "execution_count": 13
        }
      ]
    },
    {
      "cell_type": "code",
      "metadata": {
        "id": "t9NSNDi7wpud",
        "colab_type": "code",
        "outputId": "e1222822-83b6-4ec6-f08e-d7e11a66c5cf",
        "colab": {
          "base_uri": "https://localhost:8080/",
          "height": 36
        }
      },
      "source": [
        "sortedList = [x for (_,x) in myTuple]\n",
        "sortedList"
      ],
      "execution_count": 0,
      "outputs": [
        {
          "output_type": "execute_result",
          "data": {
            "text/plain": [
              "['ccct', 'TAAccCtA', 'cccTAAcc', 'ccCTAAccct']"
            ]
          },
          "metadata": {
            "tags": []
          },
          "execution_count": 14
        }
      ]
    },
    {
      "cell_type": "markdown",
      "metadata": {
        "id": "X5fyvRkyw2jY",
        "colab_type": "text"
      },
      "source": [
        "-Generator Comprehension-\n",
        "\n",
        "-> lazy evaluation: list comprehension과 달리 list를 만들지 않고 기다림.\n",
        "\n",
        "-> generator는 모든 값을 메모리에 담고 있지 않고 그때그때 값을 생성"
      ]
    },
    {
      "cell_type": "code",
      "metadata": {
        "id": "FForLIAcxT2z",
        "colab_type": "code",
        "colab": {}
      },
      "source": [
        "#list comprehension: 바로 list를 만듦\n",
        "x = [n*2 for n in range(100)]\n",
        "#generator comprehension\n",
        "y = (n*2 for n in range(100))"
      ],
      "execution_count": 0,
      "outputs": []
    },
    {
      "cell_type": "code",
      "metadata": {
        "id": "kuvQ6tf8xnEG",
        "colab_type": "code",
        "outputId": "1c9dabe0-2698-418d-da41-e7a510dd0f35",
        "colab": {
          "base_uri": "https://localhost:8080/",
          "height": 36
        }
      },
      "source": [
        "x[3]"
      ],
      "execution_count": 0,
      "outputs": [
        {
          "output_type": "execute_result",
          "data": {
            "text/plain": [
              "6"
            ]
          },
          "metadata": {
            "tags": []
          },
          "execution_count": 16
        }
      ]
    },
    {
      "cell_type": "code",
      "metadata": {
        "id": "9CAMg0rLx5U6",
        "colab_type": "code",
        "outputId": "c7b77575-b7d0-4379-beb4-300b93c96762",
        "colab": {
          "base_uri": "https://localhost:8080/",
          "height": 176
        }
      },
      "source": [
        "y[3] #아직 list가 생성되지 않았기 때문에 오류"
      ],
      "execution_count": 0,
      "outputs": [
        {
          "output_type": "error",
          "ename": "TypeError",
          "evalue": "ignored",
          "traceback": [
            "\u001b[0;31m---------------------------------------------------------------------------\u001b[0m",
            "\u001b[0;31mTypeError\u001b[0m                                 Traceback (most recent call last)",
            "\u001b[0;32m<ipython-input-17-bf5348c86277>\u001b[0m in \u001b[0;36m<module>\u001b[0;34m()\u001b[0m\n\u001b[0;32m----> 1\u001b[0;31m \u001b[0my\u001b[0m\u001b[0;34m[\u001b[0m\u001b[0;36m3\u001b[0m\u001b[0;34m]\u001b[0m\u001b[0;34m\u001b[0m\u001b[0;34m\u001b[0m\u001b[0m\n\u001b[0m",
            "\u001b[0;31mTypeError\u001b[0m: 'generator' object is not subscriptable"
          ]
        }
      ]
    },
    {
      "cell_type": "code",
      "metadata": {
        "id": "1016dSHrx9-p",
        "colab_type": "code",
        "outputId": "c09b41a3-dfb9-4a04-d80f-f565426e3e7b",
        "colab": {
          "base_uri": "https://localhost:8080/",
          "height": 36
        }
      },
      "source": [
        "next(y)"
      ],
      "execution_count": 0,
      "outputs": [
        {
          "output_type": "execute_result",
          "data": {
            "text/plain": [
              "0"
            ]
          },
          "metadata": {
            "tags": []
          },
          "execution_count": 18
        }
      ]
    },
    {
      "cell_type": "markdown",
      "metadata": {
        "id": "-9HsmQfryHBF",
        "colab_type": "text"
      },
      "source": [
        "Example: <square numbers() function>"
      ]
    },
    {
      "cell_type": "code",
      "metadata": {
        "id": "TDk25KNdyA-h",
        "colab_type": "code",
        "colab": {}
      },
      "source": [
        "# list ver\n",
        "def square_numbers(nums):\n",
        "  result = []\n",
        "  for i in nums:\n",
        "    result.append(i*i)\n",
        "  return result"
      ],
      "execution_count": 0,
      "outputs": []
    },
    {
      "cell_type": "code",
      "metadata": {
        "id": "zQtn8Ce4ycVI",
        "colab_type": "code",
        "colab": {}
      },
      "source": [
        "# generator ver\n",
        "def square_numbers(nums):\n",
        "  for i in nums:\n",
        "    yield(i*i)\n",
        "\n",
        "# for x in y: \n",
        "#   print(x)"
      ],
      "execution_count": 0,
      "outputs": []
    },
    {
      "cell_type": "code",
      "metadata": {
        "id": "SWiqAqMhymZn",
        "colab_type": "code",
        "colab": {}
      },
      "source": [
        "# list comprehension ver\n",
        "x = [num*num for num in [1,2,3,4,5]]"
      ],
      "execution_count": 0,
      "outputs": []
    },
    {
      "cell_type": "code",
      "metadata": {
        "id": "7kc1ttcry9SR",
        "colab_type": "code",
        "colab": {}
      },
      "source": [
        "# generator comprehension ver\n",
        "y = (num*num for num in [1,2,3,4,5])"
      ],
      "execution_count": 0,
      "outputs": []
    },
    {
      "cell_type": "markdown",
      "metadata": {
        "id": "bVPLWqKorX9z",
        "colab_type": "text"
      },
      "source": [
        "-python 객체지향-\n",
        "\n",
        "-> 클래스: 특성 + 기능"
      ]
    },
    {
      "cell_type": "code",
      "metadata": {
        "id": "SlZADQAgrXUp",
        "colab_type": "code",
        "colab": {}
      },
      "source": [
        "class Boy:\n",
        "  pass # nothing\n",
        "\n",
        "x = Boy() #객체 "
      ],
      "execution_count": 0,
      "outputs": []
    },
    {
      "cell_type": "code",
      "metadata": {
        "id": "fOwVAzPNsIbs",
        "colab_type": "code",
        "colab": {}
      },
      "source": [
        "class Girl:\n",
        "  def isSmart(self):\n",
        "    return true"
      ],
      "execution_count": 0,
      "outputs": []
    },
    {
      "cell_type": "code",
      "metadata": {
        "id": "eck5jIXusboG",
        "colab_type": "code",
        "colab": {}
      },
      "source": [
        "# class 안의 가장 먼저 호출되는 메소드 (맨 위에 있음)\n",
        "def __init__(self, x, y, z):\n",
        "  self.height = x\n",
        "  self.weight = y\n",
        "  self.name = z"
      ],
      "execution_count": 0,
      "outputs": []
    },
    {
      "cell_type": "code",
      "metadata": {
        "id": "J1hLU4CZtBL0",
        "colab_type": "code",
        "colab": {}
      },
      "source": [
        "# 상속\n",
        "class Person:\n",
        "  name = \"\"\n",
        "  sex = \"\"\n",
        "\n",
        "  def __init__(self, personName, personSex):\n",
        "    self.name = personName\n",
        "    self.sex = personSex\n",
        "\n",
        "    def showName(self):\n",
        "      print(self.name)\n",
        "\n",
        "    def showSex(self):\n",
        "      print(self.sex)\n",
        "\n",
        "class Student(Person):\n",
        "  studentid = \"\"\n",
        "\n",
        "  def __init__(self, studentName, studentSex, studentId):\n",
        "    Person.__init__(self, studentName, studentSex)\n",
        "    self.studentId = studentId\n",
        "\n",
        "  def getId(self):\n",
        "    return self.studentId"
      ],
      "execution_count": 0,
      "outputs": []
    },
    {
      "cell_type": "code",
      "metadata": {
        "id": "PnATcGK9tyEo",
        "colab_type": "code",
        "colab": {}
      },
      "source": [
        ""
      ],
      "execution_count": 0,
      "outputs": []
    }
  ]
}