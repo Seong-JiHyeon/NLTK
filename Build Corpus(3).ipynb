{
  "nbformat": 4,
  "nbformat_minor": 0,
  "metadata": {
    "colab": {
      "name": "Take Home Exam #2(3)",
      "provenance": [],
      "authorship_tag": "ABX9TyO8pSYDqIEIokzII9SQ+mAB",
      "include_colab_link": true
    },
    "kernelspec": {
      "name": "python3",
      "display_name": "Python 3"
    }
  },
  "cells": [
    {
      "cell_type": "markdown",
      "metadata": {
        "id": "view-in-github",
        "colab_type": "text"
      },
      "source": [
        "<a href=\"https://colab.research.google.com/github/Seong-JiHyeon/NLTK/blob/master/Build%20Corpus(3).ipynb\" target=\"_parent\"><img src=\"https://colab.research.google.com/assets/colab-badge.svg\" alt=\"Open In Colab\"/></a>"
      ]
    },
    {
      "cell_type": "code",
      "metadata": {
        "id": "xgv4z8uL1Ejd",
        "colab_type": "code",
        "outputId": "e9f8c958-4645-497d-b094-dc4514155286",
        "colab": {
          "base_uri": "https://localhost:8080/",
          "height": 131
        }
      },
      "source": [
        "from google.colab import drive\n",
        "\n",
        "drive.mount('/content/gdrive')"
      ],
      "execution_count": 0,
      "outputs": [
        {
          "output_type": "stream",
          "text": [
            "Go to this URL in a browser: https://accounts.google.com/o/oauth2/auth?client_id=947318989803-6bn6qk8qdgf4n4g3pfee6491hc0brc4i.apps.googleusercontent.com&redirect_uri=urn%3aietf%3awg%3aoauth%3a2.0%3aoob&response_type=code&scope=email%20https%3a%2f%2fwww.googleapis.com%2fauth%2fdocs.test%20https%3a%2f%2fwww.googleapis.com%2fauth%2fdrive%20https%3a%2f%2fwww.googleapis.com%2fauth%2fdrive.photos.readonly%20https%3a%2f%2fwww.googleapis.com%2fauth%2fpeopleapi.readonly\n",
            "\n",
            "Enter your authorization code:\n",
            "··········\n",
            "Mounted at /content/gdrive\n"
          ],
          "name": "stdout"
        }
      ]
    },
    {
      "cell_type": "code",
      "metadata": {
        "id": "wvNAnEEW1bWp",
        "colab_type": "code",
        "outputId": "9185999b-48ed-401c-b984-01494590c498",
        "colab": {
          "base_uri": "https://localhost:8080/",
          "height": 36
        }
      },
      "source": [
        "cd /content/gdrive/My Drive/인공지능 수업 데이터 파일"
      ],
      "execution_count": 0,
      "outputs": [
        {
          "output_type": "stream",
          "text": [
            "/content/gdrive/My Drive/인공지능 수업 데이터 파일\n"
          ],
          "name": "stdout"
        }
      ]
    },
    {
      "cell_type": "code",
      "metadata": {
        "id": "UYstkkmC1eom",
        "colab_type": "code",
        "colab": {}
      },
      "source": [
        "from nltk.corpus import PlaintextCorpusReader\n",
        "corpus_root = '/content/gdrive/My Drive/인공지능 수업 데이터 파일/Genomics-Informatics-Corpus-master/raw_text2/'\n",
        "GNICorpus = PlaintextCorpusReader(corpus_root, '.*\\.txt', encoding='utf-16')"
      ],
      "execution_count": 0,
      "outputs": []
    },
    {
      "cell_type": "code",
      "metadata": {
        "id": "iUzaBLxr1hPm",
        "colab_type": "code",
        "colab": {}
      },
      "source": [
        "giRaw = GNICorpus.raw('gni-6-1-14.txt') #Vol. 6(1) 14-17"
      ],
      "execution_count": 0,
      "outputs": []
    },
    {
      "cell_type": "code",
      "metadata": {
        "id": "r3D6u1eg4ZhC",
        "colab_type": "code",
        "outputId": "7726ef08-f8ad-468a-8727-549502cedcf1",
        "colab": {
          "base_uri": "https://localhost:8080/",
          "height": 36
        }
      },
      "source": [
        "len(giRaw)"
      ],
      "execution_count": 0,
      "outputs": [
        {
          "output_type": "execute_result",
          "data": {
            "text/plain": [
              "15776"
            ]
          },
          "metadata": {
            "tags": []
          },
          "execution_count": 5
        }
      ]
    },
    {
      "cell_type": "code",
      "metadata": {
        "id": "ngBl3NwU44JC",
        "colab_type": "code",
        "outputId": "129b1751-6ecd-4a17-aa8c-ff0bdc2b8cd6",
        "colab": {
          "base_uri": "https://localhost:8080/",
          "height": 1000
        }
      },
      "source": [
        "print(giRaw)"
      ],
      "execution_count": 0,
      "outputs": [
        {
          "output_type": "stream",
          "text": [
            "Genomics & Informatics   Vol. 6(1) 14-17, March 2008\r\n",
            "\r\n",
            "Inbreeding Coefficients in Two Isolated Mongolian Populations - GENDISCAN Study\r\n",
            "\r\n",
            "Joohon Sung 1,2 , Mi Kyeong Lee 3 and Jeong- Sun Seo 3,4 *\r\n",
            "\r\n",
            "1 Department of Epidemiology, Seoul National University\r\n",
            "\r\n",
            "2\r\n",
            "\r\n",
            "partment of Cancer Prevention and Epidemiology, National Cancer Center, Goyang 410-769, Korea,\r\n",
            "\r\n",
            "3 Ilchon Institute, Seoul National University College of\r\n",
            "\r\n",
            "4\r\n",
            "\r\n",
            "chemistry, Seoul National University College of Medi- cine, Seoul 110-799, Korea\r\n",
            "\r\n",
            "Abstract\r\n",
            "\r\n",
            "GENDISCAN study (Gene Discovery for Complex traits in Asian population of Northeast area) was designed to in- corporate methodologies which enhance the power to identify genetic variations underlying complex disorders. Use of population isolates as the target population is a unique feather of this study. However, population isolates may have hidden inbreeding structures which can affect the validity of the study. To understand how this issue may affect results of GENDISCAN, we estimated inbreed- ing coefficients in two study populations in Mongolia. We analyzed the status of Hardy-Weinberg Equilibrium (HWE), polymorphism information contents (PIC), hetero- zygosity, allelic diversity, and inbreeding coefficients, us- ing 317 and 1,044 STR (short tandem repeat) markers in Orkhontuul and Dashbalbar populations. HWE assump- tions were generally met in most markers (88.6% and 94.2% respectively), and single marker PIC ranged be- tween 0.2 and 0.9. Inbreeding coefficients were esti- mated to be 0.0023 and 0.0021, which are small enough to assure that conventional genetic analysis would work without any specific modification. We concluded that the population isolates used in GENDISCAN study would not present significant inflation of type I errors from inbreed- ing effects in its gene discovery analysis.\r\n",
            "\r\n",
            "Keywords: inbreeding coefficient, Mengolian population, STR, HWE, PIC\r\n",
            "\r\n",
            "*Corresponding author: E-mail jeongsun@snu.ac.kr Tel +82-2-764-9444, Fax +82-2-740-4534 Accepted 16 March 2008\r\n",
            "\r\n",
            "Introduction\r\n",
            "\r\n",
            "The GENDISCAN (Gene Discovery for Complex traits in Asian population of Northeast area) study was launched in 2002 in order to elucidate genetic causes of complex diseases. This study attempted to incorporate designs that detect genetic signals with increased efficiency. These included using genetically homogeneous pop- ulation, recruiting large families, and considering quanti- tative phenotypes as well as disease outcome (Peltonen et al ., 2001; Merikangas et al ., 2003). Large extended families still remaining in the Northeast Asia, enabled the project to adopt these designs.\r\n",
            "\r\n",
            "Although there is no doubt that gene discovery of common complex diseases is one of the research prior- ities, the successful results have been very limited (Grant et al ., 2006).\r\n",
            "\r\n",
            "The difficulty of replication across studies, mandates the use of internally valid study designs and proper methodologies. Using population isolates generally con- fers the advantage of increasing genetic homogeneity. However population isolates might have inbreeding structures, which deviates the basic assumptions of HWE. The presence of significant inbreeding neces- sitates modifications in genetic estimations using the population. Therefore, we attempted to estimate the sta- tus of HWE, and inbreeding coefficients in two ethnic groups of Mongolia using genome-wide short tandem repeat (STR) genetic markers. Compatibility with basic assumptions of population genetics can support the methodological validity of the overall GENDISCAN study,\r\n",
            "\r\n",
            "Methods\r\n",
            "\r\n",
            "Participants\r\n",
            "\r\n",
            "The GENDISCAN study included non-selected families in Mongolia. The People's Republic of Mongolia (not includ- ing the Chinese territory) has 2.6 million people which comprise of more than 20 ethnic groups. The Orkhontuul are in Selenge Imag (Imag is an administrative district unit in Mongolia corresponding to a state in the United States) and the Dashbalbar area in Dornod Imag were selected. The Orkhontuul area has a population of 3,760 people, mainly consisting of Khalkha tribe, and maintains semi-urban life style. The Dashbalbar area is mainly habi- tuated by about 4,000 people of Buryat ethnicity and has more traditional nomadic life style. Many large extended\r\n",
            "\r\n",
            "School of Public Health, Seoul 110-799, Korea, De-\r\n",
            "\r\n",
            "Medicine, Seoul 110-799, Korea, Department of Bio-\r\n",
            "\r\n",
            "-----------------------------------------------------Page 1-----------------------------------------------------\r\n",
            "﻿\f\r\n",
            "Inbreeding Coefficients in Two Isolated Mongolian Populations    15\r\n",
            "\r\n",
            "families, which fit the study purposes of the GENDISCAN study still remain in both areas.\r\n",
            "\r\n",
            "Genotyping\r\n",
            "\r\n",
            "Genomic DNA was extracted from peripheral leukocytes. The Orkhontuul samples (2004, n=1,080) were geno- typed using the Applied Biosystems Inc. platform (ABI\r\n",
            "\r\n",
            "TM\r\n",
            "\r\n",
            "sity, 400 markers) with average 10 cM resolution, and Dashbalbar samples (2006, n=1,020) were genotyped using the deCODE 1,000 STR marker platform with average of 3 cM resolution. For the Orkhontuul partic- ipants markers on the chromosome 1 ∼ 4 were analyzed. For Orkhontuul data, markers with low call-rate (49 markers), and with more than 1% of genotype error rates (16 markers) and markers on X chromosome (18 markers) were excluded. For Dashbalbar genotype data, the 1,000 STR marker platform provided 1097 markers originally, however we excluded markers on X chromo- some (49 markers) and markers with low call-rate and more than 1% of genotype error rates (4 markers). All participants provided informed consent.\r\n",
            "\r\n",
            "Estimating Hardy-Weinberg Equilibrium (HWE), Information Contents and Inbreeding Coefficients HWE and degree of inbreeding were assessed using the founders of each pedigree. Non-founders were excluded because their genotypes are dependent on those of the founders. HWE was estimated by comparing the ex- pected and observed genotype frequencies. Expected genotype frequency was calculated from allele fre- quency. Chi-square goodness of fit test was used to determine whether HWE assumption was met. The\r\n",
            "\r\n",
            "2\r\n",
            "\r\n",
            "as equation as Equation 1, with k (k-1) degree of free- dom, where k is the total number of alleles.\r\n",
            "\r\n",
            "(Equation 1)\r\n",
            "\r\n",
            "where, nuu and nuv denote homozygotic and hetero- zygotic genotypes, while pu and pv denote allele fre- quency of each allele.\r\n",
            "\r\n",
            "Information contents of the genetic markers were esti- mated as polymorphism information content (PIC), heter-\r\n",
            "\r\n",
            "calculated from Equation 2.\r\n",
            "\r\n",
            "(Equation 2)\r\n",
            "\r\n",
            "where p u and p v denote allele frequency of each allele (Czika, 2005).\r\n",
            "\r\n",
            "Inbreeding was estimated by the deviation from the assumption that each founder shares no Identity by de- scent (IBD). Generally genotype frequency of bi-allelic locus having p and q allele frequencies are predicted as p 2 , 2pq, q 2 respectively under HWE. However, if there are IBD sharing of FI between founders, above pre- diction can be re-written respectively as Equation 3.\r\n",
            "\r\n",
            "(Equation 3)\r\n",
            "\r\n",
            "where, F I denotes inbreeding coefficient (Gillespie et al ., 2004).\r\n",
            "\r\n",
            "In brief, inbreeding is characterized by the excess of homozygote over expected level. The inbreeding co- efficient can be estimated as Equation 4 by solving Equation 3\r\n",
            "\r\n",
            "(Equation 4)\r\n",
            "\r\n",
            "where, H denotes observed heterozygotic, and 2pq de- notes estimated heterozygotic proportions from allele frequency (Hart et al ., 2000).\r\n",
            "\r\n",
            "HWE and estimations of expected and observed het- erozygosity frequencies were obtained using SAS/Gene- tics program.\r\n",
            "\r\n",
            "Results\r\n",
            "\r\n",
            "The demographic characteristics of the subjects geno-\r\n",
            "\r\n",
            "Table 1. Demographic characteristics of two Mongolian populations used in the study\r\n",
            "\r\n",
            "Area                Orkhontuul     Dashbalbar\r\n",
            "\r\n",
            "Ethnicity                           Khalkha        Buryat Number of Genotyped Founders 280 142\r\n",
            "\r\n",
            "ozygosity and allelic diversity. PIC is an index of the\r\n",
            "\r\n",
            "Men\r\n",
            " 99\r\n",
            " 90\r\n",
            "\r\n",
            "amount of information, which modifies the simple heter- ozygosity index by adjusting for the chance of mating between the same heterozygotic genotypes. PIC was\r\n",
            "\r\n",
            "Women 181 52 Total number of participants           1,032          1,020 Mean age of the founders               49.60          50.69\r\n",
            "\r\n",
            "Prism Linkage Mapping Set version 2.5 medium den-\r\n",
            "\r\n",
            "Chi-square statistics ( Χ ) of multi-allelic loci is defined\r\n",
            "\r\n",
            "-----------------------------------------------------Page 2-----------------------------------------------------\r\n",
            "﻿\f\r\n",
            "16 Genomics & Informatics Vol. 6(1) 14-17, March 2008\r\n",
            "\r\n",
            "Table 2. Hardy-Weinberg Equilibrium status   in   two Mongolian populations used in the study\r\n",
            "\r\n",
            "Orkhontuul     Dashbalbar\r\n",
            "\r\n",
            "Total effective markers                  317          1,044 Number of markers with HWE (%)    281 (86.1%)    984 (94.2%)\r\n",
            "\r\n",
            "Fig. 1. Distribution of polymor- phism information content (PIC), heterozygosity index, and allelic diversity across the 22 chromo- somes among Orkhontuul (A, C, E) and Dashbalbar (B, D, F) pop- ulations\r\n",
            "\r\n",
            "Table 3. Inbreeding coefficients in two Mongolian pop- ulations used in the study\r\n",
            "\r\n",
            "Orkhontuul    Dashbalbar\r\n",
            "\r\n",
            "Total effective markers                  317         1,044 Average number of alleles for the loci      11.7          8.5\r\n",
            "\r\n",
            "Number of markers satisfying HWE\r\n",
            "\r\n",
            "(p ＜ 0.05)\r\n",
            "\r\n",
            "Number of markers satisfying HWE\r\n",
            "\r\n",
            "(p ＜ 0.01)\r\n",
            "\r\n",
            "245           924\r\n",
            "\r\n",
            "251           944\r\n",
            "\r\n",
            "Inbreeding coefficient                  0.0023        0.0021\r\n",
            "\r\n",
            "Discussion\r\n",
            "\r\n",
            "Population isolates are generally considered to be one\r\n",
            "\r\n",
            "typed are shown in Table 1. There were 280 (99 men and 181 women) and 142 (90 men and 52 women) founders in Orkhontuul and Dashbalbar populations. Non-founders' genotype. were excluded, since theirs do not independently contribute to a gene pool. The in- formation contents in terms of PIC for single marker, range between 0.2 and 0.9, as shown in Fig. 1. Average PIC was 0.72 and 0.71 for Orkhontuul and Dashbalbar populations, respectively which are relatively high for single marker information contents. There was no sig- nificant difference in PIC across the chromosomes or populations. The high PIC level enabled accurate esti- mation of other population genetic parameters. HWE was satisfied among 88.6 % and 94.2%, respectively, of all markers in Orkhontuul and Dashbalbar populations (p-value ＜ 0.05). If we apply the criteria of p-value 0.01, 90.5% and 95.3% of all markers were in HWE status All the markers including those which were not in HWE, were used for estimating the inbreeding coefficients,. Inbreeding coefficient was estimated to be 0.0023 and 0.0021 in Orkhontuul and Dashbalbar populations.\r\n",
            "\r\n",
            "of the most ideal populations for genetic study (Pajukanta et al ., 2003; rcos-Burgos et al ., 2002; Escamilla et al ., 2001). However, possible inbreeding can cause deviation from general assumptions on which most analyses depend. Presence of inbreeding can be problematic, because, if exits, l the genetic relationships between unrelated as well as related persons could be underestimated. This underestimation of IBD can result in inflation of type I errors for linkage analysis (Hossjer et al ., 2006 Nomura et al ., 2005), linkage disequilibrium estimations and haplotype reconstructions (Zhang et al ., 2004). The inbreeding coefficient found in this study (about 0.2% in each population), does not necessitate any adjustment for genetic analyses such as IBD calcu- lation, classic or non-parametric linkage analysis, and variance component-based linkage analysis. By estimat- ing the last common ancestor, 0.2% of inbreeding co- efficient corresponds to 10 or 11 generations (Jensen- Seaman et al ., 2001; Santos-Lopes et al ., 2007). In this study, both ABI and deCODE STR markers were genotyped with standardized procedure and any\r\n",
            "\r\n",
            "-----------------------------------------------------Page 3-----------------------------------------------------\r\n",
            "﻿\f\r\n",
            "Inbreeding Coefficients in Two Isolated Mongolian Populations    17\r\n",
            "\r\n",
            "markers with more than 1% of genotype errors were discarded. The genotype errors were confirmed within the pedigree structure. Any Mendelian inconsistency was deleted and markers with possible double-recombi- nation were also deleted. Generally, genotyping in fam- ily-based study is more accurate than in studies using individuals only. Thus, It is not likely that any genotype error could have been biased our findings.\r\n",
            "\r\n",
            "In conclusion, we have estimated inbreeding co- efficients in two population isolates in Mongolia.,. We found that they fall in negligible range, allowing related genetic studies to be performed without any mod- ification or adjustment for possible inbreeding effects. This finding validates the ability of The GENDISCAN study to add to the growing body of evidence which as- sociates specific genetic variations with complex disorders.\r\n",
            "\r\n",
            "Acknowledgements\r\n",
            "\r\n",
            "Korean government approved and has supported the pi- lot study, and phase I study (Ministry of Science and Technology, Grant # M10306030002-03B4803-00210).\r\n",
            "\r\n",
            "References\r\n",
            "\r\n",
            "Peltonen, L., McKusick, V.A. (2001). Genomics and medicine. Dissecting human disease in the postgenomic era. Science 291,1224-1229.\r\n",
            "\r\n",
            "Merikangas, K.R., Risch, N. (2003) Genomic priorities and\r\n",
            "\r\n",
            "public health. Science 302, 599-601.\r\n",
            "\r\n",
            "Grant, S.F., Thorleifsson, G., Reynisdottir, I., Benediktsson, R., Manolescu, A., Sainz, J., Helgason, A., Stefansson, H., Emilsson, V., Helgadottir, A., Styrkarsdottir, U., Magnusson, K.P., Walters, G.B., Palsdottir, E., Jonsdottir, T., Gudmundsdottir, T., Gylfason, A., Saemundsdottir, J., Wilensky, R.L., Reilly, M.P., Rader, D.J., Bagger, Y., Christiansen, C., Gudnason, V., Sigurdsson, G., Thorste-\r\n",
            "\r\n",
            "insdottir, U., Gulcher, J.R., Kong, A., and Stefansson, K. (2006). Variant of transcription factor 7-like 2 (TCF7L2) gene confers risk of type 2 diabetes. Nat Genet. 38, 320-323.\r\n",
            "\r\n",
            "Czika, W. (2005). SAS/Genetics 9.1.3 User's Guide. SAS\r\n",
            "\r\n",
            "Institute Inc ., Cary, NC, USA.\r\n",
            "\r\n",
            "Gillespie, J.H. (2004). Population Genetics, A concise guide. 2nd Edition, The Johns Hopkins University Press, Baltimore MA, USA.\r\n",
            "\r\n",
            "Hartl, D.L. (2000). Primer of population genetics 3 sub-\r\n",
            "\r\n",
            "Edition. Sinauer Associates , USA.\r\n",
            "\r\n",
            "Pajukanta, P., Allayee, H., Krass, K.L., Kuraishy, A., Soro, A., Lilja, H.E., Mar, R., Taskinen, M.R., Nuotio, I., Laakso, M., Rotter, J.I., de Bruin, T.W., Cantor, R.M., Lusis, A.J., and Peltonen, L. (2003). Combined analysis of genome scans of dutch and finnish families reveals a suscepti- bility locus for high-density lipoprotein cholesterol on chromosome 16q. Am J Hum Genet . 72, 903-917.\r\n",
            "\r\n",
            "rcos-Burgos, M., and Muenke, M. (2002). Genetics of pop-\r\n",
            "\r\n",
            "ulation isolates. Clin Genet . 61, 233-247.\r\n",
            "\r\n",
            "Escamilla, M.A. (2001). Population isolates: their special val- ue for locating genes for bipolar disorder. Bipolar Disord . 3, 299-317.\r\n",
            "\r\n",
            "Hossjer, O. (2006). Modeling the effect of inbreeding among founders in linkage analysis. Theor Popul Biol . 70, 146-163.\r\n",
            "\r\n",
            "Nomura, T. (2005). Joint effect of selection, linkage and partial inbreeding on additive genetic variance in an in- finite population. Biom J . 47, 527-540.\r\n",
            "\r\n",
            "Zhang, W., Collins, A., Gibson, J., Tapper, W.J., Hunt, S., Deloukas, P., Bentley, D.R., and Morton, N.E. (2004). Impact of population structure, effective bottleneck time, and allele frequency on linkage disequilibrium maps. Proc Natl Acad Sci USA . 101, 18075-18080.\r\n",
            "\r\n",
            "Jensen-Seaman, M.I., Deinard, A.S., and Kidd, K.K. (2001). Modern African ape populations as genetic and demo- graphic models of the last common ancestor of humans, chimpanzees, and gorillas. J Hered . 92, 475- 480.\r\n",
            "\r\n",
            "Santos-Lopes, S.S., Pereira, R.W., Wilson, I.J., and Pena ,S.D. (2007). A worldwide phylogeography for the human X chromosome. PLoS ONE . 2, e557.\r\n",
            "\r\n",
            "-----------------------------------------------------Page 4-----------------------------------------------------\r\n",
            "\n"
          ],
          "name": "stdout"
        }
      ]
    },
    {
      "cell_type": "code",
      "metadata": {
        "id": "dTqNsAxq4b4i",
        "colab_type": "code",
        "colab": {}
      },
      "source": [
        "import re\n",
        "N_giRaw = re.sub(r'- ', '', giRaw) #한 단어인데 -로 나눠져 있는 경우"
      ],
      "execution_count": 0,
      "outputs": []
    },
    {
      "cell_type": "code",
      "metadata": {
        "id": "pQ4VSxJn5lkF",
        "colab_type": "code",
        "colab": {}
      },
      "source": [
        "N_giRaw = re.sub(r'\\*C', '(*C', N_giRaw) #corresponding 표시"
      ],
      "execution_count": 0,
      "outputs": []
    },
    {
      "cell_type": "code",
      "metadata": {
        "id": "9Vv0VVAk6Nqb",
        "colab_type": "code",
        "colab": {}
      },
      "source": [
        "N_giRaw = re.sub(r'[-]{2,}Page [0-9]+[-]{2,}', '', N_giRaw) #page표시 없애기"
      ],
      "execution_count": 0,
      "outputs": []
    },
    {
      "cell_type": "code",
      "metadata": {
        "id": "KNjphikV6WRG",
        "colab_type": "code",
        "colab": {}
      },
      "source": [
        "N_giRaw = re.sub(r'([0-9] Genomics & Informatics Vol.)', r'<\\1', N_giRaw) #논문 head표시"
      ],
      "execution_count": 0,
      "outputs": []
    },
    {
      "cell_type": "code",
      "metadata": {
        "id": "WKMk8J1l6ePu",
        "colab_type": "code",
        "colab": {}
      },
      "source": [
        "N_giRaw = re.sub(r'(\\r\\n)(Fig[0-9. ]+[a-zA-Z -./0-9]+)', r'\\1[\\2]', N_giRaw) #논문의 Fig 표시"
      ],
      "execution_count": 0,
      "outputs": []
    },
    {
      "cell_type": "code",
      "metadata": {
        "id": "w1Bycvak7s_Q",
        "colab_type": "code",
        "colab": {}
      },
      "source": [
        "N_giRaw = re.sub(r'(\\n)(Table [0-9a-zA-Z. /-]+)', r'\\1[\\2]', N_giRaw) #논문의 Table 표시"
      ],
      "execution_count": 0,
      "outputs": []
    },
    {
      "cell_type": "markdown",
      "metadata": {
        "id": "kZJh7MnM6zjL",
        "colab_type": "text"
      },
      "source": [
        "\n",
        "\n",
        "---\n",
        "\n"
      ]
    },
    {
      "cell_type": "code",
      "metadata": {
        "id": "93yYWXim6jrM",
        "colab_type": "code",
        "colab": {}
      },
      "source": [
        "N_giRaw = re.sub(r'[\\r\\n]{3,}', '\\r\\n\\r\\n', N_giRaw) #문단 띄우기 교정"
      ],
      "execution_count": 0,
      "outputs": []
    },
    {
      "cell_type": "code",
      "metadata": {
        "id": "Lqy2GQex60rB",
        "colab_type": "code",
        "colab": {}
      },
      "source": [
        "N_giRaw = re.sub(r'\\r\\n\\r\\n\\ufeff\\x0c\\r\\n', '\\r\\n\\r\\n', N_giRaw)"
      ],
      "execution_count": 0,
      "outputs": []
    },
    {
      "cell_type": "code",
      "metadata": {
        "id": "M0pd83ea68ij",
        "colab_type": "code",
        "colab": {}
      },
      "source": [
        "N_giRaw = re.sub(r'([ >])(\\r\\n|\\n)([\\[A-Z])', r'\\1\\r\\n\\r\\n\\3', N_giRaw)"
      ],
      "execution_count": 0,
      "outputs": []
    },
    {
      "cell_type": "code",
      "metadata": {
        "id": "X90HXolM69GI",
        "colab_type": "code",
        "colab": {}
      },
      "source": [
        "#txt 파일 생성\n",
        "f = open(\"NEW_gni-6-1-14.txt\", 'w')\n",
        "f.write(N_giRaw)\n",
        "f.close()"
      ],
      "execution_count": 0,
      "outputs": []
    }
  ]
}