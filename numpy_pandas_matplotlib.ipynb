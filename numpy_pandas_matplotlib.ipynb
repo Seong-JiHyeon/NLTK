{
  "nbformat": 4,
  "nbformat_minor": 0,
  "metadata": {
    "colab": {
      "name": "인공지능 수업 -  numpy, pandas, matplotlib",
      "provenance": [],
      "collapsed_sections": [],
      "authorship_tag": "ABX9TyOlJrYXLhTySnsQsX2/bliB",
      "include_colab_link": true
    },
    "kernelspec": {
      "name": "python3",
      "display_name": "Python 3"
    }
  },
  "cells": [
    {
      "cell_type": "markdown",
      "metadata": {
        "id": "view-in-github",
        "colab_type": "text"
      },
      "source": [
        "<a href=\"https://colab.research.google.com/github/Seong-JiHyeon/NLTK/blob/master/numpy_pandas_matplotlib.ipynb\" target=\"_parent\"><img src=\"https://colab.research.google.com/assets/colab-badge.svg\" alt=\"Open In Colab\"/></a>"
      ]
    },
    {
      "cell_type": "markdown",
      "metadata": {
        "id": "k-5Q3yM6zPHV",
        "colab_type": "text"
      },
      "source": [
        "1. Numpy\n",
        "\n",
        ": 다차원 배열 처리의 유용한 기능 <배열을 사용한 데이터 처리>\n",
        "\n",
        "* numpy에서 배열은 동일한 타입의 값을 가짐.\n",
        "\n",
        "* 배열의 차원: rank\n",
        "\n",
        "* 각 차원의 크기: 튜플로 표시 - shape\n",
        "\n",
        "* 그 외 기능: 유니버설 함수, 배열의 파일 입출력, 선형대수, 난수생성, 브로드캐스팅, 객체 주소지만 참조\n",
        "\n",
        "Ex. 행-2, 열-3, 2차원 배열: rank=2, shape(2,3)"
      ]
    },
    {
      "cell_type": "code",
      "metadata": {
        "id": "wYV9MEJjzHl6",
        "colab_type": "code",
        "colab": {}
      },
      "source": [
        "import numpy as np\n",
        "list1 = [0,1,2,3,4]\n",
        "arr1d = np.array(list1)\n",
        "# create an 1d array from a list"
      ],
      "execution_count": 0,
      "outputs": []
    },
    {
      "cell_type": "code",
      "metadata": {
        "id": "Lq0zb6cp0Y1y",
        "colab_type": "code",
        "outputId": "18cf6ca8-a8e6-4486-d30c-c1510a5a3e82",
        "colab": {
          "base_uri": "https://localhost:8080/",
          "height": 73
        }
      },
      "source": [
        "list2 = [[0,1,2], [3,4,5], [6,7,8]]\n",
        "arr2d = np.array(list2)\n",
        "arr2d"
      ],
      "execution_count": 0,
      "outputs": [
        {
          "output_type": "execute_result",
          "data": {
            "text/plain": [
              "array([[0, 1, 2],\n",
              "       [3, 4, 5],\n",
              "       [6, 7, 8]])"
            ]
          },
          "metadata": {
            "tags": []
          },
          "execution_count": 2
        }
      ]
    },
    {
      "cell_type": "code",
      "metadata": {
        "id": "QO1WUdGe0kBs",
        "colab_type": "code",
        "outputId": "f2db49ff-1658-45ef-a6e2-ef3624ea7f4d",
        "colab": {
          "base_uri": "https://localhost:8080/",
          "height": 73
        }
      },
      "source": [
        "arr2d_f = np.array(list2, dtype='float')\n",
        "arr2d_f #create a float 2d array"
      ],
      "execution_count": 0,
      "outputs": [
        {
          "output_type": "execute_result",
          "data": {
            "text/plain": [
              "array([[0., 1., 2.],\n",
              "       [3., 4., 5.],\n",
              "       [6., 7., 8.]])"
            ]
          },
          "metadata": {
            "tags": []
          },
          "execution_count": 3
        }
      ]
    },
    {
      "cell_type": "code",
      "metadata": {
        "id": "jTcKKI_k0t3w",
        "colab_type": "code",
        "outputId": "2e2f7a64-9b9d-481b-fb3f-0d512f9eaa17",
        "colab": {
          "base_uri": "https://localhost:8080/",
          "height": 73
        }
      },
      "source": [
        "arr2d_f.astype('int').astype('str')"
      ],
      "execution_count": 0,
      "outputs": [
        {
          "output_type": "execute_result",
          "data": {
            "text/plain": [
              "array([['0', '1', '2'],\n",
              "       ['3', '4', '5'],\n",
              "       ['6', '7', '8']], dtype='<U21')"
            ]
          },
          "metadata": {
            "tags": []
          },
          "execution_count": 4
        }
      ]
    },
    {
      "cell_type": "code",
      "metadata": {
        "id": "JF91EcoX06lt",
        "colab_type": "code",
        "outputId": "b8b24179-533f-4f92-de43-44b12293732c",
        "colab": {
          "base_uri": "https://localhost:8080/",
          "height": 36
        }
      },
      "source": [
        "arr1d_obj = np.array([1,'a'], dtype='object') #integer, character, etc.. 모두 수용 가능\n",
        "arr1d_obj                                     #단, 속도가 굉장히 느려지기 때문에 사용하지 않는 것이 좋음"
      ],
      "execution_count": 0,
      "outputs": [
        {
          "output_type": "execute_result",
          "data": {
            "text/plain": [
              "array([1, 'a'], dtype=object)"
            ]
          },
          "metadata": {
            "tags": []
          },
          "execution_count": 5
        }
      ]
    },
    {
      "cell_type": "code",
      "metadata": {
        "id": "h3VPuWNF1Jcj",
        "colab_type": "code",
        "outputId": "f8f285a0-8afa-49bb-aae4-bc85fa159b8d",
        "colab": {
          "base_uri": "https://localhost:8080/",
          "height": 36
        }
      },
      "source": [
        "list1 + list1 #concat "
      ],
      "execution_count": 0,
      "outputs": [
        {
          "output_type": "execute_result",
          "data": {
            "text/plain": [
              "[0, 1, 2, 3, 4, 0, 1, 2, 3, 4]"
            ]
          },
          "metadata": {
            "tags": []
          },
          "execution_count": 6
        }
      ]
    },
    {
      "cell_type": "code",
      "metadata": {
        "id": "UyX4DKxJ13Lx",
        "colab_type": "code",
        "outputId": "46fc8b47-94e4-4661-97ad-60eb3e29b3c2",
        "colab": {
          "base_uri": "https://localhost:8080/",
          "height": 36
        }
      },
      "source": [
        "arr1d + arr1d #plus"
      ],
      "execution_count": 0,
      "outputs": [
        {
          "output_type": "execute_result",
          "data": {
            "text/plain": [
              "array([0, 2, 4, 6, 8])"
            ]
          },
          "metadata": {
            "tags": []
          },
          "execution_count": 7
        }
      ]
    },
    {
      "cell_type": "code",
      "metadata": {
        "id": "GiVbsqmn2XFA",
        "colab_type": "code",
        "outputId": "f5795eb1-7c35-4a9d-f206-31ddef4f15e9",
        "colab": {
          "base_uri": "https://localhost:8080/",
          "height": 36
        }
      },
      "source": [
        "arr2d.shape"
      ],
      "execution_count": 0,
      "outputs": [
        {
          "output_type": "execute_result",
          "data": {
            "text/plain": [
              "(3, 3)"
            ]
          },
          "metadata": {
            "tags": []
          },
          "execution_count": 8
        }
      ]
    },
    {
      "cell_type": "code",
      "metadata": {
        "id": "PIm0Bumg3DRg",
        "colab_type": "code",
        "outputId": "8539e724-5af5-4032-d657-80ca5492ed06",
        "colab": {
          "base_uri": "https://localhost:8080/",
          "height": 36
        }
      },
      "source": [
        "arr2d.dtype"
      ],
      "execution_count": 0,
      "outputs": [
        {
          "output_type": "execute_result",
          "data": {
            "text/plain": [
              "dtype('int64')"
            ]
          },
          "metadata": {
            "tags": []
          },
          "execution_count": 9
        }
      ]
    },
    {
      "cell_type": "code",
      "metadata": {
        "id": "f-EEj0nZ3Gvc",
        "colab_type": "code",
        "outputId": "d41e4085-c9f8-456d-f4d8-c896f0d4c482",
        "colab": {
          "base_uri": "https://localhost:8080/",
          "height": 36
        }
      },
      "source": [
        "arr2d.size # 3x3"
      ],
      "execution_count": 0,
      "outputs": [
        {
          "output_type": "execute_result",
          "data": {
            "text/plain": [
              "9"
            ]
          },
          "metadata": {
            "tags": []
          },
          "execution_count": 10
        }
      ]
    },
    {
      "cell_type": "code",
      "metadata": {
        "id": "NCMuUwTd3NGM",
        "colab_type": "code",
        "outputId": "0fb648d3-14fc-4335-f4c2-73215ae73528",
        "colab": {
          "base_uri": "https://localhost:8080/",
          "height": 36
        }
      },
      "source": [
        "arr2d.ndim #dimension"
      ],
      "execution_count": 0,
      "outputs": [
        {
          "output_type": "execute_result",
          "data": {
            "text/plain": [
              "2"
            ]
          },
          "metadata": {
            "tags": []
          },
          "execution_count": 11
        }
      ]
    },
    {
      "cell_type": "code",
      "metadata": {
        "id": "c1_dkm0V3SVt",
        "colab_type": "code",
        "outputId": "989fffcb-bfa7-41cf-cd91-b28ed6b00b20",
        "colab": {
          "base_uri": "https://localhost:8080/",
          "height": 73
        }
      },
      "source": [
        "arr2d.T #Transition"
      ],
      "execution_count": 0,
      "outputs": [
        {
          "output_type": "execute_result",
          "data": {
            "text/plain": [
              "array([[0, 3, 6],\n",
              "       [1, 4, 7],\n",
              "       [2, 5, 8]])"
            ]
          },
          "metadata": {
            "tags": []
          },
          "execution_count": 12
        }
      ]
    },
    {
      "cell_type": "code",
      "metadata": {
        "id": "ObShLhBo3Zmx",
        "colab_type": "code",
        "outputId": "a92da71f-2ef3-44eb-b768-3614a73bea9a",
        "colab": {
          "base_uri": "https://localhost:8080/",
          "height": 73
        }
      },
      "source": [
        "np.matmul(arr2d, arr2d.T) #matrix multipleation *"
      ],
      "execution_count": 0,
      "outputs": [
        {
          "output_type": "execute_result",
          "data": {
            "text/plain": [
              "array([[  5,  14,  23],\n",
              "       [ 14,  50,  86],\n",
              "       [ 23,  86, 149]])"
            ]
          },
          "metadata": {
            "tags": []
          },
          "execution_count": 13
        }
      ]
    },
    {
      "cell_type": "code",
      "metadata": {
        "id": "8GGZIe1M3u6i",
        "colab_type": "code",
        "outputId": "b9d7a29a-46ee-48ca-f987-d67ab89a21ea",
        "colab": {
          "base_uri": "https://localhost:8080/",
          "height": 391
        }
      },
      "source": [
        "#난수 생성\n",
        "np.random.randn(20,4)"
      ],
      "execution_count": 0,
      "outputs": [
        {
          "output_type": "execute_result",
          "data": {
            "text/plain": [
              "array([[ 1.00814628, -0.59313466, -1.38997218,  0.97392992],\n",
              "       [-0.0444459 ,  0.10627794, -1.06679039, -1.02678277],\n",
              "       [-0.27423031, -0.15936492, -1.79971391, -1.85580118],\n",
              "       [-1.08387088, -1.20801848, -0.0379036 , -0.08652599],\n",
              "       [ 1.89824254,  0.44149422,  0.85480091,  0.96543571],\n",
              "       [-0.21403104, -1.48777631, -0.30303948, -0.97676067],\n",
              "       [ 0.04241682,  0.1552224 ,  1.62454245,  0.56459186],\n",
              "       [ 0.14419576,  0.648989  , -0.59880321, -0.13359707],\n",
              "       [-1.40801484,  0.97169136,  0.58068608,  1.23143614],\n",
              "       [-0.47397826, -0.3353493 , -1.88082091, -0.81701019],\n",
              "       [ 0.84833583, -0.20535093, -1.70681485, -0.48062812],\n",
              "       [-1.13639344,  2.25944384, -0.35657077, -2.01161582],\n",
              "       [ 1.80076579, -1.61587223, -0.03505177,  1.41549106],\n",
              "       [-0.06448013,  0.78903331, -1.64783934, -0.35892624],\n",
              "       [-0.0108264 ,  0.9547612 , -0.14871221, -0.96510813],\n",
              "       [-0.12730965, -0.86704726,  0.90389335,  0.35905597],\n",
              "       [ 1.37875285,  0.7687867 , -1.26193432,  0.60971193],\n",
              "       [ 0.06202947,  0.91790608,  0.91512   , -0.28822966],\n",
              "       [-1.77572342, -1.34232368, -0.07061013,  0.23200175],\n",
              "       [-2.34094055, -2.16025502,  1.81392534, -1.92484437]])"
            ]
          },
          "metadata": {
            "tags": []
          },
          "execution_count": 14
        }
      ]
    },
    {
      "cell_type": "markdown",
      "metadata": {
        "id": "-dCUNCFW4TIn",
        "colab_type": "text"
      },
      "source": [
        "-> Numpy array vs Python list\n",
        "\n",
        "1. array support vectorised operation, but list don't\n",
        "2. Once an array is created, you cannot change its size. If want to change, create new one.\n",
        "3. Every array has one and only one dtype. (except object)\n",
        "4. An equivalent numpy array occupies much less space than python list -> high speed & efficiency"
      ]
    },
    {
      "cell_type": "markdown",
      "metadata": {
        "id": "W_yAaMlH5CTg",
        "colab_type": "text"
      },
      "source": [
        "2. Pandas\n",
        "\n",
        ":테이블 형태의 데이터를 다루는 데이터프레임 자료형 제공\n",
        "\n",
        ": 자료의 탐색이나 정리에 아주 유용, 데이터 분석 필수 패키지\n",
        "\n",
        ": 표, 파일(csv, sql 등) 처리\n",
        "\n",
        ": 각 열의 타입이 달라도 됨\n",
        "\n",
        ": sql처럼 테이블에 쿼리나 조인 가능"
      ]
    },
    {
      "cell_type": "code",
      "metadata": {
        "id": "uRQnlXOH4OJC",
        "colab_type": "code",
        "colab": {}
      },
      "source": [
        "import pandas as pd"
      ],
      "execution_count": 0,
      "outputs": []
    },
    {
      "cell_type": "code",
      "metadata": {
        "id": "MZXQhHbR5iul",
        "colab_type": "code",
        "outputId": "25c0f735-3180-46cc-9303-64b468727db0",
        "colab": {
          "base_uri": "https://localhost:8080/",
          "height": 131
        }
      },
      "source": [
        "from google.colab import drive\n",
        "\n",
        "drive.mount('/content/gdrive')"
      ],
      "execution_count": 0,
      "outputs": [
        {
          "output_type": "stream",
          "text": [
            "Go to this URL in a browser: https://accounts.google.com/o/oauth2/auth?client_id=947318989803-6bn6qk8qdgf4n4g3pfee6491hc0brc4i.apps.googleusercontent.com&redirect_uri=urn%3aietf%3awg%3aoauth%3a2.0%3aoob&response_type=code&scope=email%20https%3a%2f%2fwww.googleapis.com%2fauth%2fdocs.test%20https%3a%2f%2fwww.googleapis.com%2fauth%2fdrive%20https%3a%2f%2fwww.googleapis.com%2fauth%2fdrive.photos.readonly%20https%3a%2f%2fwww.googleapis.com%2fauth%2fpeopleapi.readonly\n",
            "\n",
            "Enter your authorization code:\n",
            "··········\n",
            "Mounted at /content/gdrive\n"
          ],
          "name": "stdout"
        }
      ]
    },
    {
      "cell_type": "code",
      "metadata": {
        "id": "Neej0eb07C8t",
        "colab_type": "code",
        "outputId": "7b1534f4-d45a-4f94-dec2-264d3e66a067",
        "colab": {
          "base_uri": "https://localhost:8080/",
          "height": 36
        }
      },
      "source": [
        "cd /content/gdrive/My Drive/인공지능 수업 데이터 파일"
      ],
      "execution_count": 0,
      "outputs": [
        {
          "output_type": "stream",
          "text": [
            "/content/gdrive/My Drive/인공지능 수업 데이터 파일\n"
          ],
          "name": "stdout"
        }
      ]
    },
    {
      "cell_type": "code",
      "metadata": {
        "id": "an7uWuV_7Hch",
        "colab_type": "code",
        "outputId": "5cf332bb-070b-4a84-bf2b-6a77cbe5c657",
        "colab": {
          "base_uri": "https://localhost:8080/",
          "height": 111
        }
      },
      "source": [
        "pd.Series([1,3,5,7]) #1차원 데이터 = series"
      ],
      "execution_count": 0,
      "outputs": [
        {
          "output_type": "execute_result",
          "data": {
            "text/plain": [
              "0    1\n",
              "1    3\n",
              "2    5\n",
              "3    7\n",
              "dtype: int64"
            ]
          },
          "metadata": {
            "tags": []
          },
          "execution_count": 18
        }
      ]
    },
    {
      "cell_type": "code",
      "metadata": {
        "id": "DeXAP0SK7e4i",
        "colab_type": "code",
        "outputId": "6552677b-bbd6-4fc1-984d-6bbd9caaa3a2",
        "colab": {
          "base_uri": "https://localhost:8080/",
          "height": 73
        }
      },
      "source": [
        "pd.Series([[1,3], [5,7]]) #무조건 1차원으로 처리됨"
      ],
      "execution_count": 0,
      "outputs": [
        {
          "output_type": "execute_result",
          "data": {
            "text/plain": [
              "0    [1, 3]\n",
              "1    [5, 7]\n",
              "dtype: object"
            ]
          },
          "metadata": {
            "tags": []
          },
          "execution_count": 19
        }
      ]
    },
    {
      "cell_type": "code",
      "metadata": {
        "id": "mgWlY3MJ7rfZ",
        "colab_type": "code",
        "outputId": "805a93bd-c1c7-4c98-8021-bebd5aba30bc",
        "colab": {
          "base_uri": "https://localhost:8080/",
          "height": 110
        }
      },
      "source": [
        "pd.DataFrame([[1,3], [5,7]])"
      ],
      "execution_count": 0,
      "outputs": [
        {
          "output_type": "execute_result",
          "data": {
            "text/html": [
              "<div>\n",
              "<style scoped>\n",
              "    .dataframe tbody tr th:only-of-type {\n",
              "        vertical-align: middle;\n",
              "    }\n",
              "\n",
              "    .dataframe tbody tr th {\n",
              "        vertical-align: top;\n",
              "    }\n",
              "\n",
              "    .dataframe thead th {\n",
              "        text-align: right;\n",
              "    }\n",
              "</style>\n",
              "<table border=\"1\" class=\"dataframe\">\n",
              "  <thead>\n",
              "    <tr style=\"text-align: right;\">\n",
              "      <th></th>\n",
              "      <th>0</th>\n",
              "      <th>1</th>\n",
              "    </tr>\n",
              "  </thead>\n",
              "  <tbody>\n",
              "    <tr>\n",
              "      <th>0</th>\n",
              "      <td>1</td>\n",
              "      <td>3</td>\n",
              "    </tr>\n",
              "    <tr>\n",
              "      <th>1</th>\n",
              "      <td>5</td>\n",
              "      <td>7</td>\n",
              "    </tr>\n",
              "  </tbody>\n",
              "</table>\n",
              "</div>"
            ],
            "text/plain": [
              "   0  1\n",
              "0  1  3\n",
              "1  5  7"
            ]
          },
          "metadata": {
            "tags": []
          },
          "execution_count": 20
        }
      ]
    },
    {
      "cell_type": "code",
      "metadata": {
        "id": "zxYtGDdV8QIp",
        "colab_type": "code",
        "outputId": "3ffec721-bd81-47c7-8756-4eca6066352b",
        "colab": {
          "base_uri": "https://localhost:8080/",
          "height": 171
        }
      },
      "source": [
        "data = {'apples': [2,3,0,1], 'oranges': [0,3,7,2]} #column name 지정\n",
        "pd.DataFrame(data)"
      ],
      "execution_count": 0,
      "outputs": [
        {
          "output_type": "execute_result",
          "data": {
            "text/html": [
              "<div>\n",
              "<style scoped>\n",
              "    .dataframe tbody tr th:only-of-type {\n",
              "        vertical-align: middle;\n",
              "    }\n",
              "\n",
              "    .dataframe tbody tr th {\n",
              "        vertical-align: top;\n",
              "    }\n",
              "\n",
              "    .dataframe thead th {\n",
              "        text-align: right;\n",
              "    }\n",
              "</style>\n",
              "<table border=\"1\" class=\"dataframe\">\n",
              "  <thead>\n",
              "    <tr style=\"text-align: right;\">\n",
              "      <th></th>\n",
              "      <th>apples</th>\n",
              "      <th>oranges</th>\n",
              "    </tr>\n",
              "  </thead>\n",
              "  <tbody>\n",
              "    <tr>\n",
              "      <th>0</th>\n",
              "      <td>2</td>\n",
              "      <td>0</td>\n",
              "    </tr>\n",
              "    <tr>\n",
              "      <th>1</th>\n",
              "      <td>3</td>\n",
              "      <td>3</td>\n",
              "    </tr>\n",
              "    <tr>\n",
              "      <th>2</th>\n",
              "      <td>0</td>\n",
              "      <td>7</td>\n",
              "    </tr>\n",
              "    <tr>\n",
              "      <th>3</th>\n",
              "      <td>1</td>\n",
              "      <td>2</td>\n",
              "    </tr>\n",
              "  </tbody>\n",
              "</table>\n",
              "</div>"
            ],
            "text/plain": [
              "   apples  oranges\n",
              "0       2        0\n",
              "1       3        3\n",
              "2       0        7\n",
              "3       1        2"
            ]
          },
          "metadata": {
            "tags": []
          },
          "execution_count": 22
        }
      ]
    },
    {
      "cell_type": "code",
      "metadata": {
        "id": "A6FSnfl88eYM",
        "colab_type": "code",
        "outputId": "f89fdcdc-7a1d-4e90-e596-510196e18139",
        "colab": {
          "base_uri": "https://localhost:8080/",
          "height": 171
        }
      },
      "source": [
        "purchases = pd.DataFrame(data, index=['June', 'Robert', 'Lily', 'David']) #columns = ['x','y']로 이름 지정 가능\n",
        "purchases"
      ],
      "execution_count": 0,
      "outputs": [
        {
          "output_type": "execute_result",
          "data": {
            "text/html": [
              "<div>\n",
              "<style scoped>\n",
              "    .dataframe tbody tr th:only-of-type {\n",
              "        vertical-align: middle;\n",
              "    }\n",
              "\n",
              "    .dataframe tbody tr th {\n",
              "        vertical-align: top;\n",
              "    }\n",
              "\n",
              "    .dataframe thead th {\n",
              "        text-align: right;\n",
              "    }\n",
              "</style>\n",
              "<table border=\"1\" class=\"dataframe\">\n",
              "  <thead>\n",
              "    <tr style=\"text-align: right;\">\n",
              "      <th></th>\n",
              "      <th>apples</th>\n",
              "      <th>oranges</th>\n",
              "    </tr>\n",
              "  </thead>\n",
              "  <tbody>\n",
              "    <tr>\n",
              "      <th>June</th>\n",
              "      <td>2</td>\n",
              "      <td>0</td>\n",
              "    </tr>\n",
              "    <tr>\n",
              "      <th>Robert</th>\n",
              "      <td>3</td>\n",
              "      <td>3</td>\n",
              "    </tr>\n",
              "    <tr>\n",
              "      <th>Lily</th>\n",
              "      <td>0</td>\n",
              "      <td>7</td>\n",
              "    </tr>\n",
              "    <tr>\n",
              "      <th>David</th>\n",
              "      <td>1</td>\n",
              "      <td>2</td>\n",
              "    </tr>\n",
              "  </tbody>\n",
              "</table>\n",
              "</div>"
            ],
            "text/plain": [
              "        apples  oranges\n",
              "June         2        0\n",
              "Robert       3        3\n",
              "Lily         0        7\n",
              "David        1        2"
            ]
          },
          "metadata": {
            "tags": []
          },
          "execution_count": 23
        }
      ]
    },
    {
      "cell_type": "code",
      "metadata": {
        "id": "vsnb7MTWHVe-",
        "colab_type": "code",
        "outputId": "cbcc03a2-15df-4b5d-e580-dbb66c87bf4a",
        "colab": {
          "base_uri": "https://localhost:8080/",
          "height": 110
        }
      },
      "source": [
        "df = pd.DataFrame(np.array([[1,2,3], [4,5,6]]))\n",
        "df"
      ],
      "execution_count": 0,
      "outputs": [
        {
          "output_type": "execute_result",
          "data": {
            "text/html": [
              "<div>\n",
              "<style scoped>\n",
              "    .dataframe tbody tr th:only-of-type {\n",
              "        vertical-align: middle;\n",
              "    }\n",
              "\n",
              "    .dataframe tbody tr th {\n",
              "        vertical-align: top;\n",
              "    }\n",
              "\n",
              "    .dataframe thead th {\n",
              "        text-align: right;\n",
              "    }\n",
              "</style>\n",
              "<table border=\"1\" class=\"dataframe\">\n",
              "  <thead>\n",
              "    <tr style=\"text-align: right;\">\n",
              "      <th></th>\n",
              "      <th>0</th>\n",
              "      <th>1</th>\n",
              "      <th>2</th>\n",
              "    </tr>\n",
              "  </thead>\n",
              "  <tbody>\n",
              "    <tr>\n",
              "      <th>0</th>\n",
              "      <td>1</td>\n",
              "      <td>2</td>\n",
              "      <td>3</td>\n",
              "    </tr>\n",
              "    <tr>\n",
              "      <th>1</th>\n",
              "      <td>4</td>\n",
              "      <td>5</td>\n",
              "      <td>6</td>\n",
              "    </tr>\n",
              "  </tbody>\n",
              "</table>\n",
              "</div>"
            ],
            "text/plain": [
              "   0  1  2\n",
              "0  1  2  3\n",
              "1  4  5  6"
            ]
          },
          "metadata": {
            "tags": []
          },
          "execution_count": 24
        }
      ]
    },
    {
      "cell_type": "code",
      "metadata": {
        "id": "Gd8HLepLICiz",
        "colab_type": "code",
        "outputId": "f815939c-fa63-4eb8-de6a-f1e837db4799",
        "colab": {
          "base_uri": "https://localhost:8080/",
          "height": 36
        }
      },
      "source": [
        "df.shape"
      ],
      "execution_count": 0,
      "outputs": [
        {
          "output_type": "execute_result",
          "data": {
            "text/plain": [
              "(2, 3)"
            ]
          },
          "metadata": {
            "tags": []
          },
          "execution_count": 25
        }
      ]
    },
    {
      "cell_type": "code",
      "metadata": {
        "id": "9ZWdSSffIEHT",
        "colab_type": "code",
        "outputId": "ed7e9e7c-581c-43a4-fc87-171dd1303ece",
        "colab": {
          "base_uri": "https://localhost:8080/",
          "height": 36
        }
      },
      "source": [
        "df.columns"
      ],
      "execution_count": 0,
      "outputs": [
        {
          "output_type": "execute_result",
          "data": {
            "text/plain": [
              "RangeIndex(start=0, stop=3, step=1)"
            ]
          },
          "metadata": {
            "tags": []
          },
          "execution_count": 28
        }
      ]
    },
    {
      "cell_type": "code",
      "metadata": {
        "id": "WiL83pBfIP-9",
        "colab_type": "code",
        "outputId": "d21ee744-6b00-45a5-d82a-4e4ce9d94e79",
        "colab": {
          "base_uri": "https://localhost:8080/",
          "height": 36
        }
      },
      "source": [
        "df.index"
      ],
      "execution_count": 0,
      "outputs": [
        {
          "output_type": "execute_result",
          "data": {
            "text/plain": [
              "RangeIndex(start=0, stop=2, step=1)"
            ]
          },
          "metadata": {
            "tags": []
          },
          "execution_count": 29
        }
      ]
    },
    {
      "cell_type": "code",
      "metadata": {
        "id": "ggQTPTaYIFyF",
        "colab_type": "code",
        "outputId": "8a6470a8-1674-43f8-a490-ec73430982c3",
        "colab": {
          "base_uri": "https://localhost:8080/",
          "height": 36
        }
      },
      "source": [
        "len(df.index)"
      ],
      "execution_count": 0,
      "outputs": [
        {
          "output_type": "execute_result",
          "data": {
            "text/plain": [
              "2"
            ]
          },
          "metadata": {
            "tags": []
          },
          "execution_count": 27
        }
      ]
    },
    {
      "cell_type": "code",
      "metadata": {
        "id": "DtnYQi0oIMop",
        "colab_type": "code",
        "outputId": "f24e7edf-432e-4349-86ae-5251b63a58e9",
        "colab": {
          "base_uri": "https://localhost:8080/",
          "height": 662
        }
      },
      "source": [
        "randN_df = pd.DataFrame(np.random.randn(20,4), columns=['A', 'B', 'C', 'D'])\n",
        "randN_df"
      ],
      "execution_count": 0,
      "outputs": [
        {
          "output_type": "execute_result",
          "data": {
            "text/html": [
              "<div>\n",
              "<style scoped>\n",
              "    .dataframe tbody tr th:only-of-type {\n",
              "        vertical-align: middle;\n",
              "    }\n",
              "\n",
              "    .dataframe tbody tr th {\n",
              "        vertical-align: top;\n",
              "    }\n",
              "\n",
              "    .dataframe thead th {\n",
              "        text-align: right;\n",
              "    }\n",
              "</style>\n",
              "<table border=\"1\" class=\"dataframe\">\n",
              "  <thead>\n",
              "    <tr style=\"text-align: right;\">\n",
              "      <th></th>\n",
              "      <th>A</th>\n",
              "      <th>B</th>\n",
              "      <th>C</th>\n",
              "      <th>D</th>\n",
              "    </tr>\n",
              "  </thead>\n",
              "  <tbody>\n",
              "    <tr>\n",
              "      <th>0</th>\n",
              "      <td>-2.667902</td>\n",
              "      <td>0.107171</td>\n",
              "      <td>0.326302</td>\n",
              "      <td>0.247864</td>\n",
              "    </tr>\n",
              "    <tr>\n",
              "      <th>1</th>\n",
              "      <td>1.099182</td>\n",
              "      <td>1.180817</td>\n",
              "      <td>-0.254712</td>\n",
              "      <td>-0.911698</td>\n",
              "    </tr>\n",
              "    <tr>\n",
              "      <th>2</th>\n",
              "      <td>-1.017365</td>\n",
              "      <td>-0.311324</td>\n",
              "      <td>0.177094</td>\n",
              "      <td>1.566097</td>\n",
              "    </tr>\n",
              "    <tr>\n",
              "      <th>3</th>\n",
              "      <td>1.113041</td>\n",
              "      <td>0.376053</td>\n",
              "      <td>0.999066</td>\n",
              "      <td>0.027204</td>\n",
              "    </tr>\n",
              "    <tr>\n",
              "      <th>4</th>\n",
              "      <td>0.106446</td>\n",
              "      <td>-1.215622</td>\n",
              "      <td>1.814856</td>\n",
              "      <td>-1.296096</td>\n",
              "    </tr>\n",
              "    <tr>\n",
              "      <th>5</th>\n",
              "      <td>0.114373</td>\n",
              "      <td>-0.820231</td>\n",
              "      <td>1.674249</td>\n",
              "      <td>-0.924087</td>\n",
              "    </tr>\n",
              "    <tr>\n",
              "      <th>6</th>\n",
              "      <td>1.093940</td>\n",
              "      <td>-0.563261</td>\n",
              "      <td>0.132715</td>\n",
              "      <td>-0.356101</td>\n",
              "    </tr>\n",
              "    <tr>\n",
              "      <th>7</th>\n",
              "      <td>1.013867</td>\n",
              "      <td>-0.088105</td>\n",
              "      <td>0.891445</td>\n",
              "      <td>0.890722</td>\n",
              "    </tr>\n",
              "    <tr>\n",
              "      <th>8</th>\n",
              "      <td>-1.206177</td>\n",
              "      <td>1.170708</td>\n",
              "      <td>-0.586565</td>\n",
              "      <td>0.233674</td>\n",
              "    </tr>\n",
              "    <tr>\n",
              "      <th>9</th>\n",
              "      <td>-1.082564</td>\n",
              "      <td>-0.056304</td>\n",
              "      <td>-0.808619</td>\n",
              "      <td>-2.853385</td>\n",
              "    </tr>\n",
              "    <tr>\n",
              "      <th>10</th>\n",
              "      <td>1.027371</td>\n",
              "      <td>-0.420410</td>\n",
              "      <td>0.618694</td>\n",
              "      <td>-0.966938</td>\n",
              "    </tr>\n",
              "    <tr>\n",
              "      <th>11</th>\n",
              "      <td>-1.084620</td>\n",
              "      <td>0.502208</td>\n",
              "      <td>1.233401</td>\n",
              "      <td>-0.552545</td>\n",
              "    </tr>\n",
              "    <tr>\n",
              "      <th>12</th>\n",
              "      <td>0.328806</td>\n",
              "      <td>0.750155</td>\n",
              "      <td>-0.455683</td>\n",
              "      <td>0.053590</td>\n",
              "    </tr>\n",
              "    <tr>\n",
              "      <th>13</th>\n",
              "      <td>-0.969942</td>\n",
              "      <td>-0.740686</td>\n",
              "      <td>1.570959</td>\n",
              "      <td>-0.822247</td>\n",
              "    </tr>\n",
              "    <tr>\n",
              "      <th>14</th>\n",
              "      <td>-0.696084</td>\n",
              "      <td>-0.308212</td>\n",
              "      <td>0.062280</td>\n",
              "      <td>0.014635</td>\n",
              "    </tr>\n",
              "    <tr>\n",
              "      <th>15</th>\n",
              "      <td>0.248615</td>\n",
              "      <td>-0.591087</td>\n",
              "      <td>-0.146930</td>\n",
              "      <td>1.435026</td>\n",
              "    </tr>\n",
              "    <tr>\n",
              "      <th>16</th>\n",
              "      <td>-1.292708</td>\n",
              "      <td>0.005011</td>\n",
              "      <td>-1.622964</td>\n",
              "      <td>1.720045</td>\n",
              "    </tr>\n",
              "    <tr>\n",
              "      <th>17</th>\n",
              "      <td>0.974012</td>\n",
              "      <td>0.656183</td>\n",
              "      <td>1.134781</td>\n",
              "      <td>-0.215372</td>\n",
              "    </tr>\n",
              "    <tr>\n",
              "      <th>18</th>\n",
              "      <td>-0.290120</td>\n",
              "      <td>-1.338854</td>\n",
              "      <td>1.045951</td>\n",
              "      <td>1.183692</td>\n",
              "    </tr>\n",
              "    <tr>\n",
              "      <th>19</th>\n",
              "      <td>-1.044745</td>\n",
              "      <td>-1.224109</td>\n",
              "      <td>-0.179819</td>\n",
              "      <td>-1.247444</td>\n",
              "    </tr>\n",
              "  </tbody>\n",
              "</table>\n",
              "</div>"
            ],
            "text/plain": [
              "           A         B         C         D\n",
              "0  -2.667902  0.107171  0.326302  0.247864\n",
              "1   1.099182  1.180817 -0.254712 -0.911698\n",
              "2  -1.017365 -0.311324  0.177094  1.566097\n",
              "3   1.113041  0.376053  0.999066  0.027204\n",
              "4   0.106446 -1.215622  1.814856 -1.296096\n",
              "5   0.114373 -0.820231  1.674249 -0.924087\n",
              "6   1.093940 -0.563261  0.132715 -0.356101\n",
              "7   1.013867 -0.088105  0.891445  0.890722\n",
              "8  -1.206177  1.170708 -0.586565  0.233674\n",
              "9  -1.082564 -0.056304 -0.808619 -2.853385\n",
              "10  1.027371 -0.420410  0.618694 -0.966938\n",
              "11 -1.084620  0.502208  1.233401 -0.552545\n",
              "12  0.328806  0.750155 -0.455683  0.053590\n",
              "13 -0.969942 -0.740686  1.570959 -0.822247\n",
              "14 -0.696084 -0.308212  0.062280  0.014635\n",
              "15  0.248615 -0.591087 -0.146930  1.435026\n",
              "16 -1.292708  0.005011 -1.622964  1.720045\n",
              "17  0.974012  0.656183  1.134781 -0.215372\n",
              "18 -0.290120 -1.338854  1.045951  1.183692\n",
              "19 -1.044745 -1.224109 -0.179819 -1.247444"
            ]
          },
          "metadata": {
            "tags": []
          },
          "execution_count": 30
        }
      ]
    },
    {
      "cell_type": "code",
      "metadata": {
        "id": "_zoPRX-KI6aO",
        "colab_type": "code",
        "outputId": "b28a0a84-bfc8-4435-b0c0-8abc3e107f86",
        "colab": {
          "base_uri": "https://localhost:8080/",
          "height": 202
        }
      },
      "source": [
        "randN_df[(randN_df.index>10) & (randN_df.index<16)] #괄호 반드시 넣어야 함!"
      ],
      "execution_count": 0,
      "outputs": [
        {
          "output_type": "execute_result",
          "data": {
            "text/html": [
              "<div>\n",
              "<style scoped>\n",
              "    .dataframe tbody tr th:only-of-type {\n",
              "        vertical-align: middle;\n",
              "    }\n",
              "\n",
              "    .dataframe tbody tr th {\n",
              "        vertical-align: top;\n",
              "    }\n",
              "\n",
              "    .dataframe thead th {\n",
              "        text-align: right;\n",
              "    }\n",
              "</style>\n",
              "<table border=\"1\" class=\"dataframe\">\n",
              "  <thead>\n",
              "    <tr style=\"text-align: right;\">\n",
              "      <th></th>\n",
              "      <th>A</th>\n",
              "      <th>B</th>\n",
              "      <th>C</th>\n",
              "      <th>D</th>\n",
              "    </tr>\n",
              "  </thead>\n",
              "  <tbody>\n",
              "    <tr>\n",
              "      <th>11</th>\n",
              "      <td>-1.084620</td>\n",
              "      <td>0.502208</td>\n",
              "      <td>1.233401</td>\n",
              "      <td>-0.552545</td>\n",
              "    </tr>\n",
              "    <tr>\n",
              "      <th>12</th>\n",
              "      <td>0.328806</td>\n",
              "      <td>0.750155</td>\n",
              "      <td>-0.455683</td>\n",
              "      <td>0.053590</td>\n",
              "    </tr>\n",
              "    <tr>\n",
              "      <th>13</th>\n",
              "      <td>-0.969942</td>\n",
              "      <td>-0.740686</td>\n",
              "      <td>1.570959</td>\n",
              "      <td>-0.822247</td>\n",
              "    </tr>\n",
              "    <tr>\n",
              "      <th>14</th>\n",
              "      <td>-0.696084</td>\n",
              "      <td>-0.308212</td>\n",
              "      <td>0.062280</td>\n",
              "      <td>0.014635</td>\n",
              "    </tr>\n",
              "    <tr>\n",
              "      <th>15</th>\n",
              "      <td>0.248615</td>\n",
              "      <td>-0.591087</td>\n",
              "      <td>-0.146930</td>\n",
              "      <td>1.435026</td>\n",
              "    </tr>\n",
              "  </tbody>\n",
              "</table>\n",
              "</div>"
            ],
            "text/plain": [
              "           A         B         C         D\n",
              "11 -1.084620  0.502208  1.233401 -0.552545\n",
              "12  0.328806  0.750155 -0.455683  0.053590\n",
              "13 -0.969942 -0.740686  1.570959 -0.822247\n",
              "14 -0.696084 -0.308212  0.062280  0.014635\n",
              "15  0.248615 -0.591087 -0.146930  1.435026"
            ]
          },
          "metadata": {
            "tags": []
          },
          "execution_count": 32
        }
      ]
    },
    {
      "cell_type": "code",
      "metadata": {
        "id": "cz1fANjtJWTh",
        "colab_type": "code",
        "outputId": "779aeba6-b86f-4566-8b98-034a33a1c2a7",
        "colab": {
          "base_uri": "https://localhost:8080/",
          "height": 202
        }
      },
      "source": [
        "randN_df.head()"
      ],
      "execution_count": 0,
      "outputs": [
        {
          "output_type": "execute_result",
          "data": {
            "text/html": [
              "<div>\n",
              "<style scoped>\n",
              "    .dataframe tbody tr th:only-of-type {\n",
              "        vertical-align: middle;\n",
              "    }\n",
              "\n",
              "    .dataframe tbody tr th {\n",
              "        vertical-align: top;\n",
              "    }\n",
              "\n",
              "    .dataframe thead th {\n",
              "        text-align: right;\n",
              "    }\n",
              "</style>\n",
              "<table border=\"1\" class=\"dataframe\">\n",
              "  <thead>\n",
              "    <tr style=\"text-align: right;\">\n",
              "      <th></th>\n",
              "      <th>A</th>\n",
              "      <th>B</th>\n",
              "      <th>C</th>\n",
              "      <th>D</th>\n",
              "    </tr>\n",
              "  </thead>\n",
              "  <tbody>\n",
              "    <tr>\n",
              "      <th>0</th>\n",
              "      <td>-2.667902</td>\n",
              "      <td>0.107171</td>\n",
              "      <td>0.326302</td>\n",
              "      <td>0.247864</td>\n",
              "    </tr>\n",
              "    <tr>\n",
              "      <th>1</th>\n",
              "      <td>1.099182</td>\n",
              "      <td>1.180817</td>\n",
              "      <td>-0.254712</td>\n",
              "      <td>-0.911698</td>\n",
              "    </tr>\n",
              "    <tr>\n",
              "      <th>2</th>\n",
              "      <td>-1.017365</td>\n",
              "      <td>-0.311324</td>\n",
              "      <td>0.177094</td>\n",
              "      <td>1.566097</td>\n",
              "    </tr>\n",
              "    <tr>\n",
              "      <th>3</th>\n",
              "      <td>1.113041</td>\n",
              "      <td>0.376053</td>\n",
              "      <td>0.999066</td>\n",
              "      <td>0.027204</td>\n",
              "    </tr>\n",
              "    <tr>\n",
              "      <th>4</th>\n",
              "      <td>0.106446</td>\n",
              "      <td>-1.215622</td>\n",
              "      <td>1.814856</td>\n",
              "      <td>-1.296096</td>\n",
              "    </tr>\n",
              "  </tbody>\n",
              "</table>\n",
              "</div>"
            ],
            "text/plain": [
              "          A         B         C         D\n",
              "0 -2.667902  0.107171  0.326302  0.247864\n",
              "1  1.099182  1.180817 -0.254712 -0.911698\n",
              "2 -1.017365 -0.311324  0.177094  1.566097\n",
              "3  1.113041  0.376053  0.999066  0.027204\n",
              "4  0.106446 -1.215622  1.814856 -1.296096"
            ]
          },
          "metadata": {
            "tags": []
          },
          "execution_count": 33
        }
      ]
    },
    {
      "cell_type": "code",
      "metadata": {
        "id": "ahuC_tiFJgMT",
        "colab_type": "code",
        "outputId": "7f1ae21a-fe1a-42ad-d7c2-51a5cc7d0c47",
        "colab": {
          "base_uri": "https://localhost:8080/",
          "height": 202
        }
      },
      "source": [
        "randN_df.tail()"
      ],
      "execution_count": 0,
      "outputs": [
        {
          "output_type": "execute_result",
          "data": {
            "text/html": [
              "<div>\n",
              "<style scoped>\n",
              "    .dataframe tbody tr th:only-of-type {\n",
              "        vertical-align: middle;\n",
              "    }\n",
              "\n",
              "    .dataframe tbody tr th {\n",
              "        vertical-align: top;\n",
              "    }\n",
              "\n",
              "    .dataframe thead th {\n",
              "        text-align: right;\n",
              "    }\n",
              "</style>\n",
              "<table border=\"1\" class=\"dataframe\">\n",
              "  <thead>\n",
              "    <tr style=\"text-align: right;\">\n",
              "      <th></th>\n",
              "      <th>A</th>\n",
              "      <th>B</th>\n",
              "      <th>C</th>\n",
              "      <th>D</th>\n",
              "    </tr>\n",
              "  </thead>\n",
              "  <tbody>\n",
              "    <tr>\n",
              "      <th>15</th>\n",
              "      <td>0.248615</td>\n",
              "      <td>-0.591087</td>\n",
              "      <td>-0.146930</td>\n",
              "      <td>1.435026</td>\n",
              "    </tr>\n",
              "    <tr>\n",
              "      <th>16</th>\n",
              "      <td>-1.292708</td>\n",
              "      <td>0.005011</td>\n",
              "      <td>-1.622964</td>\n",
              "      <td>1.720045</td>\n",
              "    </tr>\n",
              "    <tr>\n",
              "      <th>17</th>\n",
              "      <td>0.974012</td>\n",
              "      <td>0.656183</td>\n",
              "      <td>1.134781</td>\n",
              "      <td>-0.215372</td>\n",
              "    </tr>\n",
              "    <tr>\n",
              "      <th>18</th>\n",
              "      <td>-0.290120</td>\n",
              "      <td>-1.338854</td>\n",
              "      <td>1.045951</td>\n",
              "      <td>1.183692</td>\n",
              "    </tr>\n",
              "    <tr>\n",
              "      <th>19</th>\n",
              "      <td>-1.044745</td>\n",
              "      <td>-1.224109</td>\n",
              "      <td>-0.179819</td>\n",
              "      <td>-1.247444</td>\n",
              "    </tr>\n",
              "  </tbody>\n",
              "</table>\n",
              "</div>"
            ],
            "text/plain": [
              "           A         B         C         D\n",
              "15  0.248615 -0.591087 -0.146930  1.435026\n",
              "16 -1.292708  0.005011 -1.622964  1.720045\n",
              "17  0.974012  0.656183  1.134781 -0.215372\n",
              "18 -0.290120 -1.338854  1.045951  1.183692\n",
              "19 -1.044745 -1.224109 -0.179819 -1.247444"
            ]
          },
          "metadata": {
            "tags": []
          },
          "execution_count": 34
        }
      ]
    },
    {
      "cell_type": "code",
      "metadata": {
        "id": "PITHdJf5JvFl",
        "colab_type": "code",
        "outputId": "84013a91-0b9b-4205-c42e-d967caf8f42d",
        "colab": {
          "base_uri": "https://localhost:8080/",
          "height": 36
        }
      },
      "source": [
        "randN_df.columns"
      ],
      "execution_count": 0,
      "outputs": [
        {
          "output_type": "execute_result",
          "data": {
            "text/plain": [
              "Index(['A', 'B', 'C', 'D'], dtype='object')"
            ]
          },
          "metadata": {
            "tags": []
          },
          "execution_count": 35
        }
      ]
    },
    {
      "cell_type": "code",
      "metadata": {
        "id": "jdSb1oAwJxbS",
        "colab_type": "code",
        "outputId": "c08ac612-35fc-4bed-feb6-5c23b5f70a19",
        "colab": {
          "base_uri": "https://localhost:8080/",
          "height": 294
        }
      },
      "source": [
        "randN_df.describe()"
      ],
      "execution_count": 0,
      "outputs": [
        {
          "output_type": "execute_result",
          "data": {
            "text/html": [
              "<div>\n",
              "<style scoped>\n",
              "    .dataframe tbody tr th:only-of-type {\n",
              "        vertical-align: middle;\n",
              "    }\n",
              "\n",
              "    .dataframe tbody tr th {\n",
              "        vertical-align: top;\n",
              "    }\n",
              "\n",
              "    .dataframe thead th {\n",
              "        text-align: right;\n",
              "    }\n",
              "</style>\n",
              "<table border=\"1\" class=\"dataframe\">\n",
              "  <thead>\n",
              "    <tr style=\"text-align: right;\">\n",
              "      <th></th>\n",
              "      <th>A</th>\n",
              "      <th>B</th>\n",
              "      <th>C</th>\n",
              "      <th>D</th>\n",
              "    </tr>\n",
              "  </thead>\n",
              "  <tbody>\n",
              "    <tr>\n",
              "      <th>count</th>\n",
              "      <td>20.000000</td>\n",
              "      <td>20.000000</td>\n",
              "      <td>20.000000</td>\n",
              "      <td>20.000000</td>\n",
              "    </tr>\n",
              "    <tr>\n",
              "      <th>mean</th>\n",
              "      <td>-0.211629</td>\n",
              "      <td>-0.146495</td>\n",
              "      <td>0.381325</td>\n",
              "      <td>-0.138668</td>\n",
              "    </tr>\n",
              "    <tr>\n",
              "      <th>std</th>\n",
              "      <td>1.080996</td>\n",
              "      <td>0.752905</td>\n",
              "      <td>0.913434</td>\n",
              "      <td>1.136773</td>\n",
              "    </tr>\n",
              "    <tr>\n",
              "      <th>min</th>\n",
              "      <td>-2.667902</td>\n",
              "      <td>-1.338854</td>\n",
              "      <td>-1.622964</td>\n",
              "      <td>-2.853385</td>\n",
              "    </tr>\n",
              "    <tr>\n",
              "      <th>25%</th>\n",
              "      <td>-1.054200</td>\n",
              "      <td>-0.628487</td>\n",
              "      <td>-0.198542</td>\n",
              "      <td>-0.914796</td>\n",
              "    </tr>\n",
              "    <tr>\n",
              "      <th>50%</th>\n",
              "      <td>-0.091837</td>\n",
              "      <td>-0.198158</td>\n",
              "      <td>0.251698</td>\n",
              "      <td>-0.100369</td>\n",
              "    </tr>\n",
              "    <tr>\n",
              "      <th>75%</th>\n",
              "      <td>0.983976</td>\n",
              "      <td>0.407591</td>\n",
              "      <td>1.068159</td>\n",
              "      <td>0.408579</td>\n",
              "    </tr>\n",
              "    <tr>\n",
              "      <th>max</th>\n",
              "      <td>1.113041</td>\n",
              "      <td>1.180817</td>\n",
              "      <td>1.814856</td>\n",
              "      <td>1.720045</td>\n",
              "    </tr>\n",
              "  </tbody>\n",
              "</table>\n",
              "</div>"
            ],
            "text/plain": [
              "               A          B          C          D\n",
              "count  20.000000  20.000000  20.000000  20.000000\n",
              "mean   -0.211629  -0.146495   0.381325  -0.138668\n",
              "std     1.080996   0.752905   0.913434   1.136773\n",
              "min    -2.667902  -1.338854  -1.622964  -2.853385\n",
              "25%    -1.054200  -0.628487  -0.198542  -0.914796\n",
              "50%    -0.091837  -0.198158   0.251698  -0.100369\n",
              "75%     0.983976   0.407591   1.068159   0.408579\n",
              "max     1.113041   1.180817   1.814856   1.720045"
            ]
          },
          "metadata": {
            "tags": []
          },
          "execution_count": 36
        }
      ]
    },
    {
      "cell_type": "code",
      "metadata": {
        "id": "nhmNEml6J9Y3",
        "colab_type": "code",
        "outputId": "d952ec04-01b4-49bb-bed3-153bda891806",
        "colab": {
          "base_uri": "https://localhost:8080/",
          "height": 171
        }
      },
      "source": [
        "purchase_df = pd.read_csv(\"purchases.csv\")\n",
        "purchase_df"
      ],
      "execution_count": 0,
      "outputs": [
        {
          "output_type": "execute_result",
          "data": {
            "text/html": [
              "<div>\n",
              "<style scoped>\n",
              "    .dataframe tbody tr th:only-of-type {\n",
              "        vertical-align: middle;\n",
              "    }\n",
              "\n",
              "    .dataframe tbody tr th {\n",
              "        vertical-align: top;\n",
              "    }\n",
              "\n",
              "    .dataframe thead th {\n",
              "        text-align: right;\n",
              "    }\n",
              "</style>\n",
              "<table border=\"1\" class=\"dataframe\">\n",
              "  <thead>\n",
              "    <tr style=\"text-align: right;\">\n",
              "      <th></th>\n",
              "      <th>Unnamed: 0</th>\n",
              "      <th>apples</th>\n",
              "      <th>oranges</th>\n",
              "    </tr>\n",
              "  </thead>\n",
              "  <tbody>\n",
              "    <tr>\n",
              "      <th>0</th>\n",
              "      <td>June</td>\n",
              "      <td>3</td>\n",
              "      <td>0</td>\n",
              "    </tr>\n",
              "    <tr>\n",
              "      <th>1</th>\n",
              "      <td>Robert</td>\n",
              "      <td>2</td>\n",
              "      <td>3</td>\n",
              "    </tr>\n",
              "    <tr>\n",
              "      <th>2</th>\n",
              "      <td>Lily</td>\n",
              "      <td>0</td>\n",
              "      <td>7</td>\n",
              "    </tr>\n",
              "    <tr>\n",
              "      <th>3</th>\n",
              "      <td>David</td>\n",
              "      <td>1</td>\n",
              "      <td>2</td>\n",
              "    </tr>\n",
              "  </tbody>\n",
              "</table>\n",
              "</div>"
            ],
            "text/plain": [
              "  Unnamed: 0  apples  oranges\n",
              "0       June       3        0\n",
              "1     Robert       2        3\n",
              "2       Lily       0        7\n",
              "3      David       1        2"
            ]
          },
          "metadata": {
            "tags": []
          },
          "execution_count": 39
        }
      ]
    },
    {
      "cell_type": "code",
      "metadata": {
        "id": "mrvl4Kg8KJnd",
        "colab_type": "code",
        "outputId": "3f3e0c8e-e2d2-4d81-88e4-e80b4249d324",
        "colab": {
          "base_uri": "https://localhost:8080/",
          "height": 171
        }
      },
      "source": [
        "purchase_df2 = pd.read_json(\"purchases.json\") #json 파일\n",
        "purchase_df2"
      ],
      "execution_count": 0,
      "outputs": [
        {
          "output_type": "execute_result",
          "data": {
            "text/html": [
              "<div>\n",
              "<style scoped>\n",
              "    .dataframe tbody tr th:only-of-type {\n",
              "        vertical-align: middle;\n",
              "    }\n",
              "\n",
              "    .dataframe tbody tr th {\n",
              "        vertical-align: top;\n",
              "    }\n",
              "\n",
              "    .dataframe thead th {\n",
              "        text-align: right;\n",
              "    }\n",
              "</style>\n",
              "<table border=\"1\" class=\"dataframe\">\n",
              "  <thead>\n",
              "    <tr style=\"text-align: right;\">\n",
              "      <th></th>\n",
              "      <th>apples</th>\n",
              "      <th>oranges</th>\n",
              "    </tr>\n",
              "  </thead>\n",
              "  <tbody>\n",
              "    <tr>\n",
              "      <th>June</th>\n",
              "      <td>3</td>\n",
              "      <td>0</td>\n",
              "    </tr>\n",
              "    <tr>\n",
              "      <th>Robert</th>\n",
              "      <td>2</td>\n",
              "      <td>3</td>\n",
              "    </tr>\n",
              "    <tr>\n",
              "      <th>Lily</th>\n",
              "      <td>0</td>\n",
              "      <td>7</td>\n",
              "    </tr>\n",
              "    <tr>\n",
              "      <th>David</th>\n",
              "      <td>1</td>\n",
              "      <td>2</td>\n",
              "    </tr>\n",
              "  </tbody>\n",
              "</table>\n",
              "</div>"
            ],
            "text/plain": [
              "        apples  oranges\n",
              "June         3        0\n",
              "Robert       2        3\n",
              "Lily         0        7\n",
              "David        1        2"
            ]
          },
          "metadata": {
            "tags": []
          },
          "execution_count": 40
        }
      ]
    },
    {
      "cell_type": "code",
      "metadata": {
        "id": "lbtvyH8VPlSU",
        "colab_type": "code",
        "outputId": "7ee47e9b-a125-44c1-8918-90f48a570d83",
        "colab": {
          "base_uri": "https://localhost:8080/",
          "height": 294
        }
      },
      "source": [
        "dates = pd.date_range('1/1/2000', periods=8) #날짜 (8일간)\n",
        "date = pd.DataFrame(np.random.randn(8, 4),index=dates, columns=['A', 'B', 'C', 'D'])\n",
        "date"
      ],
      "execution_count": 0,
      "outputs": [
        {
          "output_type": "execute_result",
          "data": {
            "text/html": [
              "<div>\n",
              "<style scoped>\n",
              "    .dataframe tbody tr th:only-of-type {\n",
              "        vertical-align: middle;\n",
              "    }\n",
              "\n",
              "    .dataframe tbody tr th {\n",
              "        vertical-align: top;\n",
              "    }\n",
              "\n",
              "    .dataframe thead th {\n",
              "        text-align: right;\n",
              "    }\n",
              "</style>\n",
              "<table border=\"1\" class=\"dataframe\">\n",
              "  <thead>\n",
              "    <tr style=\"text-align: right;\">\n",
              "      <th></th>\n",
              "      <th>A</th>\n",
              "      <th>B</th>\n",
              "      <th>C</th>\n",
              "      <th>D</th>\n",
              "    </tr>\n",
              "  </thead>\n",
              "  <tbody>\n",
              "    <tr>\n",
              "      <th>2000-01-01</th>\n",
              "      <td>-0.270333</td>\n",
              "      <td>-0.526504</td>\n",
              "      <td>-0.774340</td>\n",
              "      <td>0.305174</td>\n",
              "    </tr>\n",
              "    <tr>\n",
              "      <th>2000-01-02</th>\n",
              "      <td>2.952777</td>\n",
              "      <td>1.018967</td>\n",
              "      <td>0.889887</td>\n",
              "      <td>-1.866299</td>\n",
              "    </tr>\n",
              "    <tr>\n",
              "      <th>2000-01-03</th>\n",
              "      <td>-0.160062</td>\n",
              "      <td>1.117014</td>\n",
              "      <td>-0.372769</td>\n",
              "      <td>-0.310106</td>\n",
              "    </tr>\n",
              "    <tr>\n",
              "      <th>2000-01-04</th>\n",
              "      <td>0.828140</td>\n",
              "      <td>-0.733745</td>\n",
              "      <td>-0.851166</td>\n",
              "      <td>1.798959</td>\n",
              "    </tr>\n",
              "    <tr>\n",
              "      <th>2000-01-05</th>\n",
              "      <td>0.144105</td>\n",
              "      <td>-0.368230</td>\n",
              "      <td>-1.130707</td>\n",
              "      <td>0.580150</td>\n",
              "    </tr>\n",
              "    <tr>\n",
              "      <th>2000-01-06</th>\n",
              "      <td>0.291185</td>\n",
              "      <td>0.953620</td>\n",
              "      <td>0.553284</td>\n",
              "      <td>1.662272</td>\n",
              "    </tr>\n",
              "    <tr>\n",
              "      <th>2000-01-07</th>\n",
              "      <td>0.146942</td>\n",
              "      <td>1.216723</td>\n",
              "      <td>-0.222709</td>\n",
              "      <td>0.554100</td>\n",
              "    </tr>\n",
              "    <tr>\n",
              "      <th>2000-01-08</th>\n",
              "      <td>0.252882</td>\n",
              "      <td>0.144732</td>\n",
              "      <td>-0.662682</td>\n",
              "      <td>-1.385814</td>\n",
              "    </tr>\n",
              "  </tbody>\n",
              "</table>\n",
              "</div>"
            ],
            "text/plain": [
              "                   A         B         C         D\n",
              "2000-01-01 -0.270333 -0.526504 -0.774340  0.305174\n",
              "2000-01-02  2.952777  1.018967  0.889887 -1.866299\n",
              "2000-01-03 -0.160062  1.117014 -0.372769 -0.310106\n",
              "2000-01-04  0.828140 -0.733745 -0.851166  1.798959\n",
              "2000-01-05  0.144105 -0.368230 -1.130707  0.580150\n",
              "2000-01-06  0.291185  0.953620  0.553284  1.662272\n",
              "2000-01-07  0.146942  1.216723 -0.222709  0.554100\n",
              "2000-01-08  0.252882  0.144732 -0.662682 -1.385814"
            ]
          },
          "metadata": {
            "tags": []
          },
          "execution_count": 49
        }
      ]
    },
    {
      "cell_type": "markdown",
      "metadata": {
        "id": "UpqoFVchLV4K",
        "colab_type": "text"
      },
      "source": [
        "3. Matplotlib"
      ]
    },
    {
      "cell_type": "code",
      "metadata": {
        "id": "F3jOIervKUcS",
        "colab_type": "code",
        "colab": {}
      },
      "source": [
        "import matplotlib.pyplot as plt"
      ],
      "execution_count": 0,
      "outputs": []
    },
    {
      "cell_type": "code",
      "metadata": {
        "id": "h9JgiU1tLUvr",
        "colab_type": "code",
        "outputId": "667206a2-3c50-4915-db57-99b099ecda43",
        "colab": {
          "base_uri": "https://localhost:8080/",
          "height": 284
        }
      },
      "source": [
        "plt.plot([1,2,3,4])"
      ],
      "execution_count": 0,
      "outputs": [
        {
          "output_type": "execute_result",
          "data": {
            "text/plain": [
              "[<matplotlib.lines.Line2D at 0x7f6234d36d30>]"
            ]
          },
          "metadata": {
            "tags": []
          },
          "execution_count": 42
        },
        {
          "output_type": "display_data",
          "data": {
            "image/png": "[encoded data removed]",
            "text/plain": [
              "<Figure size 432x288 with 1 Axes>"
            ]
          },
          "metadata": {
            "tags": []
          }
        }
      ]
    },
    {
      "cell_type": "code",
      "metadata": {
        "id": "jM3AhcRpLc7o",
        "colab_type": "code",
        "outputId": "48ea5e2f-afda-4f91-af88-226f2fa6f57a",
        "colab": {
          "base_uri": "https://localhost:8080/",
          "height": 288
        }
      },
      "source": [
        "plt.ylabel('my label')"
      ],
      "execution_count": 0,
      "outputs": [
        {
          "output_type": "execute_result",
          "data": {
            "text/plain": [
              "Text(0, 0.5, 'my label')"
            ]
          },
          "metadata": {
            "tags": []
          },
          "execution_count": 44
        },
        {
          "output_type": "display_data",
          "data": {
            "image/png": "[encoded data removed]",
            "text/plain": [
              "<Figure size 432x288 with 1 Axes>"
            ]
          },
          "metadata": {
            "tags": []
          }
        }
      ]
    },
    {
      "cell_type": "code",
      "metadata": {
        "id": "17Z2qXJyMAq_",
        "colab_type": "code",
        "outputId": "8121416b-63f7-4be2-afc8-2bf4c677fd37",
        "colab": {
          "base_uri": "https://localhost:8080/",
          "height": 279
        }
      },
      "source": [
        "import numpy as np\n",
        "data = {'a': np.arange(50), #0~49, 1차원 배열\n",
        "        'c': np.random.randint(0, 50, 50), #low, high, size (0~50까지 범위 내 50개의 int 난수 생성, (50,)1차원 배열)\n",
        "        'd': np.random.randn(50)} #(50,) 1차원 배열\n",
        "data['b'] = data['a'] + 10 * np.random.randn(50)\n",
        "data['d'] = np.abs(data['d']) * 100 #abs = absolute (절대값)\n",
        "\n",
        "plt.scatter('a', 'b', c='c', s='d', data=data,) #x, y, c=color, s=scalar of array like (n,)\n",
        "plt.xlabel('entry a')\n",
        "plt.ylabel('entry b')\n",
        "plt.show()"
      ],
      "execution_count": 0,
      "outputs": [
        {
          "output_type": "display_data",
          "data": {
            "image/png": "[encoded data removed]",
            "text/plain": [
              "<Figure size 432x288 with 1 Axes>"
            ]
          },
          "metadata": {
            "tags": []
          }
        }
      ]
    },
    {
      "cell_type": "code",
      "metadata": {
        "id": "CcDsuCu3N67C",
        "colab_type": "code",
        "outputId": "541cbea7-82ab-42fb-f15f-0319134048fb",
        "colab": {
          "base_uri": "https://localhost:8080/",
          "height": 381
        }
      },
      "source": [
        "from tkinter import Tk, Label, Button\n",
        "\n",
        "class MyFirstGUI:\n",
        "  def __init__(self, master):\n",
        "    self.master = master\n",
        "    master.title(\"A simple GUI\")\n",
        "\n",
        "    self.label = Label(master, text=\"This is our first GUI!\")\n",
        "    self.label.pack()\n",
        "\n",
        "    self.greet_button = Button(master, text=\"Hello\", command=self.greet)\n",
        "    self.greet_button.pack()\n",
        "\n",
        "    self.close_button = Button(master, text=\"Close\", command=master.quit)\n",
        "    self.close_button.pack()\n",
        "\n",
        "  def greet(self):\n",
        "    print(\"Hello, World!\")\n",
        "\n",
        "root = Tk()\n",
        "my_gui = MyFirstGUI(root)\n",
        "root.mainloop()\n",
        "\n",
        "#colab에서는 gui가 안되는듯..."
      ],
      "execution_count": 0,
      "outputs": [
        {
          "output_type": "error",
          "ename": "TclError",
          "evalue": "ignored",
          "traceback": [
            "\u001b[0;31m---------------------------------------------------------------------------\u001b[0m",
            "\u001b[0;31mTclError\u001b[0m                                  Traceback (most recent call last)",
            "\u001b[0;32m<ipython-input-51-1b7ad2d354ea>\u001b[0m in \u001b[0;36m<module>\u001b[0;34m()\u001b[0m\n\u001b[1;32m     18\u001b[0m     \u001b[0mprint\u001b[0m\u001b[0;34m(\u001b[0m\u001b[0;34m\"Hello, World!\"\u001b[0m\u001b[0;34m)\u001b[0m\u001b[0;34m\u001b[0m\u001b[0;34m\u001b[0m\u001b[0m\n\u001b[1;32m     19\u001b[0m \u001b[0;34m\u001b[0m\u001b[0m\n\u001b[0;32m---> 20\u001b[0;31m \u001b[0mroot\u001b[0m \u001b[0;34m=\u001b[0m \u001b[0mTk\u001b[0m\u001b[0;34m(\u001b[0m\u001b[0;34m)\u001b[0m\u001b[0;34m\u001b[0m\u001b[0;34m\u001b[0m\u001b[0m\n\u001b[0m\u001b[1;32m     21\u001b[0m \u001b[0mmy_gui\u001b[0m \u001b[0;34m=\u001b[0m \u001b[0mMyFirstGUI\u001b[0m\u001b[0;34m(\u001b[0m\u001b[0mroot\u001b[0m\u001b[0;34m)\u001b[0m\u001b[0;34m\u001b[0m\u001b[0;34m\u001b[0m\u001b[0m\n\u001b[1;32m     22\u001b[0m \u001b[0mroot\u001b[0m\u001b[0;34m.\u001b[0m\u001b[0mmainloop\u001b[0m\u001b[0;34m(\u001b[0m\u001b[0;34m)\u001b[0m\u001b[0;34m\u001b[0m\u001b[0;34m\u001b[0m\u001b[0m\n",
            "\u001b[0;32m/usr/lib/python3.6/tkinter/__init__.py\u001b[0m in \u001b[0;36m__init__\u001b[0;34m(self, screenName, baseName, className, useTk, sync, use)\u001b[0m\n\u001b[1;32m   2021\u001b[0m                 \u001b[0mbaseName\u001b[0m \u001b[0;34m=\u001b[0m \u001b[0mbaseName\u001b[0m \u001b[0;34m+\u001b[0m \u001b[0mext\u001b[0m\u001b[0;34m\u001b[0m\u001b[0;34m\u001b[0m\u001b[0m\n\u001b[1;32m   2022\u001b[0m         \u001b[0minteractive\u001b[0m \u001b[0;34m=\u001b[0m \u001b[0;36m0\u001b[0m\u001b[0;34m\u001b[0m\u001b[0;34m\u001b[0m\u001b[0m\n\u001b[0;32m-> 2023\u001b[0;31m         \u001b[0mself\u001b[0m\u001b[0;34m.\u001b[0m\u001b[0mtk\u001b[0m \u001b[0;34m=\u001b[0m \u001b[0m_tkinter\u001b[0m\u001b[0;34m.\u001b[0m\u001b[0mcreate\u001b[0m\u001b[0;34m(\u001b[0m\u001b[0mscreenName\u001b[0m\u001b[0;34m,\u001b[0m \u001b[0mbaseName\u001b[0m\u001b[0;34m,\u001b[0m \u001b[0mclassName\u001b[0m\u001b[0;34m,\u001b[0m \u001b[0minteractive\u001b[0m\u001b[0;34m,\u001b[0m \u001b[0mwantobjects\u001b[0m\u001b[0;34m,\u001b[0m \u001b[0museTk\u001b[0m\u001b[0;34m,\u001b[0m \u001b[0msync\u001b[0m\u001b[0;34m,\u001b[0m \u001b[0muse\u001b[0m\u001b[0;34m)\u001b[0m\u001b[0;34m\u001b[0m\u001b[0;34m\u001b[0m\u001b[0m\n\u001b[0m\u001b[1;32m   2024\u001b[0m         \u001b[0;32mif\u001b[0m \u001b[0museTk\u001b[0m\u001b[0;34m:\u001b[0m\u001b[0;34m\u001b[0m\u001b[0;34m\u001b[0m\u001b[0m\n\u001b[1;32m   2025\u001b[0m             \u001b[0mself\u001b[0m\u001b[0;34m.\u001b[0m\u001b[0m_loadtk\u001b[0m\u001b[0;34m(\u001b[0m\u001b[0;34m)\u001b[0m\u001b[0;34m\u001b[0m\u001b[0;34m\u001b[0m\u001b[0m\n",
            "\u001b[0;31mTclError\u001b[0m: no display name and no $DISPLAY environment variable"
          ]
        }
      ]
    }
  ]
}